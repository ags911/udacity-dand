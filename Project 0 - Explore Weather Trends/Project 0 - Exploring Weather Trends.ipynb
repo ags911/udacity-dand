{
 "cells": [
  {
   "cell_type": "markdown",
   "metadata": {},
   "source": [
    "By Darren Gidado, Date: 5/12/20"
   ]
  },
  {
   "cell_type": "markdown",
   "metadata": {},
   "source": [
    "# Project - Explore Weather Trends"
   ]
  },
  {
   "cell_type": "markdown",
   "metadata": {},
   "source": [
    "## 1. Extract the data\n",
    "### Write a SQL query to extract city level and global data\n",
    "\n",
    "I am using the **SQL Workspace** provided by Udacity to extract data from the temperatures database. I will be extracting data for London and the Global average temperatures from years 1750 to 2013. I used 'Instant SQL Formatter' to present the SQL code and format it in HTML to add colour. I also used SQL(HTML:SPAN) to keep the code in DIV tags preventing styling changes to the reset of the project.\n",
    "\n",
    "There are three tables in the database:\n",
    "\n",
    "   * city_list - This contains a list of cities and countries in the database. Look through them in order to find the city nearest to you.\n",
    "   \n",
    "   * city_data - This contains the average temperatures for each city by year (ºC).\n",
    "   \n",
    "   * global_data - This contains the average global temperatures by year (ºC).\n",
    "   \n",
    "<div><span style=\"font-family: Courier New; font-size: 10pt;\">\n",
    "<span style=\"color: blue; \">SELECT</span>&nbsp;<span style=\"color: maroon; \">city_data</span><span style=\"color: silver; \">.</span><span style=\"color: maroon; \">year</span><span style=\"color: silver; \">,</span>\n",
    "<br/>&nbsp;&nbsp;&nbsp;&nbsp;&nbsp;&nbsp;&nbsp;<span style=\"color: maroon; \">city_data</span><span style=\"color: silver; \">.</span><span style=\"color: maroon; \">city</span><span style=\"color: silver; \">,</span>\n",
    "<br/>&nbsp;&nbsp;&nbsp;&nbsp;&nbsp;&nbsp;&nbsp;<span style=\"color: maroon; \">city_data</span><span style=\"color: silver; \">.</span><span style=\"color: maroon; \">country</span><span style=\"color: silver; \">,</span>\n",
    "<br/>&nbsp;&nbsp;&nbsp;&nbsp;&nbsp;&nbsp;&nbsp;<span style=\"color: maroon; \">city_data</span><span style=\"color: silver; \">.</span><span style=\"color: maroon; \">avg_temp</span>&nbsp;&nbsp;&nbsp;<span style=\"color: blue; \">AS</span>&nbsp;<span style=\"color: maroon; \">city_avg_temp</span><span style=\"color: silver; \">,</span>\n",
    "<br/>&nbsp;&nbsp;&nbsp;&nbsp;&nbsp;&nbsp;&nbsp;<span style=\"color: maroon; \">global_data</span><span style=\"color: silver; \">.</span><span style=\"color: maroon; \">year</span><span style=\"color: silver; \">,</span>\n",
    "<br/>&nbsp;&nbsp;&nbsp;&nbsp;&nbsp;&nbsp;&nbsp;<span style=\"color: maroon; \">global_data</span><span style=\"color: silver; \">.</span><span style=\"color: maroon; \">avg_temp</span>&nbsp;<span style=\"color: blue; \">AS</span>&nbsp;<span style=\"color: maroon; \">global_avg_temp</span>\n",
    "<br/><span style=\"color: blue; \">FROM</span>&nbsp;&nbsp;&nbsp;<span style=\"color: maroon; \">city_data</span>\n",
    "<br/>&nbsp;&nbsp;&nbsp;&nbsp;&nbsp;&nbsp;&nbsp;<span style=\"color: blue; \">JOIN</span>&nbsp;<span style=\"color: maroon; \">global_data</span>\n",
    "<br/>&nbsp;&nbsp;&nbsp;&nbsp;&nbsp;&nbsp;&nbsp;&nbsp;&nbsp;<span style=\"color: blue; \">ON</span>&nbsp;<span style=\"color: maroon; \">city_data</span><span style=\"color: silver; \">.</span><span style=\"color: maroon; \">year</span>&nbsp;<span style=\"color: silver; \">=</span>&nbsp;<span style=\"color: maroon; \">global_data</span><span style=\"color: silver; \">.</span><span style=\"color: maroon; \">year</span>\n",
    "<br/><span style=\"color: blue; \">WHERE</span>&nbsp;&nbsp;<span style=\"color: maroon; \">city_data</span><span style=\"color: silver; \">.</span><span style=\"color: maroon; \">city</span>&nbsp;<span style=\"color: blue; \">LIKE</span>&nbsp;<span style=\"color: maroon; \">(</span>&nbsp;<span style=\"color: red; \">'London'</span>&nbsp;<span style=\"color: maroon; \">)</span>\n",
    "<br/>&nbsp;&nbsp;&nbsp;&nbsp;&nbsp;&nbsp;&nbsp;<span style=\"color: blue; \">AND</span>&nbsp;<span style=\"color: maroon; \">city_data</span><span style=\"color: silver; \">.</span><span style=\"color: maroon; \">country</span>&nbsp;<span style=\"color: blue; \">LIKE</span>&nbsp;<span style=\"color: maroon; \">(</span>&nbsp;<span style=\"color: red; \">'United&nbsp;Kingdom'</span>&nbsp;<span style=\"color: maroon; \">)</span>&nbsp;\n",
    "</span></div>"
   ]
  },
  {
   "cell_type": "markdown",
   "metadata": {},
   "source": [
    "## 2. Open up the CSV\n",
    "I opened initially up the CSV spreadsheet in **Microsoft Excel** and cleaned up the data a bit by deleting the duplicate columns  'city' and 'year'. I could also do that in pandas in Python but I decided to use Excel. Next, I opened the CSV in **Python** to clean up the data some more."
   ]
  },
  {
   "cell_type": "code",
   "execution_count": 1,
   "metadata": {},
   "outputs": [],
   "source": [
    "# Importing NumPy library into the notebook\n",
    "import numpy as np \n",
    "\n",
    "# Importing pandas library into the notebook\n",
    "import pandas as pd \n",
    "\n",
    "# Importing matplot and pyplot libraries needed for creating the line chart\n",
    "from matplotlib import pyplot as plt "
   ]
  },
  {
   "cell_type": "code",
   "execution_count": 2,
   "metadata": {},
   "outputs": [],
   "source": [
    "# Importing the extracted dataset and defining it as df (short for dataframe)\n",
    "df = pd.read_csv( \"london_results.csv\" )"
   ]
  },
  {
   "cell_type": "code",
   "execution_count": 3,
   "metadata": {},
   "outputs": [
    {
     "data": {
      "text/html": [
       "<div>\n",
       "<style scoped>\n",
       "    .dataframe tbody tr th:only-of-type {\n",
       "        vertical-align: middle;\n",
       "    }\n",
       "\n",
       "    .dataframe tbody tr th {\n",
       "        vertical-align: top;\n",
       "    }\n",
       "\n",
       "    .dataframe thead th {\n",
       "        text-align: right;\n",
       "    }\n",
       "</style>\n",
       "<table border=\"1\" class=\"dataframe\">\n",
       "  <thead>\n",
       "    <tr style=\"text-align: right;\">\n",
       "      <th></th>\n",
       "      <th>year</th>\n",
       "      <th>city</th>\n",
       "      <th>country</th>\n",
       "      <th>city_avg_temp</th>\n",
       "      <th>global_avg_temp</th>\n",
       "    </tr>\n",
       "  </thead>\n",
       "  <tbody>\n",
       "    <tr>\n",
       "      <th>0</th>\n",
       "      <td>1750</td>\n",
       "      <td>London</td>\n",
       "      <td>United Kingdom</td>\n",
       "      <td>10.25</td>\n",
       "      <td>8.72</td>\n",
       "    </tr>\n",
       "    <tr>\n",
       "      <th>1</th>\n",
       "      <td>1751</td>\n",
       "      <td>London</td>\n",
       "      <td>United Kingdom</td>\n",
       "      <td>9.99</td>\n",
       "      <td>7.98</td>\n",
       "    </tr>\n",
       "    <tr>\n",
       "      <th>2</th>\n",
       "      <td>1752</td>\n",
       "      <td>London</td>\n",
       "      <td>United Kingdom</td>\n",
       "      <td>6.54</td>\n",
       "      <td>5.78</td>\n",
       "    </tr>\n",
       "    <tr>\n",
       "      <th>3</th>\n",
       "      <td>1753</td>\n",
       "      <td>London</td>\n",
       "      <td>United Kingdom</td>\n",
       "      <td>9.42</td>\n",
       "      <td>8.39</td>\n",
       "    </tr>\n",
       "    <tr>\n",
       "      <th>4</th>\n",
       "      <td>1754</td>\n",
       "      <td>London</td>\n",
       "      <td>United Kingdom</td>\n",
       "      <td>9.20</td>\n",
       "      <td>8.47</td>\n",
       "    </tr>\n",
       "  </tbody>\n",
       "</table>\n",
       "</div>"
      ],
      "text/plain": [
       "   year    city         country  city_avg_temp  global_avg_temp\n",
       "0  1750  London  United Kingdom          10.25             8.72\n",
       "1  1751  London  United Kingdom           9.99             7.98\n",
       "2  1752  London  United Kingdom           6.54             5.78\n",
       "3  1753  London  United Kingdom           9.42             8.39\n",
       "4  1754  London  United Kingdom           9.20             8.47"
      ]
     },
     "execution_count": 3,
     "metadata": {},
     "output_type": "execute_result"
    }
   ],
   "source": [
    "# Previewing the first 5 rows of the dataset\n",
    "df.head()"
   ]
  },
  {
   "cell_type": "code",
   "execution_count": 4,
   "metadata": {},
   "outputs": [
    {
     "data": {
      "text/html": [
       "<div>\n",
       "<style scoped>\n",
       "    .dataframe tbody tr th:only-of-type {\n",
       "        vertical-align: middle;\n",
       "    }\n",
       "\n",
       "    .dataframe tbody tr th {\n",
       "        vertical-align: top;\n",
       "    }\n",
       "\n",
       "    .dataframe thead th {\n",
       "        text-align: right;\n",
       "    }\n",
       "</style>\n",
       "<table border=\"1\" class=\"dataframe\">\n",
       "  <thead>\n",
       "    <tr style=\"text-align: right;\">\n",
       "      <th></th>\n",
       "      <th>year</th>\n",
       "      <th>city</th>\n",
       "      <th>country</th>\n",
       "      <th>city_avg_temp</th>\n",
       "      <th>global_avg_temp</th>\n",
       "    </tr>\n",
       "  </thead>\n",
       "  <tbody>\n",
       "    <tr>\n",
       "      <th>259</th>\n",
       "      <td>2009</td>\n",
       "      <td>London</td>\n",
       "      <td>United Kingdom</td>\n",
       "      <td>10.52</td>\n",
       "      <td>9.51</td>\n",
       "    </tr>\n",
       "    <tr>\n",
       "      <th>260</th>\n",
       "      <td>2010</td>\n",
       "      <td>London</td>\n",
       "      <td>United Kingdom</td>\n",
       "      <td>9.38</td>\n",
       "      <td>9.70</td>\n",
       "    </tr>\n",
       "    <tr>\n",
       "      <th>261</th>\n",
       "      <td>2011</td>\n",
       "      <td>London</td>\n",
       "      <td>United Kingdom</td>\n",
       "      <td>11.19</td>\n",
       "      <td>9.52</td>\n",
       "    </tr>\n",
       "    <tr>\n",
       "      <th>262</th>\n",
       "      <td>2012</td>\n",
       "      <td>London</td>\n",
       "      <td>United Kingdom</td>\n",
       "      <td>10.00</td>\n",
       "      <td>9.51</td>\n",
       "    </tr>\n",
       "    <tr>\n",
       "      <th>263</th>\n",
       "      <td>2013</td>\n",
       "      <td>London</td>\n",
       "      <td>United Kingdom</td>\n",
       "      <td>9.91</td>\n",
       "      <td>9.61</td>\n",
       "    </tr>\n",
       "  </tbody>\n",
       "</table>\n",
       "</div>"
      ],
      "text/plain": [
       "     year    city         country  city_avg_temp  global_avg_temp\n",
       "259  2009  London  United Kingdom          10.52             9.51\n",
       "260  2010  London  United Kingdom           9.38             9.70\n",
       "261  2011  London  United Kingdom          11.19             9.52\n",
       "262  2012  London  United Kingdom          10.00             9.51\n",
       "263  2013  London  United Kingdom           9.91             9.61"
      ]
     },
     "execution_count": 4,
     "metadata": {},
     "output_type": "execute_result"
    }
   ],
   "source": [
    "# Previewing the last 5 rows of the dataset \n",
    "df.tail()"
   ]
  },
  {
   "cell_type": "markdown",
   "metadata": {},
   "source": [
    "Now we need to define a function for the calculation of Moving Averages in order to get a smooth graph."
   ]
  },
  {
   "cell_type": "code",
   "execution_count": 5,
   "metadata": {},
   "outputs": [
    {
     "data": {
      "text/html": [
       "<div>\n",
       "<style scoped>\n",
       "    .dataframe tbody tr th:only-of-type {\n",
       "        vertical-align: middle;\n",
       "    }\n",
       "\n",
       "    .dataframe tbody tr th {\n",
       "        vertical-align: top;\n",
       "    }\n",
       "\n",
       "    .dataframe thead th {\n",
       "        text-align: right;\n",
       "    }\n",
       "</style>\n",
       "<table border=\"1\" class=\"dataframe\">\n",
       "  <thead>\n",
       "    <tr style=\"text-align: right;\">\n",
       "      <th></th>\n",
       "      <th>year</th>\n",
       "      <th>london_avg_temp</th>\n",
       "      <th>global_avg_temp</th>\n",
       "    </tr>\n",
       "  </thead>\n",
       "  <tbody>\n",
       "    <tr>\n",
       "      <th>0</th>\n",
       "      <td>1750</td>\n",
       "      <td>10.25</td>\n",
       "      <td>8.72</td>\n",
       "    </tr>\n",
       "    <tr>\n",
       "      <th>1</th>\n",
       "      <td>1751</td>\n",
       "      <td>9.99</td>\n",
       "      <td>7.98</td>\n",
       "    </tr>\n",
       "    <tr>\n",
       "      <th>2</th>\n",
       "      <td>1752</td>\n",
       "      <td>6.54</td>\n",
       "      <td>5.78</td>\n",
       "    </tr>\n",
       "    <tr>\n",
       "      <th>3</th>\n",
       "      <td>1753</td>\n",
       "      <td>9.42</td>\n",
       "      <td>8.39</td>\n",
       "    </tr>\n",
       "    <tr>\n",
       "      <th>4</th>\n",
       "      <td>1754</td>\n",
       "      <td>9.20</td>\n",
       "      <td>8.47</td>\n",
       "    </tr>\n",
       "  </tbody>\n",
       "</table>\n",
       "</div>"
      ],
      "text/plain": [
       "   year  london_avg_temp  global_avg_temp\n",
       "0  1750            10.25             8.72\n",
       "1  1751             9.99             7.98\n",
       "2  1752             6.54             5.78\n",
       "3  1753             9.42             8.39\n",
       "4  1754             9.20             8.47"
      ]
     },
     "execution_count": 5,
     "metadata": {},
     "output_type": "execute_result"
    }
   ],
   "source": [
    "# Renaming 'avg_temp' to 'london_avg_temp'\n",
    "df.rename({'city_avg_temp':'london_avg_temp'},axis=1,inplace=True)\n",
    "\n",
    "# Delete the unneccesary rows\n",
    "df.drop(['city','country'],axis=1, inplace=True)\n",
    "\n",
    "# See the result\n",
    "df.head(5)"
   ]
  },
  {
   "cell_type": "code",
   "execution_count": 6,
   "metadata": {},
   "outputs": [
    {
     "name": "stdout",
     "output_type": "stream",
     "text": [
      "<class 'pandas.core.frame.DataFrame'>\n",
      "RangeIndex: 264 entries, 0 to 263\n",
      "Data columns (total 3 columns):\n",
      "year               264 non-null int64\n",
      "london_avg_temp    264 non-null float64\n",
      "global_avg_temp    264 non-null float64\n",
      "dtypes: float64(2), int64(1)\n",
      "memory usage: 6.3 KB\n"
     ]
    }
   ],
   "source": [
    "# Checking the information of the dataframe\n",
    "df.info()"
   ]
  },
  {
   "cell_type": "markdown",
   "metadata": {},
   "source": [
    "## 3. Create a line chart\n",
    "I am going to be using **Python** and the pandas.DataFrame.rolling function to calculate the moving average to smooth out the large fluctuations in the original graph and make trends more observable."
   ]
  },
  {
   "cell_type": "code",
   "execution_count": 7,
   "metadata": {},
   "outputs": [],
   "source": [
    "# Function that calculates Moving Average - mean: calculates mean of the values, dropna: gets rid of missing datapoints\n",
    "def moving_avg (mA_range, df_input):\n",
    "    output = df_input.rolling(window = 10, on = \"year\" ).mean().dropna()\n",
    "    return output"
   ]
  },
  {
   "cell_type": "code",
   "execution_count": 8,
   "metadata": {},
   "outputs": [],
   "source": [
    "# Defining the range of the Moving Average in years\n",
    "mA_value = 10\n",
    "\n",
    "# Renaming the function of the Moving Average\n",
    "chart_moving_avg = moving_avg(mA_value, df)"
   ]
  },
  {
   "cell_type": "code",
   "execution_count": 9,
   "metadata": {},
   "outputs": [
    {
     "data": {
      "image/png": "[encoded data removed]",
      "text/plain": [
       "<Figure size 432x288 with 1 Axes>"
      ]
     },
     "metadata": {
      "needs_background": "light"
     },
     "output_type": "display_data"
    }
   ],
   "source": [
    "# Drawing the graph for Global Temperature\n",
    "plt.plot(chart_moving_avg [ 'year' ], chart_moving_avg [ 'global_avg_temp' ], label = 'Global' )\n",
    "plt.legend()\n",
    "plt.xlabel ( \"Years\" )\n",
    "plt.ylabel ( \"Temperature (°C)\" )\n",
    "plt.title ( \"Global Average Temperature\" )\n",
    "plt.show ()"
   ]
  },
  {
   "cell_type": "markdown",
   "metadata": {},
   "source": [
    "Above is a graph of the output. I have analysed the Global data separately in order to check and distinguish it from the combined data of London and the Global Average Temperatures. Next, I will combine the data with the City data for London."
   ]
  },
  {
   "cell_type": "code",
   "execution_count": 10,
   "metadata": {},
   "outputs": [
    {
     "data": {
      "image/png": "[encoded data removed]",
      "text/plain": [
       "<Figure size 432x288 with 1 Axes>"
      ]
     },
     "metadata": {
      "needs_background": "light"
     },
     "output_type": "display_data"
    }
   ],
   "source": [
    "# Adding London to the graph for Global Temperature\n",
    "plt.plot(chart_moving_avg ['year'], chart_moving_avg ['london_avg_temp'], label = 'London')\n",
    "\n",
    "# Drawing the graph for Global Temperature\n",
    "plt.plot(chart_moving_avg ['year'], chart_moving_avg ['global_avg_temp'], label = 'Global')\n",
    "plt.legend()\n",
    "plt.xlabel ( \"Years\" )\n",
    "plt.ylabel ( \"Temperature (°C)\" )\n",
    "plt.title ( \"London and Global Temperature\" )\n",
    "plt.show ()"
   ]
  },
  {
   "cell_type": "markdown",
   "metadata": {},
   "source": [
    "I can change the Moving Average from 10 years to 50 years to smooth out the chart even more to clearly observe the trendlines. Below is the resulting graph. "
   ]
  },
  {
   "cell_type": "code",
   "execution_count": 11,
   "metadata": {},
   "outputs": [
    {
     "data": {
      "image/png": "[encoded data removed]",
      "text/plain": [
       "<Figure size 432x288 with 1 Axes>"
      ]
     },
     "metadata": {
      "needs_background": "light"
     },
     "output_type": "display_data"
    }
   ],
   "source": [
    "# Changing the Moving Average from 10 years to 50 years to smooth out the lines more\n",
    "\n",
    "def moving_avg_50 (mA_range, df_input):\n",
    "    output = df_input.rolling(window = 50, on = \"year\" ).mean().dropna()\n",
    "    return output\n",
    "\n",
    "mA_value = 50\n",
    "\n",
    "# Renaming the function of the Moving Average again\n",
    "chart_moving_avg_50 = moving_avg_50(mA_value, df)\n",
    "\n",
    "plt.plot(chart_moving_avg_50 ['year'], chart_moving_avg_50 ['london_avg_temp'], label = 'London')\n",
    "plt.plot(chart_moving_avg_50 ['year'], chart_moving_avg_50 ['global_avg_temp'], label = 'Global')\n",
    "plt.legend()\n",
    "plt.xlabel ( \"Years\" )\n",
    "plt.ylabel ( \"Temperature (°C)\" )\n",
    "plt.title ( \"London and Global Temperature\" )\n",
    "plt.show ()"
   ]
  },
  {
   "cell_type": "markdown",
   "metadata": {},
   "source": [
    "## 4. Make Observations \n",
    "**I have analysed my results further by asking these questions:**\n",
    "1. Is your city hotter or cooler on average compared to the global average? Has the difference been consistent over time?\n",
    "2. How do the changes in your city’s temperatures over time compare to the changes in the global average?\n",
    "3. What does the overall trend look like? Is the world getting hotter or cooler? Has the trend been consistent over the last few hundred years?\n",
    "4. How much is the temperature rising per year, globally and in the city?"
   ]
  },
  {
   "cell_type": "code",
   "execution_count": 12,
   "metadata": {},
   "outputs": [
    {
     "name": "stdout",
     "output_type": "stream",
     "text": [
      "Copied DataFrame:\n"
     ]
    },
    {
     "data": {
      "text/html": [
       "<div>\n",
       "<style scoped>\n",
       "    .dataframe tbody tr th:only-of-type {\n",
       "        vertical-align: middle;\n",
       "    }\n",
       "\n",
       "    .dataframe tbody tr th {\n",
       "        vertical-align: top;\n",
       "    }\n",
       "\n",
       "    .dataframe thead th {\n",
       "        text-align: right;\n",
       "    }\n",
       "</style>\n",
       "<table border=\"1\" class=\"dataframe\">\n",
       "  <thead>\n",
       "    <tr style=\"text-align: right;\">\n",
       "      <th></th>\n",
       "      <th>year</th>\n",
       "      <th>london_avg_temp</th>\n",
       "      <th>global_avg_temp</th>\n",
       "    </tr>\n",
       "  </thead>\n",
       "  <tbody>\n",
       "    <tr>\n",
       "      <th>0</th>\n",
       "      <td>1750</td>\n",
       "      <td>10.25</td>\n",
       "      <td>8.72</td>\n",
       "    </tr>\n",
       "    <tr>\n",
       "      <th>1</th>\n",
       "      <td>1751</td>\n",
       "      <td>9.99</td>\n",
       "      <td>7.98</td>\n",
       "    </tr>\n",
       "    <tr>\n",
       "      <th>2</th>\n",
       "      <td>1752</td>\n",
       "      <td>6.54</td>\n",
       "      <td>5.78</td>\n",
       "    </tr>\n",
       "    <tr>\n",
       "      <th>3</th>\n",
       "      <td>1753</td>\n",
       "      <td>9.42</td>\n",
       "      <td>8.39</td>\n",
       "    </tr>\n",
       "    <tr>\n",
       "      <th>4</th>\n",
       "      <td>1754</td>\n",
       "      <td>9.20</td>\n",
       "      <td>8.47</td>\n",
       "    </tr>\n",
       "  </tbody>\n",
       "</table>\n",
       "</div>"
      ],
      "text/plain": [
       "   year  london_avg_temp  global_avg_temp\n",
       "0  1750            10.25             8.72\n",
       "1  1751             9.99             7.98\n",
       "2  1752             6.54             5.78\n",
       "3  1753             9.42             8.39\n",
       "4  1754             9.20             8.47"
      ]
     },
     "execution_count": 12,
     "metadata": {},
     "output_type": "execute_result"
    }
   ],
   "source": [
    "# Copying the DataFrame to avoid modifying the original data\n",
    "df_new = df.copy()\n",
    "\n",
    "# Previewing the result\n",
    "print('Copied DataFrame:')\n",
    "df_new.head()"
   ]
  },
  {
   "cell_type": "code",
   "execution_count": 13,
   "metadata": {},
   "outputs": [],
   "source": [
    "# Setting column 'year' as index\n",
    "df_new.index=df['year']\n",
    "\n",
    "# Deleting the unneccesary rows\n",
    "df_new.drop(['year'],axis=1, inplace=True)"
   ]
  },
  {
   "cell_type": "code",
   "execution_count": 14,
   "metadata": {},
   "outputs": [
    {
     "data": {
      "text/html": [
       "<div>\n",
       "<style scoped>\n",
       "    .dataframe tbody tr th:only-of-type {\n",
       "        vertical-align: middle;\n",
       "    }\n",
       "\n",
       "    .dataframe tbody tr th {\n",
       "        vertical-align: top;\n",
       "    }\n",
       "\n",
       "    .dataframe thead th {\n",
       "        text-align: right;\n",
       "    }\n",
       "</style>\n",
       "<table border=\"1\" class=\"dataframe\">\n",
       "  <thead>\n",
       "    <tr style=\"text-align: right;\">\n",
       "      <th></th>\n",
       "      <th>london_avg_temp</th>\n",
       "      <th>global_avg_temp</th>\n",
       "    </tr>\n",
       "    <tr>\n",
       "      <th>year</th>\n",
       "      <th></th>\n",
       "      <th></th>\n",
       "    </tr>\n",
       "  </thead>\n",
       "  <tbody>\n",
       "    <tr>\n",
       "      <th>1810</th>\n",
       "      <td>8.97</td>\n",
       "      <td>6.92</td>\n",
       "    </tr>\n",
       "    <tr>\n",
       "      <th>1811</th>\n",
       "      <td>10.10</td>\n",
       "      <td>6.86</td>\n",
       "    </tr>\n",
       "    <tr>\n",
       "      <th>1812</th>\n",
       "      <td>8.58</td>\n",
       "      <td>7.05</td>\n",
       "    </tr>\n",
       "    <tr>\n",
       "      <th>1813</th>\n",
       "      <td>9.13</td>\n",
       "      <td>7.74</td>\n",
       "    </tr>\n",
       "    <tr>\n",
       "      <th>1814</th>\n",
       "      <td>7.93</td>\n",
       "      <td>7.59</td>\n",
       "    </tr>\n",
       "    <tr>\n",
       "      <th>1815</th>\n",
       "      <td>8.99</td>\n",
       "      <td>7.24</td>\n",
       "    </tr>\n",
       "    <tr>\n",
       "      <th>1816</th>\n",
       "      <td>7.98</td>\n",
       "      <td>6.94</td>\n",
       "    </tr>\n",
       "    <tr>\n",
       "      <th>1817</th>\n",
       "      <td>8.95</td>\n",
       "      <td>6.98</td>\n",
       "    </tr>\n",
       "    <tr>\n",
       "      <th>1818</th>\n",
       "      <td>9.88</td>\n",
       "      <td>7.83</td>\n",
       "    </tr>\n",
       "    <tr>\n",
       "      <th>1819</th>\n",
       "      <td>9.58</td>\n",
       "      <td>7.37</td>\n",
       "    </tr>\n",
       "    <tr>\n",
       "      <th>1820</th>\n",
       "      <td>8.61</td>\n",
       "      <td>7.62</td>\n",
       "    </tr>\n",
       "  </tbody>\n",
       "</table>\n",
       "</div>"
      ],
      "text/plain": [
       "      london_avg_temp  global_avg_temp\n",
       "year                                  \n",
       "1810             8.97             6.92\n",
       "1811            10.10             6.86\n",
       "1812             8.58             7.05\n",
       "1813             9.13             7.74\n",
       "1814             7.93             7.59\n",
       "1815             8.99             7.24\n",
       "1816             7.98             6.94\n",
       "1817             8.95             6.98\n",
       "1818             9.88             7.83\n",
       "1819             9.58             7.37\n",
       "1820             8.61             7.62"
      ]
     },
     "execution_count": 14,
     "metadata": {},
     "output_type": "execute_result"
    }
   ],
   "source": [
    "# Exploring the dip in the graph around the year 1800 using loc (location)\n",
    "df_new.loc[1810:1820]"
   ]
  },
  {
   "cell_type": "code",
   "execution_count": 15,
   "metadata": {},
   "outputs": [
    {
     "data": {
      "text/plain": [
       "london_avg_temp    10.25\n",
       "global_avg_temp     8.72\n",
       "Name: 1750, dtype: float64"
      ]
     },
     "execution_count": 15,
     "metadata": {},
     "output_type": "execute_result"
    }
   ],
   "source": [
    "# Getting temperatures for the year 1750\n",
    "df_new.loc[1750]"
   ]
  },
  {
   "cell_type": "code",
   "execution_count": 16,
   "metadata": {},
   "outputs": [
    {
     "data": {
      "text/plain": [
       "london_avg_temp    9.91\n",
       "global_avg_temp    9.61\n",
       "Name: 2013, dtype: float64"
      ]
     },
     "execution_count": 16,
     "metadata": {},
     "output_type": "execute_result"
    }
   ],
   "source": [
    "# Getting temperatures for the year 2013\n",
    "df_new.loc[2013]"
   ]
  },
  {
   "cell_type": "code",
   "execution_count": 17,
   "metadata": {},
   "outputs": [
    {
     "name": "stdout",
     "output_type": "stream",
     "text": [
      "1.1\n"
     ]
    }
   ],
   "source": [
    "# Calculating the average difference between London and the Global average temperature\n",
    "gat = df_new[\"global_avg_temp\"].mean() \n",
    "lat = df_new[\"london_avg_temp\"].mean()\n",
    "\n",
    "# Rounding the answer to 2 decimal places\n",
    "print(round(lat - gat, 2))"
   ]
  },
  {
   "cell_type": "markdown",
   "metadata": {},
   "source": [
    "London is on average 1.1 degrees hotter than the global temperature."
   ]
  },
  {
   "cell_type": "code",
   "execution_count": 18,
   "metadata": {},
   "outputs": [
    {
     "data": {
      "text/html": [
       "<div>\n",
       "<style scoped>\n",
       "    .dataframe tbody tr th:only-of-type {\n",
       "        vertical-align: middle;\n",
       "    }\n",
       "\n",
       "    .dataframe tbody tr th {\n",
       "        vertical-align: top;\n",
       "    }\n",
       "\n",
       "    .dataframe thead th {\n",
       "        text-align: right;\n",
       "    }\n",
       "</style>\n",
       "<table border=\"1\" class=\"dataframe\">\n",
       "  <thead>\n",
       "    <tr style=\"text-align: right;\">\n",
       "      <th></th>\n",
       "      <th>london_avg_temp</th>\n",
       "      <th>global_avg_temp</th>\n",
       "    </tr>\n",
       "    <tr>\n",
       "      <th>year</th>\n",
       "      <th></th>\n",
       "      <th></th>\n",
       "    </tr>\n",
       "  </thead>\n",
       "  <tbody>\n",
       "    <tr>\n",
       "      <th>1800</th>\n",
       "      <td>9.32</td>\n",
       "      <td>8.48</td>\n",
       "    </tr>\n",
       "    <tr>\n",
       "      <th>1801</th>\n",
       "      <td>9.68</td>\n",
       "      <td>8.59</td>\n",
       "    </tr>\n",
       "    <tr>\n",
       "      <th>1802</th>\n",
       "      <td>9.31</td>\n",
       "      <td>8.58</td>\n",
       "    </tr>\n",
       "    <tr>\n",
       "      <th>1803</th>\n",
       "      <td>8.79</td>\n",
       "      <td>8.50</td>\n",
       "    </tr>\n",
       "    <tr>\n",
       "      <th>1804</th>\n",
       "      <td>9.37</td>\n",
       "      <td>8.84</td>\n",
       "    </tr>\n",
       "    <tr>\n",
       "      <th>1805</th>\n",
       "      <td>8.56</td>\n",
       "      <td>8.56</td>\n",
       "    </tr>\n",
       "    <tr>\n",
       "      <th>1806</th>\n",
       "      <td>9.87</td>\n",
       "      <td>8.43</td>\n",
       "    </tr>\n",
       "    <tr>\n",
       "      <th>1807</th>\n",
       "      <td>9.03</td>\n",
       "      <td>8.28</td>\n",
       "    </tr>\n",
       "    <tr>\n",
       "      <th>1808</th>\n",
       "      <td>8.91</td>\n",
       "      <td>7.63</td>\n",
       "    </tr>\n",
       "    <tr>\n",
       "      <th>1809</th>\n",
       "      <td>8.99</td>\n",
       "      <td>7.08</td>\n",
       "    </tr>\n",
       "    <tr>\n",
       "      <th>1810</th>\n",
       "      <td>8.97</td>\n",
       "      <td>6.92</td>\n",
       "    </tr>\n",
       "    <tr>\n",
       "      <th>1811</th>\n",
       "      <td>10.10</td>\n",
       "      <td>6.86</td>\n",
       "    </tr>\n",
       "    <tr>\n",
       "      <th>1812</th>\n",
       "      <td>8.58</td>\n",
       "      <td>7.05</td>\n",
       "    </tr>\n",
       "    <tr>\n",
       "      <th>1813</th>\n",
       "      <td>9.13</td>\n",
       "      <td>7.74</td>\n",
       "    </tr>\n",
       "    <tr>\n",
       "      <th>1814</th>\n",
       "      <td>7.93</td>\n",
       "      <td>7.59</td>\n",
       "    </tr>\n",
       "    <tr>\n",
       "      <th>1815</th>\n",
       "      <td>8.99</td>\n",
       "      <td>7.24</td>\n",
       "    </tr>\n",
       "    <tr>\n",
       "      <th>1816</th>\n",
       "      <td>7.98</td>\n",
       "      <td>6.94</td>\n",
       "    </tr>\n",
       "    <tr>\n",
       "      <th>1817</th>\n",
       "      <td>8.95</td>\n",
       "      <td>6.98</td>\n",
       "    </tr>\n",
       "    <tr>\n",
       "      <th>1818</th>\n",
       "      <td>9.88</td>\n",
       "      <td>7.83</td>\n",
       "    </tr>\n",
       "    <tr>\n",
       "      <th>1819</th>\n",
       "      <td>9.58</td>\n",
       "      <td>7.37</td>\n",
       "    </tr>\n",
       "    <tr>\n",
       "      <th>1820</th>\n",
       "      <td>8.61</td>\n",
       "      <td>7.62</td>\n",
       "    </tr>\n",
       "    <tr>\n",
       "      <th>1821</th>\n",
       "      <td>9.63</td>\n",
       "      <td>8.09</td>\n",
       "    </tr>\n",
       "    <tr>\n",
       "      <th>1822</th>\n",
       "      <td>10.36</td>\n",
       "      <td>8.19</td>\n",
       "    </tr>\n",
       "    <tr>\n",
       "      <th>1823</th>\n",
       "      <td>8.80</td>\n",
       "      <td>7.72</td>\n",
       "    </tr>\n",
       "    <tr>\n",
       "      <th>1824</th>\n",
       "      <td>9.65</td>\n",
       "      <td>8.55</td>\n",
       "    </tr>\n",
       "    <tr>\n",
       "      <th>1825</th>\n",
       "      <td>9.98</td>\n",
       "      <td>8.39</td>\n",
       "    </tr>\n",
       "  </tbody>\n",
       "</table>\n",
       "</div>"
      ],
      "text/plain": [
       "      london_avg_temp  global_avg_temp\n",
       "year                                  \n",
       "1800             9.32             8.48\n",
       "1801             9.68             8.59\n",
       "1802             9.31             8.58\n",
       "1803             8.79             8.50\n",
       "1804             9.37             8.84\n",
       "1805             8.56             8.56\n",
       "1806             9.87             8.43\n",
       "1807             9.03             8.28\n",
       "1808             8.91             7.63\n",
       "1809             8.99             7.08\n",
       "1810             8.97             6.92\n",
       "1811            10.10             6.86\n",
       "1812             8.58             7.05\n",
       "1813             9.13             7.74\n",
       "1814             7.93             7.59\n",
       "1815             8.99             7.24\n",
       "1816             7.98             6.94\n",
       "1817             8.95             6.98\n",
       "1818             9.88             7.83\n",
       "1819             9.58             7.37\n",
       "1820             8.61             7.62\n",
       "1821             9.63             8.09\n",
       "1822            10.36             8.19\n",
       "1823             8.80             7.72\n",
       "1824             9.65             8.55\n",
       "1825             9.98             8.39"
      ]
     },
     "execution_count": 18,
     "metadata": {},
     "output_type": "execute_result"
    }
   ],
   "source": [
    "# Creating a DataFrame showing just the early years 1800-1825 (25yrs)\n",
    "df_18001825 = df_new.loc[1800:1825]\n",
    "df_18001825"
   ]
  },
  {
   "cell_type": "code",
   "execution_count": 19,
   "metadata": {},
   "outputs": [
    {
     "data": {
      "text/plain": [
       "london_avg_temp    9.190385\n",
       "global_avg_temp    7.848077\n",
       "dtype: float64"
      ]
     },
     "execution_count": 19,
     "metadata": {},
     "output_type": "execute_result"
    }
   ],
   "source": [
    "# Column mean of the dataframe from the early years 1800-1825 (25yrs)\n",
    "df_18001825.mean(axis=0)"
   ]
  },
  {
   "cell_type": "code",
   "execution_count": 20,
   "metadata": {},
   "outputs": [
    {
     "data": {
      "text/html": [
       "<div>\n",
       "<style scoped>\n",
       "    .dataframe tbody tr th:only-of-type {\n",
       "        vertical-align: middle;\n",
       "    }\n",
       "\n",
       "    .dataframe tbody tr th {\n",
       "        vertical-align: top;\n",
       "    }\n",
       "\n",
       "    .dataframe thead th {\n",
       "        text-align: right;\n",
       "    }\n",
       "</style>\n",
       "<table border=\"1\" class=\"dataframe\">\n",
       "  <thead>\n",
       "    <tr style=\"text-align: right;\">\n",
       "      <th></th>\n",
       "      <th>london_avg_temp</th>\n",
       "      <th>global_avg_temp</th>\n",
       "    </tr>\n",
       "    <tr>\n",
       "      <th>year</th>\n",
       "      <th></th>\n",
       "      <th></th>\n",
       "    </tr>\n",
       "  </thead>\n",
       "  <tbody>\n",
       "    <tr>\n",
       "      <th>1988</th>\n",
       "      <td>9.82</td>\n",
       "      <td>9.20</td>\n",
       "    </tr>\n",
       "    <tr>\n",
       "      <th>1989</th>\n",
       "      <td>10.76</td>\n",
       "      <td>8.92</td>\n",
       "    </tr>\n",
       "    <tr>\n",
       "      <th>1990</th>\n",
       "      <td>10.94</td>\n",
       "      <td>9.23</td>\n",
       "    </tr>\n",
       "    <tr>\n",
       "      <th>1991</th>\n",
       "      <td>9.67</td>\n",
       "      <td>9.18</td>\n",
       "    </tr>\n",
       "    <tr>\n",
       "      <th>1992</th>\n",
       "      <td>10.15</td>\n",
       "      <td>8.84</td>\n",
       "    </tr>\n",
       "    <tr>\n",
       "      <th>1993</th>\n",
       "      <td>9.69</td>\n",
       "      <td>8.87</td>\n",
       "    </tr>\n",
       "    <tr>\n",
       "      <th>1994</th>\n",
       "      <td>10.48</td>\n",
       "      <td>9.04</td>\n",
       "    </tr>\n",
       "    <tr>\n",
       "      <th>1995</th>\n",
       "      <td>10.55</td>\n",
       "      <td>9.35</td>\n",
       "    </tr>\n",
       "    <tr>\n",
       "      <th>1996</th>\n",
       "      <td>9.27</td>\n",
       "      <td>9.04</td>\n",
       "    </tr>\n",
       "    <tr>\n",
       "      <th>1997</th>\n",
       "      <td>10.64</td>\n",
       "      <td>9.20</td>\n",
       "    </tr>\n",
       "    <tr>\n",
       "      <th>1998</th>\n",
       "      <td>10.40</td>\n",
       "      <td>9.52</td>\n",
       "    </tr>\n",
       "    <tr>\n",
       "      <th>1999</th>\n",
       "      <td>10.86</td>\n",
       "      <td>9.29</td>\n",
       "    </tr>\n",
       "    <tr>\n",
       "      <th>2000</th>\n",
       "      <td>10.52</td>\n",
       "      <td>9.20</td>\n",
       "    </tr>\n",
       "    <tr>\n",
       "      <th>2001</th>\n",
       "      <td>10.18</td>\n",
       "      <td>9.41</td>\n",
       "    </tr>\n",
       "    <tr>\n",
       "      <th>2002</th>\n",
       "      <td>10.91</td>\n",
       "      <td>9.57</td>\n",
       "    </tr>\n",
       "    <tr>\n",
       "      <th>2003</th>\n",
       "      <td>10.81</td>\n",
       "      <td>9.53</td>\n",
       "    </tr>\n",
       "    <tr>\n",
       "      <th>2004</th>\n",
       "      <td>10.77</td>\n",
       "      <td>9.32</td>\n",
       "    </tr>\n",
       "    <tr>\n",
       "      <th>2005</th>\n",
       "      <td>10.63</td>\n",
       "      <td>9.70</td>\n",
       "    </tr>\n",
       "    <tr>\n",
       "      <th>2006</th>\n",
       "      <td>11.10</td>\n",
       "      <td>9.53</td>\n",
       "    </tr>\n",
       "    <tr>\n",
       "      <th>2007</th>\n",
       "      <td>10.83</td>\n",
       "      <td>9.73</td>\n",
       "    </tr>\n",
       "    <tr>\n",
       "      <th>2008</th>\n",
       "      <td>10.38</td>\n",
       "      <td>9.43</td>\n",
       "    </tr>\n",
       "    <tr>\n",
       "      <th>2009</th>\n",
       "      <td>10.52</td>\n",
       "      <td>9.51</td>\n",
       "    </tr>\n",
       "    <tr>\n",
       "      <th>2010</th>\n",
       "      <td>9.38</td>\n",
       "      <td>9.70</td>\n",
       "    </tr>\n",
       "    <tr>\n",
       "      <th>2011</th>\n",
       "      <td>11.19</td>\n",
       "      <td>9.52</td>\n",
       "    </tr>\n",
       "    <tr>\n",
       "      <th>2012</th>\n",
       "      <td>10.00</td>\n",
       "      <td>9.51</td>\n",
       "    </tr>\n",
       "    <tr>\n",
       "      <th>2013</th>\n",
       "      <td>9.91</td>\n",
       "      <td>9.61</td>\n",
       "    </tr>\n",
       "  </tbody>\n",
       "</table>\n",
       "</div>"
      ],
      "text/plain": [
       "      london_avg_temp  global_avg_temp\n",
       "year                                  \n",
       "1988             9.82             9.20\n",
       "1989            10.76             8.92\n",
       "1990            10.94             9.23\n",
       "1991             9.67             9.18\n",
       "1992            10.15             8.84\n",
       "1993             9.69             8.87\n",
       "1994            10.48             9.04\n",
       "1995            10.55             9.35\n",
       "1996             9.27             9.04\n",
       "1997            10.64             9.20\n",
       "1998            10.40             9.52\n",
       "1999            10.86             9.29\n",
       "2000            10.52             9.20\n",
       "2001            10.18             9.41\n",
       "2002            10.91             9.57\n",
       "2003            10.81             9.53\n",
       "2004            10.77             9.32\n",
       "2005            10.63             9.70\n",
       "2006            11.10             9.53\n",
       "2007            10.83             9.73\n",
       "2008            10.38             9.43\n",
       "2009            10.52             9.51\n",
       "2010             9.38             9.70\n",
       "2011            11.19             9.52\n",
       "2012            10.00             9.51\n",
       "2013             9.91             9.61"
      ]
     },
     "execution_count": 20,
     "metadata": {},
     "output_type": "execute_result"
    }
   ],
   "source": [
    "# Creating a DataFrame showing just late years 1988-2013 (25yrs)\n",
    "df_19882013 = df_new.loc[1988:2013]\n",
    "df_19882013"
   ]
  },
  {
   "cell_type": "code",
   "execution_count": 21,
   "metadata": {},
   "outputs": [
    {
     "data": {
      "text/plain": [
       "london_avg_temp    10.398462\n",
       "global_avg_temp     9.344231\n",
       "dtype: float64"
      ]
     },
     "execution_count": 21,
     "metadata": {},
     "output_type": "execute_result"
    }
   ],
   "source": [
    "# Column mean of the dataframe from the early years 1988-2013 (25yrs)\n",
    "df_19882013.mean(axis=0)"
   ]
  },
  {
   "cell_type": "code",
   "execution_count": 22,
   "metadata": {},
   "outputs": [
    {
     "name": "stdout",
     "output_type": "stream",
     "text": [
      "°C\n"
     ]
    }
   ],
   "source": [
    "# Defining degrees Celcius sign\n",
    "degree_sign = u\"\\N{DEGREE SIGN}C\"\n",
    "print(degree_sign)"
   ]
  },
  {
   "cell_type": "code",
   "execution_count": 23,
   "metadata": {},
   "outputs": [
    {
     "name": "stdout",
     "output_type": "stream",
     "text": [
      "LAT overall difference: + 1.5 °C\n",
      "GAT overall difference: + 1.2 °C\n"
     ]
    }
   ],
   "source": [
    "# lat = London Averge Temperature, gat = Global Average Temperature, early = 1800-1825, late = 1988-2013\n",
    "early_lat = 9.190385\n",
    "late_lat = 10.398462\n",
    "early_gat = 7.848077\n",
    "late_gat = 9.344231\n",
    "\n",
    "# Global Average Temperature Difference (number is for decimal places)\n",
    "print(\"LAT overall difference: +\", round(late_gat - early_gat, 2), (degree_sign))\n",
    "      \n",
    "# London Average Temperature Difference (number is for decimal places)\n",
    "print(\"GAT overall difference: +\", round(late_lat - early_lat, 1), (degree_sign))"
   ]
  },
  {
   "cell_type": "code",
   "execution_count": 24,
   "metadata": {},
   "outputs": [
    {
     "name": "stdout",
     "output_type": "stream",
     "text": [
      "Global Average Temperature rise per year: + 0.007 °C\n",
      "London Average Temperature rise per year: + 0.006 °C\n"
     ]
    }
   ],
   "source": [
    "# Calculate global average temperature rise per year\n",
    "\n",
    "# Finding the total number of years\n",
    "year_range = 2013-1800\n",
    "\n",
    "# Dividing the global average temperature difference by the total number of years, .3 decimal places to add detail\n",
    "print(\"Global Average Temperature rise per year: +\", round((late_gat - early_gat) / (year_range), 3),(degree_sign))\n",
    "print(\"London Average Temperature rise per year: +\", round((late_lat - early_lat) / (year_range), 3),(degree_sign))"
   ]
  },
  {
   "cell_type": "markdown",
   "metadata": {},
   "source": [
    "**Answers:**\n",
    "1. London is around 1 °C hotter on average compared to the global average. The difference has been consistent over time for the most part being an upward trend for both. My observations are based on the 10 year Moving Average chart since it shows more detail.\n",
    "\n",
    "2.  The changes in London's average temperatures over time almost mirror the global average temperature. The only exception is around the year 1800-1850 where the temperatures dipped by around 0.5 °C for London but 1.7 °C for the Globe. The difference between London and the Global average temperature was as much as 1.7 °C.\n",
    "\n",
    "3. The overall trend is clearly upwards and the world is getting hotter based on the line chart. The trend is fairly consistent over the past few hundred years apart from the 1800's where the temperature shows a downward trend for a few decades before rising again between the year 1825 and 1850.\n",
    "\n",
    "4. Based on the temperature averages of the first and the last 25 years of the data from 1800 to 2013 the London average temperature has risen by 1.5 °C and the Global average temperature has risen by 1.21 °C. We can also calculate the yearly temperature rise over the years using this data. For London the temperature is rising at an average of 0.006 per year, for the globe it is 0.007 °C per year."
   ]
  },
  {
   "cell_type": "markdown",
   "metadata": {},
   "source": [
    "## 5. More questions\n",
    "1. What's the correlation coefficient?\n",
    "2. Can you estimate the average temperature in your city based on the average global temperature?\n",
    "3. Multiple cities - Add your favorite cities from around the globe to your visualization. What do you learn about them?"
   ]
  },
  {
   "cell_type": "markdown",
   "metadata": {},
   "source": [
    "### The Correlation Coefficient"
   ]
  },
  {
   "cell_type": "code",
   "execution_count": 25,
   "metadata": {},
   "outputs": [
    {
     "name": "stdout",
     "output_type": "stream",
     "text": [
      "PearsonR Correlation Coefficient: 0.563\n"
     ]
    }
   ],
   "source": [
    "# Using scipy to calculate the Pearson Correlation Coefficient between the London and global temperatures\n",
    "import scipy\n",
    "from scipy.stats.stats import pearsonr\n",
    "\n",
    "london_data = df['london_avg_temp']\n",
    "global_data = df['global_avg_temp']\n",
    "year_data = df['year']\n",
    "\n",
    "pearsonr_coefficient, p_value = pearsonr(london_data, global_data)\n",
    "\n",
    "print('PearsonR Correlation Coefficient: %0.3f' % (pearsonr_coefficient))"
   ]
  },
  {
   "cell_type": "markdown",
   "metadata": {},
   "source": [
    "### Estimate London Average Temperature based on global average temperature"
   ]
  },
  {
   "cell_type": "code",
   "execution_count": 26,
   "metadata": {},
   "outputs": [
    {
     "data": {
      "text/plain": [
       "london_avg_temp    10.86\n",
       "global_avg_temp     9.29\n",
       "Name: 1999, dtype: float64"
      ]
     },
     "execution_count": 26,
     "metadata": {},
     "output_type": "execute_result"
    }
   ],
   "source": [
    "# I can see the temperature for any year based on global average temperature by using .loc\n",
    "\n",
    "# GAT for the year 1999\n",
    "df_new.loc[1999]"
   ]
  },
  {
   "cell_type": "markdown",
   "metadata": {},
   "source": [
    "### Adding more cities using SQL"
   ]
  },
  {
   "cell_type": "markdown",
   "metadata": {},
   "source": [
    "I will add the cities Warsaw and Rio De Janeiro to the dataset using SQL to compare how they look."
   ]
  },
  {
   "cell_type": "markdown",
   "metadata": {},
   "source": [
    "1. List all cities using: \n",
    "\n",
    "<div><span style=\"font-family: Courier New; font-size: 10pt;\">\n",
    "<span style=\"color: blue; \">SELECT</span>&nbsp;<span style=\"color: silver; \">*</span>\n",
    "<br/><span style=\"color: blue; \">FROM</span>&nbsp;&nbsp;&nbsp;<span style=\"color: maroon; \">city_list</span>\n",
    "<br/><span style=\"color: blue; \">ORDER</span>&nbsp;&nbsp;<span style=\"color: blue; \">BY</span>&nbsp;<span style=\"color: maroon; \">country</span>&nbsp;\n",
    "</span></div>"
   ]
  },
  {
   "cell_type": "markdown",
   "metadata": {},
   "source": [
    "2. Extracting data for the cities:\n",
    "\n",
    "**Warsaw**, Poland\n",
    "\n",
    "<br>\n",
    "<div><span style=\"font-family: Courier New; font-size: 10pt;\">\n",
    "<span style=\"color: blue; \">SELECT</span>&nbsp;<span style=\"color: maroon; \">city_data</span><span style=\"color: silver; \">.</span><span style=\"color: maroon; \">year</span><span style=\"color: silver; \">,</span>\n",
    "<br/>&nbsp;&nbsp;&nbsp;&nbsp;&nbsp;&nbsp;&nbsp;<span style=\"color: maroon; \">city_data</span><span style=\"color: silver; \">.</span><span style=\"color: maroon; \">city</span><span style=\"color: silver; \">,</span>\n",
    "<br/>&nbsp;&nbsp;&nbsp;&nbsp;&nbsp;&nbsp;&nbsp;<span style=\"color: maroon; \">city_data</span><span style=\"color: silver; \">.</span><span style=\"color: maroon; \">country</span><span style=\"color: silver; \">,</span>\n",
    "<br/>&nbsp;&nbsp;&nbsp;&nbsp;&nbsp;&nbsp;&nbsp;<span style=\"color: maroon; \">city_data</span><span style=\"color: silver; \">.</span><span style=\"color: maroon; \">avg_temp</span>&nbsp;&nbsp;&nbsp;<span style=\"color: blue; \">AS</span>&nbsp;<span style=\"color: maroon; \">warsaw_avg_temp</span><span style=\"color: silver; \">,</span>\n",
    "<br/>&nbsp;&nbsp;&nbsp;&nbsp;&nbsp;&nbsp;&nbsp;<span style=\"color: maroon; \">global_data</span><span style=\"color: silver; \">.</span><span style=\"color: maroon; \">year</span><span style=\"color: silver; \">,</span>\n",
    "<br/>&nbsp;&nbsp;&nbsp;&nbsp;&nbsp;&nbsp;&nbsp;<span style=\"color: maroon; \">global_data</span><span style=\"color: silver; \">.</span><span style=\"color: maroon; \">avg_temp</span>&nbsp;<span style=\"color: blue; \">AS</span>&nbsp;<span style=\"color: maroon; \">global_avg_temp</span>\n",
    "<br/><span style=\"color: blue; \">FROM</span>&nbsp;&nbsp;&nbsp;<span style=\"color: maroon; \">city_data</span>\n",
    "<br/>&nbsp;&nbsp;&nbsp;&nbsp;&nbsp;&nbsp;&nbsp;<span style=\"color: blue; \">JOIN</span>&nbsp;<span style=\"color: maroon; \">global_data</span>\n",
    "<br/>&nbsp;&nbsp;&nbsp;&nbsp;&nbsp;&nbsp;&nbsp;&nbsp;&nbsp;<span style=\"color: blue; \">ON</span>&nbsp;<span style=\"color: maroon; \">city_data</span><span style=\"color: silver; \">.</span><span style=\"color: maroon; \">year</span>&nbsp;<span style=\"color: silver; \">=</span>&nbsp;<span style=\"color: maroon; \">global_data</span><span style=\"color: silver; \">.</span><span style=\"color: maroon; \">year</span>\n",
    "<br/><span style=\"color: blue; \">WHERE</span>&nbsp;&nbsp;<span style=\"color: maroon; \">city_data</span><span style=\"color: silver; \">.</span><span style=\"color: maroon; \">city</span>&nbsp;<span style=\"color: blue; \">LIKE</span>&nbsp;<span style=\"color: maroon; \">(</span>&nbsp;<span style=\"color: red; \">'Warsaw'</span>&nbsp;<span style=\"color: maroon; \">)</span>\n",
    "<br/>&nbsp;&nbsp;&nbsp;&nbsp;&nbsp;&nbsp;&nbsp;<span style=\"color: blue; \">AND</span>&nbsp;<span style=\"color: maroon; \">city_data</span><span style=\"color: silver; \">.</span><span style=\"color: maroon; \">country</span>&nbsp;<span style=\"color: blue; \">LIKE</span>&nbsp;<span style=\"color: maroon; \">(</span>&nbsp;<span style=\"color: red; \">'Poland'</span>&nbsp;<span style=\"color: maroon; \">)</span>&nbsp;\n",
    "</span></div>\n"
   ]
  },
  {
   "cell_type": "markdown",
   "metadata": {},
   "source": [
    "**Rio De Janeiro**, Brazil\n",
    "\n",
    "<br>\n",
    "<div><span style=\"font-family: Courier New; font-size: 10pt;\">\n",
    "<span style=\"color: blue; \">SELECT</span>&nbsp;<span style=\"color: maroon; \">city_data</span><span style=\"color: silver; \">.</span><span style=\"color: maroon; \">year</span><span style=\"color: silver; \">,</span>\n",
    "<br/>&nbsp;&nbsp;&nbsp;&nbsp;&nbsp;&nbsp;&nbsp;<span style=\"color: maroon; \">city_data</span><span style=\"color: silver; \">.</span><span style=\"color: maroon; \">city</span><span style=\"color: silver; \">,</span>\n",
    "<br/>&nbsp;&nbsp;&nbsp;&nbsp;&nbsp;&nbsp;&nbsp;<span style=\"color: maroon; \">city_data</span><span style=\"color: silver; \">.</span><span style=\"color: maroon; \">country</span><span style=\"color: silver; \">,</span>\n",
    "<br/>&nbsp;&nbsp;&nbsp;&nbsp;&nbsp;&nbsp;&nbsp;<span style=\"color: maroon; \">city_data</span><span style=\"color: silver; \">.</span><span style=\"color: maroon; \">avg_temp</span>&nbsp;&nbsp;&nbsp;<span style=\"color: blue; \">AS</span>&nbsp;<span style=\"color: maroon; \">rio_avg_temp</span><span style=\"color: silver; \">,</span>\n",
    "<br/>&nbsp;&nbsp;&nbsp;&nbsp;&nbsp;&nbsp;&nbsp;<span style=\"color: maroon; \">global_data</span><span style=\"color: silver; \">.</span><span style=\"color: maroon; \">year</span><span style=\"color: silver; \">,</span>\n",
    "<br/>&nbsp;&nbsp;&nbsp;&nbsp;&nbsp;&nbsp;&nbsp;<span style=\"color: maroon; \">global_data</span><span style=\"color: silver; \">.</span><span style=\"color: maroon; \">avg_temp</span>&nbsp;<span style=\"color: blue; \">AS</span>&nbsp;<span style=\"color: maroon; \">global_avg_temp</span>\n",
    "<br/><span style=\"color: blue; \">FROM</span>&nbsp;&nbsp;&nbsp;<span style=\"color: maroon; \">city_data</span>\n",
    "<br/>&nbsp;&nbsp;&nbsp;&nbsp;&nbsp;&nbsp;&nbsp;<span style=\"color: blue; \">JOIN</span>&nbsp;<span style=\"color: maroon; \">global_data</span>\n",
    "<br/>&nbsp;&nbsp;&nbsp;&nbsp;&nbsp;&nbsp;&nbsp;&nbsp;&nbsp;<span style=\"color: blue; \">ON</span>&nbsp;<span style=\"color: maroon; \">city_data</span><span style=\"color: silver; \">.</span><span style=\"color: maroon; \">year</span>&nbsp;<span style=\"color: silver; \">=</span>&nbsp;<span style=\"color: maroon; \">global_data</span><span style=\"color: silver; \">.</span><span style=\"color: maroon; \">year</span>\n",
    "<br/><span style=\"color: blue; \">WHERE</span>&nbsp;&nbsp;<span style=\"color: maroon; \">city_data</span><span style=\"color: silver; \">.</span><span style=\"color: maroon; \">city</span>&nbsp;<span style=\"color: blue; \">LIKE</span>&nbsp;<span style=\"color: maroon; \">(</span>&nbsp;<span style=\"color: red; \">'Rio&nbsp;De&nbsp;Janeiro'</span>&nbsp;<span style=\"color: maroon; \">)</span>\n",
    "<br/>&nbsp;&nbsp;&nbsp;&nbsp;&nbsp;&nbsp;&nbsp;<span style=\"color: blue; \">AND</span>&nbsp;<span style=\"color: maroon; \">city_data</span><span style=\"color: silver; \">.</span><span style=\"color: maroon; \">country</span>&nbsp;<span style=\"color: blue; \">LIKE</span>&nbsp;<span style=\"color: maroon; \">(</span>&nbsp;<span style=\"color: red; \">'Brazil'</span>&nbsp;<span style=\"color: maroon; \">)</span>&nbsp;\n",
    "</span></div>"
   ]
  },
  {
   "cell_type": "code",
   "execution_count": 27,
   "metadata": {},
   "outputs": [],
   "source": [
    "# Importing the extracted dataset and defining it as df (short for dataframe)\n",
    "df_warsaw = pd.read_csv( \"warsaw_results.csv\" )\n",
    "df_rio = pd.read_csv( \"rio_results.csv\")"
   ]
  },
  {
   "cell_type": "code",
   "execution_count": 28,
   "metadata": {},
   "outputs": [
    {
     "data": {
      "text/html": [
       "<div>\n",
       "<style scoped>\n",
       "    .dataframe tbody tr th:only-of-type {\n",
       "        vertical-align: middle;\n",
       "    }\n",
       "\n",
       "    .dataframe tbody tr th {\n",
       "        vertical-align: top;\n",
       "    }\n",
       "\n",
       "    .dataframe thead th {\n",
       "        text-align: right;\n",
       "    }\n",
       "</style>\n",
       "<table border=\"1\" class=\"dataframe\">\n",
       "  <thead>\n",
       "    <tr style=\"text-align: right;\">\n",
       "      <th></th>\n",
       "      <th>year</th>\n",
       "      <th>city</th>\n",
       "      <th>country</th>\n",
       "      <th>warsaw_avg_temp</th>\n",
       "      <th>year.1</th>\n",
       "      <th>global_avg_temp</th>\n",
       "    </tr>\n",
       "  </thead>\n",
       "  <tbody>\n",
       "    <tr>\n",
       "      <th>0</th>\n",
       "      <td>1750</td>\n",
       "      <td>Warsaw</td>\n",
       "      <td>Poland</td>\n",
       "      <td>8.27</td>\n",
       "      <td>1750</td>\n",
       "      <td>8.72</td>\n",
       "    </tr>\n",
       "    <tr>\n",
       "      <th>1</th>\n",
       "      <td>1751</td>\n",
       "      <td>Warsaw</td>\n",
       "      <td>Poland</td>\n",
       "      <td>8.23</td>\n",
       "      <td>1751</td>\n",
       "      <td>7.98</td>\n",
       "    </tr>\n",
       "    <tr>\n",
       "      <th>2</th>\n",
       "      <td>1752</td>\n",
       "      <td>Warsaw</td>\n",
       "      <td>Poland</td>\n",
       "      <td>2.58</td>\n",
       "      <td>1752</td>\n",
       "      <td>5.78</td>\n",
       "    </tr>\n",
       "    <tr>\n",
       "      <th>3</th>\n",
       "      <td>1753</td>\n",
       "      <td>Warsaw</td>\n",
       "      <td>Poland</td>\n",
       "      <td>7.17</td>\n",
       "      <td>1753</td>\n",
       "      <td>8.39</td>\n",
       "    </tr>\n",
       "    <tr>\n",
       "      <th>4</th>\n",
       "      <td>1754</td>\n",
       "      <td>Warsaw</td>\n",
       "      <td>Poland</td>\n",
       "      <td>7.08</td>\n",
       "      <td>1754</td>\n",
       "      <td>8.47</td>\n",
       "    </tr>\n",
       "  </tbody>\n",
       "</table>\n",
       "</div>"
      ],
      "text/plain": [
       "   year    city country  warsaw_avg_temp  year.1  global_avg_temp\n",
       "0  1750  Warsaw  Poland             8.27    1750             8.72\n",
       "1  1751  Warsaw  Poland             8.23    1751             7.98\n",
       "2  1752  Warsaw  Poland             2.58    1752             5.78\n",
       "3  1753  Warsaw  Poland             7.17    1753             8.39\n",
       "4  1754  Warsaw  Poland             7.08    1754             8.47"
      ]
     },
     "execution_count": 28,
     "metadata": {},
     "output_type": "execute_result"
    }
   ],
   "source": [
    "# Previewing the first 5 rows of the Warsaw dataset\n",
    "df_warsaw.head()"
   ]
  },
  {
   "cell_type": "code",
   "execution_count": 29,
   "metadata": {},
   "outputs": [
    {
     "data": {
      "text/html": [
       "<div>\n",
       "<style scoped>\n",
       "    .dataframe tbody tr th:only-of-type {\n",
       "        vertical-align: middle;\n",
       "    }\n",
       "\n",
       "    .dataframe tbody tr th {\n",
       "        vertical-align: top;\n",
       "    }\n",
       "\n",
       "    .dataframe thead th {\n",
       "        text-align: right;\n",
       "    }\n",
       "</style>\n",
       "<table border=\"1\" class=\"dataframe\">\n",
       "  <thead>\n",
       "    <tr style=\"text-align: right;\">\n",
       "      <th></th>\n",
       "      <th>year</th>\n",
       "      <th>city</th>\n",
       "      <th>country</th>\n",
       "      <th>warsaw_avg_temp</th>\n",
       "      <th>year.1</th>\n",
       "      <th>global_avg_temp</th>\n",
       "    </tr>\n",
       "  </thead>\n",
       "  <tbody>\n",
       "    <tr>\n",
       "      <th>259</th>\n",
       "      <td>2009</td>\n",
       "      <td>Warsaw</td>\n",
       "      <td>Poland</td>\n",
       "      <td>8.50</td>\n",
       "      <td>2009</td>\n",
       "      <td>9.51</td>\n",
       "    </tr>\n",
       "    <tr>\n",
       "      <th>260</th>\n",
       "      <td>2010</td>\n",
       "      <td>Warsaw</td>\n",
       "      <td>Poland</td>\n",
       "      <td>7.67</td>\n",
       "      <td>2010</td>\n",
       "      <td>9.70</td>\n",
       "    </tr>\n",
       "    <tr>\n",
       "      <th>261</th>\n",
       "      <td>2011</td>\n",
       "      <td>Warsaw</td>\n",
       "      <td>Poland</td>\n",
       "      <td>8.84</td>\n",
       "      <td>2011</td>\n",
       "      <td>9.52</td>\n",
       "    </tr>\n",
       "    <tr>\n",
       "      <th>262</th>\n",
       "      <td>2012</td>\n",
       "      <td>Warsaw</td>\n",
       "      <td>Poland</td>\n",
       "      <td>8.48</td>\n",
       "      <td>2012</td>\n",
       "      <td>9.51</td>\n",
       "    </tr>\n",
       "    <tr>\n",
       "      <th>263</th>\n",
       "      <td>2013</td>\n",
       "      <td>Warsaw</td>\n",
       "      <td>Poland</td>\n",
       "      <td>9.32</td>\n",
       "      <td>2013</td>\n",
       "      <td>9.61</td>\n",
       "    </tr>\n",
       "  </tbody>\n",
       "</table>\n",
       "</div>"
      ],
      "text/plain": [
       "     year    city country  warsaw_avg_temp  year.1  global_avg_temp\n",
       "259  2009  Warsaw  Poland             8.50    2009             9.51\n",
       "260  2010  Warsaw  Poland             7.67    2010             9.70\n",
       "261  2011  Warsaw  Poland             8.84    2011             9.52\n",
       "262  2012  Warsaw  Poland             8.48    2012             9.51\n",
       "263  2013  Warsaw  Poland             9.32    2013             9.61"
      ]
     },
     "execution_count": 29,
     "metadata": {},
     "output_type": "execute_result"
    }
   ],
   "source": [
    "# Previewing the last 5 rows of the Warsaw dataset \n",
    "df_warsaw.tail()"
   ]
  },
  {
   "cell_type": "code",
   "execution_count": 30,
   "metadata": {},
   "outputs": [
    {
     "data": {
      "text/html": [
       "<div>\n",
       "<style scoped>\n",
       "    .dataframe tbody tr th:only-of-type {\n",
       "        vertical-align: middle;\n",
       "    }\n",
       "\n",
       "    .dataframe tbody tr th {\n",
       "        vertical-align: top;\n",
       "    }\n",
       "\n",
       "    .dataframe thead th {\n",
       "        text-align: right;\n",
       "    }\n",
       "</style>\n",
       "<table border=\"1\" class=\"dataframe\">\n",
       "  <thead>\n",
       "    <tr style=\"text-align: right;\">\n",
       "      <th></th>\n",
       "      <th>year</th>\n",
       "      <th>city</th>\n",
       "      <th>country</th>\n",
       "      <th>rio_avg_temp</th>\n",
       "      <th>year.1</th>\n",
       "      <th>global_avg_temp</th>\n",
       "    </tr>\n",
       "  </thead>\n",
       "  <tbody>\n",
       "    <tr>\n",
       "      <th>0</th>\n",
       "      <td>1832</td>\n",
       "      <td>Rio De Janeiro</td>\n",
       "      <td>Brazil</td>\n",
       "      <td>23.05</td>\n",
       "      <td>1832</td>\n",
       "      <td>7.45</td>\n",
       "    </tr>\n",
       "    <tr>\n",
       "      <th>1</th>\n",
       "      <td>1833</td>\n",
       "      <td>Rio De Janeiro</td>\n",
       "      <td>Brazil</td>\n",
       "      <td>24.11</td>\n",
       "      <td>1833</td>\n",
       "      <td>8.01</td>\n",
       "    </tr>\n",
       "    <tr>\n",
       "      <th>2</th>\n",
       "      <td>1834</td>\n",
       "      <td>Rio De Janeiro</td>\n",
       "      <td>Brazil</td>\n",
       "      <td>23.27</td>\n",
       "      <td>1834</td>\n",
       "      <td>8.15</td>\n",
       "    </tr>\n",
       "    <tr>\n",
       "      <th>3</th>\n",
       "      <td>1835</td>\n",
       "      <td>Rio De Janeiro</td>\n",
       "      <td>Brazil</td>\n",
       "      <td>22.73</td>\n",
       "      <td>1835</td>\n",
       "      <td>7.39</td>\n",
       "    </tr>\n",
       "    <tr>\n",
       "      <th>4</th>\n",
       "      <td>1836</td>\n",
       "      <td>Rio De Janeiro</td>\n",
       "      <td>Brazil</td>\n",
       "      <td>22.91</td>\n",
       "      <td>1836</td>\n",
       "      <td>7.70</td>\n",
       "    </tr>\n",
       "  </tbody>\n",
       "</table>\n",
       "</div>"
      ],
      "text/plain": [
       "   year            city country  rio_avg_temp  year.1  global_avg_temp\n",
       "0  1832  Rio De Janeiro  Brazil         23.05    1832             7.45\n",
       "1  1833  Rio De Janeiro  Brazil         24.11    1833             8.01\n",
       "2  1834  Rio De Janeiro  Brazil         23.27    1834             8.15\n",
       "3  1835  Rio De Janeiro  Brazil         22.73    1835             7.39\n",
       "4  1836  Rio De Janeiro  Brazil         22.91    1836             7.70"
      ]
     },
     "execution_count": 30,
     "metadata": {},
     "output_type": "execute_result"
    }
   ],
   "source": [
    "# Previewing the first 5 rows of the Rio dataset\n",
    "df_rio.head()"
   ]
  },
  {
   "cell_type": "code",
   "execution_count": 31,
   "metadata": {},
   "outputs": [
    {
     "data": {
      "text/html": [
       "<div>\n",
       "<style scoped>\n",
       "    .dataframe tbody tr th:only-of-type {\n",
       "        vertical-align: middle;\n",
       "    }\n",
       "\n",
       "    .dataframe tbody tr th {\n",
       "        vertical-align: top;\n",
       "    }\n",
       "\n",
       "    .dataframe thead th {\n",
       "        text-align: right;\n",
       "    }\n",
       "</style>\n",
       "<table border=\"1\" class=\"dataframe\">\n",
       "  <thead>\n",
       "    <tr style=\"text-align: right;\">\n",
       "      <th></th>\n",
       "      <th>year</th>\n",
       "      <th>city</th>\n",
       "      <th>country</th>\n",
       "      <th>rio_avg_temp</th>\n",
       "      <th>year.1</th>\n",
       "      <th>global_avg_temp</th>\n",
       "    </tr>\n",
       "  </thead>\n",
       "  <tbody>\n",
       "    <tr>\n",
       "      <th>177</th>\n",
       "      <td>2009</td>\n",
       "      <td>Rio De Janeiro</td>\n",
       "      <td>Brazil</td>\n",
       "      <td>24.98</td>\n",
       "      <td>2009</td>\n",
       "      <td>9.51</td>\n",
       "    </tr>\n",
       "    <tr>\n",
       "      <th>178</th>\n",
       "      <td>2010</td>\n",
       "      <td>Rio De Janeiro</td>\n",
       "      <td>Brazil</td>\n",
       "      <td>24.95</td>\n",
       "      <td>2010</td>\n",
       "      <td>9.70</td>\n",
       "    </tr>\n",
       "    <tr>\n",
       "      <th>179</th>\n",
       "      <td>2011</td>\n",
       "      <td>Rio De Janeiro</td>\n",
       "      <td>Brazil</td>\n",
       "      <td>24.32</td>\n",
       "      <td>2011</td>\n",
       "      <td>9.52</td>\n",
       "    </tr>\n",
       "    <tr>\n",
       "      <th>180</th>\n",
       "      <td>2012</td>\n",
       "      <td>Rio De Janeiro</td>\n",
       "      <td>Brazil</td>\n",
       "      <td>24.84</td>\n",
       "      <td>2012</td>\n",
       "      <td>9.51</td>\n",
       "    </tr>\n",
       "    <tr>\n",
       "      <th>181</th>\n",
       "      <td>2013</td>\n",
       "      <td>Rio De Janeiro</td>\n",
       "      <td>Brazil</td>\n",
       "      <td>25.19</td>\n",
       "      <td>2013</td>\n",
       "      <td>9.61</td>\n",
       "    </tr>\n",
       "  </tbody>\n",
       "</table>\n",
       "</div>"
      ],
      "text/plain": [
       "     year            city country  rio_avg_temp  year.1  global_avg_temp\n",
       "177  2009  Rio De Janeiro  Brazil         24.98    2009             9.51\n",
       "178  2010  Rio De Janeiro  Brazil         24.95    2010             9.70\n",
       "179  2011  Rio De Janeiro  Brazil         24.32    2011             9.52\n",
       "180  2012  Rio De Janeiro  Brazil         24.84    2012             9.51\n",
       "181  2013  Rio De Janeiro  Brazil         25.19    2013             9.61"
      ]
     },
     "execution_count": 31,
     "metadata": {},
     "output_type": "execute_result"
    }
   ],
   "source": [
    "# Previewing the last 5 rows of the Rio dataset \n",
    "df_rio.tail()"
   ]
  },
  {
   "cell_type": "code",
   "execution_count": 32,
   "metadata": {},
   "outputs": [
    {
     "data": {
      "text/html": [
       "<div>\n",
       "<style scoped>\n",
       "    .dataframe tbody tr th:only-of-type {\n",
       "        vertical-align: middle;\n",
       "    }\n",
       "\n",
       "    .dataframe tbody tr th {\n",
       "        vertical-align: top;\n",
       "    }\n",
       "\n",
       "    .dataframe thead th {\n",
       "        text-align: right;\n",
       "    }\n",
       "</style>\n",
       "<table border=\"1\" class=\"dataframe\">\n",
       "  <thead>\n",
       "    <tr style=\"text-align: right;\">\n",
       "      <th></th>\n",
       "      <th>year</th>\n",
       "      <th>warsaw_avg_temp</th>\n",
       "      <th>global_avg_temp</th>\n",
       "    </tr>\n",
       "  </thead>\n",
       "  <tbody>\n",
       "    <tr>\n",
       "      <th>0</th>\n",
       "      <td>1750</td>\n",
       "      <td>8.27</td>\n",
       "      <td>8.72</td>\n",
       "    </tr>\n",
       "    <tr>\n",
       "      <th>1</th>\n",
       "      <td>1751</td>\n",
       "      <td>8.23</td>\n",
       "      <td>7.98</td>\n",
       "    </tr>\n",
       "    <tr>\n",
       "      <th>2</th>\n",
       "      <td>1752</td>\n",
       "      <td>2.58</td>\n",
       "      <td>5.78</td>\n",
       "    </tr>\n",
       "    <tr>\n",
       "      <th>3</th>\n",
       "      <td>1753</td>\n",
       "      <td>7.17</td>\n",
       "      <td>8.39</td>\n",
       "    </tr>\n",
       "    <tr>\n",
       "      <th>4</th>\n",
       "      <td>1754</td>\n",
       "      <td>7.08</td>\n",
       "      <td>8.47</td>\n",
       "    </tr>\n",
       "  </tbody>\n",
       "</table>\n",
       "</div>"
      ],
      "text/plain": [
       "   year  warsaw_avg_temp  global_avg_temp\n",
       "0  1750             8.27             8.72\n",
       "1  1751             8.23             7.98\n",
       "2  1752             2.58             5.78\n",
       "3  1753             7.17             8.39\n",
       "4  1754             7.08             8.47"
      ]
     },
     "execution_count": 32,
     "metadata": {},
     "output_type": "execute_result"
    }
   ],
   "source": [
    "# Delete the unneccesary rows (use shift + tab on the code to see the help references)\n",
    "df_warsaw.drop(['city','country','year.1'],axis=1, inplace=True)\n",
    "df_rio.drop(['city','country','year.1'],axis=1, inplace=True)\n",
    "\n",
    "# See the result\n",
    "df_warsaw.head(5)"
   ]
  },
  {
   "cell_type": "code",
   "execution_count": 33,
   "metadata": {},
   "outputs": [
    {
     "data": {
      "text/html": [
       "<div>\n",
       "<style scoped>\n",
       "    .dataframe tbody tr th:only-of-type {\n",
       "        vertical-align: middle;\n",
       "    }\n",
       "\n",
       "    .dataframe tbody tr th {\n",
       "        vertical-align: top;\n",
       "    }\n",
       "\n",
       "    .dataframe thead th {\n",
       "        text-align: right;\n",
       "    }\n",
       "</style>\n",
       "<table border=\"1\" class=\"dataframe\">\n",
       "  <thead>\n",
       "    <tr style=\"text-align: right;\">\n",
       "      <th></th>\n",
       "      <th>year</th>\n",
       "      <th>rio_avg_temp</th>\n",
       "      <th>global_avg_temp</th>\n",
       "    </tr>\n",
       "  </thead>\n",
       "  <tbody>\n",
       "    <tr>\n",
       "      <th>0</th>\n",
       "      <td>1832</td>\n",
       "      <td>23.05</td>\n",
       "      <td>7.45</td>\n",
       "    </tr>\n",
       "    <tr>\n",
       "      <th>1</th>\n",
       "      <td>1833</td>\n",
       "      <td>24.11</td>\n",
       "      <td>8.01</td>\n",
       "    </tr>\n",
       "    <tr>\n",
       "      <th>2</th>\n",
       "      <td>1834</td>\n",
       "      <td>23.27</td>\n",
       "      <td>8.15</td>\n",
       "    </tr>\n",
       "    <tr>\n",
       "      <th>3</th>\n",
       "      <td>1835</td>\n",
       "      <td>22.73</td>\n",
       "      <td>7.39</td>\n",
       "    </tr>\n",
       "    <tr>\n",
       "      <th>4</th>\n",
       "      <td>1836</td>\n",
       "      <td>22.91</td>\n",
       "      <td>7.70</td>\n",
       "    </tr>\n",
       "  </tbody>\n",
       "</table>\n",
       "</div>"
      ],
      "text/plain": [
       "   year  rio_avg_temp  global_avg_temp\n",
       "0  1832         23.05             7.45\n",
       "1  1833         24.11             8.01\n",
       "2  1834         23.27             8.15\n",
       "3  1835         22.73             7.39\n",
       "4  1836         22.91             7.70"
      ]
     },
     "execution_count": 33,
     "metadata": {},
     "output_type": "execute_result"
    }
   ],
   "source": [
    "df_rio.head(5)"
   ]
  },
  {
   "cell_type": "code",
   "execution_count": 34,
   "metadata": {},
   "outputs": [
    {
     "name": "stdout",
     "output_type": "stream",
     "text": [
      "<class 'pandas.core.frame.DataFrame'>\n",
      "RangeIndex: 264 entries, 0 to 263\n",
      "Data columns (total 3 columns):\n",
      "year               264 non-null int64\n",
      "warsaw_avg_temp    264 non-null float64\n",
      "global_avg_temp    264 non-null float64\n",
      "dtypes: float64(2), int64(1)\n",
      "memory usage: 6.3 KB\n"
     ]
    }
   ],
   "source": [
    "# Checking the information of the dataframe\n",
    "df_warsaw.info()"
   ]
  },
  {
   "cell_type": "code",
   "execution_count": 35,
   "metadata": {},
   "outputs": [
    {
     "name": "stdout",
     "output_type": "stream",
     "text": [
      "<class 'pandas.core.frame.DataFrame'>\n",
      "RangeIndex: 182 entries, 0 to 181\n",
      "Data columns (total 3 columns):\n",
      "year               182 non-null int64\n",
      "rio_avg_temp       175 non-null float64\n",
      "global_avg_temp    182 non-null float64\n",
      "dtypes: float64(2), int64(1)\n",
      "memory usage: 4.3 KB\n"
     ]
    }
   ],
   "source": [
    "# Checking the information of the dataframe\n",
    "df_rio.info()"
   ]
  },
  {
   "cell_type": "code",
   "execution_count": 36,
   "metadata": {},
   "outputs": [
    {
     "data": {
      "image/png": "[encoded data removed]",
      "text/plain": [
       "<Figure size 432x288 with 1 Axes>"
      ]
     },
     "metadata": {
      "needs_background": "light"
     },
     "output_type": "display_data"
    }
   ],
   "source": [
    "# Calculating the moving average for the new data and including London, Warsaw and Rio\n",
    "\n",
    "def warsaw_moving_avg (mA_range, df_warsaw_input):\n",
    "    output = df_warsaw_input.rolling(window = 10, on = \"year\" ).mean().dropna()\n",
    "    return output\n",
    "\n",
    "def rio_moving_avg (mA_range, df_rio_input):\n",
    "    output = df_rio_input.rolling(window = 10, on = \"year\" ).mean().dropna()\n",
    "    return output\n",
    "\n",
    "mA_value = 10\n",
    "\n",
    "# Renaming the function of the Moving Average again\n",
    "warsaw_chart_moving_avg = warsaw_moving_avg(mA_value, df_warsaw)\n",
    "rio_chart_moving_avg = rio_moving_avg(mA_value, df_rio)\n",
    "plt.plot(chart_moving_avg ['year'], chart_moving_avg ['london_avg_temp'], label = 'London')\n",
    "plt.plot(warsaw_chart_moving_avg ['year'], warsaw_chart_moving_avg ['warsaw_avg_temp'], label = 'Warsaw')\n",
    "plt.plot(rio_chart_moving_avg ['year'], rio_chart_moving_avg ['rio_avg_temp'], label = 'Rio')\n",
    "plt.plot(chart_moving_avg ['year'], chart_moving_avg ['global_avg_temp'], label = 'Global')\n",
    "plt.legend()\n",
    "plt.xlabel ( \"Years\" )\n",
    "plt.ylabel ( \"Temperature (°C)\" )\n",
    "plt.title ( \"City and Global Temperatures\" )\n",
    "plt.show ()"
   ]
  },
  {
   "cell_type": "markdown",
   "metadata": {},
   "source": [
    "The two cities I have added show very similar upward trendlines to London and the globe. Rio shows a much hotter average temperature than the global average."
   ]
  },
  {
   "cell_type": "markdown",
   "metadata": {},
   "source": [
    "## References\n",
    ".copy() function: https://www.programiz.com/python-programming/methods/list/copy \\\n",
    "Markdown Basics: https://markdown-guide.readthedocs.io/en/latest/basics.html \\\n",
    "Instant SQL Formatter: http://www.dpriver.com/pp/sqlformat.htm \\\n",
    "round() Function: https://www.programiz.com/python-programming/methods/built-in/round \\\n",
    "print Wiki: https://en.wikibooks.org/wiki/Python_Programming/Input_and_Output \\\n",
    "print Tutorial 1: https://www.kite.com/python/answers/how-to-print-the-degree-symbol-in-python \\\n",
    "print Tutorial 2: https://www.datacamp.com/community/tutorials/python-print-function \\\n",
    "Math in Python: https://www.digitalocean.com/community/tutorials/how-to-do-math-in-python-3-with-operators \\\n",
    "Celcius Symbol: https://stackoverflow.com/questions/8440117/how-do-i-print-a-celsius-symbol-with-matplotlib \\\n",
    "Print Degree Symbol: https://www.datacamp.com/community/tutorials/python-print-function \\\n",
    "Correletion Coefficient: https://machinelearningmastery.com/how-to-use-correlation-to-understand-the-relationship-between-variables/ \\\n",
    "Pearson Correlaction Coefficient: https://www.youtube.com/watch?v=B8LcYdblXBI&ab_channel=TheEngineeringWorld \\\n",
    "Data Analyst Cheat Sheet: https://www.thinkful.com/blog/data-analyst-cheat-sheet/ \\\n",
    "SQL Order By: https://www.w3schools.com/sql/sql_ref_order_by.asp"
   ]
  },
  {
   "cell_type": "code",
   "execution_count": null,
   "metadata": {},
   "outputs": [],
   "source": []
  }
 ],
 "metadata": {
  "kernelspec": {
   "display_name": "Python 3",
   "language": "python",
   "name": "python3"
  },
  "language_info": {
   "codemirror_mode": {
    "name": "ipython",
    "version": 3
   },
   "file_extension": ".py",
   "mimetype": "text/x-python",
   "name": "python",
   "nbconvert_exporter": "python",
   "pygments_lexer": "ipython3",
   "version": "3.7.3"
  }
 },
 "nbformat": 4,
 "nbformat_minor": 2
}
