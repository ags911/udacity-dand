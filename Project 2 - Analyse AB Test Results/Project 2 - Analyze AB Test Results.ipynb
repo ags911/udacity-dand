{
 "cells": [
  {
   "cell_type": "markdown",
   "metadata": {},
   "source": [
    "## Analyze A/B Test Results\n",
    "\n",
    "This project will assure you have mastered the subjects covered in the statistics lessons.  The hope is to have this project be as comprehensive of these topics as possible.  Good luck!\n",
    "\n",
    "## Table of Contents\n",
    "- [Introduction](#intro)\n",
    "- [Part I - Probability](#probability)\n",
    "- [Part II - A/B Test](#ab_test)\n",
    "- [Part III - Regression](#regression)\n",
    "\n",
    "\n",
    "<a id='intro'></a>\n",
    "### Introduction\n",
    "\n",
    "A/B tests are very commonly performed by data analysts and data scientists.  It is important that you get some practice working with the difficulties of these \n",
    "\n",
    "For this project, you will be working to understand the results of an A/B test run by an e-commerce website.  Your goal is to work through this notebook to help the company understand if they should implement the new page, keep the old page, or perhaps run the experiment longer to make their decision.\n",
    "\n",
    "**As you work through this notebook, follow along in the classroom and answer the corresponding quiz questions associated with each question.** The labels for each classroom concept are provided for each question.  This will assure you are on the right track as you work through the project, and you can feel more confident in your final submission meeting the criteria.  As a final check, assure you meet all the criteria on the [RUBRIC](https://review.udacity.com/#!/projects/37e27304-ad47-4eb0-a1ab-8c12f60e43d0/rubric).\n",
    "\n",
    "<a id='probability'></a>\n",
    "### Part I - Probability\n",
    "\n",
    "To get started, let's import our libraries."
   ]
  },
  {
   "cell_type": "code",
   "execution_count": 1,
   "metadata": {},
   "outputs": [],
   "source": [
    "import pandas as pd\n",
    "import numpy as np\n",
    "import random\n",
    "import matplotlib.pyplot as plt\n",
    "%matplotlib inline\n",
    "#We are setting the seed to assure you get the same answers on quizzes as we set up\n",
    "random.seed(42)"
   ]
  },
  {
   "cell_type": "markdown",
   "metadata": {},
   "source": [
    "#### Part IA - Data Wrangling"
   ]
  },
  {
   "cell_type": "markdown",
   "metadata": {},
   "source": [
    "`1.` Now, read in the `ab_data.csv` data. Store it in `df`.  **Use your dataframe to answer the questions in Quiz 1 of the classroom.**\n",
    "\n",
    "a. Read in the dataset and take a look at the top few rows here:"
   ]
  },
  {
   "cell_type": "code",
   "execution_count": 2,
   "metadata": {},
   "outputs": [
    {
     "data": {
      "text/html": [
       "<div>\n",
       "<style scoped>\n",
       "    .dataframe tbody tr th:only-of-type {\n",
       "        vertical-align: middle;\n",
       "    }\n",
       "\n",
       "    .dataframe tbody tr th {\n",
       "        vertical-align: top;\n",
       "    }\n",
       "\n",
       "    .dataframe thead th {\n",
       "        text-align: right;\n",
       "    }\n",
       "</style>\n",
       "<table border=\"1\" class=\"dataframe\">\n",
       "  <thead>\n",
       "    <tr style=\"text-align: right;\">\n",
       "      <th></th>\n",
       "      <th>user_id</th>\n",
       "      <th>timestamp</th>\n",
       "      <th>group</th>\n",
       "      <th>landing_page</th>\n",
       "      <th>converted</th>\n",
       "    </tr>\n",
       "  </thead>\n",
       "  <tbody>\n",
       "    <tr>\n",
       "      <th>0</th>\n",
       "      <td>851104</td>\n",
       "      <td>2017-01-21 22:11:48.556739</td>\n",
       "      <td>control</td>\n",
       "      <td>old_page</td>\n",
       "      <td>0</td>\n",
       "    </tr>\n",
       "    <tr>\n",
       "      <th>1</th>\n",
       "      <td>804228</td>\n",
       "      <td>2017-01-12 08:01:45.159739</td>\n",
       "      <td>control</td>\n",
       "      <td>old_page</td>\n",
       "      <td>0</td>\n",
       "    </tr>\n",
       "    <tr>\n",
       "      <th>2</th>\n",
       "      <td>661590</td>\n",
       "      <td>2017-01-11 16:55:06.154213</td>\n",
       "      <td>treatment</td>\n",
       "      <td>new_page</td>\n",
       "      <td>0</td>\n",
       "    </tr>\n",
       "    <tr>\n",
       "      <th>3</th>\n",
       "      <td>853541</td>\n",
       "      <td>2017-01-08 18:28:03.143765</td>\n",
       "      <td>treatment</td>\n",
       "      <td>new_page</td>\n",
       "      <td>0</td>\n",
       "    </tr>\n",
       "    <tr>\n",
       "      <th>4</th>\n",
       "      <td>864975</td>\n",
       "      <td>2017-01-21 01:52:26.210827</td>\n",
       "      <td>control</td>\n",
       "      <td>old_page</td>\n",
       "      <td>1</td>\n",
       "    </tr>\n",
       "  </tbody>\n",
       "</table>\n",
       "</div>"
      ],
      "text/plain": [
       "   user_id                   timestamp      group landing_page  converted\n",
       "0   851104  2017-01-21 22:11:48.556739    control     old_page          0\n",
       "1   804228  2017-01-12 08:01:45.159739    control     old_page          0\n",
       "2   661590  2017-01-11 16:55:06.154213  treatment     new_page          0\n",
       "3   853541  2017-01-08 18:28:03.143765  treatment     new_page          0\n",
       "4   864975  2017-01-21 01:52:26.210827    control     old_page          1"
      ]
     },
     "execution_count": 2,
     "metadata": {},
     "output_type": "execute_result"
    }
   ],
   "source": [
    "# Reading the dataset\n",
    "df = pd.read_csv('ab_data.csv')\n",
    "df.head()"
   ]
  },
  {
   "cell_type": "markdown",
   "metadata": {},
   "source": [
    "b. Use the below cell to find the number of rows in the dataset."
   ]
  },
  {
   "cell_type": "code",
   "execution_count": 3,
   "metadata": {},
   "outputs": [
    {
     "name": "stdout",
     "output_type": "stream",
     "text": [
      "<class 'pandas.core.frame.DataFrame'>\n",
      "RangeIndex: 294478 entries, 0 to 294477\n",
      "Data columns (total 5 columns):\n",
      "user_id         294478 non-null int64\n",
      "timestamp       294478 non-null object\n",
      "group           294478 non-null object\n",
      "landing_page    294478 non-null object\n",
      "converted       294478 non-null int64\n",
      "dtypes: int64(2), object(3)\n",
      "memory usage: 11.2+ MB\n"
     ]
    }
   ],
   "source": [
    "# .info shows the detailed info of the dataframe\n",
    "df.info()"
   ]
  },
  {
   "cell_type": "markdown",
   "metadata": {},
   "source": [
    "c. The number of unique users in the dataset."
   ]
  },
  {
   "cell_type": "code",
   "execution_count": 4,
   "metadata": {},
   "outputs": [
    {
     "name": "stdout",
     "output_type": "stream",
     "text": [
      "290584 unique users\n"
     ]
    }
   ],
   "source": [
    "# Finding the number of unique users using .nunique\n",
    "print(df['user_id'].nunique(), 'unique users')"
   ]
  },
  {
   "cell_type": "markdown",
   "metadata": {
    "collapsed": true
   },
   "source": [
    "d. The proportion of users converted."
   ]
  },
  {
   "cell_type": "code",
   "execution_count": 5,
   "metadata": {},
   "outputs": [
    {
     "name": "stdout",
     "output_type": "stream",
     "text": [
      "Proportion of users converted: 12 %\n"
     ]
    }
   ],
   "source": [
    "# Adding variables to make the calculation cleaner\n",
    "converted_p = df['converted'].sum()\n",
    "users_p = df['user_id'].nunique()\n",
    "\n",
    "# Printing the output and using round() and int() to turn the float to an integer\n",
    "print('Proportion of users converted:',int(round(converted_p/users_p*100)),'%')"
   ]
  },
  {
   "cell_type": "markdown",
   "metadata": {
    "collapsed": true
   },
   "source": [
    "e. The number of times the `new_page` and `treatment` don't line up."
   ]
  },
  {
   "cell_type": "code",
   "execution_count": 6,
   "metadata": {},
   "outputs": [
    {
     "name": "stdout",
     "output_type": "stream",
     "text": [
      "Unique entries in 'landing_page' column: ['old_page' 'new_page']\n",
      "Unique entries in 'group' column: ['control' 'treatment']\n"
     ]
    }
   ],
   "source": [
    "# Finding the unique values in 'landing_page'\n",
    "print('Unique entries in \\'landing_page\\' column:', df['landing_page'].unique())\n",
    "print('Unique entries in \\'group\\' column:', df['group'].unique())"
   ]
  },
  {
   "cell_type": "code",
   "execution_count": 7,
   "metadata": {},
   "outputs": [
    {
     "name": "stdout",
     "output_type": "stream",
     "text": [
      "3893 times\n"
     ]
    }
   ],
   "source": [
    "# Checking each column for conditions, '!=' means to not equal to and '==' means equal to\n",
    "\n",
    "# Checking for 'not equal to' for 'treatment' and 'equal to' for 'new page' and adding it to a variable\n",
    "nolineup1 = df[(df['group']!='treatment') & (df['landing_page']=='new_page')]\n",
    "\n",
    "# Checking for 'equal to' for 'treatment' and 'not equal to' for 'new page' and adding it to a variable\n",
    "nolineup2 = df[(df['group']=='treatment') & (df['landing_page']!='new_page')]\n",
    "\n",
    "# Counting the number of indexed rows for the results of the first variable\n",
    "nolineup1 = nolineup1.shape[0]\n",
    "\n",
    "# Counting the number of indexed rows for the results of the second variable\n",
    "nolineup2 = nolineup2.shape[0]\n",
    "\n",
    "# Adding both results to find the number of times 'new_page' and 'treatment' don't line up\n",
    "print(nolineup1+nolineup2, 'times')"
   ]
  },
  {
   "cell_type": "code",
   "execution_count": 8,
   "metadata": {},
   "outputs": [
    {
     "name": "stdout",
     "output_type": "stream",
     "text": [
      "3893 times\n"
     ]
    }
   ],
   "source": [
    "# A less verbose method\n",
    "print(df[((df['group'] == 'treatment') == (df['landing_page'] == 'new_page')) == False].shape[0], 'times')"
   ]
  },
  {
   "cell_type": "markdown",
   "metadata": {},
   "source": [
    "#### Part IB - Data Cleaning"
   ]
  },
  {
   "cell_type": "markdown",
   "metadata": {},
   "source": [
    "f. Do any of the rows have missing values?"
   ]
  },
  {
   "cell_type": "code",
   "execution_count": 9,
   "metadata": {},
   "outputs": [
    {
     "name": "stdout",
     "output_type": "stream",
     "text": [
      "<class 'pandas.core.frame.DataFrame'>\n",
      "RangeIndex: 294478 entries, 0 to 294477\n",
      "Data columns (total 5 columns):\n",
      "user_id         294478 non-null int64\n",
      "timestamp       294478 non-null object\n",
      "group           294478 non-null object\n",
      "landing_page    294478 non-null object\n",
      "converted       294478 non-null int64\n",
      "dtypes: int64(2), object(3)\n",
      "memory usage: 11.2+ MB\n"
     ]
    }
   ],
   "source": [
    "# Checking the .info() for missing values manually\n",
    "df.info()"
   ]
  },
  {
   "cell_type": "code",
   "execution_count": 10,
   "metadata": {},
   "outputs": [
    {
     "data": {
      "text/plain": [
       "user_id         False\n",
       "timestamp       False\n",
       "group           False\n",
       "landing_page    False\n",
       "converted       False\n",
       "dtype: bool"
      ]
     },
     "execution_count": 10,
     "metadata": {},
     "output_type": "execute_result"
    }
   ],
   "source": [
    "# Checking the rows for missing values automatically\n",
    "df.isnull().any()"
   ]
  },
  {
   "cell_type": "markdown",
   "metadata": {},
   "source": [
    "No rows have missing values."
   ]
  },
  {
   "cell_type": "markdown",
   "metadata": {},
   "source": [
    "`2.` For the rows where **treatment** is not aligned with **new_page** or **control** is not aligned with **old_page**, we cannot be sure if this row truly received the new or old page.  Use **Quiz 2** in the classroom to provide how we should handle these rows.  \n",
    "\n",
    "a. Now use the answer to the quiz to create a new dataset that meets the specifications from the quiz.  Store your new dataframe in **df2**."
   ]
  },
  {
   "cell_type": "code",
   "execution_count": 11,
   "metadata": {},
   "outputs": [
    {
     "data": {
      "text/plain": [
       "290585"
      ]
     },
     "execution_count": 11,
     "metadata": {},
     "output_type": "execute_result"
    }
   ],
   "source": [
    "# Finding the answer using our previous technique\n",
    "nolineup1x = df[(df['group']!='treatment') & (df['landing_page']=='old_page')]\n",
    "nolineup2x = df[(df['group']=='treatment') & (df['landing_page']!='old_page')]\n",
    "nolineup1x = nolineup1x.shape[0]\n",
    "nolineup2x = nolineup2x.shape[0]\n",
    "nolineup1x+nolineup2x"
   ]
  },
  {
   "cell_type": "code",
   "execution_count": 12,
   "metadata": {},
   "outputs": [
    {
     "data": {
      "text/plain": [
       "290585"
      ]
     },
     "execution_count": 12,
     "metadata": {},
     "output_type": "execute_result"
    }
   ],
   "source": [
    "# Finding the answer using .drop\n",
    "df.drop(df.query(\"group == 'treatment' and landing_page == 'old_page'\").index, inplace=True)\n",
    "df.drop(df.query(\"group == 'control' and landing_page == 'new_page'\").index, inplace=True)\n",
    "\n",
    "# We use shape instead of .info to find the number of rows\n",
    "df.shape[0]"
   ]
  },
  {
   "cell_type": "code",
   "execution_count": 13,
   "metadata": {},
   "outputs": [
    {
     "data": {
      "text/html": [
       "<div>\n",
       "<style scoped>\n",
       "    .dataframe tbody tr th:only-of-type {\n",
       "        vertical-align: middle;\n",
       "    }\n",
       "\n",
       "    .dataframe tbody tr th {\n",
       "        vertical-align: top;\n",
       "    }\n",
       "\n",
       "    .dataframe thead th {\n",
       "        text-align: right;\n",
       "    }\n",
       "</style>\n",
       "<table border=\"1\" class=\"dataframe\">\n",
       "  <thead>\n",
       "    <tr style=\"text-align: right;\">\n",
       "      <th></th>\n",
       "      <th>user_id</th>\n",
       "      <th>timestamp</th>\n",
       "      <th>group</th>\n",
       "      <th>landing_page</th>\n",
       "      <th>converted</th>\n",
       "    </tr>\n",
       "  </thead>\n",
       "  <tbody>\n",
       "    <tr>\n",
       "      <th>0</th>\n",
       "      <td>851104</td>\n",
       "      <td>2017-01-21 22:11:48.556739</td>\n",
       "      <td>control</td>\n",
       "      <td>old_page</td>\n",
       "      <td>0</td>\n",
       "    </tr>\n",
       "    <tr>\n",
       "      <th>1</th>\n",
       "      <td>804228</td>\n",
       "      <td>2017-01-12 08:01:45.159739</td>\n",
       "      <td>control</td>\n",
       "      <td>old_page</td>\n",
       "      <td>0</td>\n",
       "    </tr>\n",
       "    <tr>\n",
       "      <th>2</th>\n",
       "      <td>661590</td>\n",
       "      <td>2017-01-11 16:55:06.154213</td>\n",
       "      <td>treatment</td>\n",
       "      <td>new_page</td>\n",
       "      <td>0</td>\n",
       "    </tr>\n",
       "    <tr>\n",
       "      <th>3</th>\n",
       "      <td>853541</td>\n",
       "      <td>2017-01-08 18:28:03.143765</td>\n",
       "      <td>treatment</td>\n",
       "      <td>new_page</td>\n",
       "      <td>0</td>\n",
       "    </tr>\n",
       "    <tr>\n",
       "      <th>4</th>\n",
       "      <td>864975</td>\n",
       "      <td>2017-01-21 01:52:26.210827</td>\n",
       "      <td>control</td>\n",
       "      <td>old_page</td>\n",
       "      <td>1</td>\n",
       "    </tr>\n",
       "  </tbody>\n",
       "</table>\n",
       "</div>"
      ],
      "text/plain": [
       "   user_id                   timestamp      group landing_page  converted\n",
       "0   851104  2017-01-21 22:11:48.556739    control     old_page          0\n",
       "1   804228  2017-01-12 08:01:45.159739    control     old_page          0\n",
       "2   661590  2017-01-11 16:55:06.154213  treatment     new_page          0\n",
       "3   853541  2017-01-08 18:28:03.143765  treatment     new_page          0\n",
       "4   864975  2017-01-21 01:52:26.210827    control     old_page          1"
      ]
     },
     "execution_count": 13,
     "metadata": {},
     "output_type": "execute_result"
    }
   ],
   "source": [
    "# Saving and reading the new dataframe\n",
    "df.to_csv('ab_data2.csv', index=False)\n",
    "df2 = pd.read_csv('ab_data2.csv')\n",
    "df2.head()"
   ]
  },
  {
   "cell_type": "code",
   "execution_count": 14,
   "metadata": {},
   "outputs": [
    {
     "name": "stdout",
     "output_type": "stream",
     "text": [
      "<class 'pandas.core.frame.DataFrame'>\n",
      "RangeIndex: 290585 entries, 0 to 290584\n",
      "Data columns (total 5 columns):\n",
      "user_id         290585 non-null int64\n",
      "timestamp       290585 non-null object\n",
      "group           290585 non-null object\n",
      "landing_page    290585 non-null object\n",
      "converted       290585 non-null int64\n",
      "dtypes: int64(2), object(3)\n",
      "memory usage: 11.1+ MB\n"
     ]
    }
   ],
   "source": [
    "# Checking the data is correct\n",
    "df2.info()"
   ]
  },
  {
   "cell_type": "code",
   "execution_count": 15,
   "metadata": {},
   "outputs": [
    {
     "data": {
      "text/plain": [
       "0"
      ]
     },
     "execution_count": 15,
     "metadata": {},
     "output_type": "execute_result"
    }
   ],
   "source": [
    "# Double Check all of the correct rows were removed - this should be 0\n",
    "df2[((df2['group'] == 'treatment') == (df2['landing_page'] == 'new_page')) == False].shape[0]"
   ]
  },
  {
   "cell_type": "markdown",
   "metadata": {},
   "source": [
    "`3.` Use **df2** and the cells below to answer questions for **Quiz3** in the classroom."
   ]
  },
  {
   "cell_type": "markdown",
   "metadata": {},
   "source": [
    "a. How many unique **user_id**s are in **df2**?"
   ]
  },
  {
   "cell_type": "code",
   "execution_count": 16,
   "metadata": {},
   "outputs": [
    {
     "data": {
      "text/plain": [
       "290584"
      ]
     },
     "execution_count": 16,
     "metadata": {},
     "output_type": "execute_result"
    }
   ],
   "source": [
    "# Checking the unique user_ids\n",
    "df2['user_id'].nunique()"
   ]
  },
  {
   "cell_type": "markdown",
   "metadata": {
    "collapsed": true
   },
   "source": [
    "b. There is one **user_id** repeated in **df2**.  What is it?"
   ]
  },
  {
   "cell_type": "code",
   "execution_count": 17,
   "metadata": {},
   "outputs": [
    {
     "data": {
      "text/plain": [
       "1876    773192\n",
       "2862    773192\n",
       "Name: user_id, dtype: int64"
      ]
     },
     "execution_count": 17,
     "metadata": {},
     "output_type": "execute_result"
    }
   ],
   "source": [
    "# Filter user_id column\n",
    "df2[df2.user_id.duplicated(keep=False)].user_id"
   ]
  },
  {
   "cell_type": "markdown",
   "metadata": {},
   "source": [
    "c. What is the row information for the repeat **user_id**? "
   ]
  },
  {
   "cell_type": "code",
   "execution_count": 18,
   "metadata": {},
   "outputs": [
    {
     "data": {
      "text/html": [
       "<div>\n",
       "<style scoped>\n",
       "    .dataframe tbody tr th:only-of-type {\n",
       "        vertical-align: middle;\n",
       "    }\n",
       "\n",
       "    .dataframe tbody tr th {\n",
       "        vertical-align: top;\n",
       "    }\n",
       "\n",
       "    .dataframe thead th {\n",
       "        text-align: right;\n",
       "    }\n",
       "</style>\n",
       "<table border=\"1\" class=\"dataframe\">\n",
       "  <thead>\n",
       "    <tr style=\"text-align: right;\">\n",
       "      <th></th>\n",
       "      <th>user_id</th>\n",
       "      <th>timestamp</th>\n",
       "      <th>group</th>\n",
       "      <th>landing_page</th>\n",
       "      <th>converted</th>\n",
       "    </tr>\n",
       "  </thead>\n",
       "  <tbody>\n",
       "    <tr>\n",
       "      <th>1876</th>\n",
       "      <td>773192</td>\n",
       "      <td>2017-01-09 05:37:58.781806</td>\n",
       "      <td>treatment</td>\n",
       "      <td>new_page</td>\n",
       "      <td>0</td>\n",
       "    </tr>\n",
       "    <tr>\n",
       "      <th>2862</th>\n",
       "      <td>773192</td>\n",
       "      <td>2017-01-14 02:55:59.590927</td>\n",
       "      <td>treatment</td>\n",
       "      <td>new_page</td>\n",
       "      <td>0</td>\n",
       "    </tr>\n",
       "  </tbody>\n",
       "</table>\n",
       "</div>"
      ],
      "text/plain": [
       "      user_id                   timestamp      group landing_page  converted\n",
       "1876   773192  2017-01-09 05:37:58.781806  treatment     new_page          0\n",
       "2862   773192  2017-01-14 02:55:59.590927  treatment     new_page          0"
      ]
     },
     "execution_count": 18,
     "metadata": {},
     "output_type": "execute_result"
    }
   ],
   "source": [
    "# Displaying the duplicated entries\n",
    "df2[df2.user_id.duplicated(keep=False)]"
   ]
  },
  {
   "cell_type": "markdown",
   "metadata": {},
   "source": [
    "d. Remove **one** of the rows with a duplicate **user_id**, but keep your dataframe as **df2**."
   ]
  },
  {
   "cell_type": "code",
   "execution_count": 19,
   "metadata": {},
   "outputs": [],
   "source": [
    "# Removing the duplicated entry\n",
    "df2.drop_duplicates('user_id', inplace=True)"
   ]
  },
  {
   "cell_type": "code",
   "execution_count": 20,
   "metadata": {},
   "outputs": [
    {
     "data": {
      "text/html": [
       "<div>\n",
       "<style scoped>\n",
       "    .dataframe tbody tr th:only-of-type {\n",
       "        vertical-align: middle;\n",
       "    }\n",
       "\n",
       "    .dataframe tbody tr th {\n",
       "        vertical-align: top;\n",
       "    }\n",
       "\n",
       "    .dataframe thead th {\n",
       "        text-align: right;\n",
       "    }\n",
       "</style>\n",
       "<table border=\"1\" class=\"dataframe\">\n",
       "  <thead>\n",
       "    <tr style=\"text-align: right;\">\n",
       "      <th></th>\n",
       "      <th>user_id</th>\n",
       "      <th>timestamp</th>\n",
       "      <th>group</th>\n",
       "      <th>landing_page</th>\n",
       "      <th>converted</th>\n",
       "    </tr>\n",
       "  </thead>\n",
       "  <tbody>\n",
       "    <tr>\n",
       "      <th>1876</th>\n",
       "      <td>773192</td>\n",
       "      <td>2017-01-09 05:37:58.781806</td>\n",
       "      <td>treatment</td>\n",
       "      <td>new_page</td>\n",
       "      <td>0</td>\n",
       "    </tr>\n",
       "  </tbody>\n",
       "</table>\n",
       "</div>"
      ],
      "text/plain": [
       "      user_id                   timestamp      group landing_page  converted\n",
       "1876   773192  2017-01-09 05:37:58.781806  treatment     new_page          0"
      ]
     },
     "execution_count": 20,
     "metadata": {},
     "output_type": "execute_result"
    }
   ],
   "source": [
    "# Checking for the duplicated entry by querying the same user_id\n",
    "df2.query(\"user_id == '773192'\")"
   ]
  },
  {
   "cell_type": "markdown",
   "metadata": {},
   "source": [
    "#### Part IC - Data Analysis"
   ]
  },
  {
   "cell_type": "markdown",
   "metadata": {},
   "source": [
    "`4.` Use **df2** in the below cells to answer the quiz questions related to **Quiz 4** in the classroom.\n",
    "\n",
    "a. What is the probability of an individual converting regardless of the page they receive?"
   ]
  },
  {
   "cell_type": "code",
   "execution_count": 21,
   "metadata": {},
   "outputs": [
    {
     "name": "stdout",
     "output_type": "stream",
     "text": [
      "0.1196\n"
     ]
    }
   ],
   "source": [
    "# Using the average of converted users to find the probability of a user converting regardless of group\n",
    "print(round(df2.converted.mean(),4))"
   ]
  },
  {
   "cell_type": "markdown",
   "metadata": {},
   "source": [
    "0.1196 or 12% is the average probability regardless of page so we will use this value as a baseline figure."
   ]
  },
  {
   "cell_type": "markdown",
   "metadata": {},
   "source": [
    "b. Given that an individual was in the `control` group, what is the probability they converted?"
   ]
  },
  {
   "cell_type": "code",
   "execution_count": 22,
   "metadata": {},
   "outputs": [
    {
     "data": {
      "text/html": [
       "<div>\n",
       "<style scoped>\n",
       "    .dataframe tbody tr th:only-of-type {\n",
       "        vertical-align: middle;\n",
       "    }\n",
       "\n",
       "    .dataframe tbody tr th {\n",
       "        vertical-align: top;\n",
       "    }\n",
       "\n",
       "    .dataframe thead th {\n",
       "        text-align: right;\n",
       "    }\n",
       "</style>\n",
       "<table border=\"1\" class=\"dataframe\">\n",
       "  <thead>\n",
       "    <tr style=\"text-align: right;\">\n",
       "      <th></th>\n",
       "      <th>user_id</th>\n",
       "      <th>timestamp</th>\n",
       "      <th>group</th>\n",
       "      <th>landing_page</th>\n",
       "      <th>converted</th>\n",
       "    </tr>\n",
       "  </thead>\n",
       "  <tbody>\n",
       "    <tr>\n",
       "      <th>0</th>\n",
       "      <td>851104</td>\n",
       "      <td>2017-01-21 22:11:48.556739</td>\n",
       "      <td>control</td>\n",
       "      <td>old_page</td>\n",
       "      <td>0</td>\n",
       "    </tr>\n",
       "    <tr>\n",
       "      <th>1</th>\n",
       "      <td>804228</td>\n",
       "      <td>2017-01-12 08:01:45.159739</td>\n",
       "      <td>control</td>\n",
       "      <td>old_page</td>\n",
       "      <td>0</td>\n",
       "    </tr>\n",
       "    <tr>\n",
       "      <th>4</th>\n",
       "      <td>864975</td>\n",
       "      <td>2017-01-21 01:52:26.210827</td>\n",
       "      <td>control</td>\n",
       "      <td>old_page</td>\n",
       "      <td>1</td>\n",
       "    </tr>\n",
       "    <tr>\n",
       "      <th>5</th>\n",
       "      <td>936923</td>\n",
       "      <td>2017-01-10 15:20:49.083499</td>\n",
       "      <td>control</td>\n",
       "      <td>old_page</td>\n",
       "      <td>0</td>\n",
       "    </tr>\n",
       "    <tr>\n",
       "      <th>7</th>\n",
       "      <td>719014</td>\n",
       "      <td>2017-01-17 01:48:29.539573</td>\n",
       "      <td>control</td>\n",
       "      <td>old_page</td>\n",
       "      <td>0</td>\n",
       "    </tr>\n",
       "  </tbody>\n",
       "</table>\n",
       "</div>"
      ],
      "text/plain": [
       "   user_id                   timestamp    group landing_page  converted\n",
       "0   851104  2017-01-21 22:11:48.556739  control     old_page          0\n",
       "1   804228  2017-01-12 08:01:45.159739  control     old_page          0\n",
       "4   864975  2017-01-21 01:52:26.210827  control     old_page          1\n",
       "5   936923  2017-01-10 15:20:49.083499  control     old_page          0\n",
       "7   719014  2017-01-17 01:48:29.539573  control     old_page          0"
      ]
     },
     "execution_count": 22,
     "metadata": {},
     "output_type": "execute_result"
    }
   ],
   "source": [
    "# Filtering the 'control' entry in the 'group' column then assigning it to a variable\n",
    "control_converted = df2.query(\"group == 'control'\")\n",
    "\n",
    "# Checking the filtered dataframe\n",
    "control_converted.head()"
   ]
  },
  {
   "cell_type": "code",
   "execution_count": 23,
   "metadata": {
    "scrolled": false
   },
   "outputs": [
    {
     "name": "stdout",
     "output_type": "stream",
     "text": [
      "0.1204\n"
     ]
    }
   ],
   "source": [
    "# Finding the probability of a user in the control group converting on the old page\n",
    "print(round(control_converted.converted.mean(),4))"
   ]
  },
  {
   "cell_type": "markdown",
   "metadata": {},
   "source": [
    "Filtering just the 'control' group, the average probability is 0.1204 or 12%, the difference of probability is just +0.0008. Basically no difference compared to the baseline."
   ]
  },
  {
   "cell_type": "markdown",
   "metadata": {},
   "source": [
    "c. Given that an individual was in the `treatment` group, what is the probability they converted?"
   ]
  },
  {
   "cell_type": "code",
   "execution_count": 24,
   "metadata": {},
   "outputs": [
    {
     "data": {
      "text/html": [
       "<div>\n",
       "<style scoped>\n",
       "    .dataframe tbody tr th:only-of-type {\n",
       "        vertical-align: middle;\n",
       "    }\n",
       "\n",
       "    .dataframe tbody tr th {\n",
       "        vertical-align: top;\n",
       "    }\n",
       "\n",
       "    .dataframe thead th {\n",
       "        text-align: right;\n",
       "    }\n",
       "</style>\n",
       "<table border=\"1\" class=\"dataframe\">\n",
       "  <thead>\n",
       "    <tr style=\"text-align: right;\">\n",
       "      <th></th>\n",
       "      <th>user_id</th>\n",
       "      <th>timestamp</th>\n",
       "      <th>group</th>\n",
       "      <th>landing_page</th>\n",
       "      <th>converted</th>\n",
       "    </tr>\n",
       "  </thead>\n",
       "  <tbody>\n",
       "    <tr>\n",
       "      <th>2</th>\n",
       "      <td>661590</td>\n",
       "      <td>2017-01-11 16:55:06.154213</td>\n",
       "      <td>treatment</td>\n",
       "      <td>new_page</td>\n",
       "      <td>0</td>\n",
       "    </tr>\n",
       "    <tr>\n",
       "      <th>3</th>\n",
       "      <td>853541</td>\n",
       "      <td>2017-01-08 18:28:03.143765</td>\n",
       "      <td>treatment</td>\n",
       "      <td>new_page</td>\n",
       "      <td>0</td>\n",
       "    </tr>\n",
       "    <tr>\n",
       "      <th>6</th>\n",
       "      <td>679687</td>\n",
       "      <td>2017-01-19 03:26:46.940749</td>\n",
       "      <td>treatment</td>\n",
       "      <td>new_page</td>\n",
       "      <td>1</td>\n",
       "    </tr>\n",
       "    <tr>\n",
       "      <th>8</th>\n",
       "      <td>817355</td>\n",
       "      <td>2017-01-04 17:58:08.979471</td>\n",
       "      <td>treatment</td>\n",
       "      <td>new_page</td>\n",
       "      <td>1</td>\n",
       "    </tr>\n",
       "    <tr>\n",
       "      <th>9</th>\n",
       "      <td>839785</td>\n",
       "      <td>2017-01-15 18:11:06.610965</td>\n",
       "      <td>treatment</td>\n",
       "      <td>new_page</td>\n",
       "      <td>1</td>\n",
       "    </tr>\n",
       "  </tbody>\n",
       "</table>\n",
       "</div>"
      ],
      "text/plain": [
       "   user_id                   timestamp      group landing_page  converted\n",
       "2   661590  2017-01-11 16:55:06.154213  treatment     new_page          0\n",
       "3   853541  2017-01-08 18:28:03.143765  treatment     new_page          0\n",
       "6   679687  2017-01-19 03:26:46.940749  treatment     new_page          1\n",
       "8   817355  2017-01-04 17:58:08.979471  treatment     new_page          1\n",
       "9   839785  2017-01-15 18:11:06.610965  treatment     new_page          1"
      ]
     },
     "execution_count": 24,
     "metadata": {},
     "output_type": "execute_result"
    }
   ],
   "source": [
    "# Filtering the 'treatment' entry in the 'group' column then assigning it to a variable\n",
    "treatment_converted = df2.query(\"group == 'treatment'\")\n",
    "\n",
    "# Checking the filtered dataframe\n",
    "treatment_converted.head()"
   ]
  },
  {
   "cell_type": "code",
   "execution_count": 25,
   "metadata": {
    "scrolled": false
   },
   "outputs": [
    {
     "name": "stdout",
     "output_type": "stream",
     "text": [
      "0.1188\n"
     ]
    }
   ],
   "source": [
    "# Finding the probability of a user in the treatment group converting on the new page\n",
    "print(round(treatment_converted.converted.mean(),4))"
   ]
  },
  {
   "cell_type": "markdown",
   "metadata": {},
   "source": [
    "Again, filtering just the 'treatment' group, the average probability is 0.1188 or 12%, the difference of probability is just -0.0016. Basically no difference compared to the baseline again."
   ]
  },
  {
   "cell_type": "markdown",
   "metadata": {},
   "source": [
    "d. What is the probability that an individual received the new page?"
   ]
  },
  {
   "cell_type": "code",
   "execution_count": 26,
   "metadata": {},
   "outputs": [
    {
     "data": {
      "text/html": [
       "<div>\n",
       "<style scoped>\n",
       "    .dataframe tbody tr th:only-of-type {\n",
       "        vertical-align: middle;\n",
       "    }\n",
       "\n",
       "    .dataframe tbody tr th {\n",
       "        vertical-align: top;\n",
       "    }\n",
       "\n",
       "    .dataframe thead th {\n",
       "        text-align: right;\n",
       "    }\n",
       "</style>\n",
       "<table border=\"1\" class=\"dataframe\">\n",
       "  <thead>\n",
       "    <tr style=\"text-align: right;\">\n",
       "      <th></th>\n",
       "      <th>user_id</th>\n",
       "      <th>timestamp</th>\n",
       "      <th>group</th>\n",
       "      <th>landing_page</th>\n",
       "      <th>converted</th>\n",
       "    </tr>\n",
       "  </thead>\n",
       "  <tbody>\n",
       "    <tr>\n",
       "      <th>2</th>\n",
       "      <td>661590</td>\n",
       "      <td>2017-01-11 16:55:06.154213</td>\n",
       "      <td>treatment</td>\n",
       "      <td>new_page</td>\n",
       "      <td>0</td>\n",
       "    </tr>\n",
       "    <tr>\n",
       "      <th>3</th>\n",
       "      <td>853541</td>\n",
       "      <td>2017-01-08 18:28:03.143765</td>\n",
       "      <td>treatment</td>\n",
       "      <td>new_page</td>\n",
       "      <td>0</td>\n",
       "    </tr>\n",
       "    <tr>\n",
       "      <th>6</th>\n",
       "      <td>679687</td>\n",
       "      <td>2017-01-19 03:26:46.940749</td>\n",
       "      <td>treatment</td>\n",
       "      <td>new_page</td>\n",
       "      <td>1</td>\n",
       "    </tr>\n",
       "    <tr>\n",
       "      <th>8</th>\n",
       "      <td>817355</td>\n",
       "      <td>2017-01-04 17:58:08.979471</td>\n",
       "      <td>treatment</td>\n",
       "      <td>new_page</td>\n",
       "      <td>1</td>\n",
       "    </tr>\n",
       "    <tr>\n",
       "      <th>9</th>\n",
       "      <td>839785</td>\n",
       "      <td>2017-01-15 18:11:06.610965</td>\n",
       "      <td>treatment</td>\n",
       "      <td>new_page</td>\n",
       "      <td>1</td>\n",
       "    </tr>\n",
       "  </tbody>\n",
       "</table>\n",
       "</div>"
      ],
      "text/plain": [
       "   user_id                   timestamp      group landing_page  converted\n",
       "2   661590  2017-01-11 16:55:06.154213  treatment     new_page          0\n",
       "3   853541  2017-01-08 18:28:03.143765  treatment     new_page          0\n",
       "6   679687  2017-01-19 03:26:46.940749  treatment     new_page          1\n",
       "8   817355  2017-01-04 17:58:08.979471  treatment     new_page          1\n",
       "9   839785  2017-01-15 18:11:06.610965  treatment     new_page          1"
      ]
     },
     "execution_count": 26,
     "metadata": {},
     "output_type": "execute_result"
    }
   ],
   "source": [
    "# Filtering the 'new_page' entry in the 'landing_page' column then assigning it to a variable\n",
    "newpage_converted = df2.query(\"landing_page == 'new_page'\")\n",
    "\n",
    "# Checking the filtered dataframe\n",
    "newpage_converted.head()"
   ]
  },
  {
   "cell_type": "code",
   "execution_count": 27,
   "metadata": {},
   "outputs": [
    {
     "name": "stdout",
     "output_type": "stream",
     "text": [
      "0.5001\n"
     ]
    }
   ],
   "source": [
    "# Calculating the answer\n",
    "print(round(newpage_converted.shape[0]/df2.shape[0],4))"
   ]
  },
  {
   "cell_type": "markdown",
   "metadata": {},
   "source": [
    "According to the results the probability of an individual receiving the new page is 0.5001, so half."
   ]
  },
  {
   "cell_type": "markdown",
   "metadata": {},
   "source": [
    "e. Consider your results from a. through d. above, and explain below whether you think there is sufficient evidence to say that the new treatment page leads to more conversions."
   ]
  },
  {
   "cell_type": "markdown",
   "metadata": {},
   "source": [
    "**Answer:** From our results, we can see that changing the group or the page had a negligable difference to the probability the individual would convert. We saw a 12% baseline conversion rate when the page was disregarded in (a). We also saw a 0.08% increase in conversions when the 'control' group was filtered (b), then 0.16% decrease when the 'treatment' group was filtered (c). Each test shows that the conversion rate did not change enough to make me believe that there is sufficient evidence to say that the new treatment page leads to more conversions. Also, because the new page and old page got 50/50 exposure to the individuals (d), the results can be deemed fair."
   ]
  },
  {
   "cell_type": "markdown",
   "metadata": {},
   "source": [
    "<a id='ab_test'></a>\n",
    "### Part II - A/B Test\n",
    "\n",
    "Notice that because of the time stamp associated with each event, you could technically run a hypothesis test continuously as each observation was observed.  \n",
    "\n",
    "However, then the hard question is do you stop as soon as one page is considered significantly better than another or does it need to happen consistently for a certain amount of time?  How long do you run to render a decision that neither page is better than another?  \n",
    "\n",
    "These questions are the difficult parts associated with A/B tests in general.  \n",
    "\n",
    "\n",
    "`1.` For now, consider you need to make the decision just based on all the data provided.  If you want to assume that the old page is better unless the new page proves to be definitely better at a Type I error rate of 5%, what should your null and alternative hypotheses be?  You can state your hypothesis in terms of words or in terms of **$p_{old}$** and **$p_{new}$**, which are the converted rates for the old and new pages."
   ]
  },
  {
   "cell_type": "markdown",
   "metadata": {},
   "source": [
    "#### Part IIA - Hypothesis"
   ]
  },
  {
   "cell_type": "markdown",
   "metadata": {},
   "source": [
    "$H_0: Pold \\ge Pnew$\n",
    "\n",
    "The Null Hypothesis states the probability of users who convert from the old landing page 'old_page' is equal to or greater than the probability of users who convert from the new landing page 'new_page'.\n",
    "\n",
    "$H_1: Pold<Pnew$ \n",
    "\n",
    "The Alternative Hypothesis states the probability of users who convert from the new landing page 'new_page' is equal to or greater than the probability of users who convert from the old landing page 'old_page'.\n",
    "\n",
    "**Note:** \n",
    "* $p_{old}$ and $p_{new}$ are the converted rates for the old page and new page respectively. \n",
    "* $H_0$ is our null hypothesis and is assumed to be true before using data, $H_1$ is our alternative hypothesis."
   ]
  },
  {
   "cell_type": "markdown",
   "metadata": {},
   "source": [
    "#### Part IIB - Sampling Distribution for Convert Rates"
   ]
  },
  {
   "cell_type": "markdown",
   "metadata": {},
   "source": [
    "`2.` Assume under the null hypothesis, $p_{new}$ and $p_{old}$ both have \"true\" success rates equal to the **converted** success rate regardless of page - that is $p_{new}$ and $p_{old}$ are equal. Furthermore, assume they are equal to the **converted** rate in **ab_data.csv** regardless of the page. <br><br>\n",
    "\n",
    "Use a sample size for each page equal to the ones in **ab_data.csv**.  <br><br>\n",
    "\n",
    "Perform the sampling distribution for the difference in **converted** between the two pages over 10,000 iterations of calculating an estimate from the null.  <br><br>\n",
    "\n",
    "Use the cells below to provide the necessary parts of this simulation.  If this doesn't make complete sense right now, don't worry - you are going to work through the problems below to complete this problem.  You can use **Quiz 5** in the classroom to make sure you are on the right track.<br><br>"
   ]
  },
  {
   "cell_type": "markdown",
   "metadata": {},
   "source": [
    "a. What is the **convert rate** for $p_{new}$ under the null? "
   ]
  },
  {
   "cell_type": "code",
   "execution_count": 28,
   "metadata": {},
   "outputs": [
    {
     "name": "stdout",
     "output_type": "stream",
     "text": [
      "0.1196\n"
     ]
    }
   ],
   "source": [
    "# null_p_new 'treatment' convert rate\n",
    "null_p_new = (df2['converted'] == 1).mean() \n",
    "\n",
    "print(round(null_p_new,4))"
   ]
  },
  {
   "cell_type": "markdown",
   "metadata": {},
   "source": [
    "b. What is the **convert rate** for $p_{old}$ under the null? <br>"
   ]
  },
  {
   "cell_type": "code",
   "execution_count": 29,
   "metadata": {},
   "outputs": [
    {
     "name": "stdout",
     "output_type": "stream",
     "text": [
      "0.1196\n"
     ]
    }
   ],
   "source": [
    "# null_p_old 'control' convert rate\n",
    "null_p_old = null_p_new\n",
    "\n",
    "print(round(null_p_old,4))"
   ]
  },
  {
   "cell_type": "markdown",
   "metadata": {},
   "source": [
    "c. What is $n_{new}$?"
   ]
  },
  {
   "cell_type": "code",
   "execution_count": 30,
   "metadata": {
    "scrolled": true
   },
   "outputs": [
    {
     "name": "stdout",
     "output_type": "stream",
     "text": [
      "There are 145,310 samples in the treatment group.\n"
     ]
    }
   ],
   "source": [
    "# n_new is the total sample size of the new landing page\n",
    "n_new = df2.query('landing_page == \"new_page\"').shape[0]\n",
    "print('There are', \"{:,}\".format(n_new),'samples in the treatment group.')"
   ]
  },
  {
   "cell_type": "markdown",
   "metadata": {},
   "source": [
    "d. What is $n_{old}$?"
   ]
  },
  {
   "cell_type": "code",
   "execution_count": 31,
   "metadata": {},
   "outputs": [
    {
     "name": "stdout",
     "output_type": "stream",
     "text": [
      "There are 145,274 samples in the control group.\n"
     ]
    }
   ],
   "source": [
    "# n_new is the total sample size of the old landing page\n",
    "n_old = df2.query('landing_page == \"old_page\"').shape[0]\n",
    "print('There are', \"{:,}\".format(n_old),'samples in the control group.')"
   ]
  },
  {
   "cell_type": "markdown",
   "metadata": {},
   "source": [
    "There are 145,273 are in the control group."
   ]
  },
  {
   "cell_type": "markdown",
   "metadata": {},
   "source": [
    "e. Simulate $n_{new}$ transactions with a convert rate of $p_{new}$ under the null.  Store these $n_{new}$ 1's and 0's in **new_page_converted**."
   ]
  },
  {
   "cell_type": "code",
   "execution_count": 32,
   "metadata": {},
   "outputs": [],
   "source": [
    "# Simulating n_new transactions with a convert rate of null_p_new\n",
    "# n = converted number, p = conversion rate, size = sample size\n",
    "new_page_converted = np.random.binomial(n = 1, p = null_p_new, size = n_new) "
   ]
  },
  {
   "cell_type": "markdown",
   "metadata": {},
   "source": [
    "f. Simulate $n_{old}$ transactions with a convert rate of $p_{old}$ under the null.  Store these $n_{old}$ 1's and 0's in **old_page_converted**."
   ]
  },
  {
   "cell_type": "code",
   "execution_count": 33,
   "metadata": {},
   "outputs": [],
   "source": [
    "# Simulating n_old transactions with a convert rate of null_p_old\n",
    "# n = converted number, p = conversion rate, size = sample size\n",
    "old_page_converted = np.random.binomial(n = 1, p = null_p_old, size = n_old)"
   ]
  },
  {
   "cell_type": "markdown",
   "metadata": {},
   "source": [
    "g. Find $p_{new}$ - $p_{old}$ for your simulated values from part (e) and (f)."
   ]
  },
  {
   "cell_type": "code",
   "execution_count": 34,
   "metadata": {},
   "outputs": [
    {
     "name": "stdout",
     "output_type": "stream",
     "text": [
      "0.001\n"
     ]
    }
   ],
   "source": [
    "# Using .mean of each group then subtracting them to find the p_new - p_old value\n",
    "p_difference = new_page_converted.mean() - old_page_converted.mean()\n",
    "\n",
    "print(round(p_difference,4))"
   ]
  },
  {
   "cell_type": "markdown",
   "metadata": {},
   "source": [
    "h. Simulate 10,000 $p_{new}$ - $p_{old}$ values using this same process similarly to the one you calculated in parts **a. through g.** above.  Store all 10,000 values in a numpy array called **p_diffs**."
   ]
  },
  {
   "cell_type": "code",
   "execution_count": 35,
   "metadata": {},
   "outputs": [
    {
     "data": {
      "text/plain": [
       "array([ 0.00164974,  0.00113357, -0.00053188, ...,  0.00160819,\n",
       "       -0.00086943,  0.00036265])"
      ]
     },
     "execution_count": 35,
     "metadata": {},
     "output_type": "execute_result"
    }
   ],
   "source": [
    "# Creating 10,000 simulations of Pnew - Pold and assigning them to variables, then dividing them by their sample sizes\n",
    "new_converted_simulated = np.random.binomial(n = n_new, p = null_p_new, size = 10000)/n_new # 145310 samples\n",
    "old_converted_simulated = np.random.binomial(n = n_old, p = null_p_old, size = 10000)/n_old # 145274 samples\n",
    "\n",
    "# Applying a variable to the difference in convert rates between the groups\n",
    "p_diffs = new_converted_simulated - old_converted_simulated\n",
    "\n",
    "# Reading our new array\n",
    "p_diffs"
   ]
  },
  {
   "cell_type": "code",
   "execution_count": 36,
   "metadata": {},
   "outputs": [
    {
     "name": "stdout",
     "output_type": "stream",
     "text": [
      "p_diffs Standard Deviation: 0.0012184748026115395 \n",
      "p_diffs Mean: -8.796601872536021e-06\n"
     ]
    }
   ],
   "source": [
    "# Calculating the mean and standard deviation of the sampling distribution then assigning them to variables\n",
    "p_diffs_std = np.array(p_diffs).std()\n",
    "p_diffs_mean = np.array(p_diffs).mean()\n",
    "\n",
    "# Calculation\n",
    "print('p_diffs Standard Deviation:',p_diffs_std, '\\np_diffs Mean:', p_diffs_mean)"
   ]
  },
  {
   "cell_type": "markdown",
   "metadata": {},
   "source": [
    "i. Plot a histogram of the **p_diffs**.  Does this plot look like what you expected?  Use the matching problem in the classroom to assure you fully understand what was computed here."
   ]
  },
  {
   "cell_type": "code",
   "execution_count": 37,
   "metadata": {},
   "outputs": [
    {
     "data": {
      "text/plain": [
       "(array([  12.,  104.,  498., 1569., 2750., 2707., 1634.,  598.,  120.,\n",
       "           8.]),\n",
       " array([-4.60675456e-03, -3.69341552e-03, -2.78007647e-03, -1.86673742e-03,\n",
       "        -9.53398375e-04, -4.00593281e-05,  8.73279719e-04,  1.78661877e-03,\n",
       "         2.69995781e-03,  3.61329686e-03,  4.52663591e-03]),\n",
       " <a list of 10 Patch objects>)"
      ]
     },
     "execution_count": 37,
     "metadata": {},
     "output_type": "execute_result"
    },
    {
     "data": {
      "image/png": "[encoded data removed]",
      "text/plain": [
       "<Figure size 432x288 with 1 Axes>"
      ]
     },
     "metadata": {
      "needs_background": "light"
     },
     "output_type": "display_data"
    }
   ],
   "source": [
    "# Plotting our histogram, the results can vary slightly based on each run\n",
    "\n",
    "# Title\n",
    "plt.title('Sampling Distribution for 10,000 Simulations of \\n Convert Rates between Treatment & Control Groups', fontsize = 16)\n",
    "\n",
    "# Labels\n",
    "plt.ylabel('Count', fontsize = 15)\n",
    "plt.xlabel('Difference in Convert Rates', fontsize = 15);\n",
    "\n",
    "# Plotting the histogram\n",
    "plt.hist(x = p_diffs, color = 'orange')"
   ]
  },
  {
   "cell_type": "markdown",
   "metadata": {},
   "source": [
    "#### Part IIC - Using the P-Value"
   ]
  },
  {
   "cell_type": "markdown",
   "metadata": {},
   "source": [
    "j. What proportion of the **p_diffs** are greater than the actual difference observed in **ab_data.csv**?"
   ]
  },
  {
   "cell_type": "code",
   "execution_count": 38,
   "metadata": {},
   "outputs": [
    {
     "name": "stdout",
     "output_type": "stream",
     "text": [
      "-0.002\n"
     ]
    }
   ],
   "source": [
    "# Assigning the probability of a user in the each group converting to 'actual_p'\n",
    "actual_p_old = control_converted.converted.mean()\n",
    "actual_p_new = treatment_converted.converted.mean()\n",
    "\n",
    "# Calculating the actual difference in convert rates between the two groups\n",
    "actual_p_diff = actual_p_new - actual_p_old\n",
    "print(round(actual_p_diff, 3))"
   ]
  },
  {
   "cell_type": "code",
   "execution_count": 39,
   "metadata": {},
   "outputs": [
    {
     "name": "stdout",
     "output_type": "stream",
     "text": [
      "-0.16 %\n"
     ]
    }
   ],
   "source": [
    "# Difference in percentage\n",
    "print(round(actual_p_diff, 4)*100,'%')"
   ]
  },
  {
   "cell_type": "code",
   "execution_count": 40,
   "metadata": {},
   "outputs": [
    {
     "data": {
      "text/plain": [
       "0.9008"
      ]
     },
     "execution_count": 40,
     "metadata": {},
     "output_type": "execute_result"
    }
   ],
   "source": [
    "# Assigning the proportion of sampled differences 'p_diffs' greater than the actual difference to a variable 'p_value'\n",
    "p_value = (p_diffs > actual_p_diff).mean()\n",
    "p_value"
   ]
  },
  {
   "cell_type": "code",
   "execution_count": 41,
   "metadata": {},
   "outputs": [
    {
     "data": {
      "image/png": "[encoded data removed]",
      "text/plain": [
       "<Figure size 432x288 with 1 Axes>"
      ]
     },
     "metadata": {
      "needs_background": "light"
     },
     "output_type": "display_data"
    }
   ],
   "source": [
    "# Plotting our histogram with axvline for 'actual_p_diff'\n",
    "\n",
    "# Title\n",
    "plt.title('Sampling Distribution for 10,000 Simulations of \\n Convert Rates between Treatment & Control Groups', fontsize = 16)\n",
    "\n",
    "# Labels\n",
    "plt.ylabel('Count', fontsize = 15)\n",
    "plt.xlabel('Difference in Convert Rates', fontsize = 15);\n",
    "\n",
    "# Plotting the histogram\n",
    "plt.hist(x = p_diffs, color = 'orange')\n",
    "\n",
    "# Axvline\n",
    "plt.axvline(x = actual_p_diff, color = 'grey', label = 'Actual. Diff. : {}%'.format(round(actual_p_diff*100, 3)))\n",
    "\n",
    "plt.legend(loc='upper right');"
   ]
  },
  {
   "cell_type": "markdown",
   "metadata": {},
   "source": [
    "k. In words, explain what you just computed in part **j.**  What is this value called in scientific studies?  What does this value mean in terms of whether or not there is a difference between the new and old pages?"
   ]
  },
  {
   "cell_type": "markdown",
   "metadata": {},
   "source": [
    "**Answer:** I assigned the variable of 'actual_p_old' and 'actual_p_new' to the conversion rates of the original samples from the control and treatment groups. Next, I used a new variable 'p_value' to calculate the difference between the two previous variables I created. The p-value is a number, calculated from our statistical test, in our case 'p_diffs'. The p-value describes how likely we are to find a specific set of observations if the null hypothesis or $H_0$ were true. From our results we can conclude there would be just a 0.16% difference between the conversion rates new and old pages. Also, according to the p_value being 0.9 or 90% (shown on the right hand side of the axvline). This exceeds the tolerance for our 'Type I Error Rate' of 0.05 or 5%, so there is not enough evidence to reject the null hypothesis. Our conclusion is the convert rate of users from the old page is equal to or larger than that of users in the new page."
   ]
  },
  {
   "cell_type": "markdown",
   "metadata": {},
   "source": []
  },
  {
   "cell_type": "markdown",
   "metadata": {},
   "source": [
    "l. We could also use a built-in to achieve similar results.  Though using the built-in might be easier to code, the above portions are a walkthrough of the ideas that are critical to correctly thinking about statistical significance. Fill in the below to calculate the number of conversions for each page, as well as the number of individuals who received each page. Let `n_old` and `n_new` refer the the number of rows associated with the old page and new pages, respectively."
   ]
  },
  {
   "cell_type": "code",
   "execution_count": 42,
   "metadata": {},
   "outputs": [],
   "source": [
    "convert_old = (df2.query('landing_page == \"old_page\"')['converted'] == 1).sum()\n",
    "convert_new = (df2.query('landing_page == \"new_page\"')['converted'] == 1).sum()\n",
    "n_old = df2.query('landing_page == \"old_page\"')['converted'].shape[0]\n",
    "n_new = df2.query('landing_page == \"new_page\"')['converted'].shape[0]"
   ]
  },
  {
   "cell_type": "markdown",
   "metadata": {},
   "source": [
    "#### Part IID - Two-Sample Z-Test"
   ]
  },
  {
   "cell_type": "markdown",
   "metadata": {},
   "source": [
    "m. Now use `stats.proportions_ztest` to compute your test statistic and p-value.  [Here](http://knowledgetack.com/python/statsmodels/proportions_ztest/) is a helpful link on using the built in."
   ]
  },
  {
   "cell_type": "markdown",
   "metadata": {},
   "source": [
    "**Method:** We will use a Two-sample Z-Test to compute our test statistic for Z-Score and P-Value."
   ]
  },
  {
   "cell_type": "code",
   "execution_count": 43,
   "metadata": {},
   "outputs": [
    {
     "name": "stdout",
     "output_type": "stream",
     "text": [
      "Z-Score: 1.3109241984234394 \n",
      "P-Value: 0.9050583127590245\n"
     ]
    }
   ],
   "source": [
    "# Importing the statmodels library to calculate the Z-Score and P-Value for Z-Test\n",
    "import statsmodels.api as sm\n",
    "\n",
    "# Assigning a variable to ztest, n_old and n_new are the number of rows associated with the old and new pages respectively\n",
    "z_score, p_value_test = sm.stats.proportions_ztest([convert_old, convert_new], [n_old, n_new], alternative='smaller')\n",
    "\n",
    "# Printing the Z-Test results with labels\n",
    "print('Z-Score:', z_score, '\\nP-Value:', p_value_test)"
   ]
  },
  {
   "cell_type": "code",
   "execution_count": 44,
   "metadata": {},
   "outputs": [
    {
     "name": "stdout",
     "output_type": "stream",
     "text": [
      "Z-Score from Sampling Distribution: 1.2880384396289997 \n",
      "P-Value: 0.9050583127590245\n"
     ]
    }
   ],
   "source": [
    "# Computing our Z-score and P-Value from sampling distribution for our Two-sample Z-Test\n",
    "z_score_2 = (p_diffs_mean - actual_p_diff) / p_diffs_std\n",
    "z_score_2, p_value_test\n",
    "\n",
    "# Printing the Z-Test 2 results with labels\n",
    "print('Z-Score from Sampling Distribution:', z_score_2, '\\nP-Value:', p_value_test)"
   ]
  },
  {
   "cell_type": "markdown",
   "metadata": {},
   "source": [
    "n. What do the z-score and p-value you computed in the previous question mean for the conversion rates of the old and new pages?  Do they agree with the findings in parts **j.** and **k.**?"
   ]
  },
  {
   "cell_type": "markdown",
   "metadata": {},
   "source": [
    "**Answer:** The P-Value is 0.9 which is clearly larger than 0.05, the Type I Error Rate. This is the same as the P-Value in part **j**. The Z-Scores from using the ztest and sampling distribution are similar at 1.310 and 1.316, so we can not reject the null hypothesis.\n",
    "\n",
    "**Conclusion:**\n",
    "The results from parts **j.** and **k.** are the same as the results from our Two-Sample Z-Test. Based on this, there is still no evidence to reject the null hypothesis. The conclusion is that the conversion rates of the new page are not larger than that of the old page. For the null hypothesis to be true, the conversion rate of the old page must be equal to or larger than the conversion rate of the new page."
   ]
  },
  {
   "cell_type": "markdown",
   "metadata": {},
   "source": [
    "<a id='regression'></a>\n",
    "### Part III - A regression approach\n",
    "\n",
    "`1.` In this final part, you will see that the result you acheived in the previous A/B test can also be acheived by performing regression.<br><br>\n",
    "\n",
    "a. Since each row is either a conversion or no conversion, what type of regression should you be performing in this case?"
   ]
  },
  {
   "cell_type": "markdown",
   "metadata": {},
   "source": [
    "#### Part IIIA - Comparing Conversion vs Landing Page"
   ]
  },
  {
   "cell_type": "markdown",
   "metadata": {},
   "source": [
    "**Answer:** We should use Binary Logistic Regression since there are just two variables to compare, whether or not the new landing page increased conversions. Logistic regression is a well-known statistical method for predicting binary classes such as conversions of a landing page.\n",
    "\n",
    "Linear regression is good for things like house prices and stock prices since it gives us a continous output. However, this would not be helpful in our case since we are using binary classes."
   ]
  },
  {
   "cell_type": "markdown",
   "metadata": {},
   "source": [
    "b. The goal is to use **statsmodels** to fit the regression model you specified in part **a.** to see if there is a significant difference in conversion based on which page a customer receives.  However, you first need to create a column for the intercept, and create a dummy variable column for which page each user received.  Add an **intercept** column, as well as an **ab_page** column, which is 1 when an individual receives the **treatment** and 0 if **control**."
   ]
  },
  {
   "cell_type": "code",
   "execution_count": 45,
   "metadata": {},
   "outputs": [
    {
     "data": {
      "text/html": [
       "<div>\n",
       "<style scoped>\n",
       "    .dataframe tbody tr th:only-of-type {\n",
       "        vertical-align: middle;\n",
       "    }\n",
       "\n",
       "    .dataframe tbody tr th {\n",
       "        vertical-align: top;\n",
       "    }\n",
       "\n",
       "    .dataframe thead th {\n",
       "        text-align: right;\n",
       "    }\n",
       "</style>\n",
       "<table border=\"1\" class=\"dataframe\">\n",
       "  <thead>\n",
       "    <tr style=\"text-align: right;\">\n",
       "      <th></th>\n",
       "      <th>user_id</th>\n",
       "      <th>timestamp</th>\n",
       "      <th>group</th>\n",
       "      <th>landing_page</th>\n",
       "      <th>converted</th>\n",
       "    </tr>\n",
       "  </thead>\n",
       "  <tbody>\n",
       "    <tr>\n",
       "      <th>0</th>\n",
       "      <td>851104</td>\n",
       "      <td>2017-01-21 22:11:48.556739</td>\n",
       "      <td>control</td>\n",
       "      <td>old_page</td>\n",
       "      <td>0</td>\n",
       "    </tr>\n",
       "    <tr>\n",
       "      <th>1</th>\n",
       "      <td>804228</td>\n",
       "      <td>2017-01-12 08:01:45.159739</td>\n",
       "      <td>control</td>\n",
       "      <td>old_page</td>\n",
       "      <td>0</td>\n",
       "    </tr>\n",
       "    <tr>\n",
       "      <th>2</th>\n",
       "      <td>661590</td>\n",
       "      <td>2017-01-11 16:55:06.154213</td>\n",
       "      <td>treatment</td>\n",
       "      <td>new_page</td>\n",
       "      <td>0</td>\n",
       "    </tr>\n",
       "    <tr>\n",
       "      <th>3</th>\n",
       "      <td>853541</td>\n",
       "      <td>2017-01-08 18:28:03.143765</td>\n",
       "      <td>treatment</td>\n",
       "      <td>new_page</td>\n",
       "      <td>0</td>\n",
       "    </tr>\n",
       "    <tr>\n",
       "      <th>4</th>\n",
       "      <td>864975</td>\n",
       "      <td>2017-01-21 01:52:26.210827</td>\n",
       "      <td>control</td>\n",
       "      <td>old_page</td>\n",
       "      <td>1</td>\n",
       "    </tr>\n",
       "  </tbody>\n",
       "</table>\n",
       "</div>"
      ],
      "text/plain": [
       "   user_id                   timestamp      group landing_page  converted\n",
       "0   851104  2017-01-21 22:11:48.556739    control     old_page          0\n",
       "1   804228  2017-01-12 08:01:45.159739    control     old_page          0\n",
       "2   661590  2017-01-11 16:55:06.154213  treatment     new_page          0\n",
       "3   853541  2017-01-08 18:28:03.143765  treatment     new_page          0\n",
       "4   864975  2017-01-21 01:52:26.210827    control     old_page          1"
      ]
     },
     "execution_count": 45,
     "metadata": {},
     "output_type": "execute_result"
    }
   ],
   "source": [
    "# Assigning a copy of the latest dataframe to 'df_reg' \n",
    "df_reg = df2.copy()\n",
    "df_reg.head()"
   ]
  },
  {
   "cell_type": "code",
   "execution_count": 46,
   "metadata": {
    "scrolled": true
   },
   "outputs": [
    {
     "data": {
      "text/html": [
       "<div>\n",
       "<style scoped>\n",
       "    .dataframe tbody tr th:only-of-type {\n",
       "        vertical-align: middle;\n",
       "    }\n",
       "\n",
       "    .dataframe tbody tr th {\n",
       "        vertical-align: top;\n",
       "    }\n",
       "\n",
       "    .dataframe thead th {\n",
       "        text-align: right;\n",
       "    }\n",
       "</style>\n",
       "<table border=\"1\" class=\"dataframe\">\n",
       "  <thead>\n",
       "    <tr style=\"text-align: right;\">\n",
       "      <th></th>\n",
       "      <th>user_id</th>\n",
       "      <th>timestamp</th>\n",
       "      <th>group</th>\n",
       "      <th>landing_page</th>\n",
       "      <th>converted</th>\n",
       "      <th>intercept</th>\n",
       "    </tr>\n",
       "  </thead>\n",
       "  <tbody>\n",
       "    <tr>\n",
       "      <th>0</th>\n",
       "      <td>851104</td>\n",
       "      <td>2017-01-21 22:11:48.556739</td>\n",
       "      <td>control</td>\n",
       "      <td>old_page</td>\n",
       "      <td>0</td>\n",
       "      <td>1</td>\n",
       "    </tr>\n",
       "    <tr>\n",
       "      <th>1</th>\n",
       "      <td>804228</td>\n",
       "      <td>2017-01-12 08:01:45.159739</td>\n",
       "      <td>control</td>\n",
       "      <td>old_page</td>\n",
       "      <td>0</td>\n",
       "      <td>1</td>\n",
       "    </tr>\n",
       "    <tr>\n",
       "      <th>2</th>\n",
       "      <td>661590</td>\n",
       "      <td>2017-01-11 16:55:06.154213</td>\n",
       "      <td>treatment</td>\n",
       "      <td>new_page</td>\n",
       "      <td>0</td>\n",
       "      <td>1</td>\n",
       "    </tr>\n",
       "    <tr>\n",
       "      <th>3</th>\n",
       "      <td>853541</td>\n",
       "      <td>2017-01-08 18:28:03.143765</td>\n",
       "      <td>treatment</td>\n",
       "      <td>new_page</td>\n",
       "      <td>0</td>\n",
       "      <td>1</td>\n",
       "    </tr>\n",
       "    <tr>\n",
       "      <th>4</th>\n",
       "      <td>864975</td>\n",
       "      <td>2017-01-21 01:52:26.210827</td>\n",
       "      <td>control</td>\n",
       "      <td>old_page</td>\n",
       "      <td>1</td>\n",
       "      <td>1</td>\n",
       "    </tr>\n",
       "  </tbody>\n",
       "</table>\n",
       "</div>"
      ],
      "text/plain": [
       "   user_id                   timestamp      group landing_page  converted  \\\n",
       "0   851104  2017-01-21 22:11:48.556739    control     old_page          0   \n",
       "1   804228  2017-01-12 08:01:45.159739    control     old_page          0   \n",
       "2   661590  2017-01-11 16:55:06.154213  treatment     new_page          0   \n",
       "3   853541  2017-01-08 18:28:03.143765  treatment     new_page          0   \n",
       "4   864975  2017-01-21 01:52:26.210827    control     old_page          1   \n",
       "\n",
       "   intercept  \n",
       "0          1  \n",
       "1          1  \n",
       "2          1  \n",
       "3          1  \n",
       "4          1  "
      ]
     },
     "execution_count": 46,
     "metadata": {},
     "output_type": "execute_result"
    }
   ],
   "source": [
    "# Adding the intercept column to the new dataframe copy with a value of 1\n",
    "df_reg['intercept'] = 1\n",
    "df_reg.head()"
   ]
  },
  {
   "cell_type": "code",
   "execution_count": 47,
   "metadata": {},
   "outputs": [
    {
     "data": {
      "text/html": [
       "<div>\n",
       "<style scoped>\n",
       "    .dataframe tbody tr th:only-of-type {\n",
       "        vertical-align: middle;\n",
       "    }\n",
       "\n",
       "    .dataframe tbody tr th {\n",
       "        vertical-align: top;\n",
       "    }\n",
       "\n",
       "    .dataframe thead th {\n",
       "        text-align: right;\n",
       "    }\n",
       "</style>\n",
       "<table border=\"1\" class=\"dataframe\">\n",
       "  <thead>\n",
       "    <tr style=\"text-align: right;\">\n",
       "      <th></th>\n",
       "      <th>user_id</th>\n",
       "      <th>timestamp</th>\n",
       "      <th>group</th>\n",
       "      <th>landing_page</th>\n",
       "      <th>converted</th>\n",
       "      <th>intercept</th>\n",
       "      <th>ab_page</th>\n",
       "    </tr>\n",
       "  </thead>\n",
       "  <tbody>\n",
       "    <tr>\n",
       "      <th>0</th>\n",
       "      <td>851104</td>\n",
       "      <td>2017-01-21 22:11:48.556739</td>\n",
       "      <td>control</td>\n",
       "      <td>old_page</td>\n",
       "      <td>0</td>\n",
       "      <td>1</td>\n",
       "      <td>0</td>\n",
       "    </tr>\n",
       "    <tr>\n",
       "      <th>1</th>\n",
       "      <td>804228</td>\n",
       "      <td>2017-01-12 08:01:45.159739</td>\n",
       "      <td>control</td>\n",
       "      <td>old_page</td>\n",
       "      <td>0</td>\n",
       "      <td>1</td>\n",
       "      <td>0</td>\n",
       "    </tr>\n",
       "    <tr>\n",
       "      <th>2</th>\n",
       "      <td>661590</td>\n",
       "      <td>2017-01-11 16:55:06.154213</td>\n",
       "      <td>treatment</td>\n",
       "      <td>new_page</td>\n",
       "      <td>0</td>\n",
       "      <td>1</td>\n",
       "      <td>1</td>\n",
       "    </tr>\n",
       "  </tbody>\n",
       "</table>\n",
       "</div>"
      ],
      "text/plain": [
       "   user_id                   timestamp      group landing_page  converted  \\\n",
       "0   851104  2017-01-21 22:11:48.556739    control     old_page          0   \n",
       "1   804228  2017-01-12 08:01:45.159739    control     old_page          0   \n",
       "2   661590  2017-01-11 16:55:06.154213  treatment     new_page          0   \n",
       "\n",
       "   intercept  ab_page  \n",
       "0          1        0  \n",
       "1          1        0  \n",
       "2          1        1  "
      ]
     },
     "execution_count": 47,
     "metadata": {},
     "output_type": "execute_result"
    }
   ],
   "source": [
    "# Creating our dummy variable column which counts if the user is shown the new page and 0 for the old page\n",
    "ab_dummy = pd.get_dummies(data = df_reg['landing_page'])['new_page']\n",
    "\n",
    "# Joining the dummy column to our new dataframe\n",
    "df_reg = df_reg.join(ab_dummy)\n",
    "\n",
    "# Renaming our new column to 'ab_page'\n",
    "df_reg.rename(columns = {'new_page':'ab_page'}, inplace = True)\n",
    "\n",
    "# Displaying our finished dataframe\n",
    "df_reg.head(3)"
   ]
  },
  {
   "cell_type": "markdown",
   "metadata": {},
   "source": [
    "c. Use **statsmodels** to import your regression model.  Instantiate the model, and fit the model using the two columns you created in part **b.** to predict whether or not an individual converts."
   ]
  },
  {
   "cell_type": "code",
   "execution_count": 48,
   "metadata": {},
   "outputs": [
    {
     "name": "stdout",
     "output_type": "stream",
     "text": [
      "Optimization terminated successfully.\n",
      "         Current function value: 0.366118\n",
      "         Iterations 6\n"
     ]
    }
   ],
   "source": [
    "# Creating a logistic regression model for conversion vs page.\n",
    "logr_mod = sm.Logit(df_reg['converted'], df_reg[['intercept', 'ab_page']])\n",
    "results = logr_mod.fit()"
   ]
  },
  {
   "cell_type": "markdown",
   "metadata": {},
   "source": [
    "d. Provide the summary of your model below, and use it as necessary to answer the following questions."
   ]
  },
  {
   "cell_type": "code",
   "execution_count": 49,
   "metadata": {},
   "outputs": [
    {
     "data": {
      "text/html": [
       "<table class=\"simpletable\">\n",
       "<caption>Logit Regression Results</caption>\n",
       "<tr>\n",
       "  <th>Dep. Variable:</th>       <td>converted</td>    <th>  No. Observations:  </th>   <td>290584</td>   \n",
       "</tr>\n",
       "<tr>\n",
       "  <th>Model:</th>                 <td>Logit</td>      <th>  Df Residuals:      </th>   <td>290582</td>   \n",
       "</tr>\n",
       "<tr>\n",
       "  <th>Method:</th>                 <td>MLE</td>       <th>  Df Model:          </th>   <td>     1</td>   \n",
       "</tr>\n",
       "<tr>\n",
       "  <th>Date:</th>            <td>Mon, 28 Dec 2020</td> <th>  Pseudo R-squ.:     </th>  <td>8.077e-06</td> \n",
       "</tr>\n",
       "<tr>\n",
       "  <th>Time:</th>                <td>22:05:07</td>     <th>  Log-Likelihood:    </th> <td>-1.0639e+05</td>\n",
       "</tr>\n",
       "<tr>\n",
       "  <th>converged:</th>             <td>True</td>       <th>  LL-Null:           </th> <td>-1.0639e+05</td>\n",
       "</tr>\n",
       "<tr>\n",
       "  <th>Covariance Type:</th>     <td>nonrobust</td>    <th>  LLR p-value:       </th>   <td>0.1899</td>   \n",
       "</tr>\n",
       "</table>\n",
       "<table class=\"simpletable\">\n",
       "<tr>\n",
       "      <td></td>         <th>coef</th>     <th>std err</th>      <th>z</th>      <th>P>|z|</th>  <th>[0.025</th>    <th>0.975]</th>  \n",
       "</tr>\n",
       "<tr>\n",
       "  <th>intercept</th> <td>   -1.9888</td> <td>    0.008</td> <td> -246.669</td> <td> 0.000</td> <td>   -2.005</td> <td>   -1.973</td>\n",
       "</tr>\n",
       "<tr>\n",
       "  <th>ab_page</th>   <td>   -0.0150</td> <td>    0.011</td> <td>   -1.311</td> <td> 0.190</td> <td>   -0.037</td> <td>    0.007</td>\n",
       "</tr>\n",
       "</table>"
      ],
      "text/plain": [
       "<class 'statsmodels.iolib.summary.Summary'>\n",
       "\"\"\"\n",
       "                           Logit Regression Results                           \n",
       "==============================================================================\n",
       "Dep. Variable:              converted   No. Observations:               290584\n",
       "Model:                          Logit   Df Residuals:                   290582\n",
       "Method:                           MLE   Df Model:                            1\n",
       "Date:                Mon, 28 Dec 2020   Pseudo R-squ.:               8.077e-06\n",
       "Time:                        22:05:07   Log-Likelihood:            -1.0639e+05\n",
       "converged:                       True   LL-Null:                   -1.0639e+05\n",
       "Covariance Type:            nonrobust   LLR p-value:                    0.1899\n",
       "==============================================================================\n",
       "                 coef    std err          z      P>|z|      [0.025      0.975]\n",
       "------------------------------------------------------------------------------\n",
       "intercept     -1.9888      0.008   -246.669      0.000      -2.005      -1.973\n",
       "ab_page       -0.0150      0.011     -1.311      0.190      -0.037       0.007\n",
       "==============================================================================\n",
       "\"\"\""
      ]
     },
     "execution_count": 49,
     "metadata": {},
     "output_type": "execute_result"
    }
   ],
   "source": [
    "# Creating our model\n",
    "results.summary()"
   ]
  },
  {
   "cell_type": "code",
   "execution_count": 50,
   "metadata": {},
   "outputs": [
    {
     "data": {
      "text/plain": [
       "intercept    0.136863\n",
       "ab_page      0.985123\n",
       "dtype: float64"
      ]
     },
     "execution_count": 50,
     "metadata": {},
     "output_type": "execute_result"
    }
   ],
   "source": [
    "# Is a result less than 1? If so, calculate the reciprocal to change to a unit decrease. Ignore the intercept.\n",
    "\n",
    "# Showing the coef values\n",
    "np.exp(results.params)"
   ]
  },
  {
   "cell_type": "code",
   "execution_count": 51,
   "metadata": {
    "scrolled": true
   },
   "outputs": [
    {
     "name": "stdout",
     "output_type": "stream",
     "text": [
      "+1.51 % Increased Conversion Rate vs New Page\n"
     ]
    }
   ],
   "source": [
    "# Calculating the convert rate % for the old page vs the new page\n",
    "cv_rate = 1/np.exp(results.params.ab_page)*100-100 # Calculating the reciprocal for values less than 1 by adding '1/' to change to unit increase\n",
    "\n",
    "# Printing our result\n",
    "print(\"{0:+.02f}\".format(cv_rate),'%', 'Increased Conversion Rate vs New Page')"
   ]
  },
  {
   "cell_type": "markdown",
   "metadata": {},
   "source": [
    "The results from all tests including **Part II** point towards the conclusion that the new page shows no obvious improvement of conversion rates over the old page. In fact, the old page shows a 1.51% increase in conversions vs the new page holding all other variables constant. The null and alternative hypothesis associated with our regression model matches the one from **Part II** as the results from the conversion rates are similar."
   ]
  },
  {
   "cell_type": "markdown",
   "metadata": {},
   "source": [
    "e. What is the p-value associated with **ab_page**? Why does it differ from the value you found in **Part II**?<br><br>  **Hint**: What are the null and alternative hypotheses associated with your regression model, and how do they compare to the null and alternative hypotheses in the **Part II**?"
   ]
  },
  {
   "cell_type": "markdown",
   "metadata": {},
   "source": [
    "**Answer:** Our P-Value for the 'ab_page' is only 0.190 or 19%. However, it is still above the tolerance of 0.05 or 5% so the null hypothesis cannot be rejected. The reason our P-Value 'P>|z|' appears to differ from our hypothesis in **Part II** is because of the differences of the null hypothesis in logistic regression compared to Sampling Distribution and Two-Sample Z-Tests."
   ]
  },
  {
   "cell_type": "markdown",
   "metadata": {},
   "source": [
    "The definition of a P-value is the probability of observing your statistic (or one more extreme in favor of the alternative) if the null hypothesis is true. We could also verify our results using one and two-tailed tests to convert our P-Values.  \n",
    "\n",
    "**Two-Tailed Test**\n",
    "\n",
    "We need to find the proportion of more extreme values under $H_0$ by dividing the P-value from the logistic regression by 2"
   ]
  },
  {
   "cell_type": "code",
   "execution_count": 52,
   "metadata": {},
   "outputs": [
    {
     "name": "stdout",
     "output_type": "stream",
     "text": [
      "0.095\n"
     ]
    }
   ],
   "source": [
    "# Dividing the P-value from the logistic regression by 2\n",
    "print(round(results.pvalues.ab_page/2,3))"
   ]
  },
  {
   "cell_type": "markdown",
   "metadata": {},
   "source": [
    "**One-Tailed Test**\n",
    "\n",
    "We need to find the proportion of more extreme values over our statistic $H_0$ obtained from our Sampling Distribution P-Value can be viewed below:"
   ]
  },
  {
   "cell_type": "code",
   "execution_count": 53,
   "metadata": {},
   "outputs": [
    {
     "name": "stdout",
     "output_type": "stream",
     "text": [
      "0.905\n"
     ]
    }
   ],
   "source": [
    "# Printing the P-Value from our Sampling Distribution Test\n",
    "print(round(p_value_test,3))\n",
    "\n",
    "# Converting P-Value by removing more extreme values manually\n",
    "# print('Alternate calculation:', round(1-results.pvalues.ab_page/2,3))"
   ]
  },
  {
   "cell_type": "markdown",
   "metadata": {},
   "source": [
    "f. Now, you are considering other things that might influence whether or not an individual converts.  Discuss why it is a good idea to consider other factors to add into your regression model.  Are there any disadvantages to adding additional terms into your regression model?"
   ]
  },
  {
   "cell_type": "markdown",
   "metadata": {},
   "source": [
    "**Answer:** It is a good idea to consider other factors into our regression model because there might be other factors that influence a users decision to convert or not. This has the advantage of making our model more accurate and predicting better outcomes from additional variables. Disadvantages of adding more factors into our regression model could make it more difficult to manage or understand causing the process to be more time-consuming and less intuitive. "
   ]
  },
  {
   "cell_type": "markdown",
   "metadata": {},
   "source": [
    "#### Part IIIB - Comparing Conversion vs Landing Page in different Countries"
   ]
  },
  {
   "cell_type": "markdown",
   "metadata": {},
   "source": [
    "g. Now along with testing if the conversion rate changes for different pages, also add an effect based on which country a user lives. You will need to read in the **countries.csv** dataset and merge together your datasets on the approporiate rows.  [Here](https://pandas.pydata.org/pandas-docs/stable/generated/pandas.DataFrame.join.html) are the docs for joining tables. \n",
    "\n",
    "Don't forget to create dummy variables for these country columns - **Hint: You will need two columns for the three dummy variables.**"
   ]
  },
  {
   "cell_type": "code",
   "execution_count": 54,
   "metadata": {},
   "outputs": [],
   "source": [
    "countries_df = pd.read_csv('./countries.csv')\n",
    "df_new = countries_df.set_index('user_id').join(df2.set_index('user_id'), how='inner')"
   ]
  },
  {
   "cell_type": "code",
   "execution_count": 55,
   "metadata": {},
   "outputs": [
    {
     "data": {
      "text/html": [
       "<div>\n",
       "<style scoped>\n",
       "    .dataframe tbody tr th:only-of-type {\n",
       "        vertical-align: middle;\n",
       "    }\n",
       "\n",
       "    .dataframe tbody tr th {\n",
       "        vertical-align: top;\n",
       "    }\n",
       "\n",
       "    .dataframe thead th {\n",
       "        text-align: right;\n",
       "    }\n",
       "</style>\n",
       "<table border=\"1\" class=\"dataframe\">\n",
       "  <thead>\n",
       "    <tr style=\"text-align: right;\">\n",
       "      <th></th>\n",
       "      <th>user_id</th>\n",
       "      <th>country</th>\n",
       "    </tr>\n",
       "  </thead>\n",
       "  <tbody>\n",
       "    <tr>\n",
       "      <th>0</th>\n",
       "      <td>834778</td>\n",
       "      <td>UK</td>\n",
       "    </tr>\n",
       "    <tr>\n",
       "      <th>1</th>\n",
       "      <td>928468</td>\n",
       "      <td>US</td>\n",
       "    </tr>\n",
       "    <tr>\n",
       "      <th>2</th>\n",
       "      <td>822059</td>\n",
       "      <td>UK</td>\n",
       "    </tr>\n",
       "    <tr>\n",
       "      <th>3</th>\n",
       "      <td>711597</td>\n",
       "      <td>UK</td>\n",
       "    </tr>\n",
       "    <tr>\n",
       "      <th>4</th>\n",
       "      <td>710616</td>\n",
       "      <td>UK</td>\n",
       "    </tr>\n",
       "  </tbody>\n",
       "</table>\n",
       "</div>"
      ],
      "text/plain": [
       "   user_id country\n",
       "0   834778      UK\n",
       "1   928468      US\n",
       "2   822059      UK\n",
       "3   711597      UK\n",
       "4   710616      UK"
      ]
     },
     "execution_count": 55,
     "metadata": {},
     "output_type": "execute_result"
    }
   ],
   "source": [
    "# Reading the countries dataset\n",
    "countries_df.head()"
   ]
  },
  {
   "cell_type": "code",
   "execution_count": 56,
   "metadata": {},
   "outputs": [
    {
     "data": {
      "text/html": [
       "<div>\n",
       "<style scoped>\n",
       "    .dataframe tbody tr th:only-of-type {\n",
       "        vertical-align: middle;\n",
       "    }\n",
       "\n",
       "    .dataframe tbody tr th {\n",
       "        vertical-align: top;\n",
       "    }\n",
       "\n",
       "    .dataframe thead th {\n",
       "        text-align: right;\n",
       "    }\n",
       "</style>\n",
       "<table border=\"1\" class=\"dataframe\">\n",
       "  <thead>\n",
       "    <tr style=\"text-align: right;\">\n",
       "      <th></th>\n",
       "      <th>country</th>\n",
       "      <th>timestamp</th>\n",
       "      <th>group</th>\n",
       "      <th>landing_page</th>\n",
       "      <th>converted</th>\n",
       "    </tr>\n",
       "    <tr>\n",
       "      <th>user_id</th>\n",
       "      <th></th>\n",
       "      <th></th>\n",
       "      <th></th>\n",
       "      <th></th>\n",
       "      <th></th>\n",
       "    </tr>\n",
       "  </thead>\n",
       "  <tbody>\n",
       "    <tr>\n",
       "      <th>834778</th>\n",
       "      <td>UK</td>\n",
       "      <td>2017-01-14 23:08:43.304998</td>\n",
       "      <td>control</td>\n",
       "      <td>old_page</td>\n",
       "      <td>0</td>\n",
       "    </tr>\n",
       "    <tr>\n",
       "      <th>928468</th>\n",
       "      <td>US</td>\n",
       "      <td>2017-01-23 14:44:16.387854</td>\n",
       "      <td>treatment</td>\n",
       "      <td>new_page</td>\n",
       "      <td>0</td>\n",
       "    </tr>\n",
       "    <tr>\n",
       "      <th>822059</th>\n",
       "      <td>UK</td>\n",
       "      <td>2017-01-16 14:04:14.719771</td>\n",
       "      <td>treatment</td>\n",
       "      <td>new_page</td>\n",
       "      <td>1</td>\n",
       "    </tr>\n",
       "    <tr>\n",
       "      <th>711597</th>\n",
       "      <td>UK</td>\n",
       "      <td>2017-01-22 03:14:24.763511</td>\n",
       "      <td>control</td>\n",
       "      <td>old_page</td>\n",
       "      <td>0</td>\n",
       "    </tr>\n",
       "    <tr>\n",
       "      <th>710616</th>\n",
       "      <td>UK</td>\n",
       "      <td>2017-01-16 13:14:44.000513</td>\n",
       "      <td>treatment</td>\n",
       "      <td>new_page</td>\n",
       "      <td>0</td>\n",
       "    </tr>\n",
       "  </tbody>\n",
       "</table>\n",
       "</div>"
      ],
      "text/plain": [
       "        country                   timestamp      group landing_page  converted\n",
       "user_id                                                                       \n",
       "834778       UK  2017-01-14 23:08:43.304998    control     old_page          0\n",
       "928468       US  2017-01-23 14:44:16.387854  treatment     new_page          0\n",
       "822059       UK  2017-01-16 14:04:14.719771  treatment     new_page          1\n",
       "711597       UK  2017-01-22 03:14:24.763511    control     old_page          0\n",
       "710616       UK  2017-01-16 13:14:44.000513  treatment     new_page          0"
      ]
     },
     "execution_count": 56,
     "metadata": {},
     "output_type": "execute_result"
    }
   ],
   "source": [
    "# Reading the df.new variable\n",
    "df_new.head()"
   ]
  },
  {
   "cell_type": "code",
   "execution_count": 57,
   "metadata": {},
   "outputs": [
    {
     "name": "stdout",
     "output_type": "stream",
     "text": [
      "countries.df: 290584 rows\n",
      "df_reg: 290584 rows\n"
     ]
    }
   ],
   "source": [
    "# Checking if the number of rows matches our latest dataframe\n",
    "r = 'rows'\n",
    "print('countries.df:', countries_df.shape[0], r)\n",
    "print('df_reg:', df_reg.shape[0], r)"
   ]
  },
  {
   "cell_type": "code",
   "execution_count": 58,
   "metadata": {},
   "outputs": [
    {
     "name": "stdout",
     "output_type": "stream",
     "text": [
      "countries.df: 290584 unique users\n",
      "df_reg: 290584 unique users\n"
     ]
    }
   ],
   "source": [
    "# Checking if the number of unique users match our 'df_reg'\n",
    "u = 'unique users'\n",
    "\n",
    "# Filtering the results by using the 'user_id' column\n",
    "print('countries.df:', countries_df.user_id.nunique(), u)\n",
    "print('df_reg:', df_reg.user_id.nunique(), u)"
   ]
  },
  {
   "cell_type": "code",
   "execution_count": 59,
   "metadata": {},
   "outputs": [
    {
     "name": "stdout",
     "output_type": "stream",
     "text": [
      "Is the row count equal? True\n",
      "Are the unique users equal? True\n",
      "Do the rows match the number of unique users? True\n"
     ]
    }
   ],
   "source": [
    "# Finally checking if the unique users match the total row counts\n",
    "row = countries_df.shape[0] + df_reg.shape[0]\n",
    "uni = countries_df.user_id.nunique() + df_reg.user_id.nunique()\n",
    "\n",
    "# Checking the number of rows match\n",
    "print('Is the row count equal?', countries_df.shape[0] == df_reg.shape[0])\n",
    "\n",
    "# Checking the unique number of users match\n",
    "print('Are the unique users equal?', countries_df.user_id.nunique() == df_reg.user_id.nunique())\n",
    "\n",
    "# Checking the number of unique users match the number of rows\n",
    "print('Do the rows match the number of unique users?', row == uni)"
   ]
  },
  {
   "cell_type": "code",
   "execution_count": 60,
   "metadata": {
    "scrolled": true
   },
   "outputs": [
    {
     "data": {
      "text/html": [
       "<div>\n",
       "<style scoped>\n",
       "    .dataframe tbody tr th:only-of-type {\n",
       "        vertical-align: middle;\n",
       "    }\n",
       "\n",
       "    .dataframe tbody tr th {\n",
       "        vertical-align: top;\n",
       "    }\n",
       "\n",
       "    .dataframe thead th {\n",
       "        text-align: right;\n",
       "    }\n",
       "</style>\n",
       "<table border=\"1\" class=\"dataframe\">\n",
       "  <thead>\n",
       "    <tr style=\"text-align: right;\">\n",
       "      <th></th>\n",
       "      <th>country</th>\n",
       "      <th>timestamp</th>\n",
       "      <th>group</th>\n",
       "      <th>landing_page</th>\n",
       "      <th>converted</th>\n",
       "      <th>intercept</th>\n",
       "      <th>ab_page</th>\n",
       "    </tr>\n",
       "    <tr>\n",
       "      <th>user_id</th>\n",
       "      <th></th>\n",
       "      <th></th>\n",
       "      <th></th>\n",
       "      <th></th>\n",
       "      <th></th>\n",
       "      <th></th>\n",
       "      <th></th>\n",
       "    </tr>\n",
       "  </thead>\n",
       "  <tbody>\n",
       "    <tr>\n",
       "      <th>834778</th>\n",
       "      <td>UK</td>\n",
       "      <td>2017-01-14 23:08:43.304998</td>\n",
       "      <td>control</td>\n",
       "      <td>old_page</td>\n",
       "      <td>0</td>\n",
       "      <td>1</td>\n",
       "      <td>0</td>\n",
       "    </tr>\n",
       "    <tr>\n",
       "      <th>928468</th>\n",
       "      <td>US</td>\n",
       "      <td>2017-01-23 14:44:16.387854</td>\n",
       "      <td>treatment</td>\n",
       "      <td>new_page</td>\n",
       "      <td>0</td>\n",
       "      <td>1</td>\n",
       "      <td>1</td>\n",
       "    </tr>\n",
       "    <tr>\n",
       "      <th>822059</th>\n",
       "      <td>UK</td>\n",
       "      <td>2017-01-16 14:04:14.719771</td>\n",
       "      <td>treatment</td>\n",
       "      <td>new_page</td>\n",
       "      <td>1</td>\n",
       "      <td>1</td>\n",
       "      <td>1</td>\n",
       "    </tr>\n",
       "  </tbody>\n",
       "</table>\n",
       "</div>"
      ],
      "text/plain": [
       "        country                   timestamp      group landing_page  \\\n",
       "user_id                                                               \n",
       "834778       UK  2017-01-14 23:08:43.304998    control     old_page   \n",
       "928468       US  2017-01-23 14:44:16.387854  treatment     new_page   \n",
       "822059       UK  2017-01-16 14:04:14.719771  treatment     new_page   \n",
       "\n",
       "         converted  intercept  ab_page  \n",
       "user_id                                 \n",
       "834778           0          1        0  \n",
       "928468           0          1        1  \n",
       "822059           1          1        1  "
      ]
     },
     "execution_count": 60,
     "metadata": {},
     "output_type": "execute_result"
    }
   ],
   "source": [
    "# Adding the intercept column our df_new dataframe\n",
    "df_new['intercept'] = 1\n",
    "df_new.head()\n",
    "\n",
    "# Creating our dummy variable column which counts if the user is shown the new page and 0 for the old page\n",
    "ab_dummy = pd.get_dummies(data = df_new['landing_page'])['new_page']\n",
    "\n",
    "# Joining the dummy column to our new dataframe\n",
    "df_new = df_new.join(ab_dummy)\n",
    "\n",
    "# Renaming our new column to 'ab_page'\n",
    "df_new.rename(columns = {'new_page':'ab_page'}, inplace = True)\n",
    "\n",
    "# Displaying our finished dataframe\n",
    "df_new.head(3)"
   ]
  },
  {
   "cell_type": "code",
   "execution_count": 61,
   "metadata": {},
   "outputs": [
    {
     "data": {
      "text/plain": [
       "US    203619\n",
       "UK     72466\n",
       "CA     14499\n",
       "Name: country, dtype: int64"
      ]
     },
     "execution_count": 61,
     "metadata": {},
     "output_type": "execute_result"
    }
   ],
   "source": [
    "# Creating the necessary dummy variables\n",
    "\n",
    "# Finding the countries using '.value_counts'\n",
    "df_new.country.value_counts()"
   ]
  },
  {
   "cell_type": "code",
   "execution_count": 62,
   "metadata": {},
   "outputs": [
    {
     "data": {
      "text/html": [
       "<div>\n",
       "<style scoped>\n",
       "    .dataframe tbody tr th:only-of-type {\n",
       "        vertical-align: middle;\n",
       "    }\n",
       "\n",
       "    .dataframe tbody tr th {\n",
       "        vertical-align: top;\n",
       "    }\n",
       "\n",
       "    .dataframe thead th {\n",
       "        text-align: right;\n",
       "    }\n",
       "</style>\n",
       "<table border=\"1\" class=\"dataframe\">\n",
       "  <thead>\n",
       "    <tr style=\"text-align: right;\">\n",
       "      <th></th>\n",
       "      <th>country</th>\n",
       "      <th>timestamp</th>\n",
       "      <th>group</th>\n",
       "      <th>landing_page</th>\n",
       "      <th>converted</th>\n",
       "      <th>intercept</th>\n",
       "      <th>ab_page</th>\n",
       "    </tr>\n",
       "    <tr>\n",
       "      <th>user_id</th>\n",
       "      <th></th>\n",
       "      <th></th>\n",
       "      <th></th>\n",
       "      <th></th>\n",
       "      <th></th>\n",
       "      <th></th>\n",
       "      <th></th>\n",
       "    </tr>\n",
       "  </thead>\n",
       "  <tbody>\n",
       "    <tr>\n",
       "      <th>834778</th>\n",
       "      <td>UK</td>\n",
       "      <td>2017-01-14 23:08:43.304998</td>\n",
       "      <td>control</td>\n",
       "      <td>old_page</td>\n",
       "      <td>0</td>\n",
       "      <td>1</td>\n",
       "      <td>0</td>\n",
       "    </tr>\n",
       "    <tr>\n",
       "      <th>822059</th>\n",
       "      <td>UK</td>\n",
       "      <td>2017-01-16 14:04:14.719771</td>\n",
       "      <td>treatment</td>\n",
       "      <td>new_page</td>\n",
       "      <td>1</td>\n",
       "      <td>1</td>\n",
       "      <td>1</td>\n",
       "    </tr>\n",
       "    <tr>\n",
       "      <th>711597</th>\n",
       "      <td>UK</td>\n",
       "      <td>2017-01-22 03:14:24.763511</td>\n",
       "      <td>control</td>\n",
       "      <td>old_page</td>\n",
       "      <td>0</td>\n",
       "      <td>1</td>\n",
       "      <td>0</td>\n",
       "    </tr>\n",
       "    <tr>\n",
       "      <th>710616</th>\n",
       "      <td>UK</td>\n",
       "      <td>2017-01-16 13:14:44.000513</td>\n",
       "      <td>treatment</td>\n",
       "      <td>new_page</td>\n",
       "      <td>0</td>\n",
       "      <td>1</td>\n",
       "      <td>1</td>\n",
       "    </tr>\n",
       "    <tr>\n",
       "      <th>909908</th>\n",
       "      <td>UK</td>\n",
       "      <td>2017-01-06 20:44:26.334764</td>\n",
       "      <td>treatment</td>\n",
       "      <td>new_page</td>\n",
       "      <td>0</td>\n",
       "      <td>1</td>\n",
       "      <td>1</td>\n",
       "    </tr>\n",
       "  </tbody>\n",
       "</table>\n",
       "</div>"
      ],
      "text/plain": [
       "        country                   timestamp      group landing_page  \\\n",
       "user_id                                                               \n",
       "834778       UK  2017-01-14 23:08:43.304998    control     old_page   \n",
       "822059       UK  2017-01-16 14:04:14.719771  treatment     new_page   \n",
       "711597       UK  2017-01-22 03:14:24.763511    control     old_page   \n",
       "710616       UK  2017-01-16 13:14:44.000513  treatment     new_page   \n",
       "909908       UK  2017-01-06 20:44:26.334764  treatment     new_page   \n",
       "\n",
       "         converted  intercept  ab_page  \n",
       "user_id                                 \n",
       "834778           0          1        0  \n",
       "822059           1          1        1  \n",
       "711597           0          1        0  \n",
       "710616           0          1        1  \n",
       "909908           0          1        1  "
      ]
     },
     "execution_count": 62,
     "metadata": {},
     "output_type": "execute_result"
    }
   ],
   "source": [
    "df_new[df_new.country == 'UK'].head()"
   ]
  },
  {
   "cell_type": "code",
   "execution_count": 63,
   "metadata": {},
   "outputs": [
    {
     "data": {
      "text/plain": [
       "['country',\n",
       " 'timestamp',\n",
       " 'group',\n",
       " 'landing_page',\n",
       " 'converted',\n",
       " 'intercept',\n",
       " 'ab_page']"
      ]
     },
     "execution_count": 63,
     "metadata": {},
     "output_type": "execute_result"
    }
   ],
   "source": [
    "# Listing the columns in our dataframe\n",
    "list(df_new.columns)"
   ]
  },
  {
   "cell_type": "code",
   "execution_count": 64,
   "metadata": {},
   "outputs": [
    {
     "data": {
      "text/html": [
       "<div>\n",
       "<style scoped>\n",
       "    .dataframe tbody tr th:only-of-type {\n",
       "        vertical-align: middle;\n",
       "    }\n",
       "\n",
       "    .dataframe tbody tr th {\n",
       "        vertical-align: top;\n",
       "    }\n",
       "\n",
       "    .dataframe thead th {\n",
       "        text-align: right;\n",
       "    }\n",
       "</style>\n",
       "<table border=\"1\" class=\"dataframe\">\n",
       "  <thead>\n",
       "    <tr style=\"text-align: right;\">\n",
       "      <th></th>\n",
       "      <th>country</th>\n",
       "      <th>timestamp</th>\n",
       "      <th>group</th>\n",
       "      <th>landing_page</th>\n",
       "      <th>converted</th>\n",
       "      <th>intercept</th>\n",
       "      <th>ab_page</th>\n",
       "      <th>US</th>\n",
       "      <th>UK</th>\n",
       "      <th>CA</th>\n",
       "    </tr>\n",
       "    <tr>\n",
       "      <th>user_id</th>\n",
       "      <th></th>\n",
       "      <th></th>\n",
       "      <th></th>\n",
       "      <th></th>\n",
       "      <th></th>\n",
       "      <th></th>\n",
       "      <th></th>\n",
       "      <th></th>\n",
       "      <th></th>\n",
       "      <th></th>\n",
       "    </tr>\n",
       "  </thead>\n",
       "  <tbody>\n",
       "    <tr>\n",
       "      <th>653118</th>\n",
       "      <td>US</td>\n",
       "      <td>2017-01-09 03:12:31.034796</td>\n",
       "      <td>control</td>\n",
       "      <td>old_page</td>\n",
       "      <td>0</td>\n",
       "      <td>1</td>\n",
       "      <td>0</td>\n",
       "      <td>1</td>\n",
       "      <td>0</td>\n",
       "      <td>0</td>\n",
       "    </tr>\n",
       "    <tr>\n",
       "      <th>878226</th>\n",
       "      <td>UK</td>\n",
       "      <td>2017-01-05 15:02:50.334962</td>\n",
       "      <td>control</td>\n",
       "      <td>old_page</td>\n",
       "      <td>0</td>\n",
       "      <td>1</td>\n",
       "      <td>0</td>\n",
       "      <td>0</td>\n",
       "      <td>1</td>\n",
       "      <td>0</td>\n",
       "    </tr>\n",
       "    <tr>\n",
       "      <th>799368</th>\n",
       "      <td>UK</td>\n",
       "      <td>2017-01-09 18:07:34.253935</td>\n",
       "      <td>control</td>\n",
       "      <td>old_page</td>\n",
       "      <td>0</td>\n",
       "      <td>1</td>\n",
       "      <td>0</td>\n",
       "      <td>0</td>\n",
       "      <td>1</td>\n",
       "      <td>0</td>\n",
       "    </tr>\n",
       "    <tr>\n",
       "      <th>655535</th>\n",
       "      <td>CA</td>\n",
       "      <td>2017-01-09 13:30:47.524512</td>\n",
       "      <td>treatment</td>\n",
       "      <td>new_page</td>\n",
       "      <td>0</td>\n",
       "      <td>1</td>\n",
       "      <td>1</td>\n",
       "      <td>0</td>\n",
       "      <td>0</td>\n",
       "      <td>1</td>\n",
       "    </tr>\n",
       "    <tr>\n",
       "      <th>934996</th>\n",
       "      <td>UK</td>\n",
       "      <td>2017-01-09 00:30:08.377677</td>\n",
       "      <td>control</td>\n",
       "      <td>old_page</td>\n",
       "      <td>0</td>\n",
       "      <td>1</td>\n",
       "      <td>0</td>\n",
       "      <td>0</td>\n",
       "      <td>1</td>\n",
       "      <td>0</td>\n",
       "    </tr>\n",
       "  </tbody>\n",
       "</table>\n",
       "</div>"
      ],
      "text/plain": [
       "        country                   timestamp      group landing_page  \\\n",
       "user_id                                                               \n",
       "653118       US  2017-01-09 03:12:31.034796    control     old_page   \n",
       "878226       UK  2017-01-05 15:02:50.334962    control     old_page   \n",
       "799368       UK  2017-01-09 18:07:34.253935    control     old_page   \n",
       "655535       CA  2017-01-09 13:30:47.524512  treatment     new_page   \n",
       "934996       UK  2017-01-09 00:30:08.377677    control     old_page   \n",
       "\n",
       "         converted  intercept  ab_page  US  UK  CA  \n",
       "user_id                                             \n",
       "653118           0          1        0   1   0   0  \n",
       "878226           0          1        0   0   1   0  \n",
       "799368           0          1        0   0   1   0  \n",
       "655535           0          1        1   0   0   1  \n",
       "934996           0          1        0   0   1   0  "
      ]
     },
     "execution_count": 64,
     "metadata": {},
     "output_type": "execute_result"
    }
   ],
   "source": [
    "# Since we have 3 countries but need 2 columns  \n",
    "df_new[['CA', 'UK', 'US']] = pd.get_dummies(df_new['country']) # Adding US, UK and CA to the dummy variable\n",
    "\n",
    "# Reorder CA, UK, US (warning: the data for the columns was written in alphabetical order regardless of sorting)\n",
    "df_new = df_new.reindex(columns= ['country','timestamp','group','landing_page','converted','intercept','ab_page', \n",
    "                                  'US', 'UK', 'CA'])\n",
    "\n",
    "# Looking at the new columns we've added to the dataframe\n",
    "df_new.tail()"
   ]
  },
  {
   "cell_type": "markdown",
   "metadata": {},
   "source": [
    "We will be using countries 'UK' and 'CA' to compare against the conversions."
   ]
  },
  {
   "cell_type": "code",
   "execution_count": 65,
   "metadata": {},
   "outputs": [
    {
     "name": "stdout",
     "output_type": "stream",
     "text": [
      "Optimization terminated successfully.\n",
      "         Current function value: 0.366113\n",
      "         Iterations 6\n"
     ]
    },
    {
     "data": {
      "text/html": [
       "<table class=\"simpletable\">\n",
       "<caption>Logit Regression Results</caption>\n",
       "<tr>\n",
       "  <th>Dep. Variable:</th>       <td>converted</td>    <th>  No. Observations:  </th>   <td>290584</td>   \n",
       "</tr>\n",
       "<tr>\n",
       "  <th>Model:</th>                 <td>Logit</td>      <th>  Df Residuals:      </th>   <td>290580</td>   \n",
       "</tr>\n",
       "<tr>\n",
       "  <th>Method:</th>                 <td>MLE</td>       <th>  Df Model:          </th>   <td>     3</td>   \n",
       "</tr>\n",
       "<tr>\n",
       "  <th>Date:</th>            <td>Mon, 28 Dec 2020</td> <th>  Pseudo R-squ.:     </th>  <td>2.323e-05</td> \n",
       "</tr>\n",
       "<tr>\n",
       "  <th>Time:</th>                <td>22:05:09</td>     <th>  Log-Likelihood:    </th> <td>-1.0639e+05</td>\n",
       "</tr>\n",
       "<tr>\n",
       "  <th>converged:</th>             <td>True</td>       <th>  LL-Null:           </th> <td>-1.0639e+05</td>\n",
       "</tr>\n",
       "<tr>\n",
       "  <th>Covariance Type:</th>     <td>nonrobust</td>    <th>  LLR p-value:       </th>   <td>0.1760</td>   \n",
       "</tr>\n",
       "</table>\n",
       "<table class=\"simpletable\">\n",
       "<tr>\n",
       "      <td></td>         <th>coef</th>     <th>std err</th>      <th>z</th>      <th>P>|z|</th>  <th>[0.025</th>    <th>0.975]</th>  \n",
       "</tr>\n",
       "<tr>\n",
       "  <th>intercept</th> <td>   -1.9893</td> <td>    0.009</td> <td> -223.763</td> <td> 0.000</td> <td>   -2.007</td> <td>   -1.972</td>\n",
       "</tr>\n",
       "<tr>\n",
       "  <th>ab_page</th>   <td>   -0.0149</td> <td>    0.011</td> <td>   -1.307</td> <td> 0.191</td> <td>   -0.037</td> <td>    0.007</td>\n",
       "</tr>\n",
       "<tr>\n",
       "  <th>UK</th>        <td>    0.0099</td> <td>    0.013</td> <td>    0.743</td> <td> 0.457</td> <td>   -0.016</td> <td>    0.036</td>\n",
       "</tr>\n",
       "<tr>\n",
       "  <th>CA</th>        <td>   -0.0408</td> <td>    0.027</td> <td>   -1.516</td> <td> 0.130</td> <td>   -0.093</td> <td>    0.012</td>\n",
       "</tr>\n",
       "</table>"
      ],
      "text/plain": [
       "<class 'statsmodels.iolib.summary.Summary'>\n",
       "\"\"\"\n",
       "                           Logit Regression Results                           \n",
       "==============================================================================\n",
       "Dep. Variable:              converted   No. Observations:               290584\n",
       "Model:                          Logit   Df Residuals:                   290580\n",
       "Method:                           MLE   Df Model:                            3\n",
       "Date:                Mon, 28 Dec 2020   Pseudo R-squ.:               2.323e-05\n",
       "Time:                        22:05:09   Log-Likelihood:            -1.0639e+05\n",
       "converged:                       True   LL-Null:                   -1.0639e+05\n",
       "Covariance Type:            nonrobust   LLR p-value:                    0.1760\n",
       "==============================================================================\n",
       "                 coef    std err          z      P>|z|      [0.025      0.975]\n",
       "------------------------------------------------------------------------------\n",
       "intercept     -1.9893      0.009   -223.763      0.000      -2.007      -1.972\n",
       "ab_page       -0.0149      0.011     -1.307      0.191      -0.037       0.007\n",
       "UK             0.0099      0.013      0.743      0.457      -0.016       0.036\n",
       "CA            -0.0408      0.027     -1.516      0.130      -0.093       0.012\n",
       "==============================================================================\n",
       "\"\"\""
      ]
     },
     "execution_count": 65,
     "metadata": {},
     "output_type": "execute_result"
    }
   ],
   "source": [
    "# Creating a logistic regression model for conversion vs page and country.\n",
    "logr_mod2 = sm.Logit(df_new['converted'], df_new[['intercept', 'ab_page', 'UK', 'CA']])\n",
    "results2 = logr_mod2.fit()\n",
    "\n",
    "# Creating our model\n",
    "results2.summary()"
   ]
  },
  {
   "cell_type": "code",
   "execution_count": 66,
   "metadata": {},
   "outputs": [
    {
     "data": {
      "text/plain": [
       "intercept    0.136795\n",
       "ab_page      0.985168\n",
       "UK           1.009932\n",
       "CA           0.960062\n",
       "dtype: float64"
      ]
     },
     "execution_count": 66,
     "metadata": {},
     "output_type": "execute_result"
    }
   ],
   "source": [
    "# Is a result less than 1? If so, calculate the reciprocal to change to a unit decrease. Ignore the intercept.\n",
    "np.exp(results2.params)"
   ]
  },
  {
   "cell_type": "code",
   "execution_count": 67,
   "metadata": {},
   "outputs": [
    {
     "name": "stdout",
     "output_type": "stream",
     "text": [
      "-0.98 % UK Conversion Rate\n",
      "+4.16 % CA Conversion Rate\n",
      "-5.14 % Difference\n"
     ]
    }
   ],
   "source": [
    "# Calculating the convert rate % for the 'UK' results\n",
    "uk_cv_rate = 1/np.exp(results2.params.UK)*100-100 # Calculating the reciprocal for values less than 1 by adding '1/' to change to unit increase\n",
    "ca_cv_rate = 1/np.exp(results2.params.CA)*100-100\n",
    "\n",
    "# Printing our result\n",
    "print(\"{0:.02f}\".format(uk_cv_rate),'%', 'UK Conversion Rate')\n",
    "print(\"{0:+.02f}\".format(ca_cv_rate),'%', 'CA Conversion Rate')\n",
    "print(\"{0:.02f}\".format(uk_cv_rate-ca_cv_rate),'%', 'Difference')"
   ]
  },
  {
   "cell_type": "markdown",
   "metadata": {},
   "source": [
    "Does it appear that country had an impact on conversion? Provide the statistical output as well as a written response to answer this question."
   ]
  },
  {
   "cell_type": "markdown",
   "metadata": {},
   "source": [
    "Users from 'CA' were 4.16% more likely to convert holding all variables held constant. Users from the 'UK' were 0.98% less likely to convert accounting for a 5.14% difference between the two countries. This concludes that the country had a small impact on conversion with all variables held constant."
   ]
  },
  {
   "cell_type": "markdown",
   "metadata": {},
   "source": [
    "#### Part IIIC - Comparing Interactions Between Landing Page and Country"
   ]
  },
  {
   "cell_type": "markdown",
   "metadata": {},
   "source": [
    "h. Though you have now looked at the individual factors of country and page on conversion, we would now like to look at an interaction between page and country to see if their significant effects on conversion.  Create the necessary additional columns, and fit the new model.  \n",
    "\n",
    "Provide the summary results, and your conclusions based on the results."
   ]
  },
  {
   "cell_type": "code",
   "execution_count": 68,
   "metadata": {},
   "outputs": [
    {
     "data": {
      "text/html": [
       "<div>\n",
       "<style scoped>\n",
       "    .dataframe tbody tr th:only-of-type {\n",
       "        vertical-align: middle;\n",
       "    }\n",
       "\n",
       "    .dataframe tbody tr th {\n",
       "        vertical-align: top;\n",
       "    }\n",
       "\n",
       "    .dataframe thead th {\n",
       "        text-align: right;\n",
       "    }\n",
       "</style>\n",
       "<table border=\"1\" class=\"dataframe\">\n",
       "  <thead>\n",
       "    <tr style=\"text-align: right;\">\n",
       "      <th></th>\n",
       "      <th>country</th>\n",
       "      <th>timestamp</th>\n",
       "      <th>group</th>\n",
       "      <th>landing_page</th>\n",
       "      <th>converted</th>\n",
       "      <th>intercept</th>\n",
       "      <th>ab_page</th>\n",
       "      <th>US</th>\n",
       "      <th>UK</th>\n",
       "      <th>CA</th>\n",
       "      <th>ab_page_UK</th>\n",
       "      <th>ab_page_CA</th>\n",
       "    </tr>\n",
       "    <tr>\n",
       "      <th>user_id</th>\n",
       "      <th></th>\n",
       "      <th></th>\n",
       "      <th></th>\n",
       "      <th></th>\n",
       "      <th></th>\n",
       "      <th></th>\n",
       "      <th></th>\n",
       "      <th></th>\n",
       "      <th></th>\n",
       "      <th></th>\n",
       "      <th></th>\n",
       "      <th></th>\n",
       "    </tr>\n",
       "  </thead>\n",
       "  <tbody>\n",
       "    <tr>\n",
       "      <th>834778</th>\n",
       "      <td>UK</td>\n",
       "      <td>2017-01-14 23:08:43.304998</td>\n",
       "      <td>control</td>\n",
       "      <td>old_page</td>\n",
       "      <td>0</td>\n",
       "      <td>1</td>\n",
       "      <td>0</td>\n",
       "      <td>0</td>\n",
       "      <td>1</td>\n",
       "      <td>0</td>\n",
       "      <td>0</td>\n",
       "      <td>0</td>\n",
       "    </tr>\n",
       "    <tr>\n",
       "      <th>928468</th>\n",
       "      <td>US</td>\n",
       "      <td>2017-01-23 14:44:16.387854</td>\n",
       "      <td>treatment</td>\n",
       "      <td>new_page</td>\n",
       "      <td>0</td>\n",
       "      <td>1</td>\n",
       "      <td>1</td>\n",
       "      <td>1</td>\n",
       "      <td>0</td>\n",
       "      <td>0</td>\n",
       "      <td>0</td>\n",
       "      <td>0</td>\n",
       "    </tr>\n",
       "    <tr>\n",
       "      <th>822059</th>\n",
       "      <td>UK</td>\n",
       "      <td>2017-01-16 14:04:14.719771</td>\n",
       "      <td>treatment</td>\n",
       "      <td>new_page</td>\n",
       "      <td>1</td>\n",
       "      <td>1</td>\n",
       "      <td>1</td>\n",
       "      <td>0</td>\n",
       "      <td>1</td>\n",
       "      <td>0</td>\n",
       "      <td>1</td>\n",
       "      <td>0</td>\n",
       "    </tr>\n",
       "  </tbody>\n",
       "</table>\n",
       "</div>"
      ],
      "text/plain": [
       "        country                   timestamp      group landing_page  \\\n",
       "user_id                                                               \n",
       "834778       UK  2017-01-14 23:08:43.304998    control     old_page   \n",
       "928468       US  2017-01-23 14:44:16.387854  treatment     new_page   \n",
       "822059       UK  2017-01-16 14:04:14.719771  treatment     new_page   \n",
       "\n",
       "         converted  intercept  ab_page  US  UK  CA  ab_page_UK  ab_page_CA  \n",
       "user_id                                                                     \n",
       "834778           0          1        0   0   1   0           0           0  \n",
       "928468           0          1        1   1   0   0           0           0  \n",
       "822059           1          1        1   0   1   0           1           0  "
      ]
     },
     "execution_count": 68,
     "metadata": {},
     "output_type": "execute_result"
    }
   ],
   "source": [
    "# Adding the variables for the interactions between page and country\n",
    "df_new['ab_page_UK'] = df_new['ab_page'] * df_new['UK'] # Creating new columns for ab_page_UK using the sum of ab_page * 'UK'\n",
    "df_new['ab_page_CA'] = df_new['ab_page'] * df_new['CA'] # Creating new columns for ab_page_UK using the sum of ab_page * 'CA'\n",
    "\n",
    "# Looking at the new columns we've added to the dataframe\n",
    "df_new.head(3)"
   ]
  },
  {
   "cell_type": "code",
   "execution_count": 69,
   "metadata": {
    "scrolled": false
   },
   "outputs": [
    {
     "name": "stdout",
     "output_type": "stream",
     "text": [
      "Optimization terminated successfully.\n",
      "         Current function value: 0.366113\n",
      "         Iterations 6\n"
     ]
    },
    {
     "data": {
      "text/html": [
       "<table class=\"simpletable\">\n",
       "<caption>Logit Regression Results</caption>\n",
       "<tr>\n",
       "  <th>Dep. Variable:</th>       <td>converted</td>    <th>  No. Observations:  </th>   <td>290584</td>   \n",
       "</tr>\n",
       "<tr>\n",
       "  <th>Model:</th>                 <td>Logit</td>      <th>  Df Residuals:      </th>   <td>290579</td>   \n",
       "</tr>\n",
       "<tr>\n",
       "  <th>Method:</th>                 <td>MLE</td>       <th>  Df Model:          </th>   <td>     4</td>   \n",
       "</tr>\n",
       "<tr>\n",
       "  <th>Date:</th>            <td>Mon, 28 Dec 2020</td> <th>  Pseudo R-squ.:     </th>  <td>2.417e-05</td> \n",
       "</tr>\n",
       "<tr>\n",
       "  <th>Time:</th>                <td>22:05:10</td>     <th>  Log-Likelihood:    </th> <td>-1.0639e+05</td>\n",
       "</tr>\n",
       "<tr>\n",
       "  <th>converged:</th>             <td>True</td>       <th>  LL-Null:           </th> <td>-1.0639e+05</td>\n",
       "</tr>\n",
       "<tr>\n",
       "  <th>Covariance Type:</th>     <td>nonrobust</td>    <th>  LLR p-value:       </th>   <td>0.2729</td>   \n",
       "</tr>\n",
       "</table>\n",
       "<table class=\"simpletable\">\n",
       "<tr>\n",
       "       <td></td>         <th>coef</th>     <th>std err</th>      <th>z</th>      <th>P>|z|</th>  <th>[0.025</th>    <th>0.975]</th>  \n",
       "</tr>\n",
       "<tr>\n",
       "  <th>intercept</th>  <td>   -1.9967</td> <td>    0.007</td> <td> -292.314</td> <td> 0.000</td> <td>   -2.010</td> <td>   -1.983</td>\n",
       "</tr>\n",
       "<tr>\n",
       "  <th>UK</th>         <td>    0.0045</td> <td>    0.018</td> <td>    0.257</td> <td> 0.797</td> <td>   -0.030</td> <td>    0.039</td>\n",
       "</tr>\n",
       "<tr>\n",
       "  <th>CA</th>         <td>   -0.0073</td> <td>    0.037</td> <td>   -0.196</td> <td> 0.844</td> <td>   -0.080</td> <td>    0.065</td>\n",
       "</tr>\n",
       "<tr>\n",
       "  <th>ab_page_UK</th> <td>    0.0108</td> <td>    0.023</td> <td>    0.475</td> <td> 0.635</td> <td>   -0.034</td> <td>    0.056</td>\n",
       "</tr>\n",
       "<tr>\n",
       "  <th>ab_page_CA</th> <td>   -0.0674</td> <td>    0.052</td> <td>   -1.297</td> <td> 0.195</td> <td>   -0.169</td> <td>    0.034</td>\n",
       "</tr>\n",
       "</table>"
      ],
      "text/plain": [
       "<class 'statsmodels.iolib.summary.Summary'>\n",
       "\"\"\"\n",
       "                           Logit Regression Results                           \n",
       "==============================================================================\n",
       "Dep. Variable:              converted   No. Observations:               290584\n",
       "Model:                          Logit   Df Residuals:                   290579\n",
       "Method:                           MLE   Df Model:                            4\n",
       "Date:                Mon, 28 Dec 2020   Pseudo R-squ.:               2.417e-05\n",
       "Time:                        22:05:10   Log-Likelihood:            -1.0639e+05\n",
       "converged:                       True   LL-Null:                   -1.0639e+05\n",
       "Covariance Type:            nonrobust   LLR p-value:                    0.2729\n",
       "==============================================================================\n",
       "                 coef    std err          z      P>|z|      [0.025      0.975]\n",
       "------------------------------------------------------------------------------\n",
       "intercept     -1.9967      0.007   -292.314      0.000      -2.010      -1.983\n",
       "UK             0.0045      0.018      0.257      0.797      -0.030       0.039\n",
       "CA            -0.0073      0.037     -0.196      0.844      -0.080       0.065\n",
       "ab_page_UK     0.0108      0.023      0.475      0.635      -0.034       0.056\n",
       "ab_page_CA    -0.0674      0.052     -1.297      0.195      -0.169       0.034\n",
       "==============================================================================\n",
       "\"\"\""
      ]
     },
     "execution_count": 69,
     "metadata": {},
     "output_type": "execute_result"
    }
   ],
   "source": [
    "# Creating a logistic regression model for conversion vs page and country.\n",
    "logr_mod3 = sm.Logit(df_new['converted'], df_new[['intercept', 'UK', 'CA', 'ab_page_UK', 'ab_page_CA']])\n",
    "results3 = logr_mod3.fit()\n",
    "\n",
    "# Creating our model\n",
    "results3.summary()"
   ]
  },
  {
   "cell_type": "code",
   "execution_count": 70,
   "metadata": {},
   "outputs": [
    {
     "name": "stdout",
     "output_type": "stream",
     "text": [
      "-1.08 % UK Conversion Rate vs New Page\n",
      "+6.98 % CA Conversion Rate vs New Page\n",
      "-8.06 % Difference\n"
     ]
    }
   ],
   "source": [
    "# Calculating the convert rate % for the 'UK' results, 'abp' = ab_page\n",
    "abp_uk_cv_rate = 1/np.exp(results3.params.ab_page_UK)*100-100 # Calculating the reciprocal for values less than 1 by adding '1/' to change to unit increase\n",
    "abp_ca_cv_rate = 1/np.exp(results3.params.ab_page_CA)*100-100 # Calulating the percentage change\n",
    "\n",
    "# Printing our result\n",
    "print(\"{0:.02f}\".format(abp_uk_cv_rate),'%', 'UK Conversion Rate vs New Page')\n",
    "print(\"{0:+.02f}\".format(abp_ca_cv_rate),'%', 'CA Conversion Rate vs New Page')\n",
    "print(\"{0:+.02f}\".format(abp_uk_cv_rate-abp_ca_cv_rate),'%', 'Difference')"
   ]
  },
  {
   "cell_type": "markdown",
   "metadata": {},
   "source": [
    "Now we can observe the interaction between page and country to see if their effects on conversion. From our findings we can see 'ab_page_CA' has a 6.98% improved conversion rate using the old landing page vs the new page holding all variables constant. It is just -1.08% for the UK which equates to a -8.06% difference between the two countries. The clear winner here for the old page is 'CA'."
   ]
  },
  {
   "cell_type": "code",
   "execution_count": 71,
   "metadata": {},
   "outputs": [
    {
     "name": "stdout",
     "output_type": "stream",
     "text": [
      "36106 UK conversions\n",
      "7301 CA conversions\n"
     ]
    }
   ],
   "source": [
    "# Printing conversions\n",
    "print(df_new['ab_page_UK'].sum(), 'UK conversions')\n",
    "print(df_new['ab_page_CA'].sum(), 'CA conversions')"
   ]
  },
  {
   "cell_type": "markdown",
   "metadata": {},
   "source": [
    "I have decided to add a bar graph below showing us the successful conversions per country using the '**ab_page**' metric. Then below that will be the conversion rate per country."
   ]
  },
  {
   "cell_type": "code",
   "execution_count": 72,
   "metadata": {},
   "outputs": [
    {
     "data": {
      "image/png": "[encoded data removed]",
      "text/plain": [
       "<Figure size 432x288 with 1 Axes>"
      ]
     },
     "metadata": {
      "needs_background": "light"
     },
     "output_type": "display_data"
    }
   ],
   "source": [
    "# Defining our variables\n",
    "ca_plot = df_new['ab_page_CA'].sum()\n",
    "uk_plot = df_new['ab_page_UK'].sum()\n",
    "colors = ['red', 'blue']\n",
    "Country = ['CA','UK']\n",
    "Conversions = [ca_plot,uk_plot]\n",
    "\n",
    "# Plotting our bar chart\n",
    "plt.bar(Country, Conversions, color = colors)\n",
    "\n",
    "# Labelling our bar chart\n",
    "plt.title('Conversions Per Country', fontsize=15)\n",
    "plt.xlabel('Country', fontsize=13)\n",
    "plt.ylabel('Conversions', fontsize=13)\n",
    "plt.show()"
   ]
  },
  {
   "cell_type": "code",
   "execution_count": 73,
   "metadata": {},
   "outputs": [
    {
     "data": {
      "image/png": "[encoded data removed]",
      "text/plain": [
       "<Figure size 432x288 with 1 Axes>"
      ]
     },
     "metadata": {
      "needs_background": "light"
     },
     "output_type": "display_data"
    }
   ],
   "source": [
    "# Defining our variables\n",
    "ca_plot_cr = df_new['ab_page_CA'].sum() / df_new.query(\"country == 'CA'\").shape[0]\n",
    "uk_plot_cr = df_new['ab_page_UK'].sum() / df_new.query(\"country == 'UK'\").shape[0]\n",
    "colors = ['red', 'blue']\n",
    "Country = ['CA','UK']\n",
    "Conversions = [ca_plot_cr,uk_plot_cr]\n",
    "\n",
    "# Plotting our bar chart\n",
    "plt.bar(Country, Conversions, color = colors)\n",
    "\n",
    "# Labelling our bar chart\n",
    "plt.title('Conversion Rate Per Country', fontsize=15)\n",
    "plt.xlabel('Country', fontsize=13)\n",
    "plt.ylabel('Conversion Rate', fontsize=13)\n",
    "plt.show()"
   ]
  },
  {
   "cell_type": "code",
   "execution_count": 74,
   "metadata": {},
   "outputs": [
    {
     "name": "stdout",
     "output_type": "stream",
     "text": [
      "CA Users 14499\n",
      "UK Users 72466\n",
      "CA Conversions 7301\n",
      "UK Conversions 36106\n",
      "CA Conversion Rate +50.36 %\n",
      "UK Conversion Rate +49.82 %\n"
     ]
    }
   ],
   "source": [
    "print('CA Users', df_new.query(\"country == 'CA'\").shape[0])\n",
    "print('UK Users', df_new.query(\"country == 'UK'\").shape[0])\n",
    "print('CA Conversions', df_new['ab_page_CA'].sum())\n",
    "print('UK Conversions', df_new['ab_page_UK'].sum())\n",
    "print('CA Conversion Rate', \"{0:+.02f}\".format(df_new['ab_page_CA'].sum() / df_new.query(\"country == 'CA'\").shape[0]*100), '%')\n",
    "print('UK Conversion Rate', \"{0:+.02f}\".format(df_new['ab_page_UK'].sum() / df_new.query(\"country == 'UK'\").shape[0]*100), '%')"
   ]
  },
  {
   "cell_type": "markdown",
   "metadata": {},
   "source": [
    "We can see that the country does not really affect the conversion rate as CA has a 50.36% rate and UK has 49.82%. The pseudo R-squared number has increased slightly from 2.32 to 2.4 as a result adding the ab_pages for each country. In theory, adding ab pages for the countries should help add more variables to the model for more accurate predictions. In reality, adding the countries to our original logistic regression model had the biggest effect. Our R number dropped from 8.07 to 2.32, the lower the R number, the less variablity in the results and the more the capability of our model to predict conversion improves."
   ]
  },
  {
   "cell_type": "markdown",
   "metadata": {},
   "source": [
    "#### Part IIID - Comparing Conversions vs Landing Page, Country and Time of Week"
   ]
  },
  {
   "cell_type": "markdown",
   "metadata": {},
   "source": [
    "We are going to parse the dates into parts of the week. For example, we will split the week into 3 parts. For example: \n",
    "\n",
    "**Early Week** `EW` \\\n",
    "Monday, Tuesday \\\n",
    "**Mid Week** `MW` \\\n",
    "Wednesday, Thursday \\\n",
    "**Weekend** `WE` \\\n",
    "Friday, Saturday, Sunday\n",
    "\n",
    "Then we are going to assign them as dummy variables to use in the logistic regression model. First, we have to group the days into the groups above then * by the ab_page to get usable data."
   ]
  },
  {
   "cell_type": "code",
   "execution_count": 75,
   "metadata": {},
   "outputs": [
    {
     "data": {
      "text/plain": [
       "user_id\n",
       "834778    2017-01-14 23:08:43.304998\n",
       "Name: timestamp, dtype: object"
      ]
     },
     "execution_count": 75,
     "metadata": {},
     "output_type": "execute_result"
    }
   ],
   "source": [
    "# Checking the dtype of 'timestamp' column\n",
    "df_new.timestamp.head(1)"
   ]
  },
  {
   "cell_type": "code",
   "execution_count": 76,
   "metadata": {},
   "outputs": [],
   "source": [
    "# Converting 'timestamp' to datetime format\n",
    "df_new['timestamp'] = pd.to_datetime(df_new['timestamp']) #, format = '%Y-%m-%d %H%:M%:S%.f')"
   ]
  },
  {
   "cell_type": "code",
   "execution_count": 77,
   "metadata": {},
   "outputs": [
    {
     "data": {
      "text/html": [
       "<div>\n",
       "<style scoped>\n",
       "    .dataframe tbody tr th:only-of-type {\n",
       "        vertical-align: middle;\n",
       "    }\n",
       "\n",
       "    .dataframe tbody tr th {\n",
       "        vertical-align: top;\n",
       "    }\n",
       "\n",
       "    .dataframe thead th {\n",
       "        text-align: right;\n",
       "    }\n",
       "</style>\n",
       "<table border=\"1\" class=\"dataframe\">\n",
       "  <thead>\n",
       "    <tr style=\"text-align: right;\">\n",
       "      <th></th>\n",
       "      <th>country</th>\n",
       "      <th>timestamp</th>\n",
       "      <th>group</th>\n",
       "      <th>landing_page</th>\n",
       "      <th>converted</th>\n",
       "      <th>intercept</th>\n",
       "      <th>ab_page</th>\n",
       "      <th>US</th>\n",
       "      <th>UK</th>\n",
       "      <th>CA</th>\n",
       "      <th>ab_page_UK</th>\n",
       "      <th>ab_page_CA</th>\n",
       "    </tr>\n",
       "    <tr>\n",
       "      <th>user_id</th>\n",
       "      <th></th>\n",
       "      <th></th>\n",
       "      <th></th>\n",
       "      <th></th>\n",
       "      <th></th>\n",
       "      <th></th>\n",
       "      <th></th>\n",
       "      <th></th>\n",
       "      <th></th>\n",
       "      <th></th>\n",
       "      <th></th>\n",
       "      <th></th>\n",
       "    </tr>\n",
       "  </thead>\n",
       "  <tbody>\n",
       "    <tr>\n",
       "      <th>653118</th>\n",
       "      <td>US</td>\n",
       "      <td>2017-01-09 03:12:31.034796</td>\n",
       "      <td>control</td>\n",
       "      <td>old_page</td>\n",
       "      <td>0</td>\n",
       "      <td>1</td>\n",
       "      <td>0</td>\n",
       "      <td>1</td>\n",
       "      <td>0</td>\n",
       "      <td>0</td>\n",
       "      <td>0</td>\n",
       "      <td>0</td>\n",
       "    </tr>\n",
       "    <tr>\n",
       "      <th>878226</th>\n",
       "      <td>UK</td>\n",
       "      <td>2017-01-05 15:02:50.334962</td>\n",
       "      <td>control</td>\n",
       "      <td>old_page</td>\n",
       "      <td>0</td>\n",
       "      <td>1</td>\n",
       "      <td>0</td>\n",
       "      <td>0</td>\n",
       "      <td>1</td>\n",
       "      <td>0</td>\n",
       "      <td>0</td>\n",
       "      <td>0</td>\n",
       "    </tr>\n",
       "    <tr>\n",
       "      <th>799368</th>\n",
       "      <td>UK</td>\n",
       "      <td>2017-01-09 18:07:34.253935</td>\n",
       "      <td>control</td>\n",
       "      <td>old_page</td>\n",
       "      <td>0</td>\n",
       "      <td>1</td>\n",
       "      <td>0</td>\n",
       "      <td>0</td>\n",
       "      <td>1</td>\n",
       "      <td>0</td>\n",
       "      <td>0</td>\n",
       "      <td>0</td>\n",
       "    </tr>\n",
       "    <tr>\n",
       "      <th>655535</th>\n",
       "      <td>CA</td>\n",
       "      <td>2017-01-09 13:30:47.524512</td>\n",
       "      <td>treatment</td>\n",
       "      <td>new_page</td>\n",
       "      <td>0</td>\n",
       "      <td>1</td>\n",
       "      <td>1</td>\n",
       "      <td>0</td>\n",
       "      <td>0</td>\n",
       "      <td>1</td>\n",
       "      <td>0</td>\n",
       "      <td>1</td>\n",
       "    </tr>\n",
       "    <tr>\n",
       "      <th>934996</th>\n",
       "      <td>UK</td>\n",
       "      <td>2017-01-09 00:30:08.377677</td>\n",
       "      <td>control</td>\n",
       "      <td>old_page</td>\n",
       "      <td>0</td>\n",
       "      <td>1</td>\n",
       "      <td>0</td>\n",
       "      <td>0</td>\n",
       "      <td>1</td>\n",
       "      <td>0</td>\n",
       "      <td>0</td>\n",
       "      <td>0</td>\n",
       "    </tr>\n",
       "  </tbody>\n",
       "</table>\n",
       "</div>"
      ],
      "text/plain": [
       "        country                  timestamp      group landing_page  converted  \\\n",
       "user_id                                                                         \n",
       "653118       US 2017-01-09 03:12:31.034796    control     old_page          0   \n",
       "878226       UK 2017-01-05 15:02:50.334962    control     old_page          0   \n",
       "799368       UK 2017-01-09 18:07:34.253935    control     old_page          0   \n",
       "655535       CA 2017-01-09 13:30:47.524512  treatment     new_page          0   \n",
       "934996       UK 2017-01-09 00:30:08.377677    control     old_page          0   \n",
       "\n",
       "         intercept  ab_page  US  UK  CA  ab_page_UK  ab_page_CA  \n",
       "user_id                                                          \n",
       "653118           1        0   1   0   0           0           0  \n",
       "878226           1        0   0   1   0           0           0  \n",
       "799368           1        0   0   1   0           0           0  \n",
       "655535           1        1   0   0   1           0           1  \n",
       "934996           1        0   0   1   0           0           0  "
      ]
     },
     "execution_count": 77,
     "metadata": {},
     "output_type": "execute_result"
    }
   ],
   "source": [
    "# Checking the tail of the dataframe\n",
    "df_new.tail()"
   ]
  },
  {
   "cell_type": "code",
   "execution_count": 78,
   "metadata": {},
   "outputs": [
    {
     "data": {
      "text/plain": [
       "country                 object\n",
       "timestamp       datetime64[ns]\n",
       "group                   object\n",
       "landing_page            object\n",
       "converted                int64\n",
       "intercept                int64\n",
       "ab_page                  uint8\n",
       "US                       uint8\n",
       "UK                       uint8\n",
       "CA                       uint8\n",
       "ab_page_UK               uint8\n",
       "ab_page_CA               uint8\n",
       "dtype: object"
      ]
     },
     "execution_count": 78,
     "metadata": {},
     "output_type": "execute_result"
    }
   ],
   "source": [
    "# Checking the dataframe\n",
    "df_new.dtypes"
   ]
  },
  {
   "cell_type": "markdown",
   "metadata": {},
   "source": [
    "We can notice the timestamp is a string object so it needs to be converted into datetime format."
   ]
  },
  {
   "cell_type": "code",
   "execution_count": 79,
   "metadata": {
    "scrolled": true
   },
   "outputs": [
    {
     "data": {
      "text/html": [
       "<div>\n",
       "<style scoped>\n",
       "    .dataframe tbody tr th:only-of-type {\n",
       "        vertical-align: middle;\n",
       "    }\n",
       "\n",
       "    .dataframe tbody tr th {\n",
       "        vertical-align: top;\n",
       "    }\n",
       "\n",
       "    .dataframe thead th {\n",
       "        text-align: right;\n",
       "    }\n",
       "</style>\n",
       "<table border=\"1\" class=\"dataframe\">\n",
       "  <thead>\n",
       "    <tr style=\"text-align: right;\">\n",
       "      <th></th>\n",
       "      <th>converted</th>\n",
       "      <th>intercept</th>\n",
       "      <th>ab_page</th>\n",
       "      <th>US</th>\n",
       "      <th>UK</th>\n",
       "      <th>CA</th>\n",
       "      <th>ab_page_UK</th>\n",
       "      <th>ab_page_CA</th>\n",
       "    </tr>\n",
       "    <tr>\n",
       "      <th>timestamp</th>\n",
       "      <th></th>\n",
       "      <th></th>\n",
       "      <th></th>\n",
       "      <th></th>\n",
       "      <th></th>\n",
       "      <th></th>\n",
       "      <th></th>\n",
       "      <th></th>\n",
       "    </tr>\n",
       "  </thead>\n",
       "  <tbody>\n",
       "    <tr>\n",
       "      <th>2017-01-02</th>\n",
       "      <td>701</td>\n",
       "      <td>5712</td>\n",
       "      <td>2853.0</td>\n",
       "      <td>4028.0</td>\n",
       "      <td>1376.0</td>\n",
       "      <td>308.0</td>\n",
       "      <td>712.0</td>\n",
       "      <td>154.0</td>\n",
       "    </tr>\n",
       "  </tbody>\n",
       "</table>\n",
       "</div>"
      ],
      "text/plain": [
       "            converted  intercept  ab_page      US      UK     CA  ab_page_UK  \\\n",
       "timestamp                                                                      \n",
       "2017-01-02        701       5712   2853.0  4028.0  1376.0  308.0       712.0   \n",
       "\n",
       "            ab_page_CA  \n",
       "timestamp               \n",
       "2017-01-02       154.0  "
      ]
     },
     "execution_count": 79,
     "metadata": {},
     "output_type": "execute_result"
    }
   ],
   "source": [
    "# Grouping the dates and setting the 'timestamp' column as the index\n",
    "df_time = df_new.groupby([df_new['timestamp'].dt.date]).sum()\n",
    "df_time.head(1)"
   ]
  },
  {
   "cell_type": "code",
   "execution_count": 80,
   "metadata": {
    "scrolled": true
   },
   "outputs": [
    {
     "data": {
      "text/plain": [
       "Index([2017-01-02, 2017-01-03, 2017-01-04, 2017-01-05, 2017-01-06, 2017-01-07,\n",
       "       2017-01-08, 2017-01-09, 2017-01-10, 2017-01-11, 2017-01-12, 2017-01-13,\n",
       "       2017-01-14, 2017-01-15, 2017-01-16, 2017-01-17, 2017-01-18, 2017-01-19,\n",
       "       2017-01-20, 2017-01-21, 2017-01-22, 2017-01-23, 2017-01-24],\n",
       "      dtype='object', name='timestamp')"
      ]
     },
     "execution_count": 80,
     "metadata": {},
     "output_type": "execute_result"
    }
   ],
   "source": [
    "# Listing the objects in the index\n",
    "df_time.index"
   ]
  },
  {
   "cell_type": "code",
   "execution_count": 81,
   "metadata": {},
   "outputs": [
    {
     "name": "stdout",
     "output_type": "stream",
     "text": [
      "23 rows\n"
     ]
    }
   ],
   "source": [
    "# Converting to datetime\n",
    "df_new['timestamp'] = pd.to_datetime(df_new['timestamp']) #, format = '%Y-%m-%d %H%:M%:S%.f')\n",
    "print(df_time.shape[0], 'rows')"
   ]
  },
  {
   "cell_type": "code",
   "execution_count": 82,
   "metadata": {},
   "outputs": [
    {
     "data": {
      "text/html": [
       "<div>\n",
       "<style scoped>\n",
       "    .dataframe tbody tr th:only-of-type {\n",
       "        vertical-align: middle;\n",
       "    }\n",
       "\n",
       "    .dataframe tbody tr th {\n",
       "        vertical-align: top;\n",
       "    }\n",
       "\n",
       "    .dataframe thead th {\n",
       "        text-align: right;\n",
       "    }\n",
       "</style>\n",
       "<table border=\"1\" class=\"dataframe\">\n",
       "  <thead>\n",
       "    <tr style=\"text-align: right;\">\n",
       "      <th></th>\n",
       "      <th>converted</th>\n",
       "      <th>intercept</th>\n",
       "      <th>ab_page</th>\n",
       "      <th>US</th>\n",
       "      <th>UK</th>\n",
       "      <th>CA</th>\n",
       "      <th>ab_page_UK</th>\n",
       "      <th>ab_page_CA</th>\n",
       "      <th>index</th>\n",
       "    </tr>\n",
       "    <tr>\n",
       "      <th>timestamp</th>\n",
       "      <th></th>\n",
       "      <th></th>\n",
       "      <th></th>\n",
       "      <th></th>\n",
       "      <th></th>\n",
       "      <th></th>\n",
       "      <th></th>\n",
       "      <th></th>\n",
       "      <th></th>\n",
       "    </tr>\n",
       "  </thead>\n",
       "  <tbody>\n",
       "    <tr>\n",
       "      <th>2017-01-02</th>\n",
       "      <td>701</td>\n",
       "      <td>5712</td>\n",
       "      <td>2853.0</td>\n",
       "      <td>4028.0</td>\n",
       "      <td>1376.0</td>\n",
       "      <td>308.0</td>\n",
       "      <td>712.0</td>\n",
       "      <td>154.0</td>\n",
       "      <td>2017-01-02</td>\n",
       "    </tr>\n",
       "    <tr>\n",
       "      <th>2017-01-03</th>\n",
       "      <td>1503</td>\n",
       "      <td>13208</td>\n",
       "      <td>6618.0</td>\n",
       "      <td>9215.0</td>\n",
       "      <td>3354.0</td>\n",
       "      <td>639.0</td>\n",
       "      <td>1671.0</td>\n",
       "      <td>318.0</td>\n",
       "      <td>2017-01-03</td>\n",
       "    </tr>\n",
       "    <tr>\n",
       "      <th>2017-01-04</th>\n",
       "      <td>1565</td>\n",
       "      <td>13119</td>\n",
       "      <td>6541.0</td>\n",
       "      <td>9270.0</td>\n",
       "      <td>3184.0</td>\n",
       "      <td>665.0</td>\n",
       "      <td>1606.0</td>\n",
       "      <td>337.0</td>\n",
       "      <td>2017-01-04</td>\n",
       "    </tr>\n",
       "    <tr>\n",
       "      <th>2017-01-05</th>\n",
       "      <td>1540</td>\n",
       "      <td>12932</td>\n",
       "      <td>6505.0</td>\n",
       "      <td>9017.0</td>\n",
       "      <td>3258.0</td>\n",
       "      <td>657.0</td>\n",
       "      <td>1625.0</td>\n",
       "      <td>331.0</td>\n",
       "      <td>2017-01-05</td>\n",
       "    </tr>\n",
       "    <tr>\n",
       "      <th>2017-01-06</th>\n",
       "      <td>1595</td>\n",
       "      <td>13353</td>\n",
       "      <td>6747.0</td>\n",
       "      <td>9286.0</td>\n",
       "      <td>3379.0</td>\n",
       "      <td>688.0</td>\n",
       "      <td>1726.0</td>\n",
       "      <td>347.0</td>\n",
       "      <td>2017-01-06</td>\n",
       "    </tr>\n",
       "    <tr>\n",
       "      <th>2017-01-07</th>\n",
       "      <td>1567</td>\n",
       "      <td>13213</td>\n",
       "      <td>6609.0</td>\n",
       "      <td>9250.0</td>\n",
       "      <td>3317.0</td>\n",
       "      <td>646.0</td>\n",
       "      <td>1656.0</td>\n",
       "      <td>345.0</td>\n",
       "      <td>2017-01-07</td>\n",
       "    </tr>\n",
       "    <tr>\n",
       "      <th>2017-01-08</th>\n",
       "      <td>1604</td>\n",
       "      <td>13387</td>\n",
       "      <td>6700.0</td>\n",
       "      <td>9293.0</td>\n",
       "      <td>3451.0</td>\n",
       "      <td>643.0</td>\n",
       "      <td>1755.0</td>\n",
       "      <td>333.0</td>\n",
       "      <td>2017-01-08</td>\n",
       "    </tr>\n",
       "    <tr>\n",
       "      <th>2017-01-09</th>\n",
       "      <td>1574</td>\n",
       "      <td>13243</td>\n",
       "      <td>6615.0</td>\n",
       "      <td>9184.0</td>\n",
       "      <td>3386.0</td>\n",
       "      <td>673.0</td>\n",
       "      <td>1695.0</td>\n",
       "      <td>346.0</td>\n",
       "      <td>2017-01-09</td>\n",
       "    </tr>\n",
       "    <tr>\n",
       "      <th>2017-01-10</th>\n",
       "      <td>1597</td>\n",
       "      <td>13350</td>\n",
       "      <td>6696.0</td>\n",
       "      <td>9252.0</td>\n",
       "      <td>3440.0</td>\n",
       "      <td>658.0</td>\n",
       "      <td>1720.0</td>\n",
       "      <td>352.0</td>\n",
       "      <td>2017-01-10</td>\n",
       "    </tr>\n",
       "    <tr>\n",
       "      <th>2017-01-11</th>\n",
       "      <td>1563</td>\n",
       "      <td>13361</td>\n",
       "      <td>6673.0</td>\n",
       "      <td>9408.0</td>\n",
       "      <td>3289.0</td>\n",
       "      <td>664.0</td>\n",
       "      <td>1632.0</td>\n",
       "      <td>330.0</td>\n",
       "      <td>2017-01-11</td>\n",
       "    </tr>\n",
       "    <tr>\n",
       "      <th>2017-01-12</th>\n",
       "      <td>1608</td>\n",
       "      <td>13159</td>\n",
       "      <td>6637.0</td>\n",
       "      <td>9233.0</td>\n",
       "      <td>3258.0</td>\n",
       "      <td>668.0</td>\n",
       "      <td>1637.0</td>\n",
       "      <td>336.0</td>\n",
       "      <td>2017-01-12</td>\n",
       "    </tr>\n",
       "    <tr>\n",
       "      <th>2017-01-13</th>\n",
       "      <td>1490</td>\n",
       "      <td>13060</td>\n",
       "      <td>6508.0</td>\n",
       "      <td>9095.0</td>\n",
       "      <td>3303.0</td>\n",
       "      <td>662.0</td>\n",
       "      <td>1675.0</td>\n",
       "      <td>322.0</td>\n",
       "      <td>2017-01-13</td>\n",
       "    </tr>\n",
       "    <tr>\n",
       "      <th>2017-01-14</th>\n",
       "      <td>1617</td>\n",
       "      <td>13147</td>\n",
       "      <td>6599.0</td>\n",
       "      <td>9201.0</td>\n",
       "      <td>3287.0</td>\n",
       "      <td>659.0</td>\n",
       "      <td>1611.0</td>\n",
       "      <td>329.0</td>\n",
       "      <td>2017-01-14</td>\n",
       "    </tr>\n",
       "    <tr>\n",
       "      <th>2017-01-15</th>\n",
       "      <td>1552</td>\n",
       "      <td>13263</td>\n",
       "      <td>6549.0</td>\n",
       "      <td>9253.0</td>\n",
       "      <td>3324.0</td>\n",
       "      <td>686.0</td>\n",
       "      <td>1640.0</td>\n",
       "      <td>334.0</td>\n",
       "      <td>2017-01-15</td>\n",
       "    </tr>\n",
       "    <tr>\n",
       "      <th>2017-01-16</th>\n",
       "      <td>1583</td>\n",
       "      <td>13136</td>\n",
       "      <td>6545.0</td>\n",
       "      <td>9348.0</td>\n",
       "      <td>3178.0</td>\n",
       "      <td>610.0</td>\n",
       "      <td>1603.0</td>\n",
       "      <td>301.0</td>\n",
       "      <td>2017-01-16</td>\n",
       "    </tr>\n",
       "    <tr>\n",
       "      <th>2017-01-17</th>\n",
       "      <td>1645</td>\n",
       "      <td>13155</td>\n",
       "      <td>6538.0</td>\n",
       "      <td>9228.0</td>\n",
       "      <td>3270.0</td>\n",
       "      <td>657.0</td>\n",
       "      <td>1609.0</td>\n",
       "      <td>330.0</td>\n",
       "      <td>2017-01-17</td>\n",
       "    </tr>\n",
       "    <tr>\n",
       "      <th>2017-01-18</th>\n",
       "      <td>1633</td>\n",
       "      <td>13085</td>\n",
       "      <td>6603.0</td>\n",
       "      <td>9175.0</td>\n",
       "      <td>3237.0</td>\n",
       "      <td>673.0</td>\n",
       "      <td>1612.0</td>\n",
       "      <td>316.0</td>\n",
       "      <td>2017-01-18</td>\n",
       "    </tr>\n",
       "    <tr>\n",
       "      <th>2017-01-19</th>\n",
       "      <td>1557</td>\n",
       "      <td>13130</td>\n",
       "      <td>6552.0</td>\n",
       "      <td>9257.0</td>\n",
       "      <td>3193.0</td>\n",
       "      <td>680.0</td>\n",
       "      <td>1550.0</td>\n",
       "      <td>352.0</td>\n",
       "      <td>2017-01-19</td>\n",
       "    </tr>\n",
       "    <tr>\n",
       "      <th>2017-01-20</th>\n",
       "      <td>1539</td>\n",
       "      <td>13213</td>\n",
       "      <td>6679.0</td>\n",
       "      <td>9279.0</td>\n",
       "      <td>3293.0</td>\n",
       "      <td>641.0</td>\n",
       "      <td>1585.0</td>\n",
       "      <td>331.0</td>\n",
       "      <td>2017-01-20</td>\n",
       "    </tr>\n",
       "    <tr>\n",
       "      <th>2017-01-21</th>\n",
       "      <td>1609</td>\n",
       "      <td>13309</td>\n",
       "      <td>6560.0</td>\n",
       "      <td>9371.0</td>\n",
       "      <td>3277.0</td>\n",
       "      <td>661.0</td>\n",
       "      <td>1609.0</td>\n",
       "      <td>317.0</td>\n",
       "      <td>2017-01-21</td>\n",
       "    </tr>\n",
       "    <tr>\n",
       "      <th>2017-01-22</th>\n",
       "      <td>1573</td>\n",
       "      <td>13265</td>\n",
       "      <td>6669.0</td>\n",
       "      <td>9273.0</td>\n",
       "      <td>3349.0</td>\n",
       "      <td>643.0</td>\n",
       "      <td>1662.0</td>\n",
       "      <td>320.0</td>\n",
       "      <td>2017-01-22</td>\n",
       "    </tr>\n",
       "    <tr>\n",
       "      <th>2017-01-23</th>\n",
       "      <td>1647</td>\n",
       "      <td>13349</td>\n",
       "      <td>6633.0</td>\n",
       "      <td>9461.0</td>\n",
       "      <td>3236.0</td>\n",
       "      <td>652.0</td>\n",
       "      <td>1586.0</td>\n",
       "      <td>344.0</td>\n",
       "      <td>2017-01-23</td>\n",
       "    </tr>\n",
       "    <tr>\n",
       "      <th>2017-01-24</th>\n",
       "      <td>891</td>\n",
       "      <td>7435</td>\n",
       "      <td>3681.0</td>\n",
       "      <td>5242.0</td>\n",
       "      <td>1827.0</td>\n",
       "      <td>366.0</td>\n",
       "      <td>929.0</td>\n",
       "      <td>176.0</td>\n",
       "      <td>2017-01-24</td>\n",
       "    </tr>\n",
       "  </tbody>\n",
       "</table>\n",
       "</div>"
      ],
      "text/plain": [
       "            converted  intercept  ab_page      US      UK     CA  ab_page_UK  \\\n",
       "timestamp                                                                      \n",
       "2017-01-02        701       5712   2853.0  4028.0  1376.0  308.0       712.0   \n",
       "2017-01-03       1503      13208   6618.0  9215.0  3354.0  639.0      1671.0   \n",
       "2017-01-04       1565      13119   6541.0  9270.0  3184.0  665.0      1606.0   \n",
       "2017-01-05       1540      12932   6505.0  9017.0  3258.0  657.0      1625.0   \n",
       "2017-01-06       1595      13353   6747.0  9286.0  3379.0  688.0      1726.0   \n",
       "2017-01-07       1567      13213   6609.0  9250.0  3317.0  646.0      1656.0   \n",
       "2017-01-08       1604      13387   6700.0  9293.0  3451.0  643.0      1755.0   \n",
       "2017-01-09       1574      13243   6615.0  9184.0  3386.0  673.0      1695.0   \n",
       "2017-01-10       1597      13350   6696.0  9252.0  3440.0  658.0      1720.0   \n",
       "2017-01-11       1563      13361   6673.0  9408.0  3289.0  664.0      1632.0   \n",
       "2017-01-12       1608      13159   6637.0  9233.0  3258.0  668.0      1637.0   \n",
       "2017-01-13       1490      13060   6508.0  9095.0  3303.0  662.0      1675.0   \n",
       "2017-01-14       1617      13147   6599.0  9201.0  3287.0  659.0      1611.0   \n",
       "2017-01-15       1552      13263   6549.0  9253.0  3324.0  686.0      1640.0   \n",
       "2017-01-16       1583      13136   6545.0  9348.0  3178.0  610.0      1603.0   \n",
       "2017-01-17       1645      13155   6538.0  9228.0  3270.0  657.0      1609.0   \n",
       "2017-01-18       1633      13085   6603.0  9175.0  3237.0  673.0      1612.0   \n",
       "2017-01-19       1557      13130   6552.0  9257.0  3193.0  680.0      1550.0   \n",
       "2017-01-20       1539      13213   6679.0  9279.0  3293.0  641.0      1585.0   \n",
       "2017-01-21       1609      13309   6560.0  9371.0  3277.0  661.0      1609.0   \n",
       "2017-01-22       1573      13265   6669.0  9273.0  3349.0  643.0      1662.0   \n",
       "2017-01-23       1647      13349   6633.0  9461.0  3236.0  652.0      1586.0   \n",
       "2017-01-24        891       7435   3681.0  5242.0  1827.0  366.0       929.0   \n",
       "\n",
       "            ab_page_CA       index  \n",
       "timestamp                           \n",
       "2017-01-02       154.0  2017-01-02  \n",
       "2017-01-03       318.0  2017-01-03  \n",
       "2017-01-04       337.0  2017-01-04  \n",
       "2017-01-05       331.0  2017-01-05  \n",
       "2017-01-06       347.0  2017-01-06  \n",
       "2017-01-07       345.0  2017-01-07  \n",
       "2017-01-08       333.0  2017-01-08  \n",
       "2017-01-09       346.0  2017-01-09  \n",
       "2017-01-10       352.0  2017-01-10  \n",
       "2017-01-11       330.0  2017-01-11  \n",
       "2017-01-12       336.0  2017-01-12  \n",
       "2017-01-13       322.0  2017-01-13  \n",
       "2017-01-14       329.0  2017-01-14  \n",
       "2017-01-15       334.0  2017-01-15  \n",
       "2017-01-16       301.0  2017-01-16  \n",
       "2017-01-17       330.0  2017-01-17  \n",
       "2017-01-18       316.0  2017-01-18  \n",
       "2017-01-19       352.0  2017-01-19  \n",
       "2017-01-20       331.0  2017-01-20  \n",
       "2017-01-21       317.0  2017-01-21  \n",
       "2017-01-22       320.0  2017-01-22  \n",
       "2017-01-23       344.0  2017-01-23  \n",
       "2017-01-24       176.0  2017-01-24  "
      ]
     },
     "execution_count": 82,
     "metadata": {},
     "output_type": "execute_result"
    }
   ],
   "source": [
    "# Copying the 'timestamp' index to a new column called 'index' \n",
    "df_time['index'] = df_time.index \n",
    "df_time"
   ]
  },
  {
   "cell_type": "code",
   "execution_count": 83,
   "metadata": {},
   "outputs": [
    {
     "data": {
      "text/html": [
       "<div>\n",
       "<style scoped>\n",
       "    .dataframe tbody tr th:only-of-type {\n",
       "        vertical-align: middle;\n",
       "    }\n",
       "\n",
       "    .dataframe tbody tr th {\n",
       "        vertical-align: top;\n",
       "    }\n",
       "\n",
       "    .dataframe thead th {\n",
       "        text-align: right;\n",
       "    }\n",
       "</style>\n",
       "<table border=\"1\" class=\"dataframe\">\n",
       "  <thead>\n",
       "    <tr style=\"text-align: right;\">\n",
       "      <th></th>\n",
       "      <th>converted</th>\n",
       "      <th>intercept</th>\n",
       "      <th>ab_page</th>\n",
       "      <th>US</th>\n",
       "      <th>UK</th>\n",
       "      <th>CA</th>\n",
       "      <th>ab_page_UK</th>\n",
       "      <th>ab_page_CA</th>\n",
       "      <th>index</th>\n",
       "      <th>day</th>\n",
       "    </tr>\n",
       "    <tr>\n",
       "      <th>timestamp</th>\n",
       "      <th></th>\n",
       "      <th></th>\n",
       "      <th></th>\n",
       "      <th></th>\n",
       "      <th></th>\n",
       "      <th></th>\n",
       "      <th></th>\n",
       "      <th></th>\n",
       "      <th></th>\n",
       "      <th></th>\n",
       "    </tr>\n",
       "  </thead>\n",
       "  <tbody>\n",
       "    <tr>\n",
       "      <th>2017-01-02</th>\n",
       "      <td>701</td>\n",
       "      <td>5712</td>\n",
       "      <td>2853.0</td>\n",
       "      <td>4028.0</td>\n",
       "      <td>1376.0</td>\n",
       "      <td>308.0</td>\n",
       "      <td>712.0</td>\n",
       "      <td>154.0</td>\n",
       "      <td>2017-01-02</td>\n",
       "      <td>1</td>\n",
       "    </tr>\n",
       "    <tr>\n",
       "      <th>2017-01-03</th>\n",
       "      <td>1503</td>\n",
       "      <td>13208</td>\n",
       "      <td>6618.0</td>\n",
       "      <td>9215.0</td>\n",
       "      <td>3354.0</td>\n",
       "      <td>639.0</td>\n",
       "      <td>1671.0</td>\n",
       "      <td>318.0</td>\n",
       "      <td>2017-01-03</td>\n",
       "      <td>2</td>\n",
       "    </tr>\n",
       "    <tr>\n",
       "      <th>2017-01-04</th>\n",
       "      <td>1565</td>\n",
       "      <td>13119</td>\n",
       "      <td>6541.0</td>\n",
       "      <td>9270.0</td>\n",
       "      <td>3184.0</td>\n",
       "      <td>665.0</td>\n",
       "      <td>1606.0</td>\n",
       "      <td>337.0</td>\n",
       "      <td>2017-01-04</td>\n",
       "      <td>3</td>\n",
       "    </tr>\n",
       "    <tr>\n",
       "      <th>2017-01-05</th>\n",
       "      <td>1540</td>\n",
       "      <td>12932</td>\n",
       "      <td>6505.0</td>\n",
       "      <td>9017.0</td>\n",
       "      <td>3258.0</td>\n",
       "      <td>657.0</td>\n",
       "      <td>1625.0</td>\n",
       "      <td>331.0</td>\n",
       "      <td>2017-01-05</td>\n",
       "      <td>4</td>\n",
       "    </tr>\n",
       "    <tr>\n",
       "      <th>2017-01-06</th>\n",
       "      <td>1595</td>\n",
       "      <td>13353</td>\n",
       "      <td>6747.0</td>\n",
       "      <td>9286.0</td>\n",
       "      <td>3379.0</td>\n",
       "      <td>688.0</td>\n",
       "      <td>1726.0</td>\n",
       "      <td>347.0</td>\n",
       "      <td>2017-01-06</td>\n",
       "      <td>5</td>\n",
       "    </tr>\n",
       "    <tr>\n",
       "      <th>2017-01-07</th>\n",
       "      <td>1567</td>\n",
       "      <td>13213</td>\n",
       "      <td>6609.0</td>\n",
       "      <td>9250.0</td>\n",
       "      <td>3317.0</td>\n",
       "      <td>646.0</td>\n",
       "      <td>1656.0</td>\n",
       "      <td>345.0</td>\n",
       "      <td>2017-01-07</td>\n",
       "      <td>6</td>\n",
       "    </tr>\n",
       "    <tr>\n",
       "      <th>2017-01-08</th>\n",
       "      <td>1604</td>\n",
       "      <td>13387</td>\n",
       "      <td>6700.0</td>\n",
       "      <td>9293.0</td>\n",
       "      <td>3451.0</td>\n",
       "      <td>643.0</td>\n",
       "      <td>1755.0</td>\n",
       "      <td>333.0</td>\n",
       "      <td>2017-01-08</td>\n",
       "      <td>7</td>\n",
       "    </tr>\n",
       "    <tr>\n",
       "      <th>2017-01-09</th>\n",
       "      <td>1574</td>\n",
       "      <td>13243</td>\n",
       "      <td>6615.0</td>\n",
       "      <td>9184.0</td>\n",
       "      <td>3386.0</td>\n",
       "      <td>673.0</td>\n",
       "      <td>1695.0</td>\n",
       "      <td>346.0</td>\n",
       "      <td>2017-01-09</td>\n",
       "      <td>1</td>\n",
       "    </tr>\n",
       "    <tr>\n",
       "      <th>2017-01-10</th>\n",
       "      <td>1597</td>\n",
       "      <td>13350</td>\n",
       "      <td>6696.0</td>\n",
       "      <td>9252.0</td>\n",
       "      <td>3440.0</td>\n",
       "      <td>658.0</td>\n",
       "      <td>1720.0</td>\n",
       "      <td>352.0</td>\n",
       "      <td>2017-01-10</td>\n",
       "      <td>2</td>\n",
       "    </tr>\n",
       "    <tr>\n",
       "      <th>2017-01-11</th>\n",
       "      <td>1563</td>\n",
       "      <td>13361</td>\n",
       "      <td>6673.0</td>\n",
       "      <td>9408.0</td>\n",
       "      <td>3289.0</td>\n",
       "      <td>664.0</td>\n",
       "      <td>1632.0</td>\n",
       "      <td>330.0</td>\n",
       "      <td>2017-01-11</td>\n",
       "      <td>3</td>\n",
       "    </tr>\n",
       "    <tr>\n",
       "      <th>2017-01-12</th>\n",
       "      <td>1608</td>\n",
       "      <td>13159</td>\n",
       "      <td>6637.0</td>\n",
       "      <td>9233.0</td>\n",
       "      <td>3258.0</td>\n",
       "      <td>668.0</td>\n",
       "      <td>1637.0</td>\n",
       "      <td>336.0</td>\n",
       "      <td>2017-01-12</td>\n",
       "      <td>4</td>\n",
       "    </tr>\n",
       "    <tr>\n",
       "      <th>2017-01-13</th>\n",
       "      <td>1490</td>\n",
       "      <td>13060</td>\n",
       "      <td>6508.0</td>\n",
       "      <td>9095.0</td>\n",
       "      <td>3303.0</td>\n",
       "      <td>662.0</td>\n",
       "      <td>1675.0</td>\n",
       "      <td>322.0</td>\n",
       "      <td>2017-01-13</td>\n",
       "      <td>5</td>\n",
       "    </tr>\n",
       "    <tr>\n",
       "      <th>2017-01-14</th>\n",
       "      <td>1617</td>\n",
       "      <td>13147</td>\n",
       "      <td>6599.0</td>\n",
       "      <td>9201.0</td>\n",
       "      <td>3287.0</td>\n",
       "      <td>659.0</td>\n",
       "      <td>1611.0</td>\n",
       "      <td>329.0</td>\n",
       "      <td>2017-01-14</td>\n",
       "      <td>6</td>\n",
       "    </tr>\n",
       "    <tr>\n",
       "      <th>2017-01-15</th>\n",
       "      <td>1552</td>\n",
       "      <td>13263</td>\n",
       "      <td>6549.0</td>\n",
       "      <td>9253.0</td>\n",
       "      <td>3324.0</td>\n",
       "      <td>686.0</td>\n",
       "      <td>1640.0</td>\n",
       "      <td>334.0</td>\n",
       "      <td>2017-01-15</td>\n",
       "      <td>7</td>\n",
       "    </tr>\n",
       "    <tr>\n",
       "      <th>2017-01-16</th>\n",
       "      <td>1583</td>\n",
       "      <td>13136</td>\n",
       "      <td>6545.0</td>\n",
       "      <td>9348.0</td>\n",
       "      <td>3178.0</td>\n",
       "      <td>610.0</td>\n",
       "      <td>1603.0</td>\n",
       "      <td>301.0</td>\n",
       "      <td>2017-01-16</td>\n",
       "      <td>1</td>\n",
       "    </tr>\n",
       "    <tr>\n",
       "      <th>2017-01-17</th>\n",
       "      <td>1645</td>\n",
       "      <td>13155</td>\n",
       "      <td>6538.0</td>\n",
       "      <td>9228.0</td>\n",
       "      <td>3270.0</td>\n",
       "      <td>657.0</td>\n",
       "      <td>1609.0</td>\n",
       "      <td>330.0</td>\n",
       "      <td>2017-01-17</td>\n",
       "      <td>2</td>\n",
       "    </tr>\n",
       "    <tr>\n",
       "      <th>2017-01-18</th>\n",
       "      <td>1633</td>\n",
       "      <td>13085</td>\n",
       "      <td>6603.0</td>\n",
       "      <td>9175.0</td>\n",
       "      <td>3237.0</td>\n",
       "      <td>673.0</td>\n",
       "      <td>1612.0</td>\n",
       "      <td>316.0</td>\n",
       "      <td>2017-01-18</td>\n",
       "      <td>3</td>\n",
       "    </tr>\n",
       "    <tr>\n",
       "      <th>2017-01-19</th>\n",
       "      <td>1557</td>\n",
       "      <td>13130</td>\n",
       "      <td>6552.0</td>\n",
       "      <td>9257.0</td>\n",
       "      <td>3193.0</td>\n",
       "      <td>680.0</td>\n",
       "      <td>1550.0</td>\n",
       "      <td>352.0</td>\n",
       "      <td>2017-01-19</td>\n",
       "      <td>4</td>\n",
       "    </tr>\n",
       "    <tr>\n",
       "      <th>2017-01-20</th>\n",
       "      <td>1539</td>\n",
       "      <td>13213</td>\n",
       "      <td>6679.0</td>\n",
       "      <td>9279.0</td>\n",
       "      <td>3293.0</td>\n",
       "      <td>641.0</td>\n",
       "      <td>1585.0</td>\n",
       "      <td>331.0</td>\n",
       "      <td>2017-01-20</td>\n",
       "      <td>5</td>\n",
       "    </tr>\n",
       "    <tr>\n",
       "      <th>2017-01-21</th>\n",
       "      <td>1609</td>\n",
       "      <td>13309</td>\n",
       "      <td>6560.0</td>\n",
       "      <td>9371.0</td>\n",
       "      <td>3277.0</td>\n",
       "      <td>661.0</td>\n",
       "      <td>1609.0</td>\n",
       "      <td>317.0</td>\n",
       "      <td>2017-01-21</td>\n",
       "      <td>6</td>\n",
       "    </tr>\n",
       "    <tr>\n",
       "      <th>2017-01-22</th>\n",
       "      <td>1573</td>\n",
       "      <td>13265</td>\n",
       "      <td>6669.0</td>\n",
       "      <td>9273.0</td>\n",
       "      <td>3349.0</td>\n",
       "      <td>643.0</td>\n",
       "      <td>1662.0</td>\n",
       "      <td>320.0</td>\n",
       "      <td>2017-01-22</td>\n",
       "      <td>7</td>\n",
       "    </tr>\n",
       "    <tr>\n",
       "      <th>2017-01-23</th>\n",
       "      <td>1647</td>\n",
       "      <td>13349</td>\n",
       "      <td>6633.0</td>\n",
       "      <td>9461.0</td>\n",
       "      <td>3236.0</td>\n",
       "      <td>652.0</td>\n",
       "      <td>1586.0</td>\n",
       "      <td>344.0</td>\n",
       "      <td>2017-01-23</td>\n",
       "      <td>1</td>\n",
       "    </tr>\n",
       "    <tr>\n",
       "      <th>2017-01-24</th>\n",
       "      <td>891</td>\n",
       "      <td>7435</td>\n",
       "      <td>3681.0</td>\n",
       "      <td>5242.0</td>\n",
       "      <td>1827.0</td>\n",
       "      <td>366.0</td>\n",
       "      <td>929.0</td>\n",
       "      <td>176.0</td>\n",
       "      <td>2017-01-24</td>\n",
       "      <td>2</td>\n",
       "    </tr>\n",
       "  </tbody>\n",
       "</table>\n",
       "</div>"
      ],
      "text/plain": [
       "            converted  intercept  ab_page      US      UK     CA  ab_page_UK  \\\n",
       "timestamp                                                                      \n",
       "2017-01-02        701       5712   2853.0  4028.0  1376.0  308.0       712.0   \n",
       "2017-01-03       1503      13208   6618.0  9215.0  3354.0  639.0      1671.0   \n",
       "2017-01-04       1565      13119   6541.0  9270.0  3184.0  665.0      1606.0   \n",
       "2017-01-05       1540      12932   6505.0  9017.0  3258.0  657.0      1625.0   \n",
       "2017-01-06       1595      13353   6747.0  9286.0  3379.0  688.0      1726.0   \n",
       "2017-01-07       1567      13213   6609.0  9250.0  3317.0  646.0      1656.0   \n",
       "2017-01-08       1604      13387   6700.0  9293.0  3451.0  643.0      1755.0   \n",
       "2017-01-09       1574      13243   6615.0  9184.0  3386.0  673.0      1695.0   \n",
       "2017-01-10       1597      13350   6696.0  9252.0  3440.0  658.0      1720.0   \n",
       "2017-01-11       1563      13361   6673.0  9408.0  3289.0  664.0      1632.0   \n",
       "2017-01-12       1608      13159   6637.0  9233.0  3258.0  668.0      1637.0   \n",
       "2017-01-13       1490      13060   6508.0  9095.0  3303.0  662.0      1675.0   \n",
       "2017-01-14       1617      13147   6599.0  9201.0  3287.0  659.0      1611.0   \n",
       "2017-01-15       1552      13263   6549.0  9253.0  3324.0  686.0      1640.0   \n",
       "2017-01-16       1583      13136   6545.0  9348.0  3178.0  610.0      1603.0   \n",
       "2017-01-17       1645      13155   6538.0  9228.0  3270.0  657.0      1609.0   \n",
       "2017-01-18       1633      13085   6603.0  9175.0  3237.0  673.0      1612.0   \n",
       "2017-01-19       1557      13130   6552.0  9257.0  3193.0  680.0      1550.0   \n",
       "2017-01-20       1539      13213   6679.0  9279.0  3293.0  641.0      1585.0   \n",
       "2017-01-21       1609      13309   6560.0  9371.0  3277.0  661.0      1609.0   \n",
       "2017-01-22       1573      13265   6669.0  9273.0  3349.0  643.0      1662.0   \n",
       "2017-01-23       1647      13349   6633.0  9461.0  3236.0  652.0      1586.0   \n",
       "2017-01-24        891       7435   3681.0  5242.0  1827.0  366.0       929.0   \n",
       "\n",
       "            ab_page_CA       index day  \n",
       "timestamp                               \n",
       "2017-01-02       154.0  2017-01-02   1  \n",
       "2017-01-03       318.0  2017-01-03   2  \n",
       "2017-01-04       337.0  2017-01-04   3  \n",
       "2017-01-05       331.0  2017-01-05   4  \n",
       "2017-01-06       347.0  2017-01-06   5  \n",
       "2017-01-07       345.0  2017-01-07   6  \n",
       "2017-01-08       333.0  2017-01-08   7  \n",
       "2017-01-09       346.0  2017-01-09   1  \n",
       "2017-01-10       352.0  2017-01-10   2  \n",
       "2017-01-11       330.0  2017-01-11   3  \n",
       "2017-01-12       336.0  2017-01-12   4  \n",
       "2017-01-13       322.0  2017-01-13   5  \n",
       "2017-01-14       329.0  2017-01-14   6  \n",
       "2017-01-15       334.0  2017-01-15   7  \n",
       "2017-01-16       301.0  2017-01-16   1  \n",
       "2017-01-17       330.0  2017-01-17   2  \n",
       "2017-01-18       316.0  2017-01-18   3  \n",
       "2017-01-19       352.0  2017-01-19   4  \n",
       "2017-01-20       331.0  2017-01-20   5  \n",
       "2017-01-21       317.0  2017-01-21   6  \n",
       "2017-01-22       320.0  2017-01-22   7  \n",
       "2017-01-23       344.0  2017-01-23   1  \n",
       "2017-01-24       176.0  2017-01-24   2  "
      ]
     },
     "execution_count": 83,
     "metadata": {},
     "output_type": "execute_result"
    }
   ],
   "source": [
    "# Labelling the dates to numbers so I can order them in the index by descending order\n",
    "df_time['day'] = '1','2', '3', '4', '5', '6', '7','1', '2', '3', '4', '5', '6', '7', '1','2', '3', '4', '5', '6', '7', '1','2'\n",
    "df_time"
   ]
  },
  {
   "cell_type": "code",
   "execution_count": 84,
   "metadata": {},
   "outputs": [
    {
     "data": {
      "text/html": [
       "<div>\n",
       "<style scoped>\n",
       "    .dataframe tbody tr th:only-of-type {\n",
       "        vertical-align: middle;\n",
       "    }\n",
       "\n",
       "    .dataframe tbody tr th {\n",
       "        vertical-align: top;\n",
       "    }\n",
       "\n",
       "    .dataframe thead th {\n",
       "        text-align: right;\n",
       "    }\n",
       "</style>\n",
       "<table border=\"1\" class=\"dataframe\">\n",
       "  <thead>\n",
       "    <tr style=\"text-align: right;\">\n",
       "      <th></th>\n",
       "      <th>converted</th>\n",
       "      <th>intercept</th>\n",
       "      <th>ab_page</th>\n",
       "      <th>US</th>\n",
       "      <th>UK</th>\n",
       "      <th>CA</th>\n",
       "      <th>ab_page_UK</th>\n",
       "      <th>ab_page_CA</th>\n",
       "    </tr>\n",
       "    <tr>\n",
       "      <th>day</th>\n",
       "      <th></th>\n",
       "      <th></th>\n",
       "      <th></th>\n",
       "      <th></th>\n",
       "      <th></th>\n",
       "      <th></th>\n",
       "      <th></th>\n",
       "      <th></th>\n",
       "    </tr>\n",
       "  </thead>\n",
       "  <tbody>\n",
       "    <tr>\n",
       "      <th>Mon</th>\n",
       "      <td>5505</td>\n",
       "      <td>45440</td>\n",
       "      <td>22646.0</td>\n",
       "      <td>32021.0</td>\n",
       "      <td>11176.0</td>\n",
       "      <td>2243.0</td>\n",
       "      <td>5596.0</td>\n",
       "      <td>1145.0</td>\n",
       "    </tr>\n",
       "    <tr>\n",
       "      <th>Tue</th>\n",
       "      <td>5636</td>\n",
       "      <td>47148</td>\n",
       "      <td>23533.0</td>\n",
       "      <td>32937.0</td>\n",
       "      <td>11891.0</td>\n",
       "      <td>2320.0</td>\n",
       "      <td>5929.0</td>\n",
       "      <td>1176.0</td>\n",
       "    </tr>\n",
       "    <tr>\n",
       "      <th>Wed</th>\n",
       "      <td>4761</td>\n",
       "      <td>39565</td>\n",
       "      <td>19817.0</td>\n",
       "      <td>27853.0</td>\n",
       "      <td>9710.0</td>\n",
       "      <td>2002.0</td>\n",
       "      <td>4850.0</td>\n",
       "      <td>983.0</td>\n",
       "    </tr>\n",
       "    <tr>\n",
       "      <th>Thu</th>\n",
       "      <td>4705</td>\n",
       "      <td>39221</td>\n",
       "      <td>19694.0</td>\n",
       "      <td>27507.0</td>\n",
       "      <td>9709.0</td>\n",
       "      <td>2005.0</td>\n",
       "      <td>4812.0</td>\n",
       "      <td>1019.0</td>\n",
       "    </tr>\n",
       "    <tr>\n",
       "      <th>Fri</th>\n",
       "      <td>4624</td>\n",
       "      <td>39626</td>\n",
       "      <td>19934.0</td>\n",
       "      <td>27660.0</td>\n",
       "      <td>9975.0</td>\n",
       "      <td>1991.0</td>\n",
       "      <td>4986.0</td>\n",
       "      <td>1000.0</td>\n",
       "    </tr>\n",
       "    <tr>\n",
       "      <th>Sat</th>\n",
       "      <td>4793</td>\n",
       "      <td>39669</td>\n",
       "      <td>19768.0</td>\n",
       "      <td>27822.0</td>\n",
       "      <td>9881.0</td>\n",
       "      <td>1966.0</td>\n",
       "      <td>4876.0</td>\n",
       "      <td>991.0</td>\n",
       "    </tr>\n",
       "    <tr>\n",
       "      <th>Sun</th>\n",
       "      <td>4729</td>\n",
       "      <td>39915</td>\n",
       "      <td>19918.0</td>\n",
       "      <td>27819.0</td>\n",
       "      <td>10124.0</td>\n",
       "      <td>1972.0</td>\n",
       "      <td>5057.0</td>\n",
       "      <td>987.0</td>\n",
       "    </tr>\n",
       "  </tbody>\n",
       "</table>\n",
       "</div>"
      ],
      "text/plain": [
       "     converted  intercept  ab_page       US       UK      CA  ab_page_UK  \\\n",
       "day                                                                        \n",
       "Mon       5505      45440  22646.0  32021.0  11176.0  2243.0      5596.0   \n",
       "Tue       5636      47148  23533.0  32937.0  11891.0  2320.0      5929.0   \n",
       "Wed       4761      39565  19817.0  27853.0   9710.0  2002.0      4850.0   \n",
       "Thu       4705      39221  19694.0  27507.0   9709.0  2005.0      4812.0   \n",
       "Fri       4624      39626  19934.0  27660.0   9975.0  1991.0      4986.0   \n",
       "Sat       4793      39669  19768.0  27822.0   9881.0  1966.0      4876.0   \n",
       "Sun       4729      39915  19918.0  27819.0  10124.0  1972.0      5057.0   \n",
       "\n",
       "     ab_page_CA  \n",
       "day              \n",
       "Mon      1145.0  \n",
       "Tue      1176.0  \n",
       "Wed       983.0  \n",
       "Thu      1019.0  \n",
       "Fri      1000.0  \n",
       "Sat       991.0  \n",
       "Sun       987.0  "
      ]
     },
     "execution_count": 84,
     "metadata": {},
     "output_type": "execute_result"
    }
   ],
   "source": [
    "# Grouping all the days by number so all days that = 1 are Mondays, 2 are Tuesdays etc.\n",
    "df_day = df_time.groupby('day').sum()\n",
    "df_day.rename(index={'1': 'Mon', '2': 'Tue', '3': 'Wed', '4': 'Thu', '5': 'Fri', '6': 'Sat', '7': 'Sun'}, inplace=True)\n",
    "df_day"
   ]
  },
  {
   "cell_type": "code",
   "execution_count": 85,
   "metadata": {},
   "outputs": [
    {
     "data": {
      "image/png": "[encoded data removed]",
      "text/plain": [
       "<Figure size 576x432 with 1 Axes>"
      ]
     },
     "metadata": {
      "needs_background": "light"
     },
     "output_type": "display_data"
    }
   ],
   "source": [
    "# Importing a new library to parse the datetime entries\n",
    "from pandas.plotting import register_matplotlib_converters\n",
    "register_matplotlib_converters()\n",
    "\n",
    "# Adding variables\n",
    "x = df_day.index\n",
    "y = df_day['converted']\n",
    "\n",
    "# Plotting our bar chart\n",
    "plt.figure(figsize=(8,6)) # Add before plotting\n",
    "plt.bar(x,y, color='orange')\n",
    "\n",
    "# Labelling our bar chart\n",
    "plt.title('Conversion Rate vs Day', fontsize=15)\n",
    "plt.xlabel('Day', fontsize=13)\n",
    "plt.ylabel('Conversions', fontsize=13)\n",
    "plt.show()"
   ]
  },
  {
   "cell_type": "markdown",
   "metadata": {},
   "source": [
    "We can see that the most conversions occur on Tuesday followed by Monday. The middle of the week performs the worst with the weekend improving on conversions."
   ]
  },
  {
   "cell_type": "code",
   "execution_count": 86,
   "metadata": {},
   "outputs": [
    {
     "data": {
      "text/html": [
       "<div>\n",
       "<style scoped>\n",
       "    .dataframe tbody tr th:only-of-type {\n",
       "        vertical-align: middle;\n",
       "    }\n",
       "\n",
       "    .dataframe tbody tr th {\n",
       "        vertical-align: top;\n",
       "    }\n",
       "\n",
       "    .dataframe thead th {\n",
       "        text-align: right;\n",
       "    }\n",
       "</style>\n",
       "<table border=\"1\" class=\"dataframe\">\n",
       "  <thead>\n",
       "    <tr style=\"text-align: right;\">\n",
       "      <th></th>\n",
       "      <th>country</th>\n",
       "      <th>timestamp</th>\n",
       "      <th>group</th>\n",
       "      <th>landing_page</th>\n",
       "      <th>converted</th>\n",
       "      <th>intercept</th>\n",
       "      <th>ab_page</th>\n",
       "      <th>US</th>\n",
       "      <th>UK</th>\n",
       "      <th>CA</th>\n",
       "      <th>ab_page_UK</th>\n",
       "      <th>ab_page_CA</th>\n",
       "    </tr>\n",
       "    <tr>\n",
       "      <th>user_id</th>\n",
       "      <th></th>\n",
       "      <th></th>\n",
       "      <th></th>\n",
       "      <th></th>\n",
       "      <th></th>\n",
       "      <th></th>\n",
       "      <th></th>\n",
       "      <th></th>\n",
       "      <th></th>\n",
       "      <th></th>\n",
       "      <th></th>\n",
       "      <th></th>\n",
       "    </tr>\n",
       "  </thead>\n",
       "  <tbody>\n",
       "    <tr>\n",
       "      <th>834778</th>\n",
       "      <td>UK</td>\n",
       "      <td>2017-01-14 23:08:43.304998</td>\n",
       "      <td>control</td>\n",
       "      <td>old_page</td>\n",
       "      <td>0</td>\n",
       "      <td>1</td>\n",
       "      <td>0</td>\n",
       "      <td>0</td>\n",
       "      <td>1</td>\n",
       "      <td>0</td>\n",
       "      <td>0</td>\n",
       "      <td>0</td>\n",
       "    </tr>\n",
       "    <tr>\n",
       "      <th>928468</th>\n",
       "      <td>US</td>\n",
       "      <td>2017-01-23 14:44:16.387854</td>\n",
       "      <td>treatment</td>\n",
       "      <td>new_page</td>\n",
       "      <td>0</td>\n",
       "      <td>1</td>\n",
       "      <td>1</td>\n",
       "      <td>1</td>\n",
       "      <td>0</td>\n",
       "      <td>0</td>\n",
       "      <td>0</td>\n",
       "      <td>0</td>\n",
       "    </tr>\n",
       "    <tr>\n",
       "      <th>822059</th>\n",
       "      <td>UK</td>\n",
       "      <td>2017-01-16 14:04:14.719771</td>\n",
       "      <td>treatment</td>\n",
       "      <td>new_page</td>\n",
       "      <td>1</td>\n",
       "      <td>1</td>\n",
       "      <td>1</td>\n",
       "      <td>0</td>\n",
       "      <td>1</td>\n",
       "      <td>0</td>\n",
       "      <td>1</td>\n",
       "      <td>0</td>\n",
       "    </tr>\n",
       "    <tr>\n",
       "      <th>711597</th>\n",
       "      <td>UK</td>\n",
       "      <td>2017-01-22 03:14:24.763511</td>\n",
       "      <td>control</td>\n",
       "      <td>old_page</td>\n",
       "      <td>0</td>\n",
       "      <td>1</td>\n",
       "      <td>0</td>\n",
       "      <td>0</td>\n",
       "      <td>1</td>\n",
       "      <td>0</td>\n",
       "      <td>0</td>\n",
       "      <td>0</td>\n",
       "    </tr>\n",
       "    <tr>\n",
       "      <th>710616</th>\n",
       "      <td>UK</td>\n",
       "      <td>2017-01-16 13:14:44.000513</td>\n",
       "      <td>treatment</td>\n",
       "      <td>new_page</td>\n",
       "      <td>0</td>\n",
       "      <td>1</td>\n",
       "      <td>1</td>\n",
       "      <td>0</td>\n",
       "      <td>1</td>\n",
       "      <td>0</td>\n",
       "      <td>1</td>\n",
       "      <td>0</td>\n",
       "    </tr>\n",
       "  </tbody>\n",
       "</table>\n",
       "</div>"
      ],
      "text/plain": [
       "        country                  timestamp      group landing_page  converted  \\\n",
       "user_id                                                                         \n",
       "834778       UK 2017-01-14 23:08:43.304998    control     old_page          0   \n",
       "928468       US 2017-01-23 14:44:16.387854  treatment     new_page          0   \n",
       "822059       UK 2017-01-16 14:04:14.719771  treatment     new_page          1   \n",
       "711597       UK 2017-01-22 03:14:24.763511    control     old_page          0   \n",
       "710616       UK 2017-01-16 13:14:44.000513  treatment     new_page          0   \n",
       "\n",
       "         intercept  ab_page  US  UK  CA  ab_page_UK  ab_page_CA  \n",
       "user_id                                                          \n",
       "834778           1        0   0   1   0           0           0  \n",
       "928468           1        1   1   0   0           0           0  \n",
       "822059           1        1   0   1   0           1           0  \n",
       "711597           1        0   0   1   0           0           0  \n",
       "710616           1        1   0   1   0           1           0  "
      ]
     },
     "execution_count": 86,
     "metadata": {},
     "output_type": "execute_result"
    }
   ],
   "source": [
    "df_new.head()"
   ]
  },
  {
   "cell_type": "code",
   "execution_count": 87,
   "metadata": {},
   "outputs": [
    {
     "data": {
      "text/plain": [
       "country                 object\n",
       "timestamp       datetime64[ns]\n",
       "group                   object\n",
       "landing_page            object\n",
       "converted                int64\n",
       "intercept                int64\n",
       "ab_page                  uint8\n",
       "US                       uint8\n",
       "UK                       uint8\n",
       "CA                       uint8\n",
       "ab_page_UK               uint8\n",
       "ab_page_CA               uint8\n",
       "dtype: object"
      ]
     },
     "execution_count": 87,
     "metadata": {},
     "output_type": "execute_result"
    }
   ],
   "source": [
    "df_new.dtypes"
   ]
  },
  {
   "cell_type": "code",
   "execution_count": 88,
   "metadata": {},
   "outputs": [
    {
     "data": {
      "text/plain": [
       "['country',\n",
       " 'timestamp',\n",
       " 'group',\n",
       " 'landing_page',\n",
       " 'converted',\n",
       " 'intercept',\n",
       " 'ab_page',\n",
       " 'US',\n",
       " 'UK',\n",
       " 'CA',\n",
       " 'ab_page_UK',\n",
       " 'ab_page_CA']"
      ]
     },
     "execution_count": 88,
     "metadata": {},
     "output_type": "execute_result"
    }
   ],
   "source": [
    "list(df_new.columns.values)"
   ]
  },
  {
   "cell_type": "code",
   "execution_count": 89,
   "metadata": {},
   "outputs": [
    {
     "data": {
      "text/html": [
       "<div>\n",
       "<style scoped>\n",
       "    .dataframe tbody tr th:only-of-type {\n",
       "        vertical-align: middle;\n",
       "    }\n",
       "\n",
       "    .dataframe tbody tr th {\n",
       "        vertical-align: top;\n",
       "    }\n",
       "\n",
       "    .dataframe thead th {\n",
       "        text-align: right;\n",
       "    }\n",
       "</style>\n",
       "<table border=\"1\" class=\"dataframe\">\n",
       "  <thead>\n",
       "    <tr style=\"text-align: right;\">\n",
       "      <th></th>\n",
       "      <th>country</th>\n",
       "      <th>timestamp</th>\n",
       "      <th>group</th>\n",
       "      <th>landing_page</th>\n",
       "      <th>converted</th>\n",
       "      <th>intercept</th>\n",
       "      <th>ab_page</th>\n",
       "      <th>US</th>\n",
       "      <th>UK</th>\n",
       "      <th>CA</th>\n",
       "      <th>ab_page_UK</th>\n",
       "      <th>ab_page_CA</th>\n",
       "      <th>EW</th>\n",
       "    </tr>\n",
       "    <tr>\n",
       "      <th>user_id</th>\n",
       "      <th></th>\n",
       "      <th></th>\n",
       "      <th></th>\n",
       "      <th></th>\n",
       "      <th></th>\n",
       "      <th></th>\n",
       "      <th></th>\n",
       "      <th></th>\n",
       "      <th></th>\n",
       "      <th></th>\n",
       "      <th></th>\n",
       "      <th></th>\n",
       "      <th></th>\n",
       "    </tr>\n",
       "  </thead>\n",
       "  <tbody>\n",
       "    <tr>\n",
       "      <th>834778</th>\n",
       "      <td>UK</td>\n",
       "      <td>2017-01-14 23:08:43.304998</td>\n",
       "      <td>control</td>\n",
       "      <td>old_page</td>\n",
       "      <td>0</td>\n",
       "      <td>1</td>\n",
       "      <td>0</td>\n",
       "      <td>0</td>\n",
       "      <td>1</td>\n",
       "      <td>0</td>\n",
       "      <td>0</td>\n",
       "      <td>0</td>\n",
       "      <td>0</td>\n",
       "    </tr>\n",
       "    <tr>\n",
       "      <th>928468</th>\n",
       "      <td>US</td>\n",
       "      <td>2017-01-23 14:44:16.387854</td>\n",
       "      <td>treatment</td>\n",
       "      <td>new_page</td>\n",
       "      <td>0</td>\n",
       "      <td>1</td>\n",
       "      <td>1</td>\n",
       "      <td>1</td>\n",
       "      <td>0</td>\n",
       "      <td>0</td>\n",
       "      <td>0</td>\n",
       "      <td>0</td>\n",
       "      <td>1</td>\n",
       "    </tr>\n",
       "    <tr>\n",
       "      <th>822059</th>\n",
       "      <td>UK</td>\n",
       "      <td>2017-01-16 14:04:14.719771</td>\n",
       "      <td>treatment</td>\n",
       "      <td>new_page</td>\n",
       "      <td>1</td>\n",
       "      <td>1</td>\n",
       "      <td>1</td>\n",
       "      <td>0</td>\n",
       "      <td>1</td>\n",
       "      <td>0</td>\n",
       "      <td>1</td>\n",
       "      <td>0</td>\n",
       "      <td>1</td>\n",
       "    </tr>\n",
       "    <tr>\n",
       "      <th>711597</th>\n",
       "      <td>UK</td>\n",
       "      <td>2017-01-22 03:14:24.763511</td>\n",
       "      <td>control</td>\n",
       "      <td>old_page</td>\n",
       "      <td>0</td>\n",
       "      <td>1</td>\n",
       "      <td>0</td>\n",
       "      <td>0</td>\n",
       "      <td>1</td>\n",
       "      <td>0</td>\n",
       "      <td>0</td>\n",
       "      <td>0</td>\n",
       "      <td>0</td>\n",
       "    </tr>\n",
       "    <tr>\n",
       "      <th>710616</th>\n",
       "      <td>UK</td>\n",
       "      <td>2017-01-16 13:14:44.000513</td>\n",
       "      <td>treatment</td>\n",
       "      <td>new_page</td>\n",
       "      <td>0</td>\n",
       "      <td>1</td>\n",
       "      <td>1</td>\n",
       "      <td>0</td>\n",
       "      <td>1</td>\n",
       "      <td>0</td>\n",
       "      <td>1</td>\n",
       "      <td>0</td>\n",
       "      <td>1</td>\n",
       "    </tr>\n",
       "  </tbody>\n",
       "</table>\n",
       "</div>"
      ],
      "text/plain": [
       "        country                  timestamp      group landing_page  converted  \\\n",
       "user_id                                                                         \n",
       "834778       UK 2017-01-14 23:08:43.304998    control     old_page          0   \n",
       "928468       US 2017-01-23 14:44:16.387854  treatment     new_page          0   \n",
       "822059       UK 2017-01-16 14:04:14.719771  treatment     new_page          1   \n",
       "711597       UK 2017-01-22 03:14:24.763511    control     old_page          0   \n",
       "710616       UK 2017-01-16 13:14:44.000513  treatment     new_page          0   \n",
       "\n",
       "         intercept  ab_page  US  UK  CA  ab_page_UK  ab_page_CA  EW  \n",
       "user_id                                                              \n",
       "834778           1        0   0   1   0           0           0   0  \n",
       "928468           1        1   1   0   0           0           0   1  \n",
       "822059           1        1   0   1   0           1           0   1  \n",
       "711597           1        0   0   1   0           0           0   0  \n",
       "710616           1        1   0   1   0           1           0   1  "
      ]
     },
     "execution_count": 89,
     "metadata": {},
     "output_type": "execute_result"
    }
   ],
   "source": [
    "# Monday and Tuesday = 'EW' or Early Week (2,3,9,10,16,17,23,24)\n",
    "# Week 1\n",
    "df_new['EW2'] = (pd.to_datetime(df_new['timestamp'].astype(str)).dt.day == 2).astype(int)\n",
    "df_new['EW3'] = (pd.to_datetime(df_new['timestamp'].astype(str)).dt.day == 3).astype(int)\n",
    "# Week 2\n",
    "df_new['EW9'] = (pd.to_datetime(df_new['timestamp'].astype(str)).dt.day == 9).astype(int)\n",
    "df_new['EW10'] = (pd.to_datetime(df_new['timestamp'].astype(str)).dt.day == 10).astype(int)\n",
    "# Week 3\n",
    "df_new['EW16'] = (pd.to_datetime(df_new['timestamp'].astype(str)).dt.day == 16).astype(int)\n",
    "df_new['EW17'] = (pd.to_datetime(df_new['timestamp'].astype(str)).dt.day == 17).astype(int)\n",
    "# Week 4\n",
    "df_new['EW23'] = (pd.to_datetime(df_new['timestamp'].astype(str)).dt.day == 23).astype(int)\n",
    "df_new['EW24'] = (pd.to_datetime(df_new['timestamp'].astype(str)).dt.day == 24).astype(int)\n",
    "\n",
    "df_new['EW'] = df_new['EW2'] + df_new['EW3'] + df_new['EW9'] + df_new['EW10'] + df_new['EW16'] + df_new['EW17'] + df_new['EW23'] + df_new['EW24']\n",
    "df_new.drop(columns=['EW2','EW3','EW9','EW10','EW16','EW17','EW23','EW24'],axis=1, inplace=True)\n",
    "df_new.head()"
   ]
  },
  {
   "cell_type": "code",
   "execution_count": 90,
   "metadata": {
    "scrolled": true
   },
   "outputs": [
    {
     "data": {
      "text/html": [
       "<div>\n",
       "<style scoped>\n",
       "    .dataframe tbody tr th:only-of-type {\n",
       "        vertical-align: middle;\n",
       "    }\n",
       "\n",
       "    .dataframe tbody tr th {\n",
       "        vertical-align: top;\n",
       "    }\n",
       "\n",
       "    .dataframe thead th {\n",
       "        text-align: right;\n",
       "    }\n",
       "</style>\n",
       "<table border=\"1\" class=\"dataframe\">\n",
       "  <thead>\n",
       "    <tr style=\"text-align: right;\">\n",
       "      <th></th>\n",
       "      <th>country</th>\n",
       "      <th>timestamp</th>\n",
       "      <th>group</th>\n",
       "      <th>landing_page</th>\n",
       "      <th>converted</th>\n",
       "      <th>intercept</th>\n",
       "      <th>ab_page</th>\n",
       "      <th>US</th>\n",
       "      <th>UK</th>\n",
       "      <th>CA</th>\n",
       "      <th>ab_page_UK</th>\n",
       "      <th>ab_page_CA</th>\n",
       "      <th>EW</th>\n",
       "      <th>MW</th>\n",
       "    </tr>\n",
       "    <tr>\n",
       "      <th>user_id</th>\n",
       "      <th></th>\n",
       "      <th></th>\n",
       "      <th></th>\n",
       "      <th></th>\n",
       "      <th></th>\n",
       "      <th></th>\n",
       "      <th></th>\n",
       "      <th></th>\n",
       "      <th></th>\n",
       "      <th></th>\n",
       "      <th></th>\n",
       "      <th></th>\n",
       "      <th></th>\n",
       "      <th></th>\n",
       "    </tr>\n",
       "  </thead>\n",
       "  <tbody>\n",
       "    <tr>\n",
       "      <th>834778</th>\n",
       "      <td>UK</td>\n",
       "      <td>2017-01-14 23:08:43.304998</td>\n",
       "      <td>control</td>\n",
       "      <td>old_page</td>\n",
       "      <td>0</td>\n",
       "      <td>1</td>\n",
       "      <td>0</td>\n",
       "      <td>0</td>\n",
       "      <td>1</td>\n",
       "      <td>0</td>\n",
       "      <td>0</td>\n",
       "      <td>0</td>\n",
       "      <td>0</td>\n",
       "      <td>0</td>\n",
       "    </tr>\n",
       "    <tr>\n",
       "      <th>928468</th>\n",
       "      <td>US</td>\n",
       "      <td>2017-01-23 14:44:16.387854</td>\n",
       "      <td>treatment</td>\n",
       "      <td>new_page</td>\n",
       "      <td>0</td>\n",
       "      <td>1</td>\n",
       "      <td>1</td>\n",
       "      <td>1</td>\n",
       "      <td>0</td>\n",
       "      <td>0</td>\n",
       "      <td>0</td>\n",
       "      <td>0</td>\n",
       "      <td>1</td>\n",
       "      <td>0</td>\n",
       "    </tr>\n",
       "    <tr>\n",
       "      <th>822059</th>\n",
       "      <td>UK</td>\n",
       "      <td>2017-01-16 14:04:14.719771</td>\n",
       "      <td>treatment</td>\n",
       "      <td>new_page</td>\n",
       "      <td>1</td>\n",
       "      <td>1</td>\n",
       "      <td>1</td>\n",
       "      <td>0</td>\n",
       "      <td>1</td>\n",
       "      <td>0</td>\n",
       "      <td>1</td>\n",
       "      <td>0</td>\n",
       "      <td>1</td>\n",
       "      <td>0</td>\n",
       "    </tr>\n",
       "    <tr>\n",
       "      <th>711597</th>\n",
       "      <td>UK</td>\n",
       "      <td>2017-01-22 03:14:24.763511</td>\n",
       "      <td>control</td>\n",
       "      <td>old_page</td>\n",
       "      <td>0</td>\n",
       "      <td>1</td>\n",
       "      <td>0</td>\n",
       "      <td>0</td>\n",
       "      <td>1</td>\n",
       "      <td>0</td>\n",
       "      <td>0</td>\n",
       "      <td>0</td>\n",
       "      <td>0</td>\n",
       "      <td>0</td>\n",
       "    </tr>\n",
       "    <tr>\n",
       "      <th>710616</th>\n",
       "      <td>UK</td>\n",
       "      <td>2017-01-16 13:14:44.000513</td>\n",
       "      <td>treatment</td>\n",
       "      <td>new_page</td>\n",
       "      <td>0</td>\n",
       "      <td>1</td>\n",
       "      <td>1</td>\n",
       "      <td>0</td>\n",
       "      <td>1</td>\n",
       "      <td>0</td>\n",
       "      <td>1</td>\n",
       "      <td>0</td>\n",
       "      <td>1</td>\n",
       "      <td>0</td>\n",
       "    </tr>\n",
       "  </tbody>\n",
       "</table>\n",
       "</div>"
      ],
      "text/plain": [
       "        country                  timestamp      group landing_page  converted  \\\n",
       "user_id                                                                         \n",
       "834778       UK 2017-01-14 23:08:43.304998    control     old_page          0   \n",
       "928468       US 2017-01-23 14:44:16.387854  treatment     new_page          0   \n",
       "822059       UK 2017-01-16 14:04:14.719771  treatment     new_page          1   \n",
       "711597       UK 2017-01-22 03:14:24.763511    control     old_page          0   \n",
       "710616       UK 2017-01-16 13:14:44.000513  treatment     new_page          0   \n",
       "\n",
       "         intercept  ab_page  US  UK  CA  ab_page_UK  ab_page_CA  EW  MW  \n",
       "user_id                                                                  \n",
       "834778           1        0   0   1   0           0           0   0   0  \n",
       "928468           1        1   1   0   0           0           0   1   0  \n",
       "822059           1        1   0   1   0           1           0   1   0  \n",
       "711597           1        0   0   1   0           0           0   0   0  \n",
       "710616           1        1   0   1   0           1           0   1   0  "
      ]
     },
     "execution_count": 90,
     "metadata": {},
     "output_type": "execute_result"
    }
   ],
   "source": [
    "# Wednesday and Thursday = 'MW' or MidWeek (4,5,11,12,18,19)\n",
    "# Week 1\n",
    "df_new['MW4'] = (pd.to_datetime(df_new['timestamp'].astype(str)).dt.day == 4).astype(int)\n",
    "df_new['MW5'] = (pd.to_datetime(df_new['timestamp'].astype(str)).dt.day == 5).astype(int)\n",
    "# Week 2\n",
    "df_new['MW11'] = (pd.to_datetime(df_new['timestamp'].astype(str)).dt.day == 11).astype(int)\n",
    "df_new['MW12'] = (pd.to_datetime(df_new['timestamp'].astype(str)).dt.day == 12).astype(int)\n",
    "# Week 3\n",
    "df_new['MW18'] = (pd.to_datetime(df_new['timestamp'].astype(str)).dt.day == 18).astype(int)\n",
    "df_new['MW19'] = (pd.to_datetime(df_new['timestamp'].astype(str)).dt.day == 19).astype(int)\n",
    "\n",
    "df_new['MW'] = df_new['MW4'] + df_new['MW5'] + df_new['MW11'] + df_new['MW12'] + df_new['MW18'] + df_new['MW19']\n",
    "df_new.drop(columns=['MW4','MW5','MW11','MW12','MW18','MW19'],axis=1, inplace=True)\n",
    "df_new.head()"
   ]
  },
  {
   "cell_type": "code",
   "execution_count": 91,
   "metadata": {},
   "outputs": [
    {
     "name": "stdout",
     "output_type": "stream",
     "text": [
      "['country', 'timestamp', 'group', 'landing_page', 'converted', 'intercept', 'ab_page', 'US', 'UK', 'CA', 'ab_page_UK', 'ab_page_CA', 'EW', 'MW', 'WE']\n"
     ]
    },
    {
     "data": {
      "text/html": [
       "<div>\n",
       "<style scoped>\n",
       "    .dataframe tbody tr th:only-of-type {\n",
       "        vertical-align: middle;\n",
       "    }\n",
       "\n",
       "    .dataframe tbody tr th {\n",
       "        vertical-align: top;\n",
       "    }\n",
       "\n",
       "    .dataframe thead th {\n",
       "        text-align: right;\n",
       "    }\n",
       "</style>\n",
       "<table border=\"1\" class=\"dataframe\">\n",
       "  <thead>\n",
       "    <tr style=\"text-align: right;\">\n",
       "      <th></th>\n",
       "      <th>country</th>\n",
       "      <th>timestamp</th>\n",
       "      <th>group</th>\n",
       "      <th>landing_page</th>\n",
       "      <th>converted</th>\n",
       "      <th>intercept</th>\n",
       "      <th>ab_page</th>\n",
       "      <th>US</th>\n",
       "      <th>UK</th>\n",
       "      <th>CA</th>\n",
       "      <th>ab_page_UK</th>\n",
       "      <th>ab_page_CA</th>\n",
       "      <th>EW</th>\n",
       "      <th>MW</th>\n",
       "      <th>WE</th>\n",
       "    </tr>\n",
       "    <tr>\n",
       "      <th>user_id</th>\n",
       "      <th></th>\n",
       "      <th></th>\n",
       "      <th></th>\n",
       "      <th></th>\n",
       "      <th></th>\n",
       "      <th></th>\n",
       "      <th></th>\n",
       "      <th></th>\n",
       "      <th></th>\n",
       "      <th></th>\n",
       "      <th></th>\n",
       "      <th></th>\n",
       "      <th></th>\n",
       "      <th></th>\n",
       "      <th></th>\n",
       "    </tr>\n",
       "  </thead>\n",
       "  <tbody>\n",
       "    <tr>\n",
       "      <th>834778</th>\n",
       "      <td>UK</td>\n",
       "      <td>2017-01-14 23:08:43.304998</td>\n",
       "      <td>control</td>\n",
       "      <td>old_page</td>\n",
       "      <td>0</td>\n",
       "      <td>1</td>\n",
       "      <td>0</td>\n",
       "      <td>0</td>\n",
       "      <td>1</td>\n",
       "      <td>0</td>\n",
       "      <td>0</td>\n",
       "      <td>0</td>\n",
       "      <td>0</td>\n",
       "      <td>0</td>\n",
       "      <td>1</td>\n",
       "    </tr>\n",
       "    <tr>\n",
       "      <th>928468</th>\n",
       "      <td>US</td>\n",
       "      <td>2017-01-23 14:44:16.387854</td>\n",
       "      <td>treatment</td>\n",
       "      <td>new_page</td>\n",
       "      <td>0</td>\n",
       "      <td>1</td>\n",
       "      <td>1</td>\n",
       "      <td>1</td>\n",
       "      <td>0</td>\n",
       "      <td>0</td>\n",
       "      <td>0</td>\n",
       "      <td>0</td>\n",
       "      <td>1</td>\n",
       "      <td>0</td>\n",
       "      <td>0</td>\n",
       "    </tr>\n",
       "    <tr>\n",
       "      <th>822059</th>\n",
       "      <td>UK</td>\n",
       "      <td>2017-01-16 14:04:14.719771</td>\n",
       "      <td>treatment</td>\n",
       "      <td>new_page</td>\n",
       "      <td>1</td>\n",
       "      <td>1</td>\n",
       "      <td>1</td>\n",
       "      <td>0</td>\n",
       "      <td>1</td>\n",
       "      <td>0</td>\n",
       "      <td>1</td>\n",
       "      <td>0</td>\n",
       "      <td>1</td>\n",
       "      <td>0</td>\n",
       "      <td>0</td>\n",
       "    </tr>\n",
       "    <tr>\n",
       "      <th>711597</th>\n",
       "      <td>UK</td>\n",
       "      <td>2017-01-22 03:14:24.763511</td>\n",
       "      <td>control</td>\n",
       "      <td>old_page</td>\n",
       "      <td>0</td>\n",
       "      <td>1</td>\n",
       "      <td>0</td>\n",
       "      <td>0</td>\n",
       "      <td>1</td>\n",
       "      <td>0</td>\n",
       "      <td>0</td>\n",
       "      <td>0</td>\n",
       "      <td>0</td>\n",
       "      <td>0</td>\n",
       "      <td>1</td>\n",
       "    </tr>\n",
       "    <tr>\n",
       "      <th>710616</th>\n",
       "      <td>UK</td>\n",
       "      <td>2017-01-16 13:14:44.000513</td>\n",
       "      <td>treatment</td>\n",
       "      <td>new_page</td>\n",
       "      <td>0</td>\n",
       "      <td>1</td>\n",
       "      <td>1</td>\n",
       "      <td>0</td>\n",
       "      <td>1</td>\n",
       "      <td>0</td>\n",
       "      <td>1</td>\n",
       "      <td>0</td>\n",
       "      <td>1</td>\n",
       "      <td>0</td>\n",
       "      <td>0</td>\n",
       "    </tr>\n",
       "  </tbody>\n",
       "</table>\n",
       "</div>"
      ],
      "text/plain": [
       "        country                  timestamp      group landing_page  converted  \\\n",
       "user_id                                                                         \n",
       "834778       UK 2017-01-14 23:08:43.304998    control     old_page          0   \n",
       "928468       US 2017-01-23 14:44:16.387854  treatment     new_page          0   \n",
       "822059       UK 2017-01-16 14:04:14.719771  treatment     new_page          1   \n",
       "711597       UK 2017-01-22 03:14:24.763511    control     old_page          0   \n",
       "710616       UK 2017-01-16 13:14:44.000513  treatment     new_page          0   \n",
       "\n",
       "         intercept  ab_page  US  UK  CA  ab_page_UK  ab_page_CA  EW  MW  WE  \n",
       "user_id                                                                      \n",
       "834778           1        0   0   1   0           0           0   0   0   1  \n",
       "928468           1        1   1   0   0           0           0   1   0   0  \n",
       "822059           1        1   0   1   0           1           0   1   0   0  \n",
       "711597           1        0   0   1   0           0           0   0   0   1  \n",
       "710616           1        1   0   1   0           1           0   1   0   0  "
      ]
     },
     "execution_count": 91,
     "metadata": {},
     "output_type": "execute_result"
    }
   ],
   "source": [
    "# Friday, Saturday and Sunday = 'WE' or Weekend (6,7,8,13,14,15,20,21,22)\n",
    "# Week 1\n",
    "df_new['WE6'] = (pd.to_datetime(df_new['timestamp'].astype(str)).dt.day == 6).astype(int)\n",
    "df_new['WE7'] = (pd.to_datetime(df_new['timestamp'].astype(str)).dt.day == 7).astype(int)\n",
    "df_new['WE8'] = (pd.to_datetime(df_new['timestamp'].astype(str)).dt.day == 8).astype(int)\n",
    "# Week 2\n",
    "df_new['WE13'] = (pd.to_datetime(df_new['timestamp'].astype(str)).dt.day == 13).astype(int)\n",
    "df_new['WE14'] = (pd.to_datetime(df_new['timestamp'].astype(str)).dt.day == 14).astype(int)\n",
    "df_new['WE15'] = (pd.to_datetime(df_new['timestamp'].astype(str)).dt.day == 15).astype(int)\n",
    "# Week 3\n",
    "df_new['WE20'] = (pd.to_datetime(df_new['timestamp'].astype(str)).dt.day == 20).astype(int)\n",
    "df_new['WE21'] = (pd.to_datetime(df_new['timestamp'].astype(str)).dt.day == 21).astype(int)\n",
    "df_new['WE22'] = (pd.to_datetime(df_new['timestamp'].astype(str)).dt.day == 22).astype(int)\n",
    "\n",
    "df_new['WE'] = df_new['WE6'] + df_new['WE7'] + df_new['WE8'] + df_new['WE13'] + df_new['WE14'] + df_new['WE15'] + df_new['WE20'] + df_new['WE21'] + df_new['WE22']\n",
    "df_new.drop(columns=['WE6','WE7','WE8','WE13','WE14','WE15','WE20','WE21','WE22',],axis=1, inplace=True)\n",
    "print(list(df_new.columns.values))\n",
    "df_new.head()"
   ]
  },
  {
   "cell_type": "code",
   "execution_count": 92,
   "metadata": {},
   "outputs": [
    {
     "data": {
      "text/html": [
       "<div>\n",
       "<style scoped>\n",
       "    .dataframe tbody tr th:only-of-type {\n",
       "        vertical-align: middle;\n",
       "    }\n",
       "\n",
       "    .dataframe tbody tr th {\n",
       "        vertical-align: top;\n",
       "    }\n",
       "\n",
       "    .dataframe thead th {\n",
       "        text-align: right;\n",
       "    }\n",
       "</style>\n",
       "<table border=\"1\" class=\"dataframe\">\n",
       "  <thead>\n",
       "    <tr style=\"text-align: right;\">\n",
       "      <th></th>\n",
       "      <th>country</th>\n",
       "      <th>timestamp</th>\n",
       "      <th>group</th>\n",
       "      <th>landing_page</th>\n",
       "      <th>converted</th>\n",
       "      <th>intercept</th>\n",
       "      <th>ab_page</th>\n",
       "      <th>US</th>\n",
       "      <th>UK</th>\n",
       "      <th>CA</th>\n",
       "      <th>ab_page_UK</th>\n",
       "      <th>ab_page_CA</th>\n",
       "      <th>EW</th>\n",
       "      <th>MW</th>\n",
       "      <th>WE</th>\n",
       "      <th>ab_EW</th>\n",
       "      <th>ab_MW</th>\n",
       "      <th>ab_WE</th>\n",
       "    </tr>\n",
       "    <tr>\n",
       "      <th>user_id</th>\n",
       "      <th></th>\n",
       "      <th></th>\n",
       "      <th></th>\n",
       "      <th></th>\n",
       "      <th></th>\n",
       "      <th></th>\n",
       "      <th></th>\n",
       "      <th></th>\n",
       "      <th></th>\n",
       "      <th></th>\n",
       "      <th></th>\n",
       "      <th></th>\n",
       "      <th></th>\n",
       "      <th></th>\n",
       "      <th></th>\n",
       "      <th></th>\n",
       "      <th></th>\n",
       "      <th></th>\n",
       "    </tr>\n",
       "  </thead>\n",
       "  <tbody>\n",
       "    <tr>\n",
       "      <th>834778</th>\n",
       "      <td>UK</td>\n",
       "      <td>2017-01-14 23:08:43.304998</td>\n",
       "      <td>control</td>\n",
       "      <td>old_page</td>\n",
       "      <td>0</td>\n",
       "      <td>1</td>\n",
       "      <td>0</td>\n",
       "      <td>0</td>\n",
       "      <td>1</td>\n",
       "      <td>0</td>\n",
       "      <td>0</td>\n",
       "      <td>0</td>\n",
       "      <td>0</td>\n",
       "      <td>0</td>\n",
       "      <td>1</td>\n",
       "      <td>0</td>\n",
       "      <td>0</td>\n",
       "      <td>0</td>\n",
       "    </tr>\n",
       "    <tr>\n",
       "      <th>928468</th>\n",
       "      <td>US</td>\n",
       "      <td>2017-01-23 14:44:16.387854</td>\n",
       "      <td>treatment</td>\n",
       "      <td>new_page</td>\n",
       "      <td>0</td>\n",
       "      <td>1</td>\n",
       "      <td>1</td>\n",
       "      <td>1</td>\n",
       "      <td>0</td>\n",
       "      <td>0</td>\n",
       "      <td>0</td>\n",
       "      <td>0</td>\n",
       "      <td>1</td>\n",
       "      <td>0</td>\n",
       "      <td>0</td>\n",
       "      <td>1</td>\n",
       "      <td>0</td>\n",
       "      <td>0</td>\n",
       "    </tr>\n",
       "    <tr>\n",
       "      <th>822059</th>\n",
       "      <td>UK</td>\n",
       "      <td>2017-01-16 14:04:14.719771</td>\n",
       "      <td>treatment</td>\n",
       "      <td>new_page</td>\n",
       "      <td>1</td>\n",
       "      <td>1</td>\n",
       "      <td>1</td>\n",
       "      <td>0</td>\n",
       "      <td>1</td>\n",
       "      <td>0</td>\n",
       "      <td>1</td>\n",
       "      <td>0</td>\n",
       "      <td>1</td>\n",
       "      <td>0</td>\n",
       "      <td>0</td>\n",
       "      <td>1</td>\n",
       "      <td>0</td>\n",
       "      <td>0</td>\n",
       "    </tr>\n",
       "    <tr>\n",
       "      <th>711597</th>\n",
       "      <td>UK</td>\n",
       "      <td>2017-01-22 03:14:24.763511</td>\n",
       "      <td>control</td>\n",
       "      <td>old_page</td>\n",
       "      <td>0</td>\n",
       "      <td>1</td>\n",
       "      <td>0</td>\n",
       "      <td>0</td>\n",
       "      <td>1</td>\n",
       "      <td>0</td>\n",
       "      <td>0</td>\n",
       "      <td>0</td>\n",
       "      <td>0</td>\n",
       "      <td>0</td>\n",
       "      <td>1</td>\n",
       "      <td>0</td>\n",
       "      <td>0</td>\n",
       "      <td>0</td>\n",
       "    </tr>\n",
       "    <tr>\n",
       "      <th>710616</th>\n",
       "      <td>UK</td>\n",
       "      <td>2017-01-16 13:14:44.000513</td>\n",
       "      <td>treatment</td>\n",
       "      <td>new_page</td>\n",
       "      <td>0</td>\n",
       "      <td>1</td>\n",
       "      <td>1</td>\n",
       "      <td>0</td>\n",
       "      <td>1</td>\n",
       "      <td>0</td>\n",
       "      <td>1</td>\n",
       "      <td>0</td>\n",
       "      <td>1</td>\n",
       "      <td>0</td>\n",
       "      <td>0</td>\n",
       "      <td>1</td>\n",
       "      <td>0</td>\n",
       "      <td>0</td>\n",
       "    </tr>\n",
       "  </tbody>\n",
       "</table>\n",
       "</div>"
      ],
      "text/plain": [
       "        country                  timestamp      group landing_page  converted  \\\n",
       "user_id                                                                         \n",
       "834778       UK 2017-01-14 23:08:43.304998    control     old_page          0   \n",
       "928468       US 2017-01-23 14:44:16.387854  treatment     new_page          0   \n",
       "822059       UK 2017-01-16 14:04:14.719771  treatment     new_page          1   \n",
       "711597       UK 2017-01-22 03:14:24.763511    control     old_page          0   \n",
       "710616       UK 2017-01-16 13:14:44.000513  treatment     new_page          0   \n",
       "\n",
       "         intercept  ab_page  US  UK  CA  ab_page_UK  ab_page_CA  EW  MW  WE  \\\n",
       "user_id                                                                       \n",
       "834778           1        0   0   1   0           0           0   0   0   1   \n",
       "928468           1        1   1   0   0           0           0   1   0   0   \n",
       "822059           1        1   0   1   0           1           0   1   0   0   \n",
       "711597           1        0   0   1   0           0           0   0   0   1   \n",
       "710616           1        1   0   1   0           1           0   1   0   0   \n",
       "\n",
       "         ab_EW  ab_MW  ab_WE  \n",
       "user_id                       \n",
       "834778       0      0      0  \n",
       "928468       1      0      0  \n",
       "822059       1      0      0  \n",
       "711597       0      0      0  \n",
       "710616       1      0      0  "
      ]
     },
     "execution_count": 92,
     "metadata": {},
     "output_type": "execute_result"
    }
   ],
   "source": [
    "# Adding the variables for the interactions between page and time of the week\n",
    "df_new['ab_EW'] = df_new['ab_page'] * df_new['EW'] # Creating new columns for ab_page using the sum of ab_page * 'EW'\n",
    "df_new['ab_MW'] = df_new['ab_page'] * df_new['MW'] # Creating new columns for ab_page using the sum of ab_page * 'MW'\n",
    "df_new['ab_WE'] = df_new['ab_page'] * df_new['WE'] # Creating new columns for ab_page using the sum of ab_page * 'MW'\n",
    "df_new.head()"
   ]
  },
  {
   "cell_type": "code",
   "execution_count": 93,
   "metadata": {},
   "outputs": [
    {
     "name": "stdout",
     "output_type": "stream",
     "text": [
      "Optimization terminated successfully.\n",
      "         Current function value: 0.366113\n",
      "         Iterations 12\n"
     ]
    },
    {
     "data": {
      "text/html": [
       "<table class=\"simpletable\">\n",
       "<caption>Logit Regression Results</caption>\n",
       "<tr>\n",
       "  <th>Dep. Variable:</th>       <td>converted</td>    <th>  No. Observations:  </th>   <td>290584</td>   \n",
       "</tr>\n",
       "<tr>\n",
       "  <th>Model:</th>                 <td>Logit</td>      <th>  Df Residuals:      </th>   <td>290580</td>   \n",
       "</tr>\n",
       "<tr>\n",
       "  <th>Method:</th>                 <td>MLE</td>       <th>  Df Model:          </th>   <td>     3</td>   \n",
       "</tr>\n",
       "<tr>\n",
       "  <th>Date:</th>            <td>Mon, 28 Dec 2020</td> <th>  Pseudo R-squ.:     </th>  <td>2.338e-05</td> \n",
       "</tr>\n",
       "<tr>\n",
       "  <th>Time:</th>                <td>22:05:27</td>     <th>  Log-Likelihood:    </th> <td>-1.0639e+05</td>\n",
       "</tr>\n",
       "<tr>\n",
       "  <th>converged:</th>             <td>True</td>       <th>  LL-Null:           </th> <td>-1.0639e+05</td>\n",
       "</tr>\n",
       "<tr>\n",
       "  <th>Covariance Type:</th>     <td>nonrobust</td>    <th>  LLR p-value:       </th>   <td>0.1737</td>   \n",
       "</tr>\n",
       "</table>\n",
       "<table class=\"simpletable\">\n",
       "<tr>\n",
       "      <td></td>         <th>coef</th>     <th>std err</th>      <th>z</th>      <th>P>|z|</th>  <th>[0.025</th>    <th>0.975]</th>  \n",
       "</tr>\n",
       "<tr>\n",
       "  <th>intercept</th> <td>   -1.9888</td> <td>    0.008</td> <td> -246.669</td> <td> 0.000</td> <td>   -2.005</td> <td>   -1.973</td>\n",
       "</tr>\n",
       "<tr>\n",
       "  <th>ab_page</th>   <td>   -0.0104</td> <td> 2.59e+05</td> <td>-4.01e-08</td> <td> 1.000</td> <td>-5.08e+05</td> <td> 5.08e+05</td>\n",
       "</tr>\n",
       "<tr>\n",
       "  <th>ab_EW</th>     <td>    0.0156</td> <td> 2.59e+05</td> <td> 6.03e-08</td> <td> 1.000</td> <td>-5.08e+05</td> <td> 5.08e+05</td>\n",
       "</tr>\n",
       "<tr>\n",
       "  <th>ab_MW</th>     <td>   -0.0073</td> <td> 2.59e+05</td> <td>-2.83e-08</td> <td> 1.000</td> <td>-5.08e+05</td> <td> 5.08e+05</td>\n",
       "</tr>\n",
       "<tr>\n",
       "  <th>ab_WE</th>     <td>   -0.0187</td> <td> 2.59e+05</td> <td>-7.21e-08</td> <td> 1.000</td> <td>-5.08e+05</td> <td> 5.08e+05</td>\n",
       "</tr>\n",
       "</table>"
      ],
      "text/plain": [
       "<class 'statsmodels.iolib.summary.Summary'>\n",
       "\"\"\"\n",
       "                           Logit Regression Results                           \n",
       "==============================================================================\n",
       "Dep. Variable:              converted   No. Observations:               290584\n",
       "Model:                          Logit   Df Residuals:                   290580\n",
       "Method:                           MLE   Df Model:                            3\n",
       "Date:                Mon, 28 Dec 2020   Pseudo R-squ.:               2.338e-05\n",
       "Time:                        22:05:27   Log-Likelihood:            -1.0639e+05\n",
       "converged:                       True   LL-Null:                   -1.0639e+05\n",
       "Covariance Type:            nonrobust   LLR p-value:                    0.1737\n",
       "==============================================================================\n",
       "                 coef    std err          z      P>|z|      [0.025      0.975]\n",
       "------------------------------------------------------------------------------\n",
       "intercept     -1.9888      0.008   -246.669      0.000      -2.005      -1.973\n",
       "ab_page       -0.0104   2.59e+05  -4.01e-08      1.000   -5.08e+05    5.08e+05\n",
       "ab_EW          0.0156   2.59e+05   6.03e-08      1.000   -5.08e+05    5.08e+05\n",
       "ab_MW         -0.0073   2.59e+05  -2.83e-08      1.000   -5.08e+05    5.08e+05\n",
       "ab_WE         -0.0187   2.59e+05  -7.21e-08      1.000   -5.08e+05    5.08e+05\n",
       "==============================================================================\n",
       "\"\"\""
      ]
     },
     "execution_count": 93,
     "metadata": {},
     "output_type": "execute_result"
    }
   ],
   "source": [
    "# Creating a logistic regression model for conversion vs page, country and time of week.\n",
    "logr_mod_time = sm.Logit(df_new['converted'], df_new[['intercept', 'ab_page', 'ab_EW', 'ab_MW', 'ab_WE']])\n",
    "results_time = logr_mod_time.fit()\n",
    "\n",
    "# Creating our model\n",
    "results_time.summary()"
   ]
  },
  {
   "cell_type": "code",
   "execution_count": 94,
   "metadata": {},
   "outputs": [
    {
     "name": "stdout",
     "output_type": "stream",
     "text": [
      "-1.55 % Early Week Conversion Rate vs New Page\n",
      "+0.74 % Midweek Conversion Rate vs New Page\n",
      "+1.89 % Weekend Conversion Rate vs New Page\n",
      "-2.29 % Combined Results vs Weekend Results\n"
     ]
    }
   ],
   "source": [
    "# Calculating the results\n",
    "ew_cv_rate = 1/np.exp(results_time.params.ab_EW)*100-100 # Calculating the reciprocal for values less than 1 by adding '1/' to change to unit increase\n",
    "mw_cv_rate = 1/np.exp(results_time.params.ab_MW)*100-100\n",
    "we_cv_rate = 1/np.exp(results_time.params.ab_WE)*100-100\n",
    "\n",
    "# Printing our results\n",
    "print(\"{0:+.02f}\".format(ew_cv_rate),'%', 'Early Week Conversion Rate vs New Page')\n",
    "print(\"{0:+.02f}\".format(mw_cv_rate),'%', 'Midweek Conversion Rate vs New Page')\n",
    "print(\"{0:+.02f}\".format(we_cv_rate),'%', 'Weekend Conversion Rate vs New Page')\n",
    "\n",
    "# Differences\n",
    "print(\"{0:+.02f}\".format(np.mean([[ew_cv_rate] + [mw_cv_rate]]) - (we_cv_rate)),'%', 'Combined Results vs Weekend Results')"
   ]
  },
  {
   "cell_type": "markdown",
   "metadata": {},
   "source": [
    "This model is based on comparing the interaction between page and time of week. The Pseudo R-squared number has increased to 2.33 which tells us the model is good predicting conversion compared to our last model. Our last model was used to measure the interaction between page and country on conversion. However, conversion rate between times of the week are minimal with the weekend showing strongest with a 1.89% increased conversion rate on the old page if holding all variables constant. Our conclusion is that the weekend is the strongest part of the week for conversions with a +2.29% increased conversion rate on the old page vs the other days of the week on average."
   ]
  },
  {
   "cell_type": "markdown",
   "metadata": {},
   "source": [
    "#### Part IIIE - Comparing Conversion vs Landing Page and Time of Day"
   ]
  },
  {
   "cell_type": "code",
   "execution_count": 95,
   "metadata": {},
   "outputs": [],
   "source": [
    "# Cleaning the columns for our next model\n",
    "df_timeofday = df_new.drop(columns=['US', 'UK', 'CA', 'ab_page_UK', 'ab_page_CA','EW','MW','WE','ab_EW','ab_MW','ab_WE'],axis=1, inplace=True)"
   ]
  },
  {
   "cell_type": "code",
   "execution_count": 96,
   "metadata": {
    "scrolled": true
   },
   "outputs": [
    {
     "data": {
      "text/html": [
       "<div>\n",
       "<style scoped>\n",
       "    .dataframe tbody tr th:only-of-type {\n",
       "        vertical-align: middle;\n",
       "    }\n",
       "\n",
       "    .dataframe tbody tr th {\n",
       "        vertical-align: top;\n",
       "    }\n",
       "\n",
       "    .dataframe thead th {\n",
       "        text-align: right;\n",
       "    }\n",
       "</style>\n",
       "<table border=\"1\" class=\"dataframe\">\n",
       "  <thead>\n",
       "    <tr style=\"text-align: right;\">\n",
       "      <th></th>\n",
       "      <th>country</th>\n",
       "      <th>timestamp</th>\n",
       "      <th>group</th>\n",
       "      <th>landing_page</th>\n",
       "      <th>converted</th>\n",
       "      <th>intercept</th>\n",
       "      <th>ab_page</th>\n",
       "      <th>hour</th>\n",
       "      <th>minute</th>\n",
       "      <th>time_in_min</th>\n",
       "      <th>time_of_day</th>\n",
       "    </tr>\n",
       "    <tr>\n",
       "      <th>user_id</th>\n",
       "      <th></th>\n",
       "      <th></th>\n",
       "      <th></th>\n",
       "      <th></th>\n",
       "      <th></th>\n",
       "      <th></th>\n",
       "      <th></th>\n",
       "      <th></th>\n",
       "      <th></th>\n",
       "      <th></th>\n",
       "      <th></th>\n",
       "    </tr>\n",
       "  </thead>\n",
       "  <tbody>\n",
       "    <tr>\n",
       "      <th>834778</th>\n",
       "      <td>UK</td>\n",
       "      <td>2017-01-14 23:08:43.304998</td>\n",
       "      <td>control</td>\n",
       "      <td>old_page</td>\n",
       "      <td>0</td>\n",
       "      <td>1</td>\n",
       "      <td>0</td>\n",
       "      <td>23</td>\n",
       "      <td>8</td>\n",
       "      <td>1388</td>\n",
       "      <td>Evening</td>\n",
       "    </tr>\n",
       "    <tr>\n",
       "      <th>928468</th>\n",
       "      <td>US</td>\n",
       "      <td>2017-01-23 14:44:16.387854</td>\n",
       "      <td>treatment</td>\n",
       "      <td>new_page</td>\n",
       "      <td>0</td>\n",
       "      <td>1</td>\n",
       "      <td>1</td>\n",
       "      <td>14</td>\n",
       "      <td>44</td>\n",
       "      <td>884</td>\n",
       "      <td>Afternoon</td>\n",
       "    </tr>\n",
       "    <tr>\n",
       "      <th>822059</th>\n",
       "      <td>UK</td>\n",
       "      <td>2017-01-16 14:04:14.719771</td>\n",
       "      <td>treatment</td>\n",
       "      <td>new_page</td>\n",
       "      <td>1</td>\n",
       "      <td>1</td>\n",
       "      <td>1</td>\n",
       "      <td>14</td>\n",
       "      <td>4</td>\n",
       "      <td>844</td>\n",
       "      <td>Afternoon</td>\n",
       "    </tr>\n",
       "    <tr>\n",
       "      <th>711597</th>\n",
       "      <td>UK</td>\n",
       "      <td>2017-01-22 03:14:24.763511</td>\n",
       "      <td>control</td>\n",
       "      <td>old_page</td>\n",
       "      <td>0</td>\n",
       "      <td>1</td>\n",
       "      <td>0</td>\n",
       "      <td>3</td>\n",
       "      <td>14</td>\n",
       "      <td>194</td>\n",
       "      <td>Overnight</td>\n",
       "    </tr>\n",
       "    <tr>\n",
       "      <th>710616</th>\n",
       "      <td>UK</td>\n",
       "      <td>2017-01-16 13:14:44.000513</td>\n",
       "      <td>treatment</td>\n",
       "      <td>new_page</td>\n",
       "      <td>0</td>\n",
       "      <td>1</td>\n",
       "      <td>1</td>\n",
       "      <td>13</td>\n",
       "      <td>14</td>\n",
       "      <td>794</td>\n",
       "      <td>Afternoon</td>\n",
       "    </tr>\n",
       "  </tbody>\n",
       "</table>\n",
       "</div>"
      ],
      "text/plain": [
       "        country                  timestamp      group landing_page  converted  \\\n",
       "user_id                                                                         \n",
       "834778       UK 2017-01-14 23:08:43.304998    control     old_page          0   \n",
       "928468       US 2017-01-23 14:44:16.387854  treatment     new_page          0   \n",
       "822059       UK 2017-01-16 14:04:14.719771  treatment     new_page          1   \n",
       "711597       UK 2017-01-22 03:14:24.763511    control     old_page          0   \n",
       "710616       UK 2017-01-16 13:14:44.000513  treatment     new_page          0   \n",
       "\n",
       "         intercept  ab_page  hour  minute  time_in_min time_of_day  \n",
       "user_id                                                             \n",
       "834778           1        0    23       8         1388     Evening  \n",
       "928468           1        1    14      44          884   Afternoon  \n",
       "822059           1        1    14       4          844   Afternoon  \n",
       "711597           1        0     3      14          194   Overnight  \n",
       "710616           1        1    13      14          794   Afternoon  "
      ]
     },
     "execution_count": 96,
     "metadata": {},
     "output_type": "execute_result"
    }
   ],
   "source": [
    "# Defining the dataframe as new variable\n",
    "df_timeofday = df_new\n",
    "\n",
    "# Converting the 'timestamp' column as a datetime object\n",
    "df_timeofday['timestamp'] = pd.to_datetime(df_timeofday['timestamp']) \n",
    "\n",
    "# Creating a new datetime columns 'hour' and 'minute'\n",
    "df_timeofday['hour'] = df_timeofday.timestamp.dt.hour\n",
    "df_timeofday['minute'] = df_timeofday.timestamp.dt.minute \n",
    "\n",
    "# Splitting the timestamp into hour and minutes by using hour *60 + minute\n",
    "df_timeofday['time_in_min'] = df_timeofday['hour']*60 + df_timeofday['minute']\n",
    "\n",
    "# There are 24 hrs in a day, so we can split these hours into 4 sections\n",
    "bin_edges = [0, 6*60, 12*60, 18*60, 24*60]\n",
    "bin_labels = ['Overnight', 'Morning', 'Afternoon', 'Evening']\n",
    "df_timeofday['time_of_day'] = pd.cut(df_timeofday['time_in_min'], bin_edges, labels=bin_labels)\n",
    "\n",
    "# Looking at our new dataframe\n",
    "df_timeofday.head()"
   ]
  },
  {
   "cell_type": "code",
   "execution_count": 97,
   "metadata": {},
   "outputs": [
    {
     "data": {
      "text/plain": [
       "Index(['country', 'timestamp', 'group', 'landing_page', 'converted',\n",
       "       'intercept', 'ab_page', 'hour', 'minute', 'time_in_min', 'time_of_day'],\n",
       "      dtype='object')"
      ]
     },
     "execution_count": 97,
     "metadata": {},
     "output_type": "execute_result"
    }
   ],
   "source": [
    "df_timeofday.columns"
   ]
  },
  {
   "cell_type": "code",
   "execution_count": 98,
   "metadata": {
    "scrolled": true
   },
   "outputs": [
    {
     "data": {
      "text/html": [
       "<div>\n",
       "<style scoped>\n",
       "    .dataframe tbody tr th:only-of-type {\n",
       "        vertical-align: middle;\n",
       "    }\n",
       "\n",
       "    .dataframe tbody tr th {\n",
       "        vertical-align: top;\n",
       "    }\n",
       "\n",
       "    .dataframe thead th {\n",
       "        text-align: right;\n",
       "    }\n",
       "</style>\n",
       "<table border=\"1\" class=\"dataframe\">\n",
       "  <thead>\n",
       "    <tr style=\"text-align: right;\">\n",
       "      <th></th>\n",
       "      <th>country</th>\n",
       "      <th>timestamp</th>\n",
       "      <th>group</th>\n",
       "      <th>landing_page</th>\n",
       "      <th>converted</th>\n",
       "      <th>intercept</th>\n",
       "      <th>ab_page</th>\n",
       "      <th>time_of_day</th>\n",
       "    </tr>\n",
       "    <tr>\n",
       "      <th>user_id</th>\n",
       "      <th></th>\n",
       "      <th></th>\n",
       "      <th></th>\n",
       "      <th></th>\n",
       "      <th></th>\n",
       "      <th></th>\n",
       "      <th></th>\n",
       "      <th></th>\n",
       "    </tr>\n",
       "  </thead>\n",
       "  <tbody>\n",
       "    <tr>\n",
       "      <th>834778</th>\n",
       "      <td>UK</td>\n",
       "      <td>2017-01-14 23:08:43.304998</td>\n",
       "      <td>control</td>\n",
       "      <td>old_page</td>\n",
       "      <td>0</td>\n",
       "      <td>1</td>\n",
       "      <td>0</td>\n",
       "      <td>Evening</td>\n",
       "    </tr>\n",
       "    <tr>\n",
       "      <th>928468</th>\n",
       "      <td>US</td>\n",
       "      <td>2017-01-23 14:44:16.387854</td>\n",
       "      <td>treatment</td>\n",
       "      <td>new_page</td>\n",
       "      <td>0</td>\n",
       "      <td>1</td>\n",
       "      <td>1</td>\n",
       "      <td>Afternoon</td>\n",
       "    </tr>\n",
       "    <tr>\n",
       "      <th>822059</th>\n",
       "      <td>UK</td>\n",
       "      <td>2017-01-16 14:04:14.719771</td>\n",
       "      <td>treatment</td>\n",
       "      <td>new_page</td>\n",
       "      <td>1</td>\n",
       "      <td>1</td>\n",
       "      <td>1</td>\n",
       "      <td>Afternoon</td>\n",
       "    </tr>\n",
       "    <tr>\n",
       "      <th>711597</th>\n",
       "      <td>UK</td>\n",
       "      <td>2017-01-22 03:14:24.763511</td>\n",
       "      <td>control</td>\n",
       "      <td>old_page</td>\n",
       "      <td>0</td>\n",
       "      <td>1</td>\n",
       "      <td>0</td>\n",
       "      <td>Overnight</td>\n",
       "    </tr>\n",
       "    <tr>\n",
       "      <th>710616</th>\n",
       "      <td>UK</td>\n",
       "      <td>2017-01-16 13:14:44.000513</td>\n",
       "      <td>treatment</td>\n",
       "      <td>new_page</td>\n",
       "      <td>0</td>\n",
       "      <td>1</td>\n",
       "      <td>1</td>\n",
       "      <td>Afternoon</td>\n",
       "    </tr>\n",
       "  </tbody>\n",
       "</table>\n",
       "</div>"
      ],
      "text/plain": [
       "        country                  timestamp      group landing_page  converted  \\\n",
       "user_id                                                                         \n",
       "834778       UK 2017-01-14 23:08:43.304998    control     old_page          0   \n",
       "928468       US 2017-01-23 14:44:16.387854  treatment     new_page          0   \n",
       "822059       UK 2017-01-16 14:04:14.719771  treatment     new_page          1   \n",
       "711597       UK 2017-01-22 03:14:24.763511    control     old_page          0   \n",
       "710616       UK 2017-01-16 13:14:44.000513  treatment     new_page          0   \n",
       "\n",
       "         intercept  ab_page time_of_day  \n",
       "user_id                                  \n",
       "834778           1        0     Evening  \n",
       "928468           1        1   Afternoon  \n",
       "822059           1        1   Afternoon  \n",
       "711597           1        0   Overnight  \n",
       "710616           1        1   Afternoon  "
      ]
     },
     "execution_count": 98,
     "metadata": {},
     "output_type": "execute_result"
    }
   ],
   "source": [
    "# Removing the excess columns\n",
    "df_timeofday.drop(columns=['hour', 'minute', 'time_in_min'],axis=1, inplace=True)\n",
    "df_timeofday.head()"
   ]
  },
  {
   "cell_type": "code",
   "execution_count": 99,
   "metadata": {},
   "outputs": [
    {
     "data": {
      "text/html": [
       "<div>\n",
       "<style scoped>\n",
       "    .dataframe tbody tr th:only-of-type {\n",
       "        vertical-align: middle;\n",
       "    }\n",
       "\n",
       "    .dataframe tbody tr th {\n",
       "        vertical-align: top;\n",
       "    }\n",
       "\n",
       "    .dataframe thead th {\n",
       "        text-align: right;\n",
       "    }\n",
       "</style>\n",
       "<table border=\"1\" class=\"dataframe\">\n",
       "  <thead>\n",
       "    <tr style=\"text-align: right;\">\n",
       "      <th></th>\n",
       "      <th>country</th>\n",
       "      <th>timestamp</th>\n",
       "      <th>group</th>\n",
       "      <th>landing_page</th>\n",
       "      <th>converted</th>\n",
       "      <th>intercept</th>\n",
       "      <th>ab_page</th>\n",
       "      <th>overnight</th>\n",
       "      <th>morning</th>\n",
       "      <th>afternoon</th>\n",
       "      <th>evening</th>\n",
       "    </tr>\n",
       "    <tr>\n",
       "      <th>user_id</th>\n",
       "      <th></th>\n",
       "      <th></th>\n",
       "      <th></th>\n",
       "      <th></th>\n",
       "      <th></th>\n",
       "      <th></th>\n",
       "      <th></th>\n",
       "      <th></th>\n",
       "      <th></th>\n",
       "      <th></th>\n",
       "      <th></th>\n",
       "    </tr>\n",
       "  </thead>\n",
       "  <tbody>\n",
       "    <tr>\n",
       "      <th>834778</th>\n",
       "      <td>UK</td>\n",
       "      <td>2017-01-14 23:08:43.304998</td>\n",
       "      <td>control</td>\n",
       "      <td>old_page</td>\n",
       "      <td>0</td>\n",
       "      <td>1</td>\n",
       "      <td>0</td>\n",
       "      <td>0</td>\n",
       "      <td>0</td>\n",
       "      <td>0</td>\n",
       "      <td>1</td>\n",
       "    </tr>\n",
       "    <tr>\n",
       "      <th>928468</th>\n",
       "      <td>US</td>\n",
       "      <td>2017-01-23 14:44:16.387854</td>\n",
       "      <td>treatment</td>\n",
       "      <td>new_page</td>\n",
       "      <td>0</td>\n",
       "      <td>1</td>\n",
       "      <td>1</td>\n",
       "      <td>0</td>\n",
       "      <td>0</td>\n",
       "      <td>1</td>\n",
       "      <td>0</td>\n",
       "    </tr>\n",
       "    <tr>\n",
       "      <th>822059</th>\n",
       "      <td>UK</td>\n",
       "      <td>2017-01-16 14:04:14.719771</td>\n",
       "      <td>treatment</td>\n",
       "      <td>new_page</td>\n",
       "      <td>1</td>\n",
       "      <td>1</td>\n",
       "      <td>1</td>\n",
       "      <td>0</td>\n",
       "      <td>0</td>\n",
       "      <td>1</td>\n",
       "      <td>0</td>\n",
       "    </tr>\n",
       "    <tr>\n",
       "      <th>711597</th>\n",
       "      <td>UK</td>\n",
       "      <td>2017-01-22 03:14:24.763511</td>\n",
       "      <td>control</td>\n",
       "      <td>old_page</td>\n",
       "      <td>0</td>\n",
       "      <td>1</td>\n",
       "      <td>0</td>\n",
       "      <td>1</td>\n",
       "      <td>0</td>\n",
       "      <td>0</td>\n",
       "      <td>0</td>\n",
       "    </tr>\n",
       "    <tr>\n",
       "      <th>710616</th>\n",
       "      <td>UK</td>\n",
       "      <td>2017-01-16 13:14:44.000513</td>\n",
       "      <td>treatment</td>\n",
       "      <td>new_page</td>\n",
       "      <td>0</td>\n",
       "      <td>1</td>\n",
       "      <td>1</td>\n",
       "      <td>0</td>\n",
       "      <td>0</td>\n",
       "      <td>1</td>\n",
       "      <td>0</td>\n",
       "    </tr>\n",
       "  </tbody>\n",
       "</table>\n",
       "</div>"
      ],
      "text/plain": [
       "        country                  timestamp      group landing_page  converted  \\\n",
       "user_id                                                                         \n",
       "834778       UK 2017-01-14 23:08:43.304998    control     old_page          0   \n",
       "928468       US 2017-01-23 14:44:16.387854  treatment     new_page          0   \n",
       "822059       UK 2017-01-16 14:04:14.719771  treatment     new_page          1   \n",
       "711597       UK 2017-01-22 03:14:24.763511    control     old_page          0   \n",
       "710616       UK 2017-01-16 13:14:44.000513  treatment     new_page          0   \n",
       "\n",
       "         intercept  ab_page  overnight  morning  afternoon  evening  \n",
       "user_id                                                              \n",
       "834778           1        0          0        0          0        1  \n",
       "928468           1        1          0        0          1        0  \n",
       "822059           1        1          0        0          1        0  \n",
       "711597           1        0          1        0          0        0  \n",
       "710616           1        1          0        0          1        0  "
      ]
     },
     "execution_count": 99,
     "metadata": {},
     "output_type": "execute_result"
    }
   ],
   "source": [
    "df_timeofday[['overnight', 'morning', 'afternoon', 'evening']] = pd.get_dummies(df_timeofday['time_of_day'])\n",
    "df_timeofday = df_timeofday.drop('time_of_day', axis=1)\n",
    "df_timeofday.head()"
   ]
  },
  {
   "cell_type": "code",
   "execution_count": 100,
   "metadata": {},
   "outputs": [
    {
     "data": {
      "text/html": [
       "<div>\n",
       "<style scoped>\n",
       "    .dataframe tbody tr th:only-of-type {\n",
       "        vertical-align: middle;\n",
       "    }\n",
       "\n",
       "    .dataframe tbody tr th {\n",
       "        vertical-align: top;\n",
       "    }\n",
       "\n",
       "    .dataframe thead th {\n",
       "        text-align: right;\n",
       "    }\n",
       "</style>\n",
       "<table border=\"1\" class=\"dataframe\">\n",
       "  <thead>\n",
       "    <tr style=\"text-align: right;\">\n",
       "      <th></th>\n",
       "      <th>country</th>\n",
       "      <th>timestamp</th>\n",
       "      <th>group</th>\n",
       "      <th>landing_page</th>\n",
       "      <th>converted</th>\n",
       "      <th>intercept</th>\n",
       "      <th>ab_page</th>\n",
       "      <th>overnight</th>\n",
       "      <th>ab_morning</th>\n",
       "      <th>ab_afternoon</th>\n",
       "      <th>ab_evening</th>\n",
       "      <th>ab_overnight</th>\n",
       "    </tr>\n",
       "    <tr>\n",
       "      <th>user_id</th>\n",
       "      <th></th>\n",
       "      <th></th>\n",
       "      <th></th>\n",
       "      <th></th>\n",
       "      <th></th>\n",
       "      <th></th>\n",
       "      <th></th>\n",
       "      <th></th>\n",
       "      <th></th>\n",
       "      <th></th>\n",
       "      <th></th>\n",
       "      <th></th>\n",
       "    </tr>\n",
       "  </thead>\n",
       "  <tbody>\n",
       "    <tr>\n",
       "      <th>834778</th>\n",
       "      <td>UK</td>\n",
       "      <td>2017-01-14 23:08:43.304998</td>\n",
       "      <td>control</td>\n",
       "      <td>old_page</td>\n",
       "      <td>0</td>\n",
       "      <td>1</td>\n",
       "      <td>0</td>\n",
       "      <td>0</td>\n",
       "      <td>0</td>\n",
       "      <td>0</td>\n",
       "      <td>0</td>\n",
       "      <td>0</td>\n",
       "    </tr>\n",
       "    <tr>\n",
       "      <th>928468</th>\n",
       "      <td>US</td>\n",
       "      <td>2017-01-23 14:44:16.387854</td>\n",
       "      <td>treatment</td>\n",
       "      <td>new_page</td>\n",
       "      <td>0</td>\n",
       "      <td>1</td>\n",
       "      <td>1</td>\n",
       "      <td>0</td>\n",
       "      <td>0</td>\n",
       "      <td>1</td>\n",
       "      <td>0</td>\n",
       "      <td>0</td>\n",
       "    </tr>\n",
       "    <tr>\n",
       "      <th>822059</th>\n",
       "      <td>UK</td>\n",
       "      <td>2017-01-16 14:04:14.719771</td>\n",
       "      <td>treatment</td>\n",
       "      <td>new_page</td>\n",
       "      <td>1</td>\n",
       "      <td>1</td>\n",
       "      <td>1</td>\n",
       "      <td>0</td>\n",
       "      <td>0</td>\n",
       "      <td>1</td>\n",
       "      <td>0</td>\n",
       "      <td>0</td>\n",
       "    </tr>\n",
       "    <tr>\n",
       "      <th>711597</th>\n",
       "      <td>UK</td>\n",
       "      <td>2017-01-22 03:14:24.763511</td>\n",
       "      <td>control</td>\n",
       "      <td>old_page</td>\n",
       "      <td>0</td>\n",
       "      <td>1</td>\n",
       "      <td>0</td>\n",
       "      <td>1</td>\n",
       "      <td>0</td>\n",
       "      <td>0</td>\n",
       "      <td>0</td>\n",
       "      <td>0</td>\n",
       "    </tr>\n",
       "    <tr>\n",
       "      <th>710616</th>\n",
       "      <td>UK</td>\n",
       "      <td>2017-01-16 13:14:44.000513</td>\n",
       "      <td>treatment</td>\n",
       "      <td>new_page</td>\n",
       "      <td>0</td>\n",
       "      <td>1</td>\n",
       "      <td>1</td>\n",
       "      <td>0</td>\n",
       "      <td>0</td>\n",
       "      <td>1</td>\n",
       "      <td>0</td>\n",
       "      <td>0</td>\n",
       "    </tr>\n",
       "  </tbody>\n",
       "</table>\n",
       "</div>"
      ],
      "text/plain": [
       "        country                  timestamp      group landing_page  converted  \\\n",
       "user_id                                                                         \n",
       "834778       UK 2017-01-14 23:08:43.304998    control     old_page          0   \n",
       "928468       US 2017-01-23 14:44:16.387854  treatment     new_page          0   \n",
       "822059       UK 2017-01-16 14:04:14.719771  treatment     new_page          1   \n",
       "711597       UK 2017-01-22 03:14:24.763511    control     old_page          0   \n",
       "710616       UK 2017-01-16 13:14:44.000513  treatment     new_page          0   \n",
       "\n",
       "         intercept  ab_page  overnight  ab_morning  ab_afternoon  ab_evening  \\\n",
       "user_id                                                                        \n",
       "834778           1        0          0           0             0           0   \n",
       "928468           1        1          0           0             1           0   \n",
       "822059           1        1          0           0             1           0   \n",
       "711597           1        0          1           0             0           0   \n",
       "710616           1        1          0           0             1           0   \n",
       "\n",
       "         ab_overnight  \n",
       "user_id                \n",
       "834778              0  \n",
       "928468              0  \n",
       "822059              0  \n",
       "711597              0  \n",
       "710616              0  "
      ]
     },
     "execution_count": 100,
     "metadata": {},
     "output_type": "execute_result"
    }
   ],
   "source": [
    "# Adding the columns for the ab_page * time of day\n",
    "df_timeofday['ab_morning'] = df_timeofday['ab_page'] * df_timeofday['morning']\n",
    "df_timeofday['ab_afternoon'] = df_timeofday['ab_page'] * df_timeofday['afternoon']\n",
    "df_timeofday['ab_evening'] = df_timeofday['ab_page'] * df_timeofday['evening']\n",
    "df_timeofday['ab_overnight'] = df_timeofday['ab_page'] * df_timeofday['overnight']\n",
    "\n",
    "# Removing unused columns\n",
    "df_timeofday.drop(columns=['morning', 'afternoon', 'evening'],axis=1, inplace=True)\n",
    "\n",
    "# Looking at the new columns we've added to the dataframe\n",
    "df_timeofday.head()"
   ]
  },
  {
   "cell_type": "code",
   "execution_count": 101,
   "metadata": {},
   "outputs": [
    {
     "name": "stdout",
     "output_type": "stream",
     "text": [
      "Optimization terminated successfully.\n",
      "         Current function value: 0.366098\n",
      "         Iterations 6\n"
     ]
    },
    {
     "data": {
      "text/html": [
       "<table class=\"simpletable\">\n",
       "<caption>Logit Regression Results</caption>\n",
       "<tr>\n",
       "  <th>Dep. Variable:</th>       <td>converted</td>    <th>  No. Observations:  </th>   <td>290584</td>   \n",
       "</tr>\n",
       "<tr>\n",
       "  <th>Model:</th>                 <td>Logit</td>      <th>  Df Residuals:      </th>   <td>290579</td>   \n",
       "</tr>\n",
       "<tr>\n",
       "  <th>Method:</th>                 <td>MLE</td>       <th>  Df Model:          </th>   <td>     4</td>   \n",
       "</tr>\n",
       "<tr>\n",
       "  <th>Date:</th>            <td>Mon, 28 Dec 2020</td> <th>  Pseudo R-squ.:     </th>  <td>6.274e-05</td> \n",
       "</tr>\n",
       "<tr>\n",
       "  <th>Time:</th>                <td>22:05:29</td>     <th>  Log-Likelihood:    </th> <td>-1.0638e+05</td>\n",
       "</tr>\n",
       "<tr>\n",
       "  <th>converged:</th>             <td>True</td>       <th>  LL-Null:           </th> <td>-1.0639e+05</td>\n",
       "</tr>\n",
       "<tr>\n",
       "  <th>Covariance Type:</th>     <td>nonrobust</td>    <th>  LLR p-value:       </th>  <td>0.009686</td>  \n",
       "</tr>\n",
       "</table>\n",
       "<table class=\"simpletable\">\n",
       "<tr>\n",
       "        <td></td>          <th>coef</th>     <th>std err</th>      <th>z</th>      <th>P>|z|</th>  <th>[0.025</th>    <th>0.975]</th>  \n",
       "</tr>\n",
       "<tr>\n",
       "  <th>intercept</th>    <td>   -1.9891</td> <td>    0.008</td> <td> -246.771</td> <td> 0.000</td> <td>   -2.005</td> <td>   -1.973</td>\n",
       "</tr>\n",
       "<tr>\n",
       "  <th>ab_overnight</th> <td>   -0.0578</td> <td>    0.018</td> <td>   -3.151</td> <td> 0.002</td> <td>   -0.094</td> <td>   -0.022</td>\n",
       "</tr>\n",
       "<tr>\n",
       "  <th>ab_morning</th>   <td>   -0.0163</td> <td>    0.018</td> <td>   -0.897</td> <td> 0.370</td> <td>   -0.052</td> <td>    0.019</td>\n",
       "</tr>\n",
       "<tr>\n",
       "  <th>ab_afternoon</th> <td>   -0.0033</td> <td>    0.018</td> <td>   -0.181</td> <td> 0.856</td> <td>   -0.038</td> <td>    0.032</td>\n",
       "</tr>\n",
       "<tr>\n",
       "  <th>ab_evening</th>   <td>    0.0189</td> <td>    0.018</td> <td>    1.054</td> <td> 0.292</td> <td>   -0.016</td> <td>    0.054</td>\n",
       "</tr>\n",
       "</table>"
      ],
      "text/plain": [
       "<class 'statsmodels.iolib.summary.Summary'>\n",
       "\"\"\"\n",
       "                           Logit Regression Results                           \n",
       "==============================================================================\n",
       "Dep. Variable:              converted   No. Observations:               290584\n",
       "Model:                          Logit   Df Residuals:                   290579\n",
       "Method:                           MLE   Df Model:                            4\n",
       "Date:                Mon, 28 Dec 2020   Pseudo R-squ.:               6.274e-05\n",
       "Time:                        22:05:29   Log-Likelihood:            -1.0638e+05\n",
       "converged:                       True   LL-Null:                   -1.0639e+05\n",
       "Covariance Type:            nonrobust   LLR p-value:                  0.009686\n",
       "================================================================================\n",
       "                   coef    std err          z      P>|z|      [0.025      0.975]\n",
       "--------------------------------------------------------------------------------\n",
       "intercept       -1.9891      0.008   -246.771      0.000      -2.005      -1.973\n",
       "ab_overnight    -0.0578      0.018     -3.151      0.002      -0.094      -0.022\n",
       "ab_morning      -0.0163      0.018     -0.897      0.370      -0.052       0.019\n",
       "ab_afternoon    -0.0033      0.018     -0.181      0.856      -0.038       0.032\n",
       "ab_evening       0.0189      0.018      1.054      0.292      -0.016       0.054\n",
       "================================================================================\n",
       "\"\"\""
      ]
     },
     "execution_count": 101,
     "metadata": {},
     "output_type": "execute_result"
    }
   ],
   "source": [
    "log_mod_tod = sm.Logit(df_timeofday['converted'], df_timeofday[['intercept', 'ab_overnight', 'ab_morning', 'ab_afternoon', 'ab_evening']])\n",
    "results_tod = log_mod_tod.fit()\n",
    "results_tod.summary()"
   ]
  },
  {
   "cell_type": "code",
   "execution_count": 102,
   "metadata": {},
   "outputs": [
    {
     "data": {
      "text/plain": [
       "intercept       0.136818\n",
       "ab_overnight    0.943839\n",
       "ab_morning      0.983846\n",
       "ab_afternoon    0.996749\n",
       "ab_evening      1.019125\n",
       "dtype: float64"
      ]
     },
     "execution_count": 102,
     "metadata": {},
     "output_type": "execute_result"
    }
   ],
   "source": [
    "# Is a result less than 1? If so, calculate the reciprocal to change to a unit decrease. Ignore the intercept.\n",
    "np.exp(results_tod.params)"
   ]
  },
  {
   "cell_type": "code",
   "execution_count": 103,
   "metadata": {},
   "outputs": [
    {
     "name": "stdout",
     "output_type": "stream",
     "text": [
      "+5.95 % Overnight Conversion Rate vs New Page\n",
      "+1.64 % Morning Conversion Rate vs New Page\n",
      "+0.33 % Afternoon Conversion Rate vs New Page\n",
      "-1.88 % Evening Conversion Rate vs New Page\n",
      " \n",
      "-5.92 % Combined Results vs Overnight Results\n"
     ]
    }
   ],
   "source": [
    "# Calculating the reciprocal for values less than 1 by adding '1/' to change to unit increase\n",
    "overnight_cv_rate = 1/np.exp(results_tod.params.ab_overnight)*100-100\n",
    "morning_cv_rate = 1/np.exp(results_tod.params.ab_morning)*100-100\n",
    "afternoon_cv_rate = 1/np.exp(results_tod.params.ab_afternoon)*100-100\n",
    "evening_cv_rate = 1/np.exp(results_tod.params.ab_evening)*100-100\n",
    "\n",
    "# Printing our result\n",
    "print(\"{0:+.02f}\".format(overnight_cv_rate),'%', 'Overnight Conversion Rate vs New Page')\n",
    "print(\"{0:+.02f}\".format(morning_cv_rate),'%', 'Morning Conversion Rate vs New Page')\n",
    "print(\"{0:+.02f}\".format(afternoon_cv_rate),'%', 'Afternoon Conversion Rate vs New Page')\n",
    "print(\"{0:+.02f}\".format(evening_cv_rate),'%',  'Evening Conversion Rate vs New Page')\n",
    "print(\" \") # Return space\n",
    "\n",
    "# Printing our difference\n",
    "print(\"{0:+.02f}\".format(np.mean([[morning_cv_rate] + [afternoon_cv_rate] + [evening_cv_rate]]) - (overnight_cv_rate)),'%', 'Combined Results vs Overnight Results')"
   ]
  },
  {
   "cell_type": "markdown",
   "metadata": {},
   "source": [
    "Users are 5.95% more likely to convert overnight on the old page vs new page other times of the day if all other variables are held constant. 1.64% are more likely to convert in the morning vs the new page but only 0.33% in the afternoon. The worst converion rate for the old page comes in the evening where 1.88% are more likely to convert with the new page. This data suggests it is more beneficial for the company to look into why this happens."
   ]
  },
  {
   "cell_type": "markdown",
   "metadata": {},
   "source": [
    "<a id='conclusions'></a>\n",
    "## Conclusions\n",
    "\n",
    "For this project we used Sampling Distribution, a Two-Sample Z-Test, and Logistic Regression to analyse A/B test data from an E-Commerce company. This data was used to compare how deploying different landing pages affected conversions.\n",
    "\n",
    "Regarding the tests, our first observation was recording low P-Values from the Sampling Distribution and the Two-Sample Z-Test. We obtained this data by comparing the convert rates of the treatment and control groups (new_page vs old_page). Both tests failed to provide evidence to reject the null hypothesis. In laymans terms, the E-Commerce company would be advised against deploying a new landing page since the old page proved to equal or better the new page in terms of conversion rates.\n",
    "\n",
    "Using Logistic Regression provided different P-Values from the Sampling Distribution and the Two-Sample Z-Test because the null hypothesis is calculated differently. Logistic Regression relies on predictor variables and thus the results are calculated differently.\n",
    "\n",
    "Further analysis concluded that the time of week and the time of day also had an effect on conversion rate for the old page vs the new page. We used the timestamps from the data we received indicating the date and time of conversion. We split the data into groups, one for date and one for time. We then grouped the dates into `Early Week`, `Midweek`, and `Weekend`. Using that data we could create a model to predict which time of the week that gave us the most conversions From our results, we can see the weekend had the best conversion rates. We created our model for time of day vs conversion rate using the same basis. We  similarly grouped the time ranges into `Overnight`, `Morning`, `Afternoon`, and `Evening`. The results showed us that overnight conversion for the old page outperformed the other times of day on average by 5.92%. Hopefully this data provides a comprehensive analysis to help them make a decision on deploying a new landing page vs keeping the old one.\n",
    "\n",
    "### Gather Submission Materials\n",
    "\n",
    "Once you are satisfied with the status of your Notebook, you should save it in a format that will make it easy for others to read. You can use the __File -> Download as -> HTML (.html)__ menu to save your notebook as an .html file. If you are working locally and get an error about \"No module name\", then open a terminal and try installing the missing module using `pip install <module_name>` (don't include the \"<\" or \">\" or any words following a period in the module name).\n",
    "\n",
    "You will submit both your original Notebook and an HTML or PDF copy of the Notebook for review. There is no need for you to include any data files with your submission. If you made reference to other websites, books, and other resources to help you in solving tasks in the project, make sure that you document them. It is recommended that you either add a \"Resources\" section in a Markdown cell at the end of the Notebook report, or you can include a `readme.txt` file documenting your sources.\n",
    "\n",
    "### Submit the Project\n",
    "\n",
    "When you're ready, click on the \"Submit Project\" button to go to the project submission page. You can submit your files as a .zip archive or you can link to a GitHub repository containing your project files. If you go with GitHub, note that your submission will be a snapshot of the linked repository at time of submission. It is recommended that you keep each project in a separate repository to avoid any potential confusion: if a reviewer gets multiple folders representing multiple projects, there might be confusion regarding what project is to be evaluated.\n",
    "\n",
    "It can take us up to a week to grade the project, but in most cases it is much faster. You will get an email once your submission has been reviewed. If you are having any problems submitting your project or wish to check on the status of your submission, please email us at dataanalyst-project@udacity.com. In the meantime, you should feel free to continue on with your learning journey by beginning the next module in the program."
   ]
  },
  {
   "cell_type": "markdown",
   "metadata": {},
   "source": [
    "## References"
   ]
  },
  {
   "cell_type": "markdown",
   "metadata": {},
   "source": [
    "Removing .0 in an integer: https://stackoverflow.com/questions/35614496/how-to-remove-the-0-in-a-integter-in-python \\\n",
    "Check rows for missing values: https://www.datasciencemadesimple.com/check-count-missing-values-pandas-python-2/ \\\n",
    "Variable definition: https://www.w3schools.com/python/python_variables.asp \\\n",
    "Python Escape Characters https://www.w3schools.com/python/gloss_python_escape_characters.asp \\\n",
    "Constant vs continous https://diffsense.com/diff/constant/continuous \\\n",
    "Logistic Regression in Python: https://www.datacamp.com/community/tutorials/understanding-logistic-regression-python \\\n",
    "Append a plus sign for positive numbers: https://stackoverflow.com/questions/8827852/append-a-plus-sign-before-positive-numbers \\\n",
    "List Columns: https://www.geeksforgeeks.org/how-to-get-column-names-in-pandas-dataframe/ \\\n",
    "Reorder Columns: https://www.datasciencemadesimple.com/re-arrange-or-re-order-the-column-of-dataframe-in-pandas-python-2/ \\\n",
    "Pandas to Datetime: https://www.dataindependent.com/pandas/pandas-to-datetime/ \\\n",
    "Column to Datetime: https://stackoverflow.com/questions/26763344/convert-pandas-column-to-datetime \\\n",
    "Space Remover: https://miniwebtool.com/remove-spaces/ \\\n",
    "Drop Columns: https://stackoverflow.com/questions/13411544/delete-column-from-pandas-dataframe\n",
    "Calendar: https://www.timeanddate.com/calendar/monthly.html?year=2017&month=1\n",
    "Combine columns: https://stackoverflow.com/questions/19377969/combine-two-columns-of-text-in-pandas-dataframe \\\n",
    "List columns: https://www.datasciencemadesimple.com/get-list-column-headers-column-name-python-pandas/"
   ]
  }
 ],
 "metadata": {
  "kernelspec": {
   "display_name": "Python 3",
   "language": "python",
   "name": "python3"
  },
  "language_info": {
   "codemirror_mode": {
    "name": "ipython",
    "version": 3
   },
   "file_extension": ".py",
   "mimetype": "text/x-python",
   "name": "python",
   "nbconvert_exporter": "python",
   "pygments_lexer": "ipython3",
   "version": "3.7.3"
  }
 },
 "nbformat": 4,
 "nbformat_minor": 2
}
