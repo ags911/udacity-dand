{
 "cells": [
  {
   "cell_type": "code",
   "execution_count": 1,
   "id": "possible-petroleum",
   "metadata": {},
   "outputs": [],
   "source": [
    "import pandas as pd\n",
    "import timeit"
   ]
  },
  {
   "cell_type": "raw",
   "id": "valuable-calculation",
   "metadata": {},
   "source": [
    "#%%timeit\n",
    "df89csv = pd.read_csv('dataset/1989.csv/1989.csv')"
   ]
  },
  {
   "cell_type": "markdown",
   "id": "direct-oxygen",
   "metadata": {},
   "source": [
    "6.16 s ± 174 ms per loop (mean ± std. dev. of 7 runs, 1 loop each)"
   ]
  },
  {
   "cell_type": "raw",
   "id": "alpine-environment",
   "metadata": {},
   "source": [
    "#%%timeit\n",
    "# 89-91' flights datasets\n",
    "df89 = pd.read_csv('dataset/1989.csv.bz2')\n",
    "#df90 = pd.read_csv('dataset/1990.csv.bz2')\n",
    "#df91 = pd.read_csv('dataset/1991.csv.bz2')"
   ]
  },
  {
   "cell_type": "markdown",
   "id": "weighted-figure",
   "metadata": {},
   "source": [
    "15.5 s ± 377 ms per loop (mean ± std. dev. of 7 runs, 1 loop each)"
   ]
  },
  {
   "cell_type": "code",
   "execution_count": 5,
   "id": "several-auckland",
   "metadata": {},
   "outputs": [
    {
     "name": "stdout",
     "output_type": "stream",
     "text": [
      "18.1 s ± 525 ms per loop (mean ± std. dev. of 7 runs, 1 loop each)\n"
     ]
    }
   ],
   "source": [
    "%%timeit\n",
    "df = pd.read_csv('dataset/1989-1991.csv')"
   ]
  },
  {
   "cell_type": "raw",
   "id": "second-seating",
   "metadata": {},
   "source": [
    "18.1 s ± 525 ms per loop (mean ± std. dev. of 7 runs, 1 loop each)"
   ]
  },
  {
   "cell_type": "code",
   "execution_count": 9,
   "id": "intense-assessment",
   "metadata": {},
   "outputs": [
    {
     "name": "stdout",
     "output_type": "stream",
     "text": [
      "43.2 s ± 394 ms per loop (mean ± std. dev. of 7 runs, 1 loop each)\n"
     ]
    }
   ],
   "source": [
    "%%timeit\n",
    "df2 = pd.read_csv('dataset/1989-1991.csv.bz2')"
   ]
  },
  {
   "cell_type": "code",
   "execution_count": 8,
   "id": "compressed-confidence",
   "metadata": {},
   "outputs": [
    {
     "ename": "NameError",
     "evalue": "name 'df' is not defined",
     "output_type": "error",
     "traceback": [
      "\u001b[1;31m---------------------------------------------------------------------------\u001b[0m",
      "\u001b[1;31mNameError\u001b[0m                                 Traceback (most recent call last)",
      "\u001b[1;32m<ipython-input-8-00cf07b74dcd>\u001b[0m in \u001b[0;36m<module>\u001b[1;34m\u001b[0m\n\u001b[1;32m----> 1\u001b[1;33m \u001b[0mdf\u001b[0m\u001b[1;33m\u001b[0m\u001b[1;33m\u001b[0m\u001b[0m\n\u001b[0m",
      "\u001b[1;31mNameError\u001b[0m: name 'df' is not defined"
     ]
    }
   ],
   "source": [
    "df.head()"
   ]
  },
  {
   "cell_type": "code",
   "execution_count": null,
   "id": "regulation-saturday",
   "metadata": {},
   "outputs": [],
   "source": [
    "df8991.info(verbose=True,null_counts=True)"
   ]
  },
  {
   "cell_type": "code",
   "execution_count": null,
   "id": "failing-scottish",
   "metadata": {},
   "outputs": [],
   "source": []
  }
 ],
 "metadata": {
  "kernelspec": {
   "display_name": "Python 3",
   "language": "python",
   "name": "python3"
  },
  "language_info": {
   "codemirror_mode": {
    "name": "ipython",
    "version": 3
   },
   "file_extension": ".py",
   "mimetype": "text/x-python",
   "name": "python",
   "nbconvert_exporter": "python",
   "pygments_lexer": "ipython3",
   "version": "3.7.3"
  }
 },
 "nbformat": 4,
 "nbformat_minor": 5
}
