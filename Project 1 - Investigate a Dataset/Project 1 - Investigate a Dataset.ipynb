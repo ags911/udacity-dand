{
 "cells": [
  {
   "cell_type": "markdown",
   "metadata": {},
   "source": [
    "> **Tip**: Welcome to the Investigate a Dataset project! You will find tips in quoted sections like this to help organize your approach to your investigation. Before submitting your project, it will be a good idea to go back through your report and remove these sections to make the presentation of your work as tidy as possible. First things first, you might want to double-click this Markdown cell and change the title so that it reflects your dataset and investigation.\n",
    "\n",
    "# Project 1: Investigate TMDB Movies Dataset\n",
    "\n",
    "## Table of Contents\n",
    "<ul>\n",
    "<li><a href=\"#intro\">Introduction</a></li>\n",
    "<li><a href=\"#wrangling\">Data Wrangling</a></li>\n",
    "<li><a href=\"#eda\">Exploratory Data Analysis</a></li>\n",
    "<li><a href=\"#conclusions\">Conclusions</a></li>\n",
    "</ul>\n",
    "\n",
    "<a id='intro'></a>\n",
    "## Introduction\n",
    "\n",
    "> **Tip**: In this section of the report, provide a brief introduction to the dataset you've selected for analysis. At the end of this section, describe the questions that you plan on exploring over the course of the report. Try to build your report around the analysis of at least one dependent variable and three independent variables.\n",
    ">\n",
    "> If you haven't yet selected and downloaded your data, make sure you do that first before coming back here. If you're not sure what questions to ask right now, then make sure you familiarize yourself with the variables and the dataset context for ideas of what to explore."
   ]
  },
  {
   "cell_type": "markdown",
   "metadata": {},
   "source": [
    "## Overview and Notes\n",
    "\n",
    "This data set contains information\n",
    "about 10,000 movies collected from\n",
    "The Movie Database (TMDb),\n",
    "including user ratings and revenue.\n",
    "* Certain columns, like ‘cast’\n",
    "and ‘genres’, contain multiple\n",
    "values separated by pipe (|)\n",
    "characters.\n",
    "* There are some odd characters\n",
    "in the ‘cast’ column. Don’t worry\n",
    "about cleaning them. You can\n",
    "leave them as is.\n",
    "* The final two columns ending\n",
    "with “_adj” show the budget and\n",
    "revenue of the associated movie\n",
    "in terms of 2010 dollars,\n",
    "accounting for inflation over\n",
    "time.\n"
   ]
  },
  {
   "cell_type": "markdown",
   "metadata": {},
   "source": [
    "**Q1.** What are the top 5 movie releases? \\\n",
    "**Q2.** How many movies where released each year? \\\n",
    "**Q3.** How far apart from the first release was the last release date? \\\n",
    "**Q4.** How successful are movies released in the summer vs the winter? \\\n",
    "**Q5.** How does movie budget correlate to success? \\\n",
    "**Q6:** How does the runtime affect the ratings?"
   ]
  },
  {
   "cell_type": "markdown",
   "metadata": {},
   "source": [
    "**Dependent Variables:**\n",
    "Variables that can change because it could change depending on several factors \\\n",
    "**Independent Variables:**\n",
    "Variables that cannot change because it does not depend on other factors"
   ]
  },
  {
   "cell_type": "code",
   "execution_count": 1,
   "metadata": {},
   "outputs": [],
   "source": [
    "# Importing libraries\n",
    "import pandas as pd\n",
    "import numpy as np\n",
    "import matplotlib.pyplot as plt\n",
    "import matplotlib.ticker as tick\n",
    "%matplotlib inline\n",
    "import seaborn as sns\n",
    "from collections import Counter\n",
    "from datetime import datetime\n",
    "import random"
   ]
  },
  {
   "cell_type": "markdown",
   "metadata": {},
   "source": [
    "<a id='wrangling'></a>\n",
    "## Data Wrangling\n",
    "\n",
    "> **Tip**: In this section of the report, you will load in the data, check for cleanliness, and then trim and clean your dataset for analysis. Make sure that you document your steps carefully and justify your cleaning decisions.\n",
    "\n",
    "### General Properties"
   ]
  },
  {
   "cell_type": "code",
   "execution_count": 2,
   "metadata": {},
   "outputs": [
    {
     "data": {
      "text/html": [
       "<div>\n",
       "<style scoped>\n",
       "    .dataframe tbody tr th:only-of-type {\n",
       "        vertical-align: middle;\n",
       "    }\n",
       "\n",
       "    .dataframe tbody tr th {\n",
       "        vertical-align: top;\n",
       "    }\n",
       "\n",
       "    .dataframe thead th {\n",
       "        text-align: right;\n",
       "    }\n",
       "</style>\n",
       "<table border=\"1\" class=\"dataframe\">\n",
       "  <thead>\n",
       "    <tr style=\"text-align: right;\">\n",
       "      <th></th>\n",
       "      <th>id</th>\n",
       "      <th>imdb_id</th>\n",
       "      <th>popularity</th>\n",
       "      <th>budget</th>\n",
       "      <th>revenue</th>\n",
       "      <th>original_title</th>\n",
       "      <th>cast</th>\n",
       "      <th>homepage</th>\n",
       "      <th>director</th>\n",
       "      <th>tagline</th>\n",
       "      <th>...</th>\n",
       "      <th>overview</th>\n",
       "      <th>runtime</th>\n",
       "      <th>genres</th>\n",
       "      <th>production_companies</th>\n",
       "      <th>release_date</th>\n",
       "      <th>vote_count</th>\n",
       "      <th>vote_average</th>\n",
       "      <th>release_year</th>\n",
       "      <th>budget_adj</th>\n",
       "      <th>revenue_adj</th>\n",
       "    </tr>\n",
       "  </thead>\n",
       "  <tbody>\n",
       "    <tr>\n",
       "      <th>0</th>\n",
       "      <td>135397</td>\n",
       "      <td>tt0369610</td>\n",
       "      <td>32.985763</td>\n",
       "      <td>150000000</td>\n",
       "      <td>1513528810</td>\n",
       "      <td>Jurassic World</td>\n",
       "      <td>Chris Pratt|Bryce Dallas Howard|Irrfan Khan|Vi...</td>\n",
       "      <td>http://www.jurassicworld.com/</td>\n",
       "      <td>Colin Trevorrow</td>\n",
       "      <td>The park is open.</td>\n",
       "      <td>...</td>\n",
       "      <td>Twenty-two years after the events of Jurassic ...</td>\n",
       "      <td>124</td>\n",
       "      <td>Action|Adventure|Science Fiction|Thriller</td>\n",
       "      <td>Universal Studios|Amblin Entertainment|Legenda...</td>\n",
       "      <td>6/9/15</td>\n",
       "      <td>5562</td>\n",
       "      <td>6.5</td>\n",
       "      <td>2015</td>\n",
       "      <td>1.379999e+08</td>\n",
       "      <td>1.392446e+09</td>\n",
       "    </tr>\n",
       "    <tr>\n",
       "      <th>1</th>\n",
       "      <td>76341</td>\n",
       "      <td>tt1392190</td>\n",
       "      <td>28.419936</td>\n",
       "      <td>150000000</td>\n",
       "      <td>378436354</td>\n",
       "      <td>Mad Max: Fury Road</td>\n",
       "      <td>Tom Hardy|Charlize Theron|Hugh Keays-Byrne|Nic...</td>\n",
       "      <td>http://www.madmaxmovie.com/</td>\n",
       "      <td>George Miller</td>\n",
       "      <td>What a Lovely Day.</td>\n",
       "      <td>...</td>\n",
       "      <td>An apocalyptic story set in the furthest reach...</td>\n",
       "      <td>120</td>\n",
       "      <td>Action|Adventure|Science Fiction|Thriller</td>\n",
       "      <td>Village Roadshow Pictures|Kennedy Miller Produ...</td>\n",
       "      <td>5/13/15</td>\n",
       "      <td>6185</td>\n",
       "      <td>7.1</td>\n",
       "      <td>2015</td>\n",
       "      <td>1.379999e+08</td>\n",
       "      <td>3.481613e+08</td>\n",
       "    </tr>\n",
       "    <tr>\n",
       "      <th>2</th>\n",
       "      <td>262500</td>\n",
       "      <td>tt2908446</td>\n",
       "      <td>13.112507</td>\n",
       "      <td>110000000</td>\n",
       "      <td>295238201</td>\n",
       "      <td>Insurgent</td>\n",
       "      <td>Shailene Woodley|Theo James|Kate Winslet|Ansel...</td>\n",
       "      <td>http://www.thedivergentseries.movie/#insurgent</td>\n",
       "      <td>Robert Schwentke</td>\n",
       "      <td>One Choice Can Destroy You</td>\n",
       "      <td>...</td>\n",
       "      <td>Beatrice Prior must confront her inner demons ...</td>\n",
       "      <td>119</td>\n",
       "      <td>Adventure|Science Fiction|Thriller</td>\n",
       "      <td>Summit Entertainment|Mandeville Films|Red Wago...</td>\n",
       "      <td>3/18/15</td>\n",
       "      <td>2480</td>\n",
       "      <td>6.3</td>\n",
       "      <td>2015</td>\n",
       "      <td>1.012000e+08</td>\n",
       "      <td>2.716190e+08</td>\n",
       "    </tr>\n",
       "    <tr>\n",
       "      <th>3</th>\n",
       "      <td>140607</td>\n",
       "      <td>tt2488496</td>\n",
       "      <td>11.173104</td>\n",
       "      <td>200000000</td>\n",
       "      <td>2068178225</td>\n",
       "      <td>Star Wars: The Force Awakens</td>\n",
       "      <td>Harrison Ford|Mark Hamill|Carrie Fisher|Adam D...</td>\n",
       "      <td>http://www.starwars.com/films/star-wars-episod...</td>\n",
       "      <td>J.J. Abrams</td>\n",
       "      <td>Every generation has a story.</td>\n",
       "      <td>...</td>\n",
       "      <td>Thirty years after defeating the Galactic Empi...</td>\n",
       "      <td>136</td>\n",
       "      <td>Action|Adventure|Science Fiction|Fantasy</td>\n",
       "      <td>Lucasfilm|Truenorth Productions|Bad Robot</td>\n",
       "      <td>12/15/15</td>\n",
       "      <td>5292</td>\n",
       "      <td>7.5</td>\n",
       "      <td>2015</td>\n",
       "      <td>1.839999e+08</td>\n",
       "      <td>1.902723e+09</td>\n",
       "    </tr>\n",
       "    <tr>\n",
       "      <th>4</th>\n",
       "      <td>168259</td>\n",
       "      <td>tt2820852</td>\n",
       "      <td>9.335014</td>\n",
       "      <td>190000000</td>\n",
       "      <td>1506249360</td>\n",
       "      <td>Furious 7</td>\n",
       "      <td>Vin Diesel|Paul Walker|Jason Statham|Michelle ...</td>\n",
       "      <td>http://www.furious7.com/</td>\n",
       "      <td>James Wan</td>\n",
       "      <td>Vengeance Hits Home</td>\n",
       "      <td>...</td>\n",
       "      <td>Deckard Shaw seeks revenge against Dominic Tor...</td>\n",
       "      <td>137</td>\n",
       "      <td>Action|Crime|Thriller</td>\n",
       "      <td>Universal Pictures|Original Film|Media Rights ...</td>\n",
       "      <td>4/1/15</td>\n",
       "      <td>2947</td>\n",
       "      <td>7.3</td>\n",
       "      <td>2015</td>\n",
       "      <td>1.747999e+08</td>\n",
       "      <td>1.385749e+09</td>\n",
       "    </tr>\n",
       "  </tbody>\n",
       "</table>\n",
       "<p>5 rows × 21 columns</p>\n",
       "</div>"
      ],
      "text/plain": [
       "       id    imdb_id  popularity     budget     revenue  \\\n",
       "0  135397  tt0369610   32.985763  150000000  1513528810   \n",
       "1   76341  tt1392190   28.419936  150000000   378436354   \n",
       "2  262500  tt2908446   13.112507  110000000   295238201   \n",
       "3  140607  tt2488496   11.173104  200000000  2068178225   \n",
       "4  168259  tt2820852    9.335014  190000000  1506249360   \n",
       "\n",
       "                 original_title  \\\n",
       "0                Jurassic World   \n",
       "1            Mad Max: Fury Road   \n",
       "2                     Insurgent   \n",
       "3  Star Wars: The Force Awakens   \n",
       "4                     Furious 7   \n",
       "\n",
       "                                                cast  \\\n",
       "0  Chris Pratt|Bryce Dallas Howard|Irrfan Khan|Vi...   \n",
       "1  Tom Hardy|Charlize Theron|Hugh Keays-Byrne|Nic...   \n",
       "2  Shailene Woodley|Theo James|Kate Winslet|Ansel...   \n",
       "3  Harrison Ford|Mark Hamill|Carrie Fisher|Adam D...   \n",
       "4  Vin Diesel|Paul Walker|Jason Statham|Michelle ...   \n",
       "\n",
       "                                            homepage          director  \\\n",
       "0                      http://www.jurassicworld.com/   Colin Trevorrow   \n",
       "1                        http://www.madmaxmovie.com/     George Miller   \n",
       "2     http://www.thedivergentseries.movie/#insurgent  Robert Schwentke   \n",
       "3  http://www.starwars.com/films/star-wars-episod...       J.J. Abrams   \n",
       "4                           http://www.furious7.com/         James Wan   \n",
       "\n",
       "                         tagline  ...  \\\n",
       "0              The park is open.  ...   \n",
       "1             What a Lovely Day.  ...   \n",
       "2     One Choice Can Destroy You  ...   \n",
       "3  Every generation has a story.  ...   \n",
       "4            Vengeance Hits Home  ...   \n",
       "\n",
       "                                            overview runtime  \\\n",
       "0  Twenty-two years after the events of Jurassic ...     124   \n",
       "1  An apocalyptic story set in the furthest reach...     120   \n",
       "2  Beatrice Prior must confront her inner demons ...     119   \n",
       "3  Thirty years after defeating the Galactic Empi...     136   \n",
       "4  Deckard Shaw seeks revenge against Dominic Tor...     137   \n",
       "\n",
       "                                      genres  \\\n",
       "0  Action|Adventure|Science Fiction|Thriller   \n",
       "1  Action|Adventure|Science Fiction|Thriller   \n",
       "2         Adventure|Science Fiction|Thriller   \n",
       "3   Action|Adventure|Science Fiction|Fantasy   \n",
       "4                      Action|Crime|Thriller   \n",
       "\n",
       "                                production_companies release_date vote_count  \\\n",
       "0  Universal Studios|Amblin Entertainment|Legenda...       6/9/15       5562   \n",
       "1  Village Roadshow Pictures|Kennedy Miller Produ...      5/13/15       6185   \n",
       "2  Summit Entertainment|Mandeville Films|Red Wago...      3/18/15       2480   \n",
       "3          Lucasfilm|Truenorth Productions|Bad Robot     12/15/15       5292   \n",
       "4  Universal Pictures|Original Film|Media Rights ...       4/1/15       2947   \n",
       "\n",
       "   vote_average  release_year    budget_adj   revenue_adj  \n",
       "0           6.5          2015  1.379999e+08  1.392446e+09  \n",
       "1           7.1          2015  1.379999e+08  3.481613e+08  \n",
       "2           6.3          2015  1.012000e+08  2.716190e+08  \n",
       "3           7.5          2015  1.839999e+08  1.902723e+09  \n",
       "4           7.3          2015  1.747999e+08  1.385749e+09  \n",
       "\n",
       "[5 rows x 21 columns]"
      ]
     },
     "execution_count": 2,
     "metadata": {},
     "output_type": "execute_result"
    }
   ],
   "source": [
    "# Inspecting the dataset\n",
    "df = pd.read_csv('tmdb-movies.csv')\n",
    "df.head()"
   ]
  },
  {
   "cell_type": "markdown",
   "metadata": {},
   "source": [
    "There are **5696** zero values for the budget column which span **52%** of the entries so dropping that much data may skew the results. Setting these numbers to null should allow the values to be ignored instead which is safer."
   ]
  },
  {
   "cell_type": "markdown",
   "metadata": {},
   "source": [
    "> **Tip**: You should _not_ perform too many operations in each cell. Create cells freely to explore your data. One option that you can take with this project is to do a lot of explorations in an initial notebook. These don't have to be organized, but make sure you use enough comments to understand the purpose of each code cell. Then, after you're done with your analysis, create a duplicate notebook where you will trim the excess and organize your steps so that you have a flowing, cohesive report.\n",
    "\n",
    "> **Tip**: Make sure that you keep your reader informed on the steps that you are taking in your investigation. Follow every code cell, or every set of related code cells, with a markdown cell to describe to the reader what was found in the preceding cell(s). Try to make it so that the reader can then understand what they will be seeing in the following cell(s).\n",
    "\n",
    "### Data Cleaning (Clearing the uneccessary data from the Dataset)"
   ]
  },
  {
   "cell_type": "markdown",
   "metadata": {},
   "source": [
    "**Here is a list of the things we need to do clean the data:**\n",
    "\n",
    "1. Drop unused columns such as 'imdb_id' and 'homepage'\n",
    "2. Remove duplicate rows of data from the Dataset\n",
    "3. Find 'Null' values\n",
    "4. Drop the movies that have zero value budget or revenue\n",
    "5. Change the format of the release date to datetime format"
   ]
  },
  {
   "cell_type": "markdown",
   "metadata": {},
   "source": [
    "### 1. Drop unused columns such as 'imdb_id' and 'homepage'"
   ]
  },
  {
   "cell_type": "markdown",
   "metadata": {},
   "source": [
    "Out of the 21 columns in this dataset, there are a few that are not required to answer our questions. We can drop these columns now: 'imdb_id', 'homepage', 'tagline', 'overview', 'budget_adj', 'revenue_adj'."
   ]
  },
  {
   "cell_type": "code",
   "execution_count": 3,
   "metadata": {},
   "outputs": [
    {
     "name": "stdout",
     "output_type": "stream",
     "text": [
      "Before Removing Columns (Rows, Columns): (10866, 21)\n",
      "After Removing Columns (Rows, Columns): (10866, 15)\n"
     ]
    }
   ],
   "source": [
    "# After using df.info, we noticed many columns with unimportant data. We can drop them using 'drop()'' function\n",
    "print(\"Before Removing Columns (Rows, Columns):\", df.shape)\n",
    "\n",
    "df.drop(['imdb_id', 'homepage', 'tagline', 'overview', 'budget_adj', 'revenue_adj'], axis =1, inplace = True)\n",
    "print(\"After Removing Columns (Rows, Columns):\", df.shape)"
   ]
  },
  {
   "cell_type": "code",
   "execution_count": 4,
   "metadata": {},
   "outputs": [
    {
     "name": "stdout",
     "output_type": "stream",
     "text": [
      "<class 'pandas.core.frame.DataFrame'>\n",
      "RangeIndex: 10866 entries, 0 to 10865\n",
      "Data columns (total 15 columns):\n",
      "id                      10866 non-null int64\n",
      "popularity              10866 non-null float64\n",
      "budget                  10866 non-null int64\n",
      "revenue                 10866 non-null int64\n",
      "original_title          10866 non-null object\n",
      "cast                    10790 non-null object\n",
      "director                10822 non-null object\n",
      "keywords                9373 non-null object\n",
      "runtime                 10866 non-null int64\n",
      "genres                  10843 non-null object\n",
      "production_companies    9836 non-null object\n",
      "release_date            10866 non-null object\n",
      "vote_count              10866 non-null int64\n",
      "vote_average            10866 non-null float64\n",
      "release_year            10866 non-null int64\n",
      "dtypes: float64(2), int64(6), object(7)\n",
      "memory usage: 1.2+ MB\n"
     ]
    }
   ],
   "source": [
    "df.info()"
   ]
  },
  {
   "cell_type": "markdown",
   "metadata": {},
   "source": [
    "### 2. Remove duplicate rows of data from the Dataset"
   ]
  },
  {
   "cell_type": "markdown",
   "metadata": {},
   "source": [
    "We now have to search for the duplicated rows of data entries using duplicated()."
   ]
  },
  {
   "cell_type": "code",
   "execution_count": 5,
   "metadata": {},
   "outputs": [
    {
     "data": {
      "text/plain": [
       "1"
      ]
     },
     "execution_count": 5,
     "metadata": {},
     "output_type": "execute_result"
    }
   ],
   "source": [
    "#'To find the duplicate rows we can use the duplicated()' function to return the duplicate row as True or False \n",
    "# However, we can also add sum() to count the duplicate entries by summing all the rows\n",
    "sum(df.duplicated())"
   ]
  },
  {
   "cell_type": "code",
   "execution_count": 6,
   "metadata": {},
   "outputs": [
    {
     "name": "stdout",
     "output_type": "stream",
     "text": [
      "Before Removing Duplicates (Rows, Columns): (10866, 15)\n"
     ]
    }
   ],
   "source": [
    "# Printing 'Before Removing Duplicate Values'\n",
    "print('Before Removing Duplicates (Rows, Columns):', df.shape)"
   ]
  },
  {
   "cell_type": "code",
   "execution_count": 7,
   "metadata": {},
   "outputs": [],
   "source": [
    "# We can use the 'drop_duplicates()' function to remove the 1 duplicate row we found\n",
    "df.drop_duplicates(inplace = True)"
   ]
  },
  {
   "cell_type": "code",
   "execution_count": 8,
   "metadata": {},
   "outputs": [
    {
     "name": "stdout",
     "output_type": "stream",
     "text": [
      "After Removing Duplicates (Rows, Columns): (10865, 15)\n"
     ]
    }
   ],
   "source": [
    "# Printing 'After Removing Duplicate Values'\n",
    "print('After Removing Duplicates (Rows, Columns):', df.shape)"
   ]
  },
  {
   "cell_type": "markdown",
   "metadata": {},
   "source": [
    "### 3. Finding Null Values"
   ]
  },
  {
   "cell_type": "markdown",
   "metadata": {},
   "source": [
    "We can check for null values using info() then drop or estimate them depending on the importance of the values."
   ]
  },
  {
   "cell_type": "code",
   "execution_count": 9,
   "metadata": {},
   "outputs": [
    {
     "name": "stdout",
     "output_type": "stream",
     "text": [
      "<class 'pandas.core.frame.DataFrame'>\n",
      "Int64Index: 10865 entries, 0 to 10865\n",
      "Data columns (total 15 columns):\n",
      "id                      10865 non-null int64\n",
      "popularity              10865 non-null float64\n",
      "budget                  10865 non-null int64\n",
      "revenue                 10865 non-null int64\n",
      "original_title          10865 non-null object\n",
      "cast                    10789 non-null object\n",
      "director                10821 non-null object\n",
      "keywords                9372 non-null object\n",
      "runtime                 10865 non-null int64\n",
      "genres                  10842 non-null object\n",
      "production_companies    9835 non-null object\n",
      "release_date            10865 non-null object\n",
      "vote_count              10865 non-null int64\n",
      "vote_average            10865 non-null float64\n",
      "release_year            10865 non-null int64\n",
      "dtypes: float64(2), int64(6), object(7)\n",
      "memory usage: 1.3+ MB\n"
     ]
    }
   ],
   "source": [
    "# Looking at null values and datatypes for each column so we won't need to use df.dtypes\n",
    "df.info()"
   ]
  },
  {
   "cell_type": "markdown",
   "metadata": {},
   "source": [
    "**Finding 1:** Looking at df.info() it seems there are 10866 entries spanned across 21 columns. Some columns have missing data so we'll have to sort them out."
   ]
  },
  {
   "cell_type": "code",
   "execution_count": 10,
   "metadata": {
    "scrolled": true
   },
   "outputs": [
    {
     "data": {
      "text/plain": [
       "['cast', 'director', 'keywords', 'genres', 'production_companies']"
      ]
     },
     "execution_count": 10,
     "metadata": {},
     "output_type": "execute_result"
    }
   ],
   "source": [
    "# Finding the columns with null values\n",
    "df.columns[df.isna().any()].tolist()"
   ]
  },
  {
   "cell_type": "code",
   "execution_count": 11,
   "metadata": {},
   "outputs": [
    {
     "data": {
      "text/plain": [
       "[('id', 0),\n",
       " ('popularity', 0),\n",
       " ('budget', 0),\n",
       " ('revenue', 0),\n",
       " ('original_title', 0),\n",
       " ('cast', 76),\n",
       " ('director', 44),\n",
       " ('keywords', 1493),\n",
       " ('runtime', 0),\n",
       " ('genres', 23),\n",
       " ('production_companies', 1030),\n",
       " ('release_date', 0),\n",
       " ('vote_count', 0),\n",
       " ('vote_average', 0),\n",
       " ('release_year', 0)]"
      ]
     },
     "execution_count": 11,
     "metadata": {},
     "output_type": "execute_result"
    }
   ],
   "source": [
    "list(df.isnull().sum().items())"
   ]
  },
  {
   "cell_type": "markdown",
   "metadata": {},
   "source": [
    "**Finding 2:** Looking at the list of null items it seems \"homepage\", \"tagline\", \"keywords\" and \"production_companies\" have too many null values so I'll drop those columns."
   ]
  },
  {
   "cell_type": "code",
   "execution_count": 12,
   "metadata": {},
   "outputs": [
    {
     "name": "stdout",
     "output_type": "stream",
     "text": [
      "\n"
     ]
    }
   ],
   "source": [
    "# We can fill the null values with zero using the function called 'fillna'\n",
    "df.fillna(0)\n",
    "print()"
   ]
  },
  {
   "cell_type": "code",
   "execution_count": 13,
   "metadata": {},
   "outputs": [
    {
     "data": {
      "text/plain": [
       "id                         0\n",
       "popularity                 0\n",
       "budget                     0\n",
       "revenue                    0\n",
       "original_title             0\n",
       "cast                      76\n",
       "director                  44\n",
       "keywords                1493\n",
       "runtime                    0\n",
       "genres                    23\n",
       "production_companies    1030\n",
       "release_date               0\n",
       "vote_count                 0\n",
       "vote_average               0\n",
       "release_year               0\n",
       "dtype: int64"
      ]
     },
     "execution_count": 13,
     "metadata": {},
     "output_type": "execute_result"
    }
   ],
   "source": [
    "# We can use this function to see the null values still remaining\n",
    "df.isnull().sum()"
   ]
  },
  {
   "cell_type": "code",
   "execution_count": 14,
   "metadata": {},
   "outputs": [],
   "source": [
    "# We can see the 'cast', 'director', and 'genres' have a low amount of null values which can be safely removed\n",
    "# I added 'subset =' to the code to mute the error about supplying multiple axis to axis being depreciated in future\n",
    "df.dropna(subset = ['cast', 'director', 'genres'], inplace=True)"
   ]
  },
  {
   "cell_type": "code",
   "execution_count": 15,
   "metadata": {},
   "outputs": [
    {
     "data": {
      "text/plain": [
       "id                         0\n",
       "popularity                 0\n",
       "budget                     0\n",
       "revenue                    0\n",
       "original_title             0\n",
       "cast                       0\n",
       "director                   0\n",
       "keywords                1425\n",
       "runtime                    0\n",
       "genres                     0\n",
       "production_companies     959\n",
       "release_date               0\n",
       "vote_count                 0\n",
       "vote_average               0\n",
       "release_year               0\n",
       "dtype: int64"
      ]
     },
     "execution_count": 15,
     "metadata": {},
     "output_type": "execute_result"
    }
   ],
   "source": [
    "df.isnull().sum()"
   ]
  },
  {
   "cell_type": "code",
   "execution_count": 16,
   "metadata": {},
   "outputs": [
    {
     "data": {
      "text/html": [
       "<div>\n",
       "<style scoped>\n",
       "    .dataframe tbody tr th:only-of-type {\n",
       "        vertical-align: middle;\n",
       "    }\n",
       "\n",
       "    .dataframe tbody tr th {\n",
       "        vertical-align: top;\n",
       "    }\n",
       "\n",
       "    .dataframe thead th {\n",
       "        text-align: right;\n",
       "    }\n",
       "</style>\n",
       "<table border=\"1\" class=\"dataframe\">\n",
       "  <thead>\n",
       "    <tr style=\"text-align: right;\">\n",
       "      <th></th>\n",
       "      <th>id</th>\n",
       "      <th>popularity</th>\n",
       "      <th>budget</th>\n",
       "      <th>revenue</th>\n",
       "      <th>runtime</th>\n",
       "      <th>vote_count</th>\n",
       "      <th>vote_average</th>\n",
       "      <th>release_year</th>\n",
       "    </tr>\n",
       "  </thead>\n",
       "  <tbody>\n",
       "    <tr>\n",
       "      <th>count</th>\n",
       "      <td>10731.000000</td>\n",
       "      <td>10731.000000</td>\n",
       "      <td>1.073100e+04</td>\n",
       "      <td>1.073100e+04</td>\n",
       "      <td>10731.000000</td>\n",
       "      <td>10731.000000</td>\n",
       "      <td>10731.000000</td>\n",
       "      <td>10731.000000</td>\n",
       "    </tr>\n",
       "    <tr>\n",
       "      <th>mean</th>\n",
       "      <td>65201.741869</td>\n",
       "      <td>0.652615</td>\n",
       "      <td>1.480365e+07</td>\n",
       "      <td>4.031989e+07</td>\n",
       "      <td>102.468829</td>\n",
       "      <td>219.812972</td>\n",
       "      <td>5.964710</td>\n",
       "      <td>2001.259622</td>\n",
       "    </tr>\n",
       "    <tr>\n",
       "      <th>std</th>\n",
       "      <td>91470.508056</td>\n",
       "      <td>1.004804</td>\n",
       "      <td>3.106456e+07</td>\n",
       "      <td>1.176524e+08</td>\n",
       "      <td>30.493873</td>\n",
       "      <td>578.815324</td>\n",
       "      <td>0.930283</td>\n",
       "      <td>12.820151</td>\n",
       "    </tr>\n",
       "    <tr>\n",
       "      <th>min</th>\n",
       "      <td>5.000000</td>\n",
       "      <td>0.000188</td>\n",
       "      <td>0.000000e+00</td>\n",
       "      <td>0.000000e+00</td>\n",
       "      <td>0.000000</td>\n",
       "      <td>10.000000</td>\n",
       "      <td>1.500000</td>\n",
       "      <td>1960.000000</td>\n",
       "    </tr>\n",
       "    <tr>\n",
       "      <th>25%</th>\n",
       "      <td>10547.500000</td>\n",
       "      <td>0.210765</td>\n",
       "      <td>0.000000e+00</td>\n",
       "      <td>0.000000e+00</td>\n",
       "      <td>90.000000</td>\n",
       "      <td>17.000000</td>\n",
       "      <td>5.400000</td>\n",
       "      <td>1995.000000</td>\n",
       "    </tr>\n",
       "    <tr>\n",
       "      <th>50%</th>\n",
       "      <td>20323.000000</td>\n",
       "      <td>0.387081</td>\n",
       "      <td>0.000000e+00</td>\n",
       "      <td>0.000000e+00</td>\n",
       "      <td>99.000000</td>\n",
       "      <td>39.000000</td>\n",
       "      <td>6.000000</td>\n",
       "      <td>2006.000000</td>\n",
       "    </tr>\n",
       "    <tr>\n",
       "      <th>75%</th>\n",
       "      <td>73948.500000</td>\n",
       "      <td>0.720889</td>\n",
       "      <td>1.600000e+07</td>\n",
       "      <td>2.500000e+07</td>\n",
       "      <td>112.000000</td>\n",
       "      <td>148.000000</td>\n",
       "      <td>6.600000</td>\n",
       "      <td>2011.000000</td>\n",
       "    </tr>\n",
       "    <tr>\n",
       "      <th>max</th>\n",
       "      <td>417859.000000</td>\n",
       "      <td>32.985763</td>\n",
       "      <td>4.250000e+08</td>\n",
       "      <td>2.781506e+09</td>\n",
       "      <td>900.000000</td>\n",
       "      <td>9767.000000</td>\n",
       "      <td>9.200000</td>\n",
       "      <td>2015.000000</td>\n",
       "    </tr>\n",
       "  </tbody>\n",
       "</table>\n",
       "</div>"
      ],
      "text/plain": [
       "                  id    popularity        budget       revenue       runtime  \\\n",
       "count   10731.000000  10731.000000  1.073100e+04  1.073100e+04  10731.000000   \n",
       "mean    65201.741869      0.652615  1.480365e+07  4.031989e+07    102.468829   \n",
       "std     91470.508056      1.004804  3.106456e+07  1.176524e+08     30.493873   \n",
       "min         5.000000      0.000188  0.000000e+00  0.000000e+00      0.000000   \n",
       "25%     10547.500000      0.210765  0.000000e+00  0.000000e+00     90.000000   \n",
       "50%     20323.000000      0.387081  0.000000e+00  0.000000e+00     99.000000   \n",
       "75%     73948.500000      0.720889  1.600000e+07  2.500000e+07    112.000000   \n",
       "max    417859.000000     32.985763  4.250000e+08  2.781506e+09    900.000000   \n",
       "\n",
       "         vote_count  vote_average  release_year  \n",
       "count  10731.000000  10731.000000  10731.000000  \n",
       "mean     219.812972      5.964710   2001.259622  \n",
       "std      578.815324      0.930283     12.820151  \n",
       "min       10.000000      1.500000   1960.000000  \n",
       "25%       17.000000      5.400000   1995.000000  \n",
       "50%       39.000000      6.000000   2006.000000  \n",
       "75%      148.000000      6.600000   2011.000000  \n",
       "max     9767.000000      9.200000   2015.000000  "
      ]
     },
     "execution_count": 16,
     "metadata": {},
     "output_type": "execute_result"
    }
   ],
   "source": [
    "# Trying to find outliers using describe\n",
    "df.describe()"
   ]
  },
  {
   "cell_type": "markdown",
   "metadata": {},
   "source": [
    "**Finding 3:** The popularity column has some outliers from looking at the \"max\" and \"min\" numbers. Also, there are a few 0 values in the \"min\" numbers for \"budget\", \"revenue\", \"runtime\", \"budget_adj\" and \"revenue_adj\"."
   ]
  },
  {
   "cell_type": "markdown",
   "metadata": {},
   "source": [
    "### 4. Drop movies that have zero value budget or revenue "
   ]
  },
  {
   "cell_type": "markdown",
   "metadata": {},
   "source": [
    "We can decide what to do with the 0 values now that we have dealt with the null values. Our actions will depend on the amount of data affected."
   ]
  },
  {
   "cell_type": "code",
   "execution_count": 17,
   "metadata": {
    "scrolled": true
   },
   "outputs": [
    {
     "name": "stdout",
     "output_type": "stream",
     "text": [
      "Rows with 0 value \"budget\": 5578\n",
      "Rows with 0 value \"revenue\": 5888\n"
     ]
    }
   ],
   "source": [
    "# Checking for absense of data by looking at how many films have a 0 budget or revenue value\n",
    "nobudget = df.query('budget == \"0\"').count()['id']\n",
    "norevenue = df.query('revenue == \"0\"').count()['id']\n",
    "\n",
    "print('Rows with 0 value \"budget\":', nobudget)\n",
    "print('Rows with 0 value \"revenue\":', norevenue)"
   ]
  },
  {
   "cell_type": "code",
   "execution_count": 18,
   "metadata": {},
   "outputs": [
    {
     "name": "stdout",
     "output_type": "stream",
     "text": [
      "Rows with 0 value \"budget\" as % : 52%\n",
      "Rows with 0 value \"revenue\" as % : 52%\n"
     ]
    }
   ],
   "source": [
    "# Working the total percentage of the data with a zero value\n",
    "budgetcount = df['budget'].count()\n",
    "revenuecount = df['revenue'].count()\n",
    "\n",
    "a_number = nobudget/budgetcount\n",
    "b_number = nobudget/revenuecount\n",
    "\n",
    "a_percentage = \"{:.0%}\".format(a_number)\n",
    "b_percentage = \"{:.0%}\".format(b_number)\n",
    "\n",
    "print('Rows with 0 value \"budget\" as % :', a_percentage)\n",
    "print('Rows with 0 value \"revenue\" as % :', b_percentage)"
   ]
  },
  {
   "cell_type": "code",
   "execution_count": 19,
   "metadata": {},
   "outputs": [
    {
     "name": "stdout",
     "output_type": "stream",
     "text": [
      "<class 'pandas.core.frame.DataFrame'>\n",
      "Int64Index: 10731 entries, 0 to 10865\n",
      "Data columns (total 15 columns):\n",
      "id                      10731 non-null int64\n",
      "popularity              10731 non-null float64\n",
      "budget                  5153 non-null float64\n",
      "revenue                 4843 non-null float64\n",
      "original_title          10731 non-null object\n",
      "cast                    10731 non-null object\n",
      "director                10731 non-null object\n",
      "keywords                9306 non-null object\n",
      "runtime                 10731 non-null int64\n",
      "genres                  10731 non-null object\n",
      "production_companies    9772 non-null object\n",
      "release_date            10731 non-null object\n",
      "vote_count              10731 non-null int64\n",
      "vote_average            10731 non-null float64\n",
      "release_year            10731 non-null int64\n",
      "dtypes: float64(4), int64(4), object(7)\n",
      "memory usage: 1.3+ MB\n"
     ]
    }
   ],
   "source": [
    "# Replacing zero values with null values in their respective columns\n",
    "df['budget'] = df['budget'].replace(0, np.NaN)\n",
    "df['revenue'] = df['revenue'].replace(0, np.NaN)\n",
    "\n",
    "df.info()"
   ]
  },
  {
   "cell_type": "markdown",
   "metadata": {},
   "source": [
    "### 5. Change the format of the release date to datetime format"
   ]
  },
  {
   "cell_type": "markdown",
   "metadata": {},
   "source": [
    "The release date column seems to use the month/day/year in string format. We need this data in datetime format to make the data easier to work with as dates. We will also change the order to year/month/day to make it easier to understand."
   ]
  },
  {
   "cell_type": "code",
   "execution_count": 20,
   "metadata": {
    "scrolled": true
   },
   "outputs": [
    {
     "data": {
      "text/plain": [
       "10861     6/15/66\n",
       "10862    12/21/66\n",
       "10863      1/1/66\n",
       "10864     11/2/66\n",
       "10865    11/15/66\n",
       "Name: release_date, dtype: object"
      ]
     },
     "execution_count": 20,
     "metadata": {},
     "output_type": "execute_result"
    }
   ],
   "source": [
    "df.release_date.tail()"
   ]
  },
  {
   "cell_type": "code",
   "execution_count": 21,
   "metadata": {},
   "outputs": [],
   "source": [
    "# Using this function and library will correct the dates such as 2066 to 1966. It will also format them to datetime64.\n",
    "from datetime import timedelta, date\n",
    "col = 'release_date'\n",
    "df[col] = pd.to_datetime(df[col])\n",
    "future = df[col] > pd.Timestamp(date(year=2050,month=1,day=1)) #check here\n",
    "df.loc[future, col] -= timedelta(days=365.25*100)"
   ]
  },
  {
   "cell_type": "code",
   "execution_count": 22,
   "metadata": {},
   "outputs": [
    {
     "data": {
      "text/plain": [
       "10861   1966-06-15\n",
       "10862   1966-12-21\n",
       "10863   1966-01-01\n",
       "10864   1966-11-02\n",
       "10865   1966-11-15\n",
       "Name: release_date, dtype: datetime64[ns]"
      ]
     },
     "execution_count": 22,
     "metadata": {},
     "output_type": "execute_result"
    }
   ],
   "source": [
    "# Checking the dates are now in the correct format at the bottom: datetime64[ns]\n",
    "df.release_date.tail()"
   ]
  },
  {
   "cell_type": "code",
   "execution_count": 23,
   "metadata": {},
   "outputs": [
    {
     "data": {
      "text/html": [
       "<div>\n",
       "<style scoped>\n",
       "    .dataframe tbody tr th:only-of-type {\n",
       "        vertical-align: middle;\n",
       "    }\n",
       "\n",
       "    .dataframe tbody tr th {\n",
       "        vertical-align: top;\n",
       "    }\n",
       "\n",
       "    .dataframe thead th {\n",
       "        text-align: right;\n",
       "    }\n",
       "</style>\n",
       "<table border=\"1\" class=\"dataframe\">\n",
       "  <thead>\n",
       "    <tr style=\"text-align: right;\">\n",
       "      <th></th>\n",
       "      <th>id</th>\n",
       "      <th>popularity</th>\n",
       "      <th>budget</th>\n",
       "      <th>revenue</th>\n",
       "      <th>original_title</th>\n",
       "      <th>cast</th>\n",
       "      <th>director</th>\n",
       "      <th>keywords</th>\n",
       "      <th>runtime</th>\n",
       "      <th>genres</th>\n",
       "      <th>production_companies</th>\n",
       "      <th>release_date</th>\n",
       "      <th>vote_count</th>\n",
       "      <th>vote_average</th>\n",
       "      <th>release_year</th>\n",
       "    </tr>\n",
       "  </thead>\n",
       "  <tbody>\n",
       "    <tr>\n",
       "      <th>0</th>\n",
       "      <td>135397</td>\n",
       "      <td>32.985763</td>\n",
       "      <td>150000000.0</td>\n",
       "      <td>1.513529e+09</td>\n",
       "      <td>Jurassic World</td>\n",
       "      <td>Chris Pratt|Bryce Dallas Howard|Irrfan Khan|Vi...</td>\n",
       "      <td>Colin Trevorrow</td>\n",
       "      <td>monster|dna|tyrannosaurus rex|velociraptor|island</td>\n",
       "      <td>124</td>\n",
       "      <td>Action|Adventure|Science Fiction|Thriller</td>\n",
       "      <td>Universal Studios|Amblin Entertainment|Legenda...</td>\n",
       "      <td>2015-06-09</td>\n",
       "      <td>5562</td>\n",
       "      <td>6.5</td>\n",
       "      <td>2015</td>\n",
       "    </tr>\n",
       "    <tr>\n",
       "      <th>1</th>\n",
       "      <td>76341</td>\n",
       "      <td>28.419936</td>\n",
       "      <td>150000000.0</td>\n",
       "      <td>3.784364e+08</td>\n",
       "      <td>Mad Max: Fury Road</td>\n",
       "      <td>Tom Hardy|Charlize Theron|Hugh Keays-Byrne|Nic...</td>\n",
       "      <td>George Miller</td>\n",
       "      <td>future|chase|post-apocalyptic|dystopia|australia</td>\n",
       "      <td>120</td>\n",
       "      <td>Action|Adventure|Science Fiction|Thriller</td>\n",
       "      <td>Village Roadshow Pictures|Kennedy Miller Produ...</td>\n",
       "      <td>2015-05-13</td>\n",
       "      <td>6185</td>\n",
       "      <td>7.1</td>\n",
       "      <td>2015</td>\n",
       "    </tr>\n",
       "    <tr>\n",
       "      <th>2</th>\n",
       "      <td>262500</td>\n",
       "      <td>13.112507</td>\n",
       "      <td>110000000.0</td>\n",
       "      <td>2.952382e+08</td>\n",
       "      <td>Insurgent</td>\n",
       "      <td>Shailene Woodley|Theo James|Kate Winslet|Ansel...</td>\n",
       "      <td>Robert Schwentke</td>\n",
       "      <td>based on novel|revolution|dystopia|sequel|dyst...</td>\n",
       "      <td>119</td>\n",
       "      <td>Adventure|Science Fiction|Thriller</td>\n",
       "      <td>Summit Entertainment|Mandeville Films|Red Wago...</td>\n",
       "      <td>2015-03-18</td>\n",
       "      <td>2480</td>\n",
       "      <td>6.3</td>\n",
       "      <td>2015</td>\n",
       "    </tr>\n",
       "    <tr>\n",
       "      <th>3</th>\n",
       "      <td>140607</td>\n",
       "      <td>11.173104</td>\n",
       "      <td>200000000.0</td>\n",
       "      <td>2.068178e+09</td>\n",
       "      <td>Star Wars: The Force Awakens</td>\n",
       "      <td>Harrison Ford|Mark Hamill|Carrie Fisher|Adam D...</td>\n",
       "      <td>J.J. Abrams</td>\n",
       "      <td>android|spaceship|jedi|space opera|3d</td>\n",
       "      <td>136</td>\n",
       "      <td>Action|Adventure|Science Fiction|Fantasy</td>\n",
       "      <td>Lucasfilm|Truenorth Productions|Bad Robot</td>\n",
       "      <td>2015-12-15</td>\n",
       "      <td>5292</td>\n",
       "      <td>7.5</td>\n",
       "      <td>2015</td>\n",
       "    </tr>\n",
       "    <tr>\n",
       "      <th>4</th>\n",
       "      <td>168259</td>\n",
       "      <td>9.335014</td>\n",
       "      <td>190000000.0</td>\n",
       "      <td>1.506249e+09</td>\n",
       "      <td>Furious 7</td>\n",
       "      <td>Vin Diesel|Paul Walker|Jason Statham|Michelle ...</td>\n",
       "      <td>James Wan</td>\n",
       "      <td>car race|speed|revenge|suspense|car</td>\n",
       "      <td>137</td>\n",
       "      <td>Action|Crime|Thriller</td>\n",
       "      <td>Universal Pictures|Original Film|Media Rights ...</td>\n",
       "      <td>2015-04-01</td>\n",
       "      <td>2947</td>\n",
       "      <td>7.3</td>\n",
       "      <td>2015</td>\n",
       "    </tr>\n",
       "  </tbody>\n",
       "</table>\n",
       "</div>"
      ],
      "text/plain": [
       "       id  popularity       budget       revenue  \\\n",
       "0  135397   32.985763  150000000.0  1.513529e+09   \n",
       "1   76341   28.419936  150000000.0  3.784364e+08   \n",
       "2  262500   13.112507  110000000.0  2.952382e+08   \n",
       "3  140607   11.173104  200000000.0  2.068178e+09   \n",
       "4  168259    9.335014  190000000.0  1.506249e+09   \n",
       "\n",
       "                 original_title  \\\n",
       "0                Jurassic World   \n",
       "1            Mad Max: Fury Road   \n",
       "2                     Insurgent   \n",
       "3  Star Wars: The Force Awakens   \n",
       "4                     Furious 7   \n",
       "\n",
       "                                                cast          director  \\\n",
       "0  Chris Pratt|Bryce Dallas Howard|Irrfan Khan|Vi...   Colin Trevorrow   \n",
       "1  Tom Hardy|Charlize Theron|Hugh Keays-Byrne|Nic...     George Miller   \n",
       "2  Shailene Woodley|Theo James|Kate Winslet|Ansel...  Robert Schwentke   \n",
       "3  Harrison Ford|Mark Hamill|Carrie Fisher|Adam D...       J.J. Abrams   \n",
       "4  Vin Diesel|Paul Walker|Jason Statham|Michelle ...         James Wan   \n",
       "\n",
       "                                            keywords  runtime  \\\n",
       "0  monster|dna|tyrannosaurus rex|velociraptor|island      124   \n",
       "1   future|chase|post-apocalyptic|dystopia|australia      120   \n",
       "2  based on novel|revolution|dystopia|sequel|dyst...      119   \n",
       "3              android|spaceship|jedi|space opera|3d      136   \n",
       "4                car race|speed|revenge|suspense|car      137   \n",
       "\n",
       "                                      genres  \\\n",
       "0  Action|Adventure|Science Fiction|Thriller   \n",
       "1  Action|Adventure|Science Fiction|Thriller   \n",
       "2         Adventure|Science Fiction|Thriller   \n",
       "3   Action|Adventure|Science Fiction|Fantasy   \n",
       "4                      Action|Crime|Thriller   \n",
       "\n",
       "                                production_companies release_date  vote_count  \\\n",
       "0  Universal Studios|Amblin Entertainment|Legenda...   2015-06-09        5562   \n",
       "1  Village Roadshow Pictures|Kennedy Miller Produ...   2015-05-13        6185   \n",
       "2  Summit Entertainment|Mandeville Films|Red Wago...   2015-03-18        2480   \n",
       "3          Lucasfilm|Truenorth Productions|Bad Robot   2015-12-15        5292   \n",
       "4  Universal Pictures|Original Film|Media Rights ...   2015-04-01        2947   \n",
       "\n",
       "   vote_average  release_year  \n",
       "0           6.5          2015  \n",
       "1           7.1          2015  \n",
       "2           6.3          2015  \n",
       "3           7.5          2015  \n",
       "4           7.3          2015  "
      ]
     },
     "execution_count": 23,
     "metadata": {},
     "output_type": "execute_result"
    }
   ],
   "source": [
    "# Checking the cleaned data\n",
    "df.head()"
   ]
  },
  {
   "cell_type": "markdown",
   "metadata": {},
   "source": [
    "<a id='eda'></a>\n",
    "## Exploratory Data Analysis\n",
    "\n",
    "> **Tip**: Now that you've trimmed and cleaned your data, you're ready to move on to exploration. Compute statistics and create visualizations with the goal of addressing the research questions that you posed in the Introduction section. It is recommended that you be systematic with your approach. Look at one variable at a time, and then follow it up by looking at relationships between variables.\n",
    "\n",
    "### Research Question 1 (What are the Top 5 highest revenue movies?)"
   ]
  },
  {
   "cell_type": "code",
   "execution_count": 24,
   "metadata": {},
   "outputs": [],
   "source": [
    "# Formatting ticks for large values (this will change the large numbers in charts to short clean values)\n",
    "def reformat_large_tick_values(tick_val, pos):\n",
    "    \"\"\"\n",
    "    Turns large tick values (in the billions, millions and thousands) such as 4500 into 4.5K and also appropriately turns 4000 into 4K (no zero after the decimal).\n",
    "    \"\"\"\n",
    "    if tick_val >= 1000000000:\n",
    "        val = round(tick_val/1000000000, 1)\n",
    "        new_tick_format = '{:}B'.format(val)\n",
    "    elif tick_val >= 1000000:\n",
    "        val = round(tick_val/1000000, 1)\n",
    "        new_tick_format = '{:}M'.format(val)\n",
    "    elif tick_val >= 1000:\n",
    "        val = round(tick_val/1000, 1)\n",
    "        new_tick_format = '{:}K'.format(val)\n",
    "    elif tick_val < 1000:\n",
    "        new_tick_format = round(tick_val, 1)\n",
    "    else:\n",
    "        new_tick_format = tick_val\n",
    "\n",
    "    # make new_tick_format into a string value\n",
    "    new_tick_format = str(new_tick_format)\n",
    "    \n",
    "    # code below will keep 4.5M as is but change values such as 4.0M to 4M since that zero after the decimal isn't needed\n",
    "    index_of_decimal = new_tick_format.find(\".\")\n",
    "    \n",
    "    if index_of_decimal != -1:\n",
    "        value_after_decimal = new_tick_format[index_of_decimal+1]\n",
    "        if value_after_decimal == \"0\":\n",
    "            # remove the 0 after the decimal point since it's not needed\n",
    "            new_tick_format = new_tick_format[0:index_of_decimal] + new_tick_format[index_of_decimal+2:]\n",
    "            \n",
    "    return new_tick_format"
   ]
  },
  {
   "cell_type": "code",
   "execution_count": 25,
   "metadata": {},
   "outputs": [
    {
     "data": {
      "image/png": "[encoded data removed]",
      "text/plain": [
       "<Figure size 432x288 with 1 Axes>"
      ]
     },
     "metadata": {
      "needs_background": "light"
     },
     "output_type": "display_data"
    }
   ],
   "source": [
    "# Sorting the revenue column in decending order to get the 5 highest revenue movies\n",
    "top_5 = pd.DataFrame(df['revenue'].sort_values(ascending = False))\n",
    "\n",
    "# Defining movie titles and revenue\n",
    "top_5['original_title'] = df['original_title'] # Movie titles\n",
    "top_5_rev = list(map(str,(top_5['original_title']))) # Revenue data\n",
    "\n",
    "# Extracting revenue and name data from the dataframe for the Top 10 movies\n",
    "x = list(top_5_rev[:5]) # Defing x axis\n",
    "y = list(top_5['revenue'][:5]) # Defining y axis\n",
    "\n",
    "# Creating the Bar Chart\n",
    "ax = sns.barplot(x=y,y=x, palette=\"Blues_d\")\n",
    "sns.set(rc={'figure.figsize':(12,5)})\n",
    "\n",
    "# Labels\n",
    "ax.set_title(\"Top 5 Highest Revenue Movies\",fontsize = 15)\n",
    "ax.set_xlabel(\"Revenue\",fontsize = 13)\n",
    "\n",
    "\n",
    "# Ticks\n",
    "ax.xaxis.set_major_formatter(tick.FuncFormatter(reformat_large_tick_values));\n",
    "\n",
    "# Setting the stylesheet\n",
    "sns.set_style(\"white\")"
   ]
  },
  {
   "cell_type": "code",
   "execution_count": 26,
   "metadata": {},
   "outputs": [
    {
     "name": "stdout",
     "output_type": "stream",
     "text": [
      "           revenue                original_title\n",
      "1386  2.781506e+09                        Avatar\n",
      "3     2.068178e+09  Star Wars: The Force Awakens\n",
      "5231  1.845034e+09                       Titanic\n",
      "4361  1.519558e+09                  The Avengers\n",
      "0     1.513529e+09                Jurassic World\n"
     ]
    }
   ],
   "source": [
    "print(top_5.head(5))"
   ]
  },
  {
   "cell_type": "markdown",
   "metadata": {},
   "source": [
    "**Answer:** Acording to our data, the top 5 highest revenue movies are 1. Avatar (\\\\$2.8B) followed by 2. Star Wars: The Force Awakens (\\\\$2B), 3. Titanic (\\\\$1.8B), 4. The Avengers (\\\\$1.8B), and 5. Jurassic World (\\\\$1.5B)."
   ]
  },
  {
   "cell_type": "markdown",
   "metadata": {},
   "source": [
    "### Research Question 2  (How many movies are released per year?)"
   ]
  },
  {
   "cell_type": "code",
   "execution_count": 27,
   "metadata": {},
   "outputs": [
    {
     "name": "stdout",
     "output_type": "stream",
     "text": [
      "release_year\n",
      "1960    32\n",
      "1961    31\n",
      "1962    32\n",
      "1963    34\n",
      "1964    42\n",
      "Name: id, dtype: int64\n"
     ]
    }
   ],
   "source": [
    "# To find the releases each year I am grouping the counts for the number of movie releases each year \n",
    "release_year_data = df.groupby('release_year').count()['id']\n",
    "\n",
    "# Printing the tail for the dataset we just created\n",
    "print(release_year_data.head())"
   ]
  },
  {
   "cell_type": "code",
   "execution_count": 28,
   "metadata": {},
   "outputs": [
    {
     "data": {
      "text/plain": [
       "count     56.00000\n",
       "mean     191.62500\n",
       "std      184.26824\n",
       "min       30.00000\n",
       "25%       46.75000\n",
       "50%      128.00000\n",
       "75%      246.75000\n",
       "max      682.00000\n",
       "Name: id, dtype: float64"
      ]
     },
     "execution_count": 28,
     "metadata": {},
     "output_type": "execute_result"
    }
   ],
   "source": [
    "# Finding the statistical data for the release_year dataset\n",
    "release_year_data.describe()"
   ]
  },
  {
   "cell_type": "code",
   "execution_count": 29,
   "metadata": {},
   "outputs": [
    {
     "data": {
      "text/html": [
       "<div>\n",
       "<style scoped>\n",
       "    .dataframe tbody tr th:only-of-type {\n",
       "        vertical-align: middle;\n",
       "    }\n",
       "\n",
       "    .dataframe tbody tr th {\n",
       "        vertical-align: top;\n",
       "    }\n",
       "\n",
       "    .dataframe thead th {\n",
       "        text-align: right;\n",
       "    }\n",
       "</style>\n",
       "<table border=\"1\" class=\"dataframe\">\n",
       "  <thead>\n",
       "    <tr style=\"text-align: right;\">\n",
       "      <th></th>\n",
       "      <th>movie_releases</th>\n",
       "    </tr>\n",
       "    <tr>\n",
       "      <th>release_year</th>\n",
       "      <th></th>\n",
       "    </tr>\n",
       "  </thead>\n",
       "  <tbody>\n",
       "    <tr>\n",
       "      <th>2011</th>\n",
       "      <td>532</td>\n",
       "    </tr>\n",
       "    <tr>\n",
       "      <th>2012</th>\n",
       "      <td>574</td>\n",
       "    </tr>\n",
       "    <tr>\n",
       "      <th>2013</th>\n",
       "      <td>649</td>\n",
       "    </tr>\n",
       "    <tr>\n",
       "      <th>2014</th>\n",
       "      <td>682</td>\n",
       "    </tr>\n",
       "    <tr>\n",
       "      <th>2015</th>\n",
       "      <td>617</td>\n",
       "    </tr>\n",
       "  </tbody>\n",
       "</table>\n",
       "</div>"
      ],
      "text/plain": [
       "              movie_releases\n",
       "release_year                \n",
       "2011                     532\n",
       "2012                     574\n",
       "2013                     649\n",
       "2014                     682\n",
       "2015                     617"
      ]
     },
     "execution_count": 29,
     "metadata": {},
     "output_type": "execute_result"
    }
   ],
   "source": [
    "# To find the releases each year I am grouping the counts for the number of movie releases each year using nunique now\n",
    "release_year_data_1 = df.groupby('release_year')['id'].nunique().reset_index(name='movie_releases')\n",
    "\n",
    "# Setting the index as id (movie release count) so I can use it to find the year\n",
    "release_year_data_1 = release_year_data_1.set_index('release_year')\n",
    "\n",
    "# Checking the index\n",
    "release_year_data_1.tail()"
   ]
  },
  {
   "cell_type": "code",
   "execution_count": 30,
   "metadata": {},
   "outputs": [
    {
     "data": {
      "text/html": [
       "<div>\n",
       "<style scoped>\n",
       "    .dataframe tbody tr th:only-of-type {\n",
       "        vertical-align: middle;\n",
       "    }\n",
       "\n",
       "    .dataframe tbody tr th {\n",
       "        vertical-align: top;\n",
       "    }\n",
       "\n",
       "    .dataframe thead th {\n",
       "        text-align: right;\n",
       "    }\n",
       "</style>\n",
       "<table border=\"1\" class=\"dataframe\">\n",
       "  <thead>\n",
       "    <tr style=\"text-align: right;\">\n",
       "      <th></th>\n",
       "      <th>release_year</th>\n",
       "    </tr>\n",
       "    <tr>\n",
       "      <th>movie_releases</th>\n",
       "      <th></th>\n",
       "    </tr>\n",
       "  </thead>\n",
       "  <tbody>\n",
       "    <tr>\n",
       "      <th>532</th>\n",
       "      <td>2011</td>\n",
       "    </tr>\n",
       "    <tr>\n",
       "      <th>574</th>\n",
       "      <td>2012</td>\n",
       "    </tr>\n",
       "    <tr>\n",
       "      <th>649</th>\n",
       "      <td>2013</td>\n",
       "    </tr>\n",
       "    <tr>\n",
       "      <th>682</th>\n",
       "      <td>2014</td>\n",
       "    </tr>\n",
       "    <tr>\n",
       "      <th>617</th>\n",
       "      <td>2015</td>\n",
       "    </tr>\n",
       "  </tbody>\n",
       "</table>\n",
       "</div>"
      ],
      "text/plain": [
       "                release_year\n",
       "movie_releases              \n",
       "532                     2011\n",
       "574                     2012\n",
       "649                     2013\n",
       "682                     2014\n",
       "617                     2015"
      ]
     },
     "execution_count": 30,
     "metadata": {},
     "output_type": "execute_result"
    }
   ],
   "source": [
    "# To find the releases each year I am grouping the counts for the number of movie releases each year using nunique now\n",
    "release_year_data_2 = df.groupby('release_year')['id'].nunique().reset_index(name='movie_releases')\n",
    "\n",
    "# Setting the index as id (movie release count) so I can use it to find the year\n",
    "release_year_data_2 = release_year_data_2.set_index('movie_releases')\n",
    "\n",
    "# Checking the index\n",
    "release_year_data_2.tail()"
   ]
  },
  {
   "cell_type": "code",
   "execution_count": 31,
   "metadata": {},
   "outputs": [
    {
     "data": {
      "text/html": [
       "<div>\n",
       "<style scoped>\n",
       "    .dataframe tbody tr th:only-of-type {\n",
       "        vertical-align: middle;\n",
       "    }\n",
       "\n",
       "    .dataframe tbody tr th {\n",
       "        vertical-align: top;\n",
       "    }\n",
       "\n",
       "    .dataframe thead th {\n",
       "        text-align: right;\n",
       "    }\n",
       "</style>\n",
       "<table border=\"1\" class=\"dataframe\">\n",
       "  <thead>\n",
       "    <tr style=\"text-align: right;\">\n",
       "      <th></th>\n",
       "      <th>movie_releases</th>\n",
       "    </tr>\n",
       "    <tr>\n",
       "      <th>release_year</th>\n",
       "      <th></th>\n",
       "    </tr>\n",
       "  </thead>\n",
       "  <tbody>\n",
       "    <tr>\n",
       "      <th>1969</th>\n",
       "      <td>30</td>\n",
       "    </tr>\n",
       "  </tbody>\n",
       "</table>\n",
       "</div>"
      ],
      "text/plain": [
       "              movie_releases\n",
       "release_year                \n",
       "1969                      30"
      ]
     },
     "execution_count": 31,
     "metadata": {},
     "output_type": "execute_result"
    }
   ],
   "source": [
    "# Release_year sum finder\n",
    "release_year_data_1.filter(like='1969', axis=0)"
   ]
  },
  {
   "cell_type": "code",
   "execution_count": 32,
   "metadata": {},
   "outputs": [
    {
     "data": {
      "text/html": [
       "<div>\n",
       "<style scoped>\n",
       "    .dataframe tbody tr th:only-of-type {\n",
       "        vertical-align: middle;\n",
       "    }\n",
       "\n",
       "    .dataframe tbody tr th {\n",
       "        vertical-align: top;\n",
       "    }\n",
       "\n",
       "    .dataframe thead th {\n",
       "        text-align: right;\n",
       "    }\n",
       "</style>\n",
       "<table border=\"1\" class=\"dataframe\">\n",
       "  <thead>\n",
       "    <tr style=\"text-align: right;\">\n",
       "      <th></th>\n",
       "      <th>release_year</th>\n",
       "    </tr>\n",
       "    <tr>\n",
       "      <th>movie_releases</th>\n",
       "      <th></th>\n",
       "    </tr>\n",
       "  </thead>\n",
       "  <tbody>\n",
       "    <tr>\n",
       "      <th>682</th>\n",
       "      <td>2014</td>\n",
       "    </tr>\n",
       "  </tbody>\n",
       "</table>\n",
       "</div>"
      ],
      "text/plain": [
       "                release_year\n",
       "movie_releases              \n",
       "682                     2014"
      ]
     },
     "execution_count": 32,
     "metadata": {},
     "output_type": "execute_result"
    }
   ],
   "source": [
    "# Movie_release number sum finder\n",
    "release_year_data_2.filter(like='682', axis=0)"
   ]
  },
  {
   "cell_type": "code",
   "execution_count": 33,
   "metadata": {},
   "outputs": [
    {
     "data": {
      "text/html": [
       "<div>\n",
       "<style scoped>\n",
       "    .dataframe tbody tr th:only-of-type {\n",
       "        vertical-align: middle;\n",
       "    }\n",
       "\n",
       "    .dataframe tbody tr th {\n",
       "        vertical-align: top;\n",
       "    }\n",
       "\n",
       "    .dataframe thead th {\n",
       "        text-align: right;\n",
       "    }\n",
       "</style>\n",
       "<table border=\"1\" class=\"dataframe\">\n",
       "  <thead>\n",
       "    <tr style=\"text-align: right;\">\n",
       "      <th></th>\n",
       "      <th>movie_releases</th>\n",
       "    </tr>\n",
       "    <tr>\n",
       "      <th>release_year</th>\n",
       "      <th></th>\n",
       "    </tr>\n",
       "  </thead>\n",
       "  <tbody>\n",
       "    <tr>\n",
       "      <th>1960</th>\n",
       "      <td>32</td>\n",
       "    </tr>\n",
       "    <tr>\n",
       "      <th>2015</th>\n",
       "      <td>617</td>\n",
       "    </tr>\n",
       "  </tbody>\n",
       "</table>\n",
       "</div>"
      ],
      "text/plain": [
       "              movie_releases\n",
       "release_year                \n",
       "1960                      32\n",
       "2015                     617"
      ]
     },
     "execution_count": 33,
     "metadata": {},
     "output_type": "execute_result"
    }
   ],
   "source": [
    "# Percentage increase of movie releases from 1960 - 2015\n",
    "pct_change = release_year_data_1.loc[[1960, 2015]]\n",
    "pct_change"
   ]
  },
  {
   "cell_type": "code",
   "execution_count": 34,
   "metadata": {},
   "outputs": [
    {
     "data": {
      "text/html": [
       "<div>\n",
       "<style scoped>\n",
       "    .dataframe tbody tr th:only-of-type {\n",
       "        vertical-align: middle;\n",
       "    }\n",
       "\n",
       "    .dataframe tbody tr th {\n",
       "        vertical-align: top;\n",
       "    }\n",
       "\n",
       "    .dataframe thead th {\n",
       "        text-align: right;\n",
       "    }\n",
       "</style>\n",
       "<table border=\"1\" class=\"dataframe\">\n",
       "  <thead>\n",
       "    <tr style=\"text-align: right;\">\n",
       "      <th></th>\n",
       "      <th>movie_releases</th>\n",
       "    </tr>\n",
       "    <tr>\n",
       "      <th>release_year</th>\n",
       "      <th></th>\n",
       "    </tr>\n",
       "  </thead>\n",
       "  <tbody>\n",
       "    <tr>\n",
       "      <th>1960</th>\n",
       "      <td>NaN</td>\n",
       "    </tr>\n",
       "    <tr>\n",
       "      <th>2015</th>\n",
       "      <td>1828.125</td>\n",
       "    </tr>\n",
       "  </tbody>\n",
       "</table>\n",
       "</div>"
      ],
      "text/plain": [
       "              movie_releases\n",
       "release_year                \n",
       "1960                     NaN\n",
       "2015                1828.125"
      ]
     },
     "execution_count": 34,
     "metadata": {},
     "output_type": "execute_result"
    }
   ],
   "source": [
    "# Percentage increase total since 1960\n",
    "pct_change.pct_change()*100"
   ]
  },
  {
   "cell_type": "markdown",
   "metadata": {},
   "source": [
    "**Answer 1:** \n",
    "The total average number of movie releases per year is (191.6) or 192 rounded up from 1960 - 2015. The year with the lowest in movie releases is (30) in 1969, and the highest (682) in 2014. The percentage change increase was 1828% from 1960 (32) to 2015 (617)."
   ]
  },
  {
   "cell_type": "code",
   "execution_count": 35,
   "metadata": {},
   "outputs": [
    {
     "data": {
      "image/png": "[encoded data removed]",
      "text/plain": [
       "<Figure size 864x360 with 1 Axes>"
      ]
     },
     "metadata": {},
     "output_type": "display_data"
    }
   ],
   "source": [
    "# Grouping the data by release year and counting the total number of movies in each year and pot.\n",
    "df.groupby('release_year').count()['id'].plot(xticks = np.arange(1960,2016,5)) # Plot between years with 5 year ticks\n",
    "\n",
    "# Set axis labels\n",
    "plt.xlabel('Release Year',fontsize = 13)\n",
    "plt.ylabel('Number of Movies')\n",
    "plt.title(\"Movie Releases Each Year\", fontsize = 15)\n",
    "\n",
    "# Graph size\n",
    "sns.set(rc={'figure.figsize':(10,5)})\n",
    "\n",
    "# Setting the stylesheet\n",
    "sns.set_style(\"white\")"
   ]
  },
  {
   "cell_type": "code",
   "execution_count": 36,
   "metadata": {},
   "outputs": [
    {
     "name": "stdout",
     "output_type": "stream",
     "text": [
      "release_year\n",
      "2006    404\n",
      "2007    432\n",
      "2008    486\n",
      "2009    525\n",
      "2010    475\n",
      "2011    532\n",
      "2012    574\n",
      "2013    649\n",
      "2014    682\n",
      "2015    617\n",
      "Name: id, dtype: int64\n"
     ]
    }
   ],
   "source": [
    "print(release_year_data.tail(10))"
   ]
  },
  {
   "cell_type": "markdown",
   "metadata": {},
   "source": [
    "**Finding 1:** According the the graph, the number of movies released per year has increased over the years. The year 1960 to 1980 saw less than 100 movies per year. The 1980's saw a steady incline rising to over 200 movies per year by 2000. The year 2000 to 2009 showed a massive increase of movie releases. Unfortunately the year 2010 saw a slight dip in releases according to the '.tail()' shown above followed by another increase the following year. We can look into the budgets spent over the years now."
   ]
  },
  {
   "cell_type": "code",
   "execution_count": 37,
   "metadata": {},
   "outputs": [
    {
     "data": {
      "image/png": "[encoded data removed]",
      "text/plain": [
       "<Figure size 720x360 with 1 Axes>"
      ]
     },
     "metadata": {},
     "output_type": "display_data"
    }
   ],
   "source": [
    "# Create figure and axis objects with subplots()\n",
    "fig,ax = plt.subplots()\n",
    "\n",
    "# Extracting data\n",
    "ax.plot(df.groupby('release_year')['revenue'].mean())\n",
    "\n",
    "# Set axis labels\n",
    "ax.set_title(\"Average Revenue Per Year\", fontsize = 15)\n",
    "ax.set_xlabel('Release Year',fontsize = 13)\n",
    "ax.set_ylabel('Average Revenue [ $ ]')\n",
    "\n",
    "# Creating the Line Graph    \n",
    "sns.set(rc={'figure.figsize':(10,5)})\n",
    "\n",
    "# Ticks\n",
    "ax.set_xticks(np.arange(1960,2016,5))          \n",
    "ax.yaxis.set_major_formatter(tick.FuncFormatter(reformat_large_tick_values));\n",
    "\n",
    "# Setting the stylesheet\n",
    "sns.set_style(\"white\")\n",
    "\n",
    "plt.show()"
   ]
  },
  {
   "cell_type": "markdown",
   "metadata": {},
   "source": [
    "**Finding 2:** The average revenue per year shows a steady upward trend. The mid 60's and 70's have a couple of huge spikes in revenue. The 80's shows a dip in average revenue followed by a sudden upward trend in the 90's."
   ]
  },
  {
   "cell_type": "code",
   "execution_count": 38,
   "metadata": {},
   "outputs": [
    {
     "data": {
      "image/png": "[encoded data removed]",
      "text/plain": [
       "<Figure size 720x360 with 2 Axes>"
      ]
     },
     "metadata": {},
     "output_type": "display_data"
    }
   ],
   "source": [
    "# Create figure and axis objects with subplots()\n",
    "fig,ax = plt.subplots()\n",
    "ax2 = ax.twinx() # Twin object for two different y-axis on the sample plot\n",
    "\n",
    "# Grouping the data by release year and counting the total number of movies in each year and pot.\n",
    "ax.plot(df.groupby('release_year')['revenue'].mean(),color=\"#1f77b4\")\n",
    "ax2.plot(df.groupby('release_year').count()['id'],color=\"#2ca02c\")\n",
    "         \n",
    "# Set axis labels\n",
    "ax.set_title(\"Average Revenue v Movies Releases\", fontsize = 15)\n",
    "ax.set_xlabel(\"Release Year\",fontsize = 13)  \n",
    "ax.set_ylabel(\"Average Revenue [ $ ]\",color=\"#1f77b4\",fontsize=13)         \n",
    "ax2.set_ylabel(\"Number of Movies\",color=\"#2ca02c\",fontsize=13)\n",
    "\n",
    "# Creating the Line Graph\n",
    "sns.set(rc={'figure.figsize':(10,5)})\n",
    "\n",
    "# Setting the stylesheet\n",
    "ax.set_xticks(np.arange(1960,2016,5))\n",
    "sns.set_style(\"white\")\n",
    "\n",
    "# Ticks\n",
    "ax.yaxis.set_major_formatter(tick.FuncFormatter(reformat_large_tick_values));\n",
    "\n",
    "plt.show()"
   ]
  },
  {
   "cell_type": "markdown",
   "metadata": {},
   "source": [
    "**Finding 3:** From this graph the revenue seems to increase with the amount of movies released."
   ]
  },
  {
   "cell_type": "code",
   "execution_count": 39,
   "metadata": {},
   "outputs": [
    {
     "name": "stdout",
     "output_type": "stream",
     "text": [
      "Minimum Revenue: $ 2.0\n",
      "Maximum Revenue: $ 2,781,505,847.0\n"
     ]
    }
   ],
   "source": [
    "dfrmn = df.revenue.min()\n",
    "dfrmx = df.revenue.max()\n",
    "\n",
    "print(\"Minimum Revenue: $\",\"{:,}\".format(round(dfrmn)))\n",
    "print(\"Maximum Revenue: $\",\"{:,}\".format(round(dfrmx)))"
   ]
  },
  {
   "cell_type": "code",
   "execution_count": 40,
   "metadata": {},
   "outputs": [
    {
     "data": {
      "text/plain": [
       "30828241.17446148"
      ]
     },
     "execution_count": 40,
     "metadata": {},
     "output_type": "execute_result"
    }
   ],
   "source": [
    "# Finding the average movie budget\n",
    "budget_mean = df['budget'].mean\n",
    "budget_mean()"
   ]
  },
  {
   "cell_type": "code",
   "execution_count": 41,
   "metadata": {},
   "outputs": [
    {
     "name": "stdout",
     "output_type": "stream",
     "text": [
      "Average movie budget: $ 30,828,241\n",
      "Average movie revenue: $ 89,339,813\n"
     ]
    },
    {
     "data": {
      "image/png": "[encoded data removed]",
      "text/plain": [
       "<Figure size 720x360 with 1 Axes>"
      ]
     },
     "metadata": {},
     "output_type": "display_data"
    }
   ],
   "source": [
    "# Finding the mean of the budget and revenue\n",
    "budget_mean = df.budget.mean()\n",
    "revenue_mean = df.revenue.mean()\n",
    "\n",
    "# Total average budget and revenue per movie\n",
    "print(\"Average movie budget: $\",\"{:,}\".format(round(budget_mean)))\n",
    "print(\"Average movie revenue: $\",\"{:,}\".format(round(revenue_mean)))\n",
    "\n",
    "index = ['']\n",
    "df_budget_revenue = pd.DataFrame({'Budget': budget_mean,\n",
    "                                  'Revenue': revenue_mean}, index=index)\n",
    "# Plotting on the axes\n",
    "ax = df_budget_revenue.plot.bar(rot=0, color = [\"#1f77b4\", \"#17becf\"]) \n",
    "\n",
    "# Axes Label\n",
    "plt.ylabel('[ $ ]')\n",
    "plt.title('Budget v Revenue', fontsize=15)\n",
    "\n",
    "# Ticks\n",
    "ax.yaxis.set_major_formatter(tick.FuncFormatter(reformat_large_tick_values));\n",
    "\n",
    "# Gridlines\n",
    "ax.grid()"
   ]
  },
  {
   "cell_type": "code",
   "execution_count": 42,
   "metadata": {},
   "outputs": [
    {
     "name": "stdout",
     "output_type": "stream",
     "text": [
      "Average movie profit: $ 58,511,572\n"
     ]
    },
    {
     "data": {
      "image/png": "[encoded data removed]",
      "text/plain": [
       "<Figure size 720x360 with 1 Axes>"
      ]
     },
     "metadata": {},
     "output_type": "display_data"
    }
   ],
   "source": [
    "# Finding the mean of the budget and revenue\n",
    "budget_mean = df.budget.mean()\n",
    "revenue_mean = df.revenue.mean()\n",
    "\n",
    "# Total average profit per movie\n",
    "profit = revenue_mean-budget_mean\n",
    "print(\"Average movie profit: $\",\"{:,}\".format(round(profit)))\n",
    "\n",
    "index = ['']\n",
    "df_budget_profit = pd.DataFrame({'Budget': budget_mean,\n",
    "                                  'Profit': profit}, index=index)\n",
    "# Plotting on the axes\n",
    "ax = df_budget_profit.plot.bar(rot=0, color = [\"#1f77b4\", \"#2ca02c\"])\n",
    "\n",
    "# Axes Label\n",
    "plt.ylabel('[ $ ]')\n",
    "plt.title('Budget v Profit', fontsize=15)\n",
    "\n",
    "# Ticks\n",
    "ax.yaxis.set_major_formatter(tick.FuncFormatter(reformat_large_tick_values));\n",
    "\n",
    "# Gridlines\n",
    "ax.grid()"
   ]
  },
  {
   "cell_type": "markdown",
   "metadata": {},
   "source": [
    "**Finding 4:** It seems as budget increases, revenue increase. The same trend continues for profit."
   ]
  },
  {
   "cell_type": "markdown",
   "metadata": {},
   "source": [
    "### Q3. Time between earliest and latest movie release"
   ]
  },
  {
   "cell_type": "code",
   "execution_count": 43,
   "metadata": {},
   "outputs": [
    {
     "name": "stdout",
     "output_type": "stream",
     "text": [
      "Earliest movie release: 1960\n",
      "Latest movie release: 2015\n",
      "Difference in years: 55\n"
     ]
    }
   ],
   "source": [
    "# Fixing the issue with the date format\n",
    "rmin = df.release_year.min()\n",
    "rmax = df.release_year.max()\n",
    "print ('Earliest movie release:', rmin)\n",
    "print ('Latest movie release:', rmax)\n",
    "print ('Difference in years:', rmax-rmin)"
   ]
  },
  {
   "cell_type": "markdown",
   "metadata": {},
   "source": [
    "### Q4. How successful are movies released in the Summer vs Winter?"
   ]
  },
  {
   "cell_type": "code",
   "execution_count": 44,
   "metadata": {},
   "outputs": [
    {
     "data": {
      "text/html": [
       "<div>\n",
       "<style scoped>\n",
       "    .dataframe tbody tr th:only-of-type {\n",
       "        vertical-align: middle;\n",
       "    }\n",
       "\n",
       "    .dataframe tbody tr th {\n",
       "        vertical-align: top;\n",
       "    }\n",
       "\n",
       "    .dataframe thead th {\n",
       "        text-align: right;\n",
       "    }\n",
       "</style>\n",
       "<table border=\"1\" class=\"dataframe\">\n",
       "  <thead>\n",
       "    <tr style=\"text-align: right;\">\n",
       "      <th></th>\n",
       "      <th>avg_revenue</th>\n",
       "      <th>avg_profit</th>\n",
       "      <th>month</th>\n",
       "    </tr>\n",
       "    <tr>\n",
       "      <th>release_month</th>\n",
       "      <th></th>\n",
       "      <th></th>\n",
       "      <th></th>\n",
       "    </tr>\n",
       "  </thead>\n",
       "  <tbody>\n",
       "    <tr>\n",
       "      <th>1</th>\n",
       "      <td>4.294198e+07</td>\n",
       "      <td>3.051471e+07</td>\n",
       "      <td>Jan</td>\n",
       "    </tr>\n",
       "    <tr>\n",
       "      <th>2</th>\n",
       "      <td>6.128107e+07</td>\n",
       "      <td>4.056733e+07</td>\n",
       "      <td>Feb</td>\n",
       "    </tr>\n",
       "    <tr>\n",
       "      <th>3</th>\n",
       "      <td>8.484714e+07</td>\n",
       "      <td>6.559951e+07</td>\n",
       "      <td>Mar</td>\n",
       "    </tr>\n",
       "    <tr>\n",
       "      <th>4</th>\n",
       "      <td>7.672288e+07</td>\n",
       "      <td>5.997196e+07</td>\n",
       "      <td>Apr</td>\n",
       "    </tr>\n",
       "    <tr>\n",
       "      <th>5</th>\n",
       "      <td>1.363645e+08</td>\n",
       "      <td>1.187381e+08</td>\n",
       "      <td>May</td>\n",
       "    </tr>\n",
       "  </tbody>\n",
       "</table>\n",
       "</div>"
      ],
      "text/plain": [
       "                avg_revenue    avg_profit month\n",
       "release_month                                  \n",
       "1              4.294198e+07  3.051471e+07   Jan\n",
       "2              6.128107e+07  4.056733e+07   Feb\n",
       "3              8.484714e+07  6.559951e+07   Mar\n",
       "4              7.672288e+07  5.997196e+07   Apr\n",
       "5              1.363645e+08  1.187381e+08   May"
      ]
     },
     "execution_count": 44,
     "metadata": {},
     "output_type": "execute_result"
    }
   ],
   "source": [
    "# Extracting the month number from the release dates\n",
    "month_release = df['release_date'].dt.month\n",
    "\n",
    "# Assigning the months\n",
    "months=['Jan','Feb','Mar','Apr','May','Jun','Jul','Aug','Sep','Oct','Nov','Dec']\n",
    "\n",
    "# Creating a new dataframe including the release month of each movie\n",
    "month_release = pd.DataFrame(month_release)\n",
    "\n",
    "# Renaming the column name of the new dataframe from release_date to release_month\n",
    "month_release.rename(columns = {'release_date':'release_month'},inplace=True)\n",
    "\n",
    "# Adding a new column 'avg_revenue' in the dataframe 'month_release'\n",
    "month_release['avg_revenue'] = df['revenue']\n",
    "\n",
    "# Adding a new column 'avg_profit' by calculating revenue-budget\n",
    "month_release['avg_profit'] = df.revenue-df.budget\n",
    "\n",
    "# Grouping the data by month then calculating the mean revenue and profit of each month\n",
    "mean_revenue  = month_release.groupby('release_month').mean()\n",
    "mean_revenue['month'] = months\n",
    "\n",
    "# Looking at the dataframe we created\n",
    "mean_revenue.head()"
   ]
  },
  {
   "cell_type": "code",
   "execution_count": 45,
   "metadata": {},
   "outputs": [
    {
     "name": "stdout",
     "output_type": "stream",
     "text": [
      "Renamed Indexes:\n",
      "                 avg_revenue    avg_profit\n",
      "release_month                            \n",
      "Jan            4.294198e+07  3.051471e+07\n",
      "Feb            6.128107e+07  4.056733e+07\n",
      "Mar            8.484714e+07  6.559951e+07\n",
      "Apr            7.672288e+07  5.997196e+07\n",
      "May            1.363645e+08  1.187381e+08\n",
      "Jun            1.503917e+08  1.266208e+08\n",
      "Jul            1.186854e+08  9.404407e+07\n",
      "Aug            5.911315e+07  4.074104e+07\n",
      "Sep            4.232149e+07  2.941643e+07\n",
      "Oct            6.437217e+07  4.730233e+07\n",
      "Nov            1.271364e+08  1.001690e+08\n",
      "Dec            1.197775e+08  9.198651e+07\n"
     ]
    }
   ],
   "source": [
    "# Renaming each month number to a real month name\n",
    "revenue_by_month = mean_revenue.rename(index={1: 'Jan', 2: 'Feb', 3: 'Mar', 4: 'Apr', 5: 'May', 6: 'Jun', 7: 'Jul', 8: 'Aug', 9: 'Sep', 10: 'Oct', 11: 'Nov', 12: 'Dec'})\n",
    "\n",
    "revenue_by_month.drop(columns=['month'], axis=1, inplace=True)\n",
    "print('Renamed Indexes:\\n', revenue_by_month)"
   ]
  },
  {
   "cell_type": "code",
   "execution_count": 46,
   "metadata": {},
   "outputs": [
    {
     "data": {
      "text/html": [
       "<div>\n",
       "<style scoped>\n",
       "    .dataframe tbody tr th:only-of-type {\n",
       "        vertical-align: middle;\n",
       "    }\n",
       "\n",
       "    .dataframe tbody tr th {\n",
       "        vertical-align: top;\n",
       "    }\n",
       "\n",
       "    .dataframe thead th {\n",
       "        text-align: right;\n",
       "    }\n",
       "</style>\n",
       "<table border=\"1\" class=\"dataframe\">\n",
       "  <thead>\n",
       "    <tr style=\"text-align: right;\">\n",
       "      <th></th>\n",
       "      <th>avg_revenue</th>\n",
       "      <th>avg_profit</th>\n",
       "    </tr>\n",
       "    <tr>\n",
       "      <th>release_month</th>\n",
       "      <th></th>\n",
       "      <th></th>\n",
       "    </tr>\n",
       "  </thead>\n",
       "  <tbody>\n",
       "    <tr>\n",
       "      <th>Jan</th>\n",
       "      <td>4.294198e+07</td>\n",
       "      <td>3.051471e+07</td>\n",
       "    </tr>\n",
       "    <tr>\n",
       "      <th>Feb</th>\n",
       "      <td>6.128107e+07</td>\n",
       "      <td>4.056733e+07</td>\n",
       "    </tr>\n",
       "    <tr>\n",
       "      <th>Mar</th>\n",
       "      <td>8.484714e+07</td>\n",
       "      <td>6.559951e+07</td>\n",
       "    </tr>\n",
       "    <tr>\n",
       "      <th>Apr</th>\n",
       "      <td>7.672288e+07</td>\n",
       "      <td>5.997196e+07</td>\n",
       "    </tr>\n",
       "    <tr>\n",
       "      <th>May</th>\n",
       "      <td>1.363645e+08</td>\n",
       "      <td>1.187381e+08</td>\n",
       "    </tr>\n",
       "    <tr>\n",
       "      <th>Jun</th>\n",
       "      <td>1.503917e+08</td>\n",
       "      <td>1.266208e+08</td>\n",
       "    </tr>\n",
       "    <tr>\n",
       "      <th>Jul</th>\n",
       "      <td>1.186854e+08</td>\n",
       "      <td>9.404407e+07</td>\n",
       "    </tr>\n",
       "    <tr>\n",
       "      <th>Aug</th>\n",
       "      <td>5.911315e+07</td>\n",
       "      <td>4.074104e+07</td>\n",
       "    </tr>\n",
       "    <tr>\n",
       "      <th>Sep</th>\n",
       "      <td>4.232149e+07</td>\n",
       "      <td>2.941643e+07</td>\n",
       "    </tr>\n",
       "    <tr>\n",
       "      <th>Oct</th>\n",
       "      <td>6.437217e+07</td>\n",
       "      <td>4.730233e+07</td>\n",
       "    </tr>\n",
       "    <tr>\n",
       "      <th>Nov</th>\n",
       "      <td>1.271364e+08</td>\n",
       "      <td>1.001690e+08</td>\n",
       "    </tr>\n",
       "    <tr>\n",
       "      <th>Dec</th>\n",
       "      <td>1.197775e+08</td>\n",
       "      <td>9.198651e+07</td>\n",
       "    </tr>\n",
       "  </tbody>\n",
       "</table>\n",
       "</div>"
      ],
      "text/plain": [
       "                avg_revenue    avg_profit\n",
       "release_month                            \n",
       "Jan            4.294198e+07  3.051471e+07\n",
       "Feb            6.128107e+07  4.056733e+07\n",
       "Mar            8.484714e+07  6.559951e+07\n",
       "Apr            7.672288e+07  5.997196e+07\n",
       "May            1.363645e+08  1.187381e+08\n",
       "Jun            1.503917e+08  1.266208e+08\n",
       "Jul            1.186854e+08  9.404407e+07\n",
       "Aug            5.911315e+07  4.074104e+07\n",
       "Sep            4.232149e+07  2.941643e+07\n",
       "Oct            6.437217e+07  4.730233e+07\n",
       "Nov            1.271364e+08  1.001690e+08\n",
       "Dec            1.197775e+08  9.198651e+07"
      ]
     },
     "execution_count": 46,
     "metadata": {},
     "output_type": "execute_result"
    }
   ],
   "source": [
    "# Checking our edits\n",
    "revenue_by_month.head(12)"
   ]
  },
  {
   "cell_type": "code",
   "execution_count": 47,
   "metadata": {},
   "outputs": [
    {
     "data": {
      "text/plain": [
       "<matplotlib.legend.Legend at 0x26df5a21c88>"
      ]
     },
     "execution_count": 47,
     "metadata": {},
     "output_type": "execute_result"
    },
    {
     "data": {
      "image/png": "[encoded data removed]",
      "text/plain": [
       "<Figure size 720x360 with 1 Axes>"
      ]
     },
     "metadata": {},
     "output_type": "display_data"
    }
   ],
   "source": [
    "# Functions\n",
    "fig, ax = plt.subplots()\n",
    "x = np.arange(12)  # the label locations\n",
    "width = 0.35  # the width of the bars\n",
    "\n",
    "# Title\n",
    "ax.set_title('Monthly Revenue v Profit (All-Time)', fontsize=15)\n",
    "\n",
    "# Labels\n",
    "labels = ['Jan','Feb','Mar','Apr','May','Jun','Jul','Aug','Sep','Oct','Nov','Dec']\n",
    "ax.set_ylabel('[ $ ]')\n",
    "\n",
    "# Plotting the bar chart and line graphs\n",
    "rects1 = ax.bar(x - width/2, revenue_by_month['avg_revenue'], width, color = \"#17becf\", label='Avg. Revenue')\n",
    "rects2 = ax.bar(x + width/2, revenue_by_month['avg_profit'], width, color = \"#2ca02c\", label='Avg. Profit')\n",
    "\n",
    "rects1 = ax.plot(x - width/2, revenue_by_month['avg_revenue'], width, color = \"#17becf\")\n",
    "rects2 = ax.plot(x + width/2, revenue_by_month['avg_profit'], width, color = \"#2ca02c\")\n",
    "\n",
    "# Ticks\n",
    "ax.yaxis.set_major_formatter(tick.FuncFormatter(reformat_large_tick_values));\n",
    "ax.set_xticks(x)\n",
    "ax.set_xticklabels(labels)\n",
    "\n",
    "# Gridlines\n",
    "ax.grid(1)\n",
    "\n",
    "# Styling\n",
    "sns.set_style(\"whitegrid\")\n",
    "ax.legend()"
   ]
  },
  {
   "cell_type": "code",
   "execution_count": 48,
   "metadata": {},
   "outputs": [
    {
     "name": "stdout",
     "output_type": "stream",
     "text": [
      "Max. revenue month: $ 150,391,671.0\n",
      "Min. revenue month: $ 42,321,492.0\n",
      "Max. profit month: $ 126,620,776.0\n",
      "Min. profit month: $ 29,416,426.0\n"
     ]
    }
   ],
   "source": [
    "# Min and max revenue and profit per month\n",
    "max_monthly_revenue = revenue_by_month['avg_revenue'].max() \n",
    "min_monthly_revenue = revenue_by_month['avg_revenue'].min()\n",
    "max_monthly_profit = revenue_by_month['avg_profit'].max()\n",
    "min_monthly_profit = revenue_by_month['avg_profit'].min()\n",
    "\n",
    "# Printing the results\n",
    "print(\"Max. revenue month: $\",\"{:,}\".format(round(max_monthly_revenue)))\n",
    "print(\"Min. revenue month: $\",\"{:,}\".format(round(min_monthly_revenue)))\n",
    "print(\"Max. profit month: $\",\"{:,}\".format(round(max_monthly_profit)))\n",
    "print(\"Min. profit month: $\",\"{:,}\".format(round(min_monthly_profit)))"
   ]
  },
  {
   "cell_type": "code",
   "execution_count": 49,
   "metadata": {},
   "outputs": [
    {
     "name": "stdout",
     "output_type": "stream",
     "text": [
      "avg_revenue    4.054416e+08\n",
      "avg_profit     3.394030e+08\n",
      "dtype: float64\n"
     ]
    }
   ],
   "source": [
    "summer_months = pd.DataFrame(revenue_by_month, columns = ['avg_revenue','avg_profit'], index = ['May','Jun','Jul'])\n",
    "print(summer_months.sum())"
   ]
  },
  {
   "cell_type": "code",
   "execution_count": 50,
   "metadata": {},
   "outputs": [
    {
     "name": "stdout",
     "output_type": "stream",
     "text": [
      "avg_revenue    2.898559e+08\n",
      "avg_profit     2.226702e+08\n",
      "dtype: float64\n"
     ]
    }
   ],
   "source": [
    "winter_months = pd.DataFrame(revenue_by_month, columns = ['avg_revenue','avg_profit'], index = ['Nov','Dec','Jan'])\n",
    "print(winter_months.sum())"
   ]
  },
  {
   "cell_type": "code",
   "execution_count": 51,
   "metadata": {},
   "outputs": [
    {
     "name": "stdout",
     "output_type": "stream",
     "text": [
      "405441580.4820029\n"
     ]
    }
   ],
   "source": [
    "print(summer_months.avg_revenue.sum())"
   ]
  },
  {
   "cell_type": "code",
   "execution_count": 52,
   "metadata": {},
   "outputs": [
    {
     "name": "stdout",
     "output_type": "stream",
     "text": [
      "289855909.61765623\n"
     ]
    }
   ],
   "source": [
    "print(winter_months.avg_revenue.sum())"
   ]
  },
  {
   "cell_type": "code",
   "execution_count": 53,
   "metadata": {},
   "outputs": [
    {
     "data": {
      "text/html": [
       "<div>\n",
       "<style scoped>\n",
       "    .dataframe tbody tr th:only-of-type {\n",
       "        vertical-align: middle;\n",
       "    }\n",
       "\n",
       "    .dataframe tbody tr th {\n",
       "        vertical-align: top;\n",
       "    }\n",
       "\n",
       "    .dataframe thead th {\n",
       "        text-align: right;\n",
       "    }\n",
       "</style>\n",
       "<table border=\"1\" class=\"dataframe\">\n",
       "  <thead>\n",
       "    <tr style=\"text-align: right;\">\n",
       "      <th></th>\n",
       "      <th>avg_revenue</th>\n",
       "      <th>avg_profit</th>\n",
       "    </tr>\n",
       "  </thead>\n",
       "  <tbody>\n",
       "    <tr>\n",
       "      <th>May</th>\n",
       "      <td>1.363645e+08</td>\n",
       "      <td>1.187381e+08</td>\n",
       "    </tr>\n",
       "    <tr>\n",
       "      <th>Jun</th>\n",
       "      <td>1.503917e+08</td>\n",
       "      <td>1.266208e+08</td>\n",
       "    </tr>\n",
       "    <tr>\n",
       "      <th>Jul</th>\n",
       "      <td>1.186854e+08</td>\n",
       "      <td>9.404407e+07</td>\n",
       "    </tr>\n",
       "  </tbody>\n",
       "</table>\n",
       "</div>"
      ],
      "text/plain": [
       "      avg_revenue    avg_profit\n",
       "May  1.363645e+08  1.187381e+08\n",
       "Jun  1.503917e+08  1.266208e+08\n",
       "Jul  1.186854e+08  9.404407e+07"
      ]
     },
     "execution_count": 53,
     "metadata": {},
     "output_type": "execute_result"
    }
   ],
   "source": [
    "summer_months.head()"
   ]
  },
  {
   "cell_type": "code",
   "execution_count": 54,
   "metadata": {},
   "outputs": [
    {
     "data": {
      "text/plain": [
       "<matplotlib.legend.Legend at 0x26df5a79908>"
      ]
     },
     "execution_count": 54,
     "metadata": {},
     "output_type": "execute_result"
    },
    {
     "data": {
      "image/png": "[encoded data removed]",
      "text/plain": [
       "<Figure size 720x360 with 1 Axes>"
      ]
     },
     "metadata": {},
     "output_type": "display_data"
    }
   ],
   "source": [
    "# Functions\n",
    "fig, ax = plt.subplots()\n",
    "x = np.arange(2)  # the label locations\n",
    "width = 0.35  # the width of the bars\n",
    "\n",
    "# Title\n",
    "ax.set_title('Winter v Summer (All-Time)', fontsize=15)\n",
    "\n",
    "# Summer Data Values\n",
    "summer_revenue_data = summer_months.avg_revenue.sum()\n",
    "summer_profit_data = summer_months.avg_profit.sum()\n",
    "\n",
    "# Winter Data Values\n",
    "winter_profit_data = winter_months.avg_profit.sum()\n",
    "winter_revenue_data = winter_months.avg_revenue.sum()\n",
    "\n",
    "# Labels\n",
    "labels = ['Summer','Winter']\n",
    "ax.set_ylabel('[ $ ]')\n",
    "\n",
    "# Plotting the bar chart and line graphs\n",
    "rects1 = ax.bar(x - width/2, (summer_revenue_data, summer_profit_data), width, color = \"#17becf\", label='Avg. Revenue')\n",
    "rects2 = ax.bar(x + width/2, (winter_profit_data, winter_revenue_data), width, color = \"#2ca02c\", label='Avg. Profit')\n",
    "\n",
    "# Ticks\n",
    "ax.yaxis.set_major_formatter(tick.FuncFormatter(reformat_large_tick_values));\n",
    "ax.set_xticks(x)\n",
    "ax.set_xticklabels(labels)\n",
    "\n",
    "# Gridlines\n",
    "ax.grid(1)\n",
    "\n",
    "# Styling\n",
    "sns.set_style(\"whitegrid\")\n",
    "ax.legend()"
   ]
  },
  {
   "cell_type": "markdown",
   "metadata": {},
   "source": [
    "**Answer:** From our findings we can see that June has the highest revenue and profit. September has the lowest revenue and profits with a late increase of revenue going into december. The 'Winter vs Summer' graph shows the summer makes more revenue than winter but the winter makes more profit than the summer. **Note:** I grouped the months of summer as 'May, June and July' and winter by 'November, December and January'. "
   ]
  },
  {
   "cell_type": "markdown",
   "metadata": {},
   "source": [
    "## Q5. How does movie budget correlate to success?"
   ]
  },
  {
   "cell_type": "code",
   "execution_count": 55,
   "metadata": {
    "scrolled": false
   },
   "outputs": [
    {
     "data": {
      "text/html": [
       "<div>\n",
       "<style scoped>\n",
       "    .dataframe tbody tr th:only-of-type {\n",
       "        vertical-align: middle;\n",
       "    }\n",
       "\n",
       "    .dataframe tbody tr th {\n",
       "        vertical-align: top;\n",
       "    }\n",
       "\n",
       "    .dataframe thead th {\n",
       "        text-align: right;\n",
       "    }\n",
       "</style>\n",
       "<table border=\"1\" class=\"dataframe\">\n",
       "  <thead>\n",
       "    <tr style=\"text-align: right;\">\n",
       "      <th></th>\n",
       "      <th>popularity</th>\n",
       "      <th>budget</th>\n",
       "    </tr>\n",
       "  </thead>\n",
       "  <tbody>\n",
       "    <tr>\n",
       "      <th>0</th>\n",
       "      <td>32.985763</td>\n",
       "      <td>150000000.0</td>\n",
       "    </tr>\n",
       "    <tr>\n",
       "      <th>1</th>\n",
       "      <td>28.419936</td>\n",
       "      <td>150000000.0</td>\n",
       "    </tr>\n",
       "    <tr>\n",
       "      <th>2</th>\n",
       "      <td>13.112507</td>\n",
       "      <td>110000000.0</td>\n",
       "    </tr>\n",
       "    <tr>\n",
       "      <th>3</th>\n",
       "      <td>11.173104</td>\n",
       "      <td>200000000.0</td>\n",
       "    </tr>\n",
       "    <tr>\n",
       "      <th>4</th>\n",
       "      <td>9.335014</td>\n",
       "      <td>190000000.0</td>\n",
       "    </tr>\n",
       "  </tbody>\n",
       "</table>\n",
       "</div>"
      ],
      "text/plain": [
       "   popularity       budget\n",
       "0   32.985763  150000000.0\n",
       "1   28.419936  150000000.0\n",
       "2   13.112507  110000000.0\n",
       "3   11.173104  200000000.0\n",
       "4    9.335014  190000000.0"
      ]
     },
     "execution_count": 55,
     "metadata": {},
     "output_type": "execute_result"
    }
   ],
   "source": [
    "# Filtering the 'popularity' column from the main dataframe\n",
    "popularity_df = df['popularity']\n",
    "\n",
    "# Creating a new dataframe called 'popularity_df'\n",
    "popularity_df = pd.DataFrame(popularity_df)\n",
    "\n",
    "# Adding the 'budget' column from the main dataframe to the popularity column in the new one\n",
    "popularity_df['budget'] = df['budget']\n",
    "\n",
    "# Looking at our creation\n",
    "popularity_df.head()"
   ]
  },
  {
   "cell_type": "code",
   "execution_count": 56,
   "metadata": {
    "scrolled": false
   },
   "outputs": [
    {
     "data": {
      "image/png": "[encoded data removed]",
      "text/plain": [
       "<Figure size 720x360 with 1 Axes>"
      ]
     },
     "metadata": {},
     "output_type": "display_data"
    }
   ],
   "source": [
    "# Create figure and axis objects with subplots()\n",
    "fig,ax = plt.subplots()\n",
    "\n",
    "# Plot scatterplot\n",
    "ax.scatter(popularity_df['budget'], popularity_df['popularity'], color='orange')  \n",
    "    \n",
    "# Set title and labels    \n",
    "ax.set_title('Budget v Popularity', fontsize=15)\n",
    "ax.set_ylabel('Popularity')\n",
    "ax.set_xlabel('Budget [ $ ]') \n",
    "\n",
    "# Ticks\n",
    "ax.xaxis.set_major_formatter(tick.FuncFormatter(reformat_large_tick_values));\n",
    "\n",
    "# Gridlines\n",
    "ax.grid(0)"
   ]
  },
  {
   "cell_type": "markdown",
   "metadata": {},
   "source": [
    "**Answer 1:** From this data we can see that budget and popularity have very little correlation. There are a few outliers movies around the $200m budget mark with extremely high popularity. Those movies are most likely established franchises, so budget has little effect on popularity. In terms of profit, from earlier bar charts we can also see that more budget = more profit."
   ]
  },
  {
   "cell_type": "code",
   "execution_count": 57,
   "metadata": {},
   "outputs": [
    {
     "data": {
      "image/png": "[encoded data removed]",
      "text/plain": [
       "<Figure size 720x360 with 1 Axes>"
      ]
     },
     "metadata": {},
     "output_type": "display_data"
    }
   ],
   "source": [
    "# Create figure and axis objects with subplots()\n",
    "fig,ax = plt.subplots()\n",
    "\n",
    "# Plot scatterplot\n",
    "ax.scatter(df['budget'], df['revenue'], color='green')  \n",
    "    \n",
    "# Set title and labels    \n",
    "ax.set_title('Budget v Revenue', fontsize=15)\n",
    "ax.set_ylabel('Revenue')\n",
    "ax.set_xlabel('Budget [ $ ]') \n",
    "\n",
    "# Ticks\n",
    "ax.xaxis.set_major_formatter(tick.FuncFormatter(reformat_large_tick_values));\n",
    "ax.yaxis.set_major_formatter(tick.FuncFormatter(reformat_large_tick_values));\n",
    "\n",
    "# Gridlines\n",
    "ax.grid(0)"
   ]
  },
  {
   "cell_type": "markdown",
   "metadata": {},
   "source": [
    "**Answer 2:** The same story goes for the Budget v Revenue scatterplot aside from a few outliers such as Avatar. Generally speaking, on average a \\\\$100M movie budget brings a x5 to x10 return in revenue until \\\\$200M which comes the point of diminishing returns."
   ]
  },
  {
   "cell_type": "markdown",
   "metadata": {},
   "source": [
    "## Q6: How does the runtime affect the ratings?"
   ]
  },
  {
   "cell_type": "code",
   "execution_count": 58,
   "metadata": {},
   "outputs": [
    {
     "data": {
      "text/html": [
       "<div>\n",
       "<style scoped>\n",
       "    .dataframe tbody tr th:only-of-type {\n",
       "        vertical-align: middle;\n",
       "    }\n",
       "\n",
       "    .dataframe tbody tr th {\n",
       "        vertical-align: top;\n",
       "    }\n",
       "\n",
       "    .dataframe thead th {\n",
       "        text-align: right;\n",
       "    }\n",
       "</style>\n",
       "<table border=\"1\" class=\"dataframe\">\n",
       "  <thead>\n",
       "    <tr style=\"text-align: right;\">\n",
       "      <th></th>\n",
       "      <th>runtime</th>\n",
       "      <th>vote_avg</th>\n",
       "    </tr>\n",
       "  </thead>\n",
       "  <tbody>\n",
       "    <tr>\n",
       "      <th>0</th>\n",
       "      <td>124</td>\n",
       "      <td>6.5</td>\n",
       "    </tr>\n",
       "    <tr>\n",
       "      <th>1</th>\n",
       "      <td>120</td>\n",
       "      <td>7.1</td>\n",
       "    </tr>\n",
       "    <tr>\n",
       "      <th>2</th>\n",
       "      <td>119</td>\n",
       "      <td>6.3</td>\n",
       "    </tr>\n",
       "    <tr>\n",
       "      <th>3</th>\n",
       "      <td>136</td>\n",
       "      <td>7.5</td>\n",
       "    </tr>\n",
       "    <tr>\n",
       "      <th>4</th>\n",
       "      <td>137</td>\n",
       "      <td>7.3</td>\n",
       "    </tr>\n",
       "  </tbody>\n",
       "</table>\n",
       "</div>"
      ],
      "text/plain": [
       "   runtime  vote_avg\n",
       "0      124       6.5\n",
       "1      120       7.1\n",
       "2      119       6.3\n",
       "3      136       7.5\n",
       "4      137       7.3"
      ]
     },
     "execution_count": 58,
     "metadata": {},
     "output_type": "execute_result"
    }
   ],
   "source": [
    "# Filtering the 'popularity' column from the main dataframe\n",
    "runtime_ratings_df = df['runtime']\n",
    "\n",
    "# Creating a new dataframe called 'popularity_df'\n",
    "runtime_ratings_df = pd.DataFrame(runtime_ratings_df)\n",
    "\n",
    "# Adding the 'budget' column from the main dataframe to the popularity column in the new one\n",
    "runtime_ratings_df['vote_avg'] = df['vote_average']\n",
    "\n",
    "# Looking at our creation\n",
    "runtime_ratings_df.head()"
   ]
  },
  {
   "cell_type": "code",
   "execution_count": 59,
   "metadata": {},
   "outputs": [],
   "source": [
    "# Drop the entries with the value 0\n",
    "runtime_ratings_df = runtime_ratings_df[(runtime_ratings_df != 0).all(1)]"
   ]
  },
  {
   "cell_type": "code",
   "execution_count": 60,
   "metadata": {},
   "outputs": [
    {
     "data": {
      "text/html": [
       "<div>\n",
       "<style scoped>\n",
       "    .dataframe tbody tr th:only-of-type {\n",
       "        vertical-align: middle;\n",
       "    }\n",
       "\n",
       "    .dataframe tbody tr th {\n",
       "        vertical-align: top;\n",
       "    }\n",
       "\n",
       "    .dataframe thead th {\n",
       "        text-align: right;\n",
       "    }\n",
       "</style>\n",
       "<table border=\"1\" class=\"dataframe\">\n",
       "  <thead>\n",
       "    <tr style=\"text-align: right;\">\n",
       "      <th></th>\n",
       "      <th>runtime</th>\n",
       "      <th>vote_avg</th>\n",
       "    </tr>\n",
       "  </thead>\n",
       "  <tbody>\n",
       "    <tr>\n",
       "      <th>count</th>\n",
       "      <td>10703.000000</td>\n",
       "      <td>10703.000000</td>\n",
       "    </tr>\n",
       "    <tr>\n",
       "      <th>mean</th>\n",
       "      <td>102.736896</td>\n",
       "      <td>5.966112</td>\n",
       "    </tr>\n",
       "    <tr>\n",
       "      <th>std</th>\n",
       "      <td>30.079331</td>\n",
       "      <td>0.930155</td>\n",
       "    </tr>\n",
       "    <tr>\n",
       "      <th>min</th>\n",
       "      <td>3.000000</td>\n",
       "      <td>1.500000</td>\n",
       "    </tr>\n",
       "    <tr>\n",
       "      <th>25%</th>\n",
       "      <td>90.000000</td>\n",
       "      <td>5.400000</td>\n",
       "    </tr>\n",
       "    <tr>\n",
       "      <th>50%</th>\n",
       "      <td>99.000000</td>\n",
       "      <td>6.000000</td>\n",
       "    </tr>\n",
       "    <tr>\n",
       "      <th>75%</th>\n",
       "      <td>112.000000</td>\n",
       "      <td>6.600000</td>\n",
       "    </tr>\n",
       "    <tr>\n",
       "      <th>max</th>\n",
       "      <td>900.000000</td>\n",
       "      <td>9.200000</td>\n",
       "    </tr>\n",
       "  </tbody>\n",
       "</table>\n",
       "</div>"
      ],
      "text/plain": [
       "            runtime      vote_avg\n",
       "count  10703.000000  10703.000000\n",
       "mean     102.736896      5.966112\n",
       "std       30.079331      0.930155\n",
       "min        3.000000      1.500000\n",
       "25%       90.000000      5.400000\n",
       "50%       99.000000      6.000000\n",
       "75%      112.000000      6.600000\n",
       "max      900.000000      9.200000"
      ]
     },
     "execution_count": 60,
     "metadata": {},
     "output_type": "execute_result"
    }
   ],
   "source": [
    "# Looking at the statistical data\n",
    "runtime_ratings_df.describe()"
   ]
  },
  {
   "cell_type": "code",
   "execution_count": 61,
   "metadata": {},
   "outputs": [
    {
     "data": {
      "image/png": "[encoded data removed]",
      "text/plain": [
       "<Figure size 720x360 with 1 Axes>"
      ]
     },
     "metadata": {},
     "output_type": "display_data"
    }
   ],
   "source": [
    "# Create figure and axis objects with subplots()\n",
    "fig,ax = plt.subplots()\n",
    "rrr = runtime_ratings_df['runtime']\n",
    "rrva = runtime_ratings_df['vote_avg']\n",
    "\n",
    "# Plot scatterplot\n",
    "ax.scatter(rrr, rrva, color='purple')  \n",
    "    \n",
    "# Set title and labels    \n",
    "ax.set_title('Runtime vs Ratings', fontsize=15)\n",
    "ax.set_ylabel('Ratings')\n",
    "ax.set_xlabel('Runtime') \n",
    "\n",
    "# Ticks\n",
    "ax.xaxis.set_major_formatter(tick.FuncFormatter(reformat_large_tick_values));\n",
    "\n",
    "# Gridlines\n",
    "ax.grid(0)"
   ]
  },
  {
   "cell_type": "markdown",
   "metadata": {},
   "source": [
    "**Answer:** The majority of films are under 200 minutes runtime with the average being 100 minutes. The takeaway is that the movies with the highest ratings are in the 100-200 minute mark, the amount of movies running longer than that drops dramatically."
   ]
  },
  {
   "cell_type": "markdown",
   "metadata": {},
   "source": [
    "<a id='conclusions'></a>\n",
    "## Conclusions\n",
    "\n",
    "> **Tip**: Finally, summarize your findings and the results that have been performed. Make sure that you are clear with regards to the limitations of your exploration. If you haven't done any statistical tests, do not imply any statistical conclusions. And make sure you avoid implying causation from correlation!\n",
    "\n",
    "> **Tip**: Once you are satisfied with your work, you should save a copy of the report in HTML or PDF form via the **File** > **Download as** submenu. Before exporting your report, check over it to make sure that the flow of the report is complete. You should probably remove all of the \"Tip\" quotes like this one so that the presentation is as tidy as possible. Congratulations!"
   ]
  },
  {
   "cell_type": "markdown",
   "metadata": {},
   "source": [
    "### Questions\n",
    "**Q1.** What are the top 5 movie releases? \\\n",
    "**Q2.** How many movies where released each year? \\\n",
    "**Q3.** How far apart from the first release was the last release date? \\\n",
    "**Q4.** How successful are movies released in the summer vs the winter? \\\n",
    "**Q5.** How does movie budget correlate to success? \\\n",
    "**Q6:** How does the runtime affect the ratings?"
   ]
  },
  {
   "cell_type": "markdown",
   "metadata": {},
   "source": [
    "### Answers\n",
    "\n",
    "**A1:** The top 5 movie releases are high budget movies in recent years such as Avatar. \\\n",
    "**A2:** I can also summisze that the number of movies has increased year on year from 32 in 1960 to 617 in 2015 by 1828%. \\\n",
    "**A3:** The first movie in this dataset was released in 1960 and the latest was released in 2015. \\\n",
    "**A4:** Movies released in the summer are more successful than movies released in the winter. \\\n",
    "**A5:** Movie revenue tends to increase with budget and popularity. \\\n",
    "**A6:** The runtime tends to do well around 100-200 minutes."
   ]
  },
  {
   "cell_type": "markdown",
   "metadata": {},
   "source": [
    "## References:\n",
    "Markdown cheatsheet: https://medium.com/@ingeh/markdown-for-jupyter-notebooks-cheatsheet-386c05aeebed \\\n",
    "Code to find null columns: https://stackoverflow.com/questions/36226083/how-to-find-which-columns-contain-any-nan-value-in-pandas-dataframe \\\n",
    "Code to find ax.set_xticks: https://matplotlib.org/3.1.1/api/_as_gen/matplotlib.axes.Axes.set_xticks.html \\\n",
    "Code to add two y-axis plots: https://cmdlinetips.com/2019/10/how-to-make-a-plot-with-two-different-y-axis-in-python-with-matplotlib/ \\\n",
    "How to calculate percentages: https://www.kite.com/python/answers/how-to-calculate-a-percentage-in-python \\\n",
    "How to format a number as a percentage: https://www.kite.com/python/answers/how-to-format-a-number-as-a-percentage-in-python \\\n",
    "Get total of column entries: https://stackoverflow.com/questions/41286569/get-total-of-pandas-column \\\n",
    "Correcting the datatime parsing: https://stackoverflow.com/questions/37766353/pandas-to-datetime-parsing-wrong-year \\\n",
    "How to add commas to a number: https://www.kite.com/python/answers/how-to-add-commas-to-a-number-in-python \\\n",
    "Changing colour on a bar chart: https://showmecode.info/matplotlib/bar/change-bar-color/ \\\n",
    "Adding tick labels for charts: https://www.tutorialspoint.com/matplotlib/matplotlib_setting_ticks_and_tick_labels.htm \\\n",
    "Tick formatter for large numbers: https://dfrieds.com/data-visualizations/how-format-large-tick-values.html \\\n",
    "Add gridlines to bar chart: https://stackoverflow.com/questions/23357798/how-to-draw-grid-lines-behind-matplotlib-bar-graph \\\n",
    "Filtering index: https://datatofish.com/filter-pandas-dataframe/ \\\n",
    "Drop 0 values: https://stackoverflow.com/questions/27020312/drop-row-in-pandas-dataframe-if-any-value-in-the-row-equals-zero/27020741 \\\n",
    "Using dollar sign in markdown: https://stackoverflow.com/questions/16089089/escaping-dollar-sign-in-ipython-notebook \\\n",
    "Official filter by index: https://pandas.pydata.org/pandas-docs/stable/reference/api/pandas.DataFrame.filter.html \\\n",
    "Locate by index: https://www.shanelynn.ie/select-pandas-dataframe-rows-and-columns-using-iloc-loc-and-ix/ \\\n",
    ".reset_index: https://stackoverflow.com/questions/37189878/pandas-add-column-to-groupby-dataframe \\"
   ]
  },
  {
   "cell_type": "code",
   "execution_count": null,
   "metadata": {},
   "outputs": [],
   "source": []
  }
 ],
 "metadata": {
  "kernelspec": {
   "display_name": "Python 3",
   "language": "python",
   "name": "python3"
  },
  "language_info": {
   "codemirror_mode": {
    "name": "ipython",
    "version": 3
   },
   "file_extension": ".py",
   "mimetype": "text/x-python",
   "name": "python",
   "nbconvert_exporter": "python",
   "pygments_lexer": "ipython3",
   "version": "3.7.3"
  }
 },
 "nbformat": 4,
 "nbformat_minor": 2
}
